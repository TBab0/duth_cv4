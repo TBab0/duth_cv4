{
  "nbformat": 4,
  "nbformat_minor": 0,
  "metadata": {
    "colab": {
      "provenance": [],
      "authorship_tag": "ABX9TyMkhJ585GG4EnG9Z5/j2eaQ",
      "include_colab_link": true
    },
    "kernelspec": {
      "name": "python3",
      "display_name": "Python 3"
    },
    "language_info": {
      "name": "python"
    },
    "accelerator": "GPU",
    "gpuClass": "standard"
  },
  "cells": [
    {
      "cell_type": "markdown",
      "metadata": {
        "id": "view-in-github",
        "colab_type": "text"
      },
      "source": [
        "<a href=\"https://colab.research.google.com/github/TBab0/duth_cv4/blob/main/2tuned%20horizontal_flip.ipynb\" target=\"_parent\"><img src=\"https://colab.research.google.com/assets/colab-badge.svg\" alt=\"Open In Colab\"/></a>"
      ]
    },
    {
      "cell_type": "code",
      "execution_count": 1,
      "metadata": {
        "id": "UOT8kGMv4SM_"
      },
      "outputs": [],
      "source": [
        "# Declare Imports\n",
        "from keras import models, regularizers, layers, optimizers, losses, metrics\n",
        "from keras.models import Sequential\n",
        "from keras.layers import Dense\n",
        "from keras.utils import np_utils, to_categorical\n",
        "from keras.preprocessing.image import ImageDataGenerator\n",
        "from keras.preprocessing import image\n",
        "from keras.applications import ResNet50\n",
        "from tensorflow.keras.applications.resnet50 import preprocess_input\n",
        "import os\n",
        "from google.colab import drive\n",
        "import zipfile\n",
        "import tensorflow as tf\n",
        "import datetime"
      ]
    },
    {
      "cell_type": "code",
      "source": [
        "# Import from drive\n",
        "drive.mount('/content/drive')\n",
        "local_zip = '/content/drive/MyDrive/Colab Notebooks/imagedb_btsd.zip'\n",
        "zip_ref = zipfile.ZipFile(local_zip, 'r')\n",
        "zip_ref.extractall('/content')\n",
        "zip_ref.close()\n",
        "\n",
        "train_dir = '/content/imagedb'\n",
        "test_dir = '/content/imagedb_test'"
      ],
      "metadata": {
        "colab": {
          "base_uri": "https://localhost:8080/"
        },
        "id": "13S1sWty4TQy",
        "outputId": "30d39788-b839-42fb-b487-d0c82d135f78"
      },
      "execution_count": 2,
      "outputs": [
        {
          "output_type": "stream",
          "name": "stdout",
          "text": [
            "Mounted at /content/drive\n"
          ]
        }
      ]
    },
    {
      "cell_type": "code",
      "source": [
        "# Prep the Train Valid and Test directories for the generator\n",
        "batch_size = 128\n",
        "row, col, cha = 256, 256, 3\n",
        "target_size = (row, col)\n",
        "\n",
        "train_datagen = ImageDataGenerator(preprocessing_function=preprocess_input,\n",
        "                                   horizontal_flip=True,\n",
        "                                   validation_split=0.2)\n",
        "\n",
        "train_generator = train_datagen.flow_from_directory(\n",
        "    train_dir,\n",
        "    target_size=target_size,\n",
        "    batch_size=batch_size,\n",
        "    class_mode='categorical',\n",
        "    subset='training', seed=1) # set as training data\n",
        "\n",
        "validation_generator = train_datagen.flow_from_directory(\n",
        "    train_dir, # same directory as training data\n",
        "    target_size=target_size,\n",
        "    batch_size=batch_size,\n",
        "    class_mode='categorical',\n",
        "    subset='validation',  seed=1) # set as validation data"
      ],
      "metadata": {
        "colab": {
          "base_uri": "https://localhost:8080/"
        },
        "id": "JSgDf_3L4THY",
        "outputId": "3286ecca-2622-4f15-c909-ca543afc2d0c"
      },
      "execution_count": 3,
      "outputs": [
        {
          "output_type": "stream",
          "name": "stdout",
          "text": [
            "Found 2457 images belonging to 34 classes.\n",
            "Found 599 images belonging to 34 classes.\n"
          ]
        }
      ]
    },
    {
      "cell_type": "code",
      "source": [
        "# Convoluted Base MODEL\n",
        "conv_base = ResNet50(weights='imagenet', include_top=False, input_shape=(row, col, cha))\n",
        "# print(conv_base.summary())\n",
        "\n",
        "# Freeze the layers\n",
        "for layer in conv_base.layers[:]:\n",
        "    layer.trainable = False\n",
        " \n",
        "# Check the trainable status of the individual layers\n",
        "# for layer in conv_base.layers:\n",
        "    # print(layer, layer.trainable)"
      ],
      "metadata": {
        "colab": {
          "base_uri": "https://localhost:8080/"
        },
        "id": "HF3aQLyw4TDS",
        "outputId": "c17b2476-fef2-4505-db0b-0e71a5fb3435"
      },
      "execution_count": 4,
      "outputs": [
        {
          "output_type": "stream",
          "name": "stdout",
          "text": [
            "Downloading data from https://storage.googleapis.com/tensorflow/keras-applications/resnet/resnet50_weights_tf_dim_ordering_tf_kernels_notop.h5\n",
            "94765736/94765736 [==============================] - 3s 0us/step\n"
          ]
        }
      ]
    },
    {
      "cell_type": "code",
      "source": [
        "# Create the model\n",
        "model = models.Sequential()\n",
        " \n",
        "# Add the vgg convolutional base model\n",
        "model.add(conv_base)\n",
        " \n",
        "# Add new layers\n",
        "model.add(layers.Flatten())\n",
        "model.add(layers.Dense(2048, activation='relu'))\n",
        "model.add(layers.Dropout(0.5))\n",
        "model.add(layers.Dense(512, activation='relu'))\n",
        "model.add(layers.Dropout(0.5))\n",
        "model.add(layers.Dense(34, activation='softmax'))\n",
        " \n",
        "# Show a summary of the model. Check the number of trainable parameters\n",
        "model.summary()"
      ],
      "metadata": {
        "colab": {
          "base_uri": "https://localhost:8080/"
        },
        "id": "DTwiqi0l4S-z",
        "outputId": "c6bf0820-7b4c-4e6d-c438-6c498e52875a"
      },
      "execution_count": 5,
      "outputs": [
        {
          "output_type": "stream",
          "name": "stdout",
          "text": [
            "Model: \"sequential\"\n",
            "_________________________________________________________________\n",
            " Layer (type)                Output Shape              Param #   \n",
            "=================================================================\n",
            " resnet50 (Functional)       (None, 8, 8, 2048)        23587712  \n",
            "                                                                 \n",
            " flatten (Flatten)           (None, 131072)            0         \n",
            "                                                                 \n",
            " dense (Dense)               (None, 2048)              268437504 \n",
            "                                                                 \n",
            " dropout (Dropout)           (None, 2048)              0         \n",
            "                                                                 \n",
            " dense_1 (Dense)             (None, 512)               1049088   \n",
            "                                                                 \n",
            " dropout_1 (Dropout)         (None, 512)               0         \n",
            "                                                                 \n",
            " dense_2 (Dense)             (None, 34)                17442     \n",
            "                                                                 \n",
            "=================================================================\n",
            "Total params: 293,091,746\n",
            "Trainable params: 269,504,034\n",
            "Non-trainable params: 23,587,712\n",
            "_________________________________________________________________\n"
          ]
        }
      ]
    },
    {
      "cell_type": "code",
      "source": [
        "callbacks = []\n",
        "\n",
        "save_best_callback = tf.keras.callbacks.ModelCheckpoint(f'best_weights.hdf5', save_best_only=True, verbose=1)\n",
        "callbacks.append(save_best_callback)\n",
        "\n",
        "early_stop_callback = tf.keras.callbacks.EarlyStopping(patience=5, restore_best_weights=True, verbose=1)\n",
        "callbacks.append(early_stop_callback)"
      ],
      "metadata": {
        "id": "24HhMmbQ4S8D"
      },
      "execution_count": 6,
      "outputs": []
    },
    {
      "cell_type": "code",
      "source": [
        "# Compile the model\n",
        "model.compile(loss='categorical_crossentropy', optimizer=optimizers.adam_v2.Adam(learning_rate=1e-4), metrics=['acc'])\n",
        "# Train the model\n",
        "history = model.fit_generator(train_generator, steps_per_epoch=train_generator.samples/train_generator.batch_size, epochs=30, validation_data=validation_generator, verbose=1, callbacks = callbacks)\n",
        " \n",
        "# Save the model\n",
        "model.save('small_last4.h5')"
      ],
      "metadata": {
        "colab": {
          "base_uri": "https://localhost:8080/"
        },
        "id": "AqLgCZkm4i5h",
        "outputId": "19d59845-88ed-41eb-f1d8-bccbfa14225d"
      },
      "execution_count": 7,
      "outputs": [
        {
          "output_type": "stream",
          "name": "stderr",
          "text": [
            "<ipython-input-7-24e1b0ab929e>:4: UserWarning: `Model.fit_generator` is deprecated and will be removed in a future version. Please use `Model.fit`, which supports generators.\n",
            "  history = model.fit_generator(train_generator, steps_per_epoch=train_generator.samples/train_generator.batch_size, epochs=30, validation_data=validation_generator, verbose=1, callbacks = callbacks)\n"
          ]
        },
        {
          "output_type": "stream",
          "name": "stdout",
          "text": [
            "Epoch 1/30\n",
            "20/19 [===============================] - ETA: 0s - loss: 4.0769 - acc: 0.4900\n",
            "Epoch 1: val_loss improved from inf to 0.91482, saving model to best_weights.hdf5\n",
            "19/19 [==============================] - 46s 2s/step - loss: 4.0769 - acc: 0.4900 - val_loss: 0.9148 - val_acc: 0.8130\n",
            "Epoch 2/30\n",
            "20/19 [===============================] - ETA: 0s - loss: 1.4849 - acc: 0.7660\n",
            "Epoch 2: val_loss improved from 0.91482 to 0.39817, saving model to best_weights.hdf5\n",
            "19/19 [==============================] - 30s 2s/step - loss: 1.4849 - acc: 0.7660 - val_loss: 0.3982 - val_acc: 0.9048\n",
            "Epoch 3/30\n",
            "20/19 [===============================] - ETA: 0s - loss: 0.7506 - acc: 0.8551\n",
            "Epoch 3: val_loss improved from 0.39817 to 0.30597, saving model to best_weights.hdf5\n",
            "19/19 [==============================] - 29s 2s/step - loss: 0.7506 - acc: 0.8551 - val_loss: 0.3060 - val_acc: 0.9282\n",
            "Epoch 4/30\n",
            "20/19 [===============================] - ETA: 0s - loss: 0.4813 - acc: 0.8869\n",
            "Epoch 4: val_loss improved from 0.30597 to 0.25533, saving model to best_weights.hdf5\n",
            "19/19 [==============================] - 30s 2s/step - loss: 0.4813 - acc: 0.8869 - val_loss: 0.2553 - val_acc: 0.9232\n",
            "Epoch 5/30\n",
            "20/19 [===============================] - ETA: 0s - loss: 0.3547 - acc: 0.9206\n",
            "Epoch 5: val_loss did not improve from 0.25533\n",
            "19/19 [==============================] - 15s 744ms/step - loss: 0.3547 - acc: 0.9206 - val_loss: 0.2843 - val_acc: 0.9399\n",
            "Epoch 6/30\n",
            "20/19 [===============================] - ETA: 0s - loss: 0.3753 - acc: 0.9235\n",
            "Epoch 6: val_loss did not improve from 0.25533\n",
            "19/19 [==============================] - 14s 748ms/step - loss: 0.3753 - acc: 0.9235 - val_loss: 0.2761 - val_acc: 0.9432\n",
            "Epoch 7/30\n",
            "20/19 [===============================] - ETA: 0s - loss: 0.2546 - acc: 0.9365\n",
            "Epoch 7: val_loss improved from 0.25533 to 0.22996, saving model to best_weights.hdf5\n",
            "19/19 [==============================] - 29s 2s/step - loss: 0.2546 - acc: 0.9365 - val_loss: 0.2300 - val_acc: 0.9416\n",
            "Epoch 8/30\n",
            "20/19 [===============================] - ETA: 0s - loss: 0.2394 - acc: 0.9381\n",
            "Epoch 8: val_loss did not improve from 0.22996\n",
            "19/19 [==============================] - 14s 725ms/step - loss: 0.2394 - acc: 0.9381 - val_loss: 0.2446 - val_acc: 0.9466\n",
            "Epoch 9/30\n",
            "20/19 [===============================] - ETA: 0s - loss: 0.1756 - acc: 0.9573\n",
            "Epoch 9: val_loss did not improve from 0.22996\n",
            "19/19 [==============================] - 14s 737ms/step - loss: 0.1756 - acc: 0.9573 - val_loss: 0.2318 - val_acc: 0.9449\n",
            "Epoch 10/30\n",
            "20/19 [===============================] - ETA: 0s - loss: 0.1682 - acc: 0.9634\n",
            "Epoch 10: val_loss improved from 0.22996 to 0.17466, saving model to best_weights.hdf5\n",
            "19/19 [==============================] - 29s 2s/step - loss: 0.1682 - acc: 0.9634 - val_loss: 0.1747 - val_acc: 0.9549\n",
            "Epoch 11/30\n",
            "20/19 [===============================] - ETA: 0s - loss: 0.1720 - acc: 0.9565\n",
            "Epoch 11: val_loss did not improve from 0.17466\n",
            "19/19 [==============================] - 14s 730ms/step - loss: 0.1720 - acc: 0.9565 - val_loss: 0.2740 - val_acc: 0.9499\n",
            "Epoch 12/30\n",
            "20/19 [===============================] - ETA: 0s - loss: 0.1298 - acc: 0.9662\n",
            "Epoch 12: val_loss did not improve from 0.17466\n",
            "19/19 [==============================] - 14s 744ms/step - loss: 0.1298 - acc: 0.9662 - val_loss: 0.1801 - val_acc: 0.9599\n",
            "Epoch 13/30\n",
            "20/19 [===============================] - ETA: 0s - loss: 0.1935 - acc: 0.9569\n",
            "Epoch 13: val_loss did not improve from 0.17466\n",
            "19/19 [==============================] - 14s 771ms/step - loss: 0.1935 - acc: 0.9569 - val_loss: 0.2543 - val_acc: 0.9533\n",
            "Epoch 14/30\n",
            "20/19 [===============================] - ETA: 0s - loss: 0.1411 - acc: 0.9638\n",
            "Epoch 14: val_loss did not improve from 0.17466\n",
            "19/19 [==============================] - 14s 736ms/step - loss: 0.1411 - acc: 0.9638 - val_loss: 0.2124 - val_acc: 0.9499\n",
            "Epoch 15/30\n",
            "20/19 [===============================] - ETA: 0s - loss: 0.1106 - acc: 0.9735\n",
            "Epoch 15: val_loss did not improve from 0.17466\n",
            "Restoring model weights from the end of the best epoch: 10.\n",
            "19/19 [==============================] - 14s 748ms/step - loss: 0.1106 - acc: 0.9735 - val_loss: 0.2877 - val_acc: 0.9449\n",
            "Epoch 15: early stopping\n"
          ]
        }
      ]
    },
    {
      "cell_type": "code",
      "source": [
        "# --------------------\n",
        "# Flow validation images in batches of 20 using test_datagen generator\n",
        "# --------------------\n",
        "test_datagen  = ImageDataGenerator(preprocessing_function=preprocess_input)\n",
        "test_generator =  test_datagen.flow_from_directory(test_dir,\n",
        "                                                        batch_size=128,\n",
        "                                                        class_mode='categorical',\n",
        "                                                        #  color_mode='grayscale',\n",
        "                                                         target_size=target_size) \n",
        "loss, acc = model.evaluate(test_generator)"
      ],
      "metadata": {
        "colab": {
          "base_uri": "https://localhost:8080/"
        },
        "id": "L8uZcoRg4i1m",
        "outputId": "ce4fa8c7-f9e8-4ac5-d8aa-4c9ed738d012"
      },
      "execution_count": 8,
      "outputs": [
        {
          "output_type": "stream",
          "name": "stdout",
          "text": [
            "Found 2149 images belonging to 34 classes.\n",
            "17/17 [==============================] - 11s 646ms/step - loss: 0.2892 - acc: 0.9446\n"
          ]
        }
      ]
    }
  ]
}