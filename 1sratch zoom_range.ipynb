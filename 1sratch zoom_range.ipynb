{
  "nbformat": 4,
  "nbformat_minor": 0,
  "metadata": {
    "colab": {
      "provenance": [],
      "authorship_tag": "ABX9TyOzguMGnMgD2oegAoE5d4kQ",
      "include_colab_link": true
    },
    "kernelspec": {
      "name": "python3",
      "display_name": "Python 3"
    },
    "language_info": {
      "name": "python"
    },
    "accelerator": "GPU",
    "gpuClass": "standard"
  },
  "cells": [
    {
      "cell_type": "markdown",
      "metadata": {
        "id": "view-in-github",
        "colab_type": "text"
      },
      "source": [
        "<a href=\"https://colab.research.google.com/github/TBab0/duth_cv4/blob/main/1sratch%20zoom_range.ipynb\" target=\"_parent\"><img src=\"https://colab.research.google.com/assets/colab-badge.svg\" alt=\"Open In Colab\"/></a>"
      ]
    },
    {
      "cell_type": "code",
      "source": [
        "from google.colab import drive\n",
        "import os\n",
        "import zipfile\n",
        "from tensorflow.keras.preprocessing.image import ImageDataGenerator\n",
        "import tensorflow as tf\n",
        "import datetime"
      ],
      "metadata": {
        "id": "DTKt3q_P4BG3"
      },
      "execution_count": 1,
      "outputs": []
    },
    {
      "cell_type": "code",
      "source": [
        "drive.mount('/content/drive')\n",
        "local_zip = '/content/drive/MyDrive/imagedb_btsd.zip'\n",
        "zip_ref = zipfile.ZipFile(local_zip, 'r')\n",
        "zip_ref.extractall('/content')\n",
        "zip_ref.close()\n",
        "\n",
        "train_dir = '/content/imagedb'\n",
        "test_dir = '/content/imagedb_test'"
      ],
      "metadata": {
        "colab": {
          "base_uri": "https://localhost:8080/"
        },
        "id": "OBGivO3c4BD-",
        "outputId": "649fd64a-b419-4460-e00d-919a7e07e596"
      },
      "execution_count": 2,
      "outputs": [
        {
          "output_type": "stream",
          "name": "stdout",
          "text": [
            "Mounted at /content/drive\n"
          ]
        }
      ]
    },
    {
      "cell_type": "code",
      "source": [
        "ts = 32\n",
        "# train_datagen = ImageDataGenerator(preprocessing_function=vgg16.preprocess_input, validation_split=0.2)\n",
        "train_datagen  = ImageDataGenerator(rescale=1./255,\n",
        "                                    zoom_range=0.2,\n",
        "                                    validation_split=0.2)\n",
        "\n",
        "# --------------------\n",
        "# Flow training images in batches of 20 using train_datagen generator\n",
        "# --------------------\n",
        "train_generator = train_datagen.flow_from_directory(train_dir,\n",
        "                                                    batch_size=128,\n",
        "                                                    class_mode='categorical',\n",
        "                                                    color_mode='grayscale',\n",
        "                                                    target_size=(ts,ts),\n",
        "                                                    subset='training', seed=1)     \n",
        "# --------------------\n",
        "# Flow validation images in batches of 20 using test_datagen generator\n",
        "# --------------------\n",
        "validation_generator =  train_datagen.flow_from_directory(train_dir,\n",
        "                                                        batch_size=128,\n",
        "                                                        class_mode='categorical',\n",
        "                                                         color_mode='grayscale',\n",
        "                                                         target_size=(ts,ts),\n",
        "                                                        subset='validation', seed=1)"
      ],
      "metadata": {
        "colab": {
          "base_uri": "https://localhost:8080/"
        },
        "id": "5GA8in3D4BBz",
        "outputId": "2e8f44a3-9b93-475d-e4e5-9357dce74685"
      },
      "execution_count": 3,
      "outputs": [
        {
          "output_type": "stream",
          "name": "stdout",
          "text": [
            "Found 2457 images belonging to 34 classes.\n",
            "Found 599 images belonging to 34 classes.\n"
          ]
        }
      ]
    },
    {
      "cell_type": "code",
      "source": [
        "model = tf.keras.models.Sequential([\n",
        "  tf.keras.layers.Conv2D(64, (5, 5), strides=(1, 1), activation='relu', input_shape=(ts, ts, 1)),\n",
        "  tf.keras.layers.Conv2D(64, (5, 5), strides=(1, 1), activation='relu', input_shape=(ts, ts, 1)),\n",
        "  tf.keras.layers.MaxPooling2D(pool_size=(2, 2), strides=(2, 2)),\n",
        "  # tf.keras.layers.Conv2D(64, (5, 5), strides=(1, 1), activation='relu', input_shape=(ts, ts, 1)),\n",
        "  tf.keras.layers.Flatten(),\n",
        "  tf.keras.layers.Dense(512, activation='relu'),\n",
        "  tf.keras.layers.Dropout(0.5),\n",
        "  tf.keras.layers.Dense(34, activation='softmax')\n",
        "])\n",
        "model.compile(optimizer = tf.keras.optimizers.Adam(), loss = 'categorical_crossentropy', metrics=['accuracy'])\n",
        "model.summary()"
      ],
      "metadata": {
        "colab": {
          "base_uri": "https://localhost:8080/"
        },
        "id": "5YAqCfYA4A_K",
        "outputId": "93c64322-ab80-4773-f937-5b2122c6c844"
      },
      "execution_count": 4,
      "outputs": [
        {
          "output_type": "stream",
          "name": "stdout",
          "text": [
            "Model: \"sequential\"\n",
            "_________________________________________________________________\n",
            " Layer (type)                Output Shape              Param #   \n",
            "=================================================================\n",
            " conv2d (Conv2D)             (None, 28, 28, 64)        1664      \n",
            "                                                                 \n",
            " conv2d_1 (Conv2D)           (None, 24, 24, 64)        102464    \n",
            "                                                                 \n",
            " max_pooling2d (MaxPooling2D  (None, 12, 12, 64)       0         \n",
            " )                                                               \n",
            "                                                                 \n",
            " flatten (Flatten)           (None, 9216)              0         \n",
            "                                                                 \n",
            " dense (Dense)               (None, 512)               4719104   \n",
            "                                                                 \n",
            " dropout (Dropout)           (None, 512)               0         \n",
            "                                                                 \n",
            " dense_1 (Dense)             (None, 34)                17442     \n",
            "                                                                 \n",
            "=================================================================\n",
            "Total params: 4,840,674\n",
            "Trainable params: 4,840,674\n",
            "Non-trainable params: 0\n",
            "_________________________________________________________________\n"
          ]
        }
      ]
    },
    {
      "cell_type": "code",
      "source": [
        "callbacks = []\n",
        "\n",
        "save_best_callback = tf.keras.callbacks.ModelCheckpoint(f'best_weights.hdf5', save_best_only=True, verbose=1)\n",
        "callbacks.append(save_best_callback)\n",
        "\n",
        "early_stop_callback = tf.keras.callbacks.EarlyStopping(patience=10, restore_best_weights=True, verbose=1)\n",
        "callbacks.append(early_stop_callback)\n",
        "\n",
        "history = model.fit(train_generator, validation_data=validation_generator, epochs=30, verbose=1, callbacks=callbacks)"
      ],
      "metadata": {
        "colab": {
          "base_uri": "https://localhost:8080/"
        },
        "id": "sLvOxsdg4A8r",
        "outputId": "b8a2c1c2-616f-4350-823e-49bff8956b0c"
      },
      "execution_count": 5,
      "outputs": [
        {
          "output_type": "stream",
          "name": "stdout",
          "text": [
            "Epoch 1/30\n",
            "20/20 [==============================] - ETA: 0s - loss: 2.4465 - accuracy: 0.3818\n",
            "Epoch 1: val_loss improved from inf to 1.23642, saving model to best_weights.hdf5\n",
            "20/20 [==============================] - 11s 109ms/step - loss: 2.4465 - accuracy: 0.3818 - val_loss: 1.2364 - val_accuracy: 0.7179\n",
            "Epoch 2/30\n",
            "20/20 [==============================] - ETA: 0s - loss: 1.0132 - accuracy: 0.7448\n",
            "Epoch 2: val_loss improved from 1.23642 to 0.55579, saving model to best_weights.hdf5\n",
            "20/20 [==============================] - 2s 103ms/step - loss: 1.0132 - accuracy: 0.7448 - val_loss: 0.5558 - val_accuracy: 0.8631\n",
            "Epoch 3/30\n",
            "20/20 [==============================] - ETA: 0s - loss: 0.4697 - accuracy: 0.8742\n",
            "Epoch 3: val_loss improved from 0.55579 to 0.38676, saving model to best_weights.hdf5\n",
            "20/20 [==============================] - 2s 93ms/step - loss: 0.4697 - accuracy: 0.8742 - val_loss: 0.3868 - val_accuracy: 0.9149\n",
            "Epoch 4/30\n",
            "20/20 [==============================] - ETA: 0s - loss: 0.3258 - accuracy: 0.9137\n",
            "Epoch 4: val_loss improved from 0.38676 to 0.27031, saving model to best_weights.hdf5\n",
            "20/20 [==============================] - 2s 93ms/step - loss: 0.3258 - accuracy: 0.9137 - val_loss: 0.2703 - val_accuracy: 0.9199\n",
            "Epoch 5/30\n",
            "20/20 [==============================] - ETA: 0s - loss: 0.1997 - accuracy: 0.9451\n",
            "Epoch 5: val_loss improved from 0.27031 to 0.25923, saving model to best_weights.hdf5\n",
            "20/20 [==============================] - 2s 95ms/step - loss: 0.1997 - accuracy: 0.9451 - val_loss: 0.2592 - val_accuracy: 0.9332\n",
            "Epoch 6/30\n",
            "20/20 [==============================] - ETA: 0s - loss: 0.1775 - accuracy: 0.9495\n",
            "Epoch 6: val_loss improved from 0.25923 to 0.24246, saving model to best_weights.hdf5\n",
            "20/20 [==============================] - 2s 93ms/step - loss: 0.1775 - accuracy: 0.9495 - val_loss: 0.2425 - val_accuracy: 0.9432\n",
            "Epoch 7/30\n",
            "20/20 [==============================] - ETA: 0s - loss: 0.1258 - accuracy: 0.9662\n",
            "Epoch 7: val_loss did not improve from 0.24246\n",
            "20/20 [==============================] - 2s 86ms/step - loss: 0.1258 - accuracy: 0.9662 - val_loss: 0.2550 - val_accuracy: 0.9533\n",
            "Epoch 8/30\n",
            "20/20 [==============================] - ETA: 0s - loss: 0.1115 - accuracy: 0.9719\n",
            "Epoch 8: val_loss improved from 0.24246 to 0.20688, saving model to best_weights.hdf5\n",
            "20/20 [==============================] - 2s 91ms/step - loss: 0.1115 - accuracy: 0.9719 - val_loss: 0.2069 - val_accuracy: 0.9549\n",
            "Epoch 9/30\n",
            "20/20 [==============================] - ETA: 0s - loss: 0.0921 - accuracy: 0.9748\n",
            "Epoch 9: val_loss improved from 0.20688 to 0.19648, saving model to best_weights.hdf5\n",
            "20/20 [==============================] - 2s 92ms/step - loss: 0.0921 - accuracy: 0.9748 - val_loss: 0.1965 - val_accuracy: 0.9583\n",
            "Epoch 10/30\n",
            "20/20 [==============================] - ETA: 0s - loss: 0.0804 - accuracy: 0.9768\n",
            "Epoch 10: val_loss did not improve from 0.19648\n",
            "20/20 [==============================] - 2s 88ms/step - loss: 0.0804 - accuracy: 0.9768 - val_loss: 0.2099 - val_accuracy: 0.9549\n",
            "Epoch 11/30\n",
            "20/20 [==============================] - ETA: 0s - loss: 0.0735 - accuracy: 0.9809\n",
            "Epoch 11: val_loss improved from 0.19648 to 0.18895, saving model to best_weights.hdf5\n",
            "20/20 [==============================] - 2s 95ms/step - loss: 0.0735 - accuracy: 0.9809 - val_loss: 0.1890 - val_accuracy: 0.9516\n",
            "Epoch 12/30\n",
            "20/20 [==============================] - ETA: 0s - loss: 0.0599 - accuracy: 0.9862\n",
            "Epoch 12: val_loss did not improve from 0.18895\n",
            "20/20 [==============================] - 2s 87ms/step - loss: 0.0599 - accuracy: 0.9862 - val_loss: 0.2514 - val_accuracy: 0.9432\n",
            "Epoch 13/30\n",
            "20/20 [==============================] - ETA: 0s - loss: 0.0725 - accuracy: 0.9809\n",
            "Epoch 13: val_loss did not improve from 0.18895\n",
            "20/20 [==============================] - 2s 85ms/step - loss: 0.0725 - accuracy: 0.9809 - val_loss: 0.2276 - val_accuracy: 0.9449\n",
            "Epoch 14/30\n",
            "20/20 [==============================] - ETA: 0s - loss: 0.0721 - accuracy: 0.9788\n",
            "Epoch 14: val_loss did not improve from 0.18895\n",
            "20/20 [==============================] - 2s 85ms/step - loss: 0.0721 - accuracy: 0.9788 - val_loss: 0.2731 - val_accuracy: 0.9516\n",
            "Epoch 15/30\n",
            "20/20 [==============================] - ETA: 0s - loss: 0.0551 - accuracy: 0.9837\n",
            "Epoch 15: val_loss did not improve from 0.18895\n",
            "20/20 [==============================] - 2s 86ms/step - loss: 0.0551 - accuracy: 0.9837 - val_loss: 0.2358 - val_accuracy: 0.9583\n",
            "Epoch 16/30\n",
            "20/20 [==============================] - ETA: 0s - loss: 0.0470 - accuracy: 0.9841\n",
            "Epoch 16: val_loss did not improve from 0.18895\n",
            "20/20 [==============================] - 2s 84ms/step - loss: 0.0470 - accuracy: 0.9841 - val_loss: 0.2454 - val_accuracy: 0.9566\n",
            "Epoch 17/30\n",
            "20/20 [==============================] - ETA: 0s - loss: 0.0571 - accuracy: 0.9837\n",
            "Epoch 17: val_loss improved from 0.18895 to 0.18189, saving model to best_weights.hdf5\n",
            "20/20 [==============================] - 2s 92ms/step - loss: 0.0571 - accuracy: 0.9837 - val_loss: 0.1819 - val_accuracy: 0.9616\n",
            "Epoch 18/30\n",
            "20/20 [==============================] - ETA: 0s - loss: 0.0473 - accuracy: 0.9845\n",
            "Epoch 18: val_loss improved from 0.18189 to 0.17739, saving model to best_weights.hdf5\n",
            "20/20 [==============================] - 2s 93ms/step - loss: 0.0473 - accuracy: 0.9845 - val_loss: 0.1774 - val_accuracy: 0.9599\n",
            "Epoch 19/30\n",
            "20/20 [==============================] - ETA: 0s - loss: 0.0450 - accuracy: 0.9870\n",
            "Epoch 19: val_loss did not improve from 0.17739\n",
            "20/20 [==============================] - 2s 85ms/step - loss: 0.0450 - accuracy: 0.9870 - val_loss: 0.2296 - val_accuracy: 0.9549\n",
            "Epoch 20/30\n",
            "20/20 [==============================] - ETA: 0s - loss: 0.0384 - accuracy: 0.9894\n",
            "Epoch 20: val_loss did not improve from 0.17739\n",
            "20/20 [==============================] - 2s 88ms/step - loss: 0.0384 - accuracy: 0.9894 - val_loss: 0.1946 - val_accuracy: 0.9533\n",
            "Epoch 21/30\n",
            "20/20 [==============================] - ETA: 0s - loss: 0.0243 - accuracy: 0.9955\n",
            "Epoch 21: val_loss did not improve from 0.17739\n",
            "20/20 [==============================] - 2s 85ms/step - loss: 0.0243 - accuracy: 0.9955 - val_loss: 0.2072 - val_accuracy: 0.9649\n",
            "Epoch 22/30\n",
            "20/20 [==============================] - ETA: 0s - loss: 0.0297 - accuracy: 0.9919\n",
            "Epoch 22: val_loss did not improve from 0.17739\n",
            "20/20 [==============================] - 2s 89ms/step - loss: 0.0297 - accuracy: 0.9919 - val_loss: 0.2567 - val_accuracy: 0.9583\n",
            "Epoch 23/30\n",
            "20/20 [==============================] - ETA: 0s - loss: 0.0363 - accuracy: 0.9910\n",
            "Epoch 23: val_loss improved from 0.17739 to 0.17624, saving model to best_weights.hdf5\n",
            "20/20 [==============================] - 2s 91ms/step - loss: 0.0363 - accuracy: 0.9910 - val_loss: 0.1762 - val_accuracy: 0.9633\n",
            "Epoch 24/30\n",
            "20/20 [==============================] - ETA: 0s - loss: 0.0220 - accuracy: 0.9935\n",
            "Epoch 24: val_loss did not improve from 0.17624\n",
            "20/20 [==============================] - 2s 85ms/step - loss: 0.0220 - accuracy: 0.9935 - val_loss: 0.2508 - val_accuracy: 0.9499\n",
            "Epoch 25/30\n",
            "20/20 [==============================] - ETA: 0s - loss: 0.0253 - accuracy: 0.9915\n",
            "Epoch 25: val_loss did not improve from 0.17624\n",
            "20/20 [==============================] - 2s 85ms/step - loss: 0.0253 - accuracy: 0.9915 - val_loss: 0.1935 - val_accuracy: 0.9716\n",
            "Epoch 26/30\n",
            "20/20 [==============================] - ETA: 0s - loss: 0.0380 - accuracy: 0.9882\n",
            "Epoch 26: val_loss did not improve from 0.17624\n",
            "20/20 [==============================] - 2s 87ms/step - loss: 0.0380 - accuracy: 0.9882 - val_loss: 0.2237 - val_accuracy: 0.9432\n",
            "Epoch 27/30\n",
            "20/20 [==============================] - ETA: 0s - loss: 0.0316 - accuracy: 0.9915\n",
            "Epoch 27: val_loss did not improve from 0.17624\n",
            "20/20 [==============================] - 2s 84ms/step - loss: 0.0316 - accuracy: 0.9915 - val_loss: 0.1832 - val_accuracy: 0.9583\n",
            "Epoch 28/30\n",
            "20/20 [==============================] - ETA: 0s - loss: 0.0307 - accuracy: 0.9894\n",
            "Epoch 28: val_loss did not improve from 0.17624\n",
            "20/20 [==============================] - 2s 86ms/step - loss: 0.0307 - accuracy: 0.9894 - val_loss: 0.1871 - val_accuracy: 0.9649\n",
            "Epoch 29/30\n",
            "20/20 [==============================] - ETA: 0s - loss: 0.0233 - accuracy: 0.9955\n",
            "Epoch 29: val_loss did not improve from 0.17624\n",
            "20/20 [==============================] - 2s 86ms/step - loss: 0.0233 - accuracy: 0.9955 - val_loss: 0.1799 - val_accuracy: 0.9716\n",
            "Epoch 30/30\n",
            "20/20 [==============================] - ETA: 0s - loss: 0.0222 - accuracy: 0.9935\n",
            "Epoch 30: val_loss did not improve from 0.17624\n",
            "20/20 [==============================] - 2s 86ms/step - loss: 0.0222 - accuracy: 0.9935 - val_loss: 0.1776 - val_accuracy: 0.9633\n"
          ]
        }
      ]
    },
    {
      "cell_type": "code",
      "source": [
        "test_datagen  = ImageDataGenerator(rescale=1./255)\n",
        "test_generator =  test_datagen.flow_from_directory(test_dir,\n",
        "                                                         batch_size=32,\n",
        "                                                         class_mode  = 'categorical',\n",
        "                                                         color_mode='grayscale',\n",
        "                                                         target_size=(ts,ts)) \n",
        "loss, acc = model.evaluate(test_generator)\n",
        "print(acc)\n"
      ],
      "metadata": {
        "colab": {
          "base_uri": "https://localhost:8080/"
        },
        "id": "XeT-FvMS4A51",
        "outputId": "6cb23061-695a-4b1c-bf56-e8494b2e5553"
      },
      "execution_count": 6,
      "outputs": [
        {
          "output_type": "stream",
          "name": "stdout",
          "text": [
            "Found 2149 images belonging to 34 classes.\n",
            "68/68 [==============================] - 1s 12ms/step - loss: 0.2179 - accuracy: 0.9651\n",
            "0.9651000499725342\n"
          ]
        }
      ]
    }
  ]
}