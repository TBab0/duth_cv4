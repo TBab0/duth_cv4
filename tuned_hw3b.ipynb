{
  "nbformat": 4,
  "nbformat_minor": 0,
  "metadata": {
    "colab": {
      "provenance": [],
      "authorship_tag": "ABX9TyN7nxb/PIOI57BfdCc8JvFC",
      "include_colab_link": true
    },
    "kernelspec": {
      "name": "python3",
      "display_name": "Python 3"
    },
    "language_info": {
      "name": "python"
    },
    "accelerator": "GPU",
    "gpuClass": "standard"
  },
  "cells": [
    {
      "cell_type": "markdown",
      "metadata": {
        "id": "view-in-github",
        "colab_type": "text"
      },
      "source": [
        "<a href=\"https://colab.research.google.com/github/TBab0/duth_cv4/blob/main/tuned_hw3b.ipynb\" target=\"_parent\"><img src=\"https://colab.research.google.com/assets/colab-badge.svg\" alt=\"Open In Colab\"/></a>"
      ]
    },
    {
      "cell_type": "code",
      "execution_count": 1,
      "metadata": {
        "id": "dJjBP9ns29ga"
      },
      "outputs": [],
      "source": [
        "# Declare Imports\n",
        "from keras import models, regularizers, layers, optimizers, losses, metrics\n",
        "from keras.models import Sequential\n",
        "from keras.layers import Dense\n",
        "from keras.utils import np_utils, to_categorical\n",
        "from keras.preprocessing.image import ImageDataGenerator\n",
        "from keras.preprocessing import image\n",
        "from keras.applications import ResNet50\n",
        "from tensorflow.keras.applications.resnet50 import preprocess_input\n",
        "import os\n",
        "from google.colab import drive\n",
        "import zipfile\n",
        "import tensorflow as tf\n",
        "import datetime"
      ]
    },
    {
      "cell_type": "code",
      "source": [
        "drive.mount('/content/drive')\n",
        "local_zip = '/content/drive/MyDrive/imagedb_caltech.zip'\n",
        "zip_ref = zipfile.ZipFile(local_zip, 'r')\n",
        "zip_ref.extractall('/content')\n",
        "zip_ref.close()\n",
        "\n",
        "train_dir = '/content/caltech/imagedb'\n",
        "test_dir = '/content/caltech/imagedb_test'"
      ],
      "metadata": {
        "colab": {
          "base_uri": "https://localhost:8080/"
        },
        "id": "mngLtPbJ3Trl",
        "outputId": "f6313b12-2c36-4cab-896b-c5a80b87e2db"
      },
      "execution_count": 2,
      "outputs": [
        {
          "output_type": "stream",
          "name": "stdout",
          "text": [
            "Mounted at /content/drive\n"
          ]
        }
      ]
    },
    {
      "cell_type": "code",
      "source": [
        "# Prep the Train Valid and Test directories for the generator\n",
        "batch_size = 128\n",
        "row, col, cha = 256, 256, 3\n",
        "target_size = (row, col)\n",
        "\n",
        "train_datagen = ImageDataGenerator(preprocessing_function=preprocess_input,\n",
        "                                   horizontal_flip=True,\n",
        "                                   validation_split=0.2)\n",
        "\n",
        "train_generator = train_datagen.flow_from_directory(\n",
        "    train_dir,\n",
        "    target_size=target_size,\n",
        "    batch_size=batch_size,\n",
        "    class_mode='categorical',\n",
        "    subset='training', seed=1) # set as training data\n",
        "\n",
        "validation_generator = train_datagen.flow_from_directory(\n",
        "    train_dir, # same directory as training data\n",
        "    target_size=target_size,\n",
        "    batch_size=batch_size,\n",
        "    class_mode='categorical',\n",
        "    subset='validation',  seed=1) # set as validation data"
      ],
      "metadata": {
        "colab": {
          "base_uri": "https://localhost:8080/"
        },
        "id": "ekbUNrDx3pMD",
        "outputId": "1f07f888-68be-4abe-aebe-238a0ebea24b"
      },
      "execution_count": 3,
      "outputs": [
        {
          "output_type": "stream",
          "name": "stdout",
          "text": [
            "Found 388 images belonging to 5 classes.\n",
            "Found 94 images belonging to 5 classes.\n"
          ]
        }
      ]
    },
    {
      "cell_type": "code",
      "source": [
        "# Convoluted Base MODEL\n",
        "conv_base = ResNet50(weights='imagenet', include_top=False, input_shape=(row, col, cha))\n",
        "# print(conv_base.summary())\n",
        "\n",
        "# Freeze the layers\n",
        "for layer in conv_base.layers[:]:\n",
        "    layer.trainable = False\n",
        " \n",
        "# Check the trainable status of the individual layers\n",
        "# for layer in conv_base.layers:\n",
        "    # print(layer, layer.trainable)\n",
        "     "
      ],
      "metadata": {
        "colab": {
          "base_uri": "https://localhost:8080/"
        },
        "id": "8_9rTLow3q7K",
        "outputId": "16a56814-4fa2-48b5-fbfb-b74862fcad96"
      },
      "execution_count": 4,
      "outputs": [
        {
          "output_type": "stream",
          "name": "stdout",
          "text": [
            "Downloading data from https://storage.googleapis.com/tensorflow/keras-applications/resnet/resnet50_weights_tf_dim_ordering_tf_kernels_notop.h5\n",
            "94765736/94765736 [==============================] - 5s 0us/step\n"
          ]
        }
      ]
    },
    {
      "cell_type": "code",
      "source": [
        "# Create the model\n",
        "model = models.Sequential()\n",
        " \n",
        "# Add the vgg convolutional base model\n",
        "model.add(conv_base)\n",
        " \n",
        "# Add new layers\n",
        "model.add(layers.Flatten())\n",
        "model.add(layers.Dense(2048, activation='relu'))\n",
        "model.add(layers.Dropout(0.5))\n",
        "model.add(layers.Dense(512, activation='relu'))\n",
        "model.add(layers.Dropout(0.5))\n",
        "model.add(layers.Dense(5, activation='softmax'))\n",
        " \n",
        "# Show a summary of the model. Check the number of trainable parameters\n",
        "model.summary()"
      ],
      "metadata": {
        "colab": {
          "base_uri": "https://localhost:8080/"
        },
        "id": "wJqULocI3y24",
        "outputId": "71654d41-233f-4219-c004-1548592d1765"
      },
      "execution_count": 5,
      "outputs": [
        {
          "output_type": "stream",
          "name": "stdout",
          "text": [
            "Model: \"sequential\"\n",
            "_________________________________________________________________\n",
            " Layer (type)                Output Shape              Param #   \n",
            "=================================================================\n",
            " resnet50 (Functional)       (None, 8, 8, 2048)        23587712  \n",
            "                                                                 \n",
            " flatten (Flatten)           (None, 131072)            0         \n",
            "                                                                 \n",
            " dense (Dense)               (None, 2048)              268437504 \n",
            "                                                                 \n",
            " dropout (Dropout)           (None, 2048)              0         \n",
            "                                                                 \n",
            " dense_1 (Dense)             (None, 512)               1049088   \n",
            "                                                                 \n",
            " dropout_1 (Dropout)         (None, 512)               0         \n",
            "                                                                 \n",
            " dense_2 (Dense)             (None, 5)                 2565      \n",
            "                                                                 \n",
            "=================================================================\n",
            "Total params: 293,076,869\n",
            "Trainable params: 269,489,157\n",
            "Non-trainable params: 23,587,712\n",
            "_________________________________________________________________\n"
          ]
        }
      ]
    },
    {
      "cell_type": "code",
      "source": [
        "callbacks = []\n",
        "\n",
        "save_best_callback = tf.keras.callbacks.ModelCheckpoint(f'best_weights.hdf5', save_best_only=True, verbose=1)\n",
        "callbacks.append(save_best_callback)\n",
        "\n",
        "early_stop_callback = tf.keras.callbacks.EarlyStopping(patience=5, restore_best_weights=True, verbose=1)\n",
        "callbacks.append(early_stop_callback)"
      ],
      "metadata": {
        "id": "9KUv9MTw7U32"
      },
      "execution_count": 6,
      "outputs": []
    },
    {
      "cell_type": "code",
      "source": [
        "# Compile the model\n",
        "model.compile(loss='categorical_crossentropy', optimizer=optimizers.adam_v2.Adam(learning_rate=1e-4), metrics=['acc'])\n",
        "# Train the model\n",
        "history = model.fit_generator(train_generator, steps_per_epoch=train_generator.samples/train_generator.batch_size, epochs=30, validation_data=validation_generator, verbose=1, callbacks = callbacks)\n",
        " \n",
        "# Save the model\n",
        "model.save('small_last4.h5')"
      ],
      "metadata": {
        "colab": {
          "base_uri": "https://localhost:8080/"
        },
        "id": "SxsUHZcY30IX",
        "outputId": "334c7125-bef3-4c62-ba37-dbb053d77be8"
      },
      "execution_count": 7,
      "outputs": [
        {
          "output_type": "stream",
          "name": "stderr",
          "text": [
            "<ipython-input-7-24e1b0ab929e>:4: UserWarning: `Model.fit_generator` is deprecated and will be removed in a future version. Please use `Model.fit`, which supports generators.\n",
            "  history = model.fit_generator(train_generator, steps_per_epoch=train_generator.samples/train_generator.batch_size, epochs=30, validation_data=validation_generator, verbose=1, callbacks = callbacks)\n"
          ]
        },
        {
          "output_type": "stream",
          "name": "stdout",
          "text": [
            "Epoch 1/30\n",
            "4/3 [=======================================] - ETA: 0s - loss: 3.4111 - acc: 0.5567\n",
            "Epoch 1: val_loss improved from inf to 0.16488, saving model to best_weights.hdf5\n",
            "3/3 [==============================] - 34s 11s/step - loss: 3.4111 - acc: 0.5567 - val_loss: 0.1649 - val_acc: 0.9574\n",
            "Epoch 2/30\n",
            "4/3 [=======================================] - ETA: 0s - loss: 0.3869 - acc: 0.9639\n",
            "Epoch 2: val_loss improved from 0.16488 to 0.00009, saving model to best_weights.hdf5\n",
            "3/3 [==============================] - 18s 9s/step - loss: 0.3869 - acc: 0.9639 - val_loss: 8.6786e-05 - val_acc: 1.0000\n",
            "Epoch 3/30\n",
            "4/3 [=======================================] - ETA: 0s - loss: 0.0940 - acc: 0.9897\n",
            "Epoch 3: val_loss did not improve from 0.00009\n",
            "3/3 [==============================] - 3s 1s/step - loss: 0.0940 - acc: 0.9897 - val_loss: 0.0246 - val_acc: 0.9787\n",
            "Epoch 4/30\n",
            "4/3 [=======================================] - ETA: 0s - loss: 0.1630 - acc: 0.9768\n",
            "Epoch 4: val_loss did not improve from 0.00009\n",
            "3/3 [==============================] - 3s 1s/step - loss: 0.1630 - acc: 0.9768 - val_loss: 0.1232 - val_acc: 0.9787\n",
            "Epoch 5/30\n",
            "4/3 [=======================================] - ETA: 0s - loss: 0.1526 - acc: 0.9871\n",
            "Epoch 5: val_loss did not improve from 0.00009\n",
            "3/3 [==============================] - 3s 1s/step - loss: 0.1526 - acc: 0.9871 - val_loss: 0.0140 - val_acc: 0.9894\n",
            "Epoch 6/30\n",
            "4/3 [=======================================] - ETA: 0s - loss: 0.0281 - acc: 0.9948\n",
            "Epoch 6: val_loss did not improve from 0.00009\n",
            "3/3 [==============================] - 3s 900ms/step - loss: 0.0281 - acc: 0.9948 - val_loss: 0.0011 - val_acc: 1.0000\n",
            "Epoch 7/30\n",
            "4/3 [=======================================] - ETA: 0s - loss: 0.0320 - acc: 0.9923\n",
            "Epoch 7: val_loss improved from 0.00009 to 0.00000, saving model to best_weights.hdf5\n",
            "3/3 [==============================] - 18s 9s/step - loss: 0.0320 - acc: 0.9923 - val_loss: 4.2211e-06 - val_acc: 1.0000\n",
            "Epoch 8/30\n",
            "4/3 [=======================================] - ETA: 0s - loss: 7.7776e-06 - acc: 1.0000\n",
            "Epoch 8: val_loss improved from 0.00000 to 0.00000, saving model to best_weights.hdf5\n",
            "3/3 [==============================] - 18s 9s/step - loss: 7.7776e-06 - acc: 1.0000 - val_loss: 1.5218e-08 - val_acc: 1.0000\n",
            "Epoch 9/30\n",
            "4/3 [=======================================] - ETA: 0s - loss: 0.0927 - acc: 0.9948\n",
            "Epoch 9: val_loss did not improve from 0.00000\n",
            "3/3 [==============================] - 3s 1s/step - loss: 0.0927 - acc: 0.9948 - val_loss: 2.9168e-08 - val_acc: 1.0000\n",
            "Epoch 10/30\n",
            "4/3 [=======================================] - ETA: 0s - loss: 0.0058 - acc: 0.9974\n",
            "Epoch 10: val_loss improved from 0.00000 to 0.00000, saving model to best_weights.hdf5\n",
            "3/3 [==============================] - 18s 8s/step - loss: 0.0058 - acc: 0.9974 - val_loss: 0.0000e+00 - val_acc: 1.0000\n",
            "Epoch 11/30\n",
            "4/3 [=======================================] - ETA: 0s - loss: 0.0301 - acc: 0.9948\n",
            "Epoch 11: val_loss did not improve from 0.00000\n",
            "3/3 [==============================] - 3s 900ms/step - loss: 0.0301 - acc: 0.9948 - val_loss: 1.2682e-09 - val_acc: 1.0000\n",
            "Epoch 12/30\n",
            "4/3 [=======================================] - ETA: 0s - loss: 4.7553e-06 - acc: 1.0000\n",
            "Epoch 12: val_loss did not improve from 0.00000\n",
            "3/3 [==============================] - 3s 899ms/step - loss: 4.7553e-06 - acc: 1.0000 - val_loss: 3.8046e-09 - val_acc: 1.0000\n",
            "Epoch 13/30\n",
            "4/3 [=======================================] - ETA: 0s - loss: 0.0278 - acc: 0.9974\n",
            "Epoch 13: val_loss did not improve from 0.00000\n",
            "3/3 [==============================] - 3s 1s/step - loss: 0.0278 - acc: 0.9974 - val_loss: 1.3965e-05 - val_acc: 1.0000\n",
            "Epoch 14/30\n",
            "4/3 [=======================================] - ETA: 0s - loss: 0.0012 - acc: 1.0000\n",
            "Epoch 14: val_loss did not improve from 0.00000\n",
            "3/3 [==============================] - 3s 1s/step - loss: 0.0012 - acc: 1.0000 - val_loss: 7.3349e-06 - val_acc: 1.0000\n",
            "Epoch 15/30\n",
            "4/3 [=======================================] - ETA: 0s - loss: 0.0043 - acc: 0.9974\n",
            "Epoch 15: val_loss did not improve from 0.00000\n",
            "Restoring model weights from the end of the best epoch: 10.\n",
            "3/3 [==============================] - 3s 1s/step - loss: 0.0043 - acc: 0.9974 - val_loss: 3.9883e-05 - val_acc: 1.0000\n",
            "Epoch 15: early stopping\n"
          ]
        }
      ]
    },
    {
      "cell_type": "code",
      "source": [
        "# --------------------\n",
        "# Flow validation images in batches of 20 using test_datagen generator\n",
        "# --------------------\n",
        "test_datagen  = ImageDataGenerator(preprocessing_function=preprocess_input)\n",
        "test_generator =  test_datagen.flow_from_directory(test_dir,\n",
        "                                                        batch_size=128,\n",
        "                                                        class_mode='categorical',\n",
        "                                                        #  color_mode='grayscale',\n",
        "                                                         target_size=target_size) \n",
        "loss, acc = model.evaluate(test_generator)"
      ],
      "metadata": {
        "colab": {
          "base_uri": "https://localhost:8080/"
        },
        "id": "0J17NWnm7XkM",
        "outputId": "80fea71c-5f8c-4cb2-ad8a-fcc80ce2bc24"
      },
      "execution_count": 8,
      "outputs": [
        {
          "output_type": "stream",
          "name": "stdout",
          "text": [
            "Found 52 images belonging to 5 classes.\n",
            "1/1 [==============================] - 2s 2s/step - loss: 0.0000e+00 - acc: 1.0000\n"
          ]
        }
      ]
    }
  ]
}