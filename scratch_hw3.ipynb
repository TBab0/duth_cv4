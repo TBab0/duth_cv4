{
  "nbformat": 4,
  "nbformat_minor": 0,
  "metadata": {
    "colab": {
      "provenance": [],
      "authorship_tag": "ABX9TyOvassO2ZEelipARrAF5pXb",
      "include_colab_link": true
    },
    "kernelspec": {
      "name": "python3",
      "display_name": "Python 3"
    },
    "language_info": {
      "name": "python"
    },
    "accelerator": "GPU",
    "gpuClass": "standard"
  },
  "cells": [
    {
      "cell_type": "markdown",
      "metadata": {
        "id": "view-in-github",
        "colab_type": "text"
      },
      "source": [
        "<a href=\"https://colab.research.google.com/github/TBab0/duth_cv4/blob/main/scratch_hw3.ipynb\" target=\"_parent\"><img src=\"https://colab.research.google.com/assets/colab-badge.svg\" alt=\"Open In Colab\"/></a>"
      ]
    },
    {
      "cell_type": "code",
      "execution_count": 1,
      "metadata": {
        "id": "dJjBP9ns29ga"
      },
      "outputs": [],
      "source": [
        "from google.colab import drive\n",
        "import os\n",
        "import zipfile\n",
        "from tensorflow.keras.preprocessing.image import ImageDataGenerator\n",
        "import tensorflow as tf\n",
        "import datetime"
      ]
    },
    {
      "cell_type": "code",
      "source": [
        "drive.mount('/content/drive')\n",
        "local_zip = '/content/drive/MyDrive/imagedb_caltech.zip'\n",
        "zip_ref = zipfile.ZipFile(local_zip, 'r')\n",
        "zip_ref.extractall('/content')\n",
        "zip_ref.close()\n",
        "\n",
        "train_dir = '/content/caltech/imagedb'\n",
        "test_dir = '/content/caltech/imagedb_test'"
      ],
      "metadata": {
        "colab": {
          "base_uri": "https://localhost:8080/"
        },
        "id": "mngLtPbJ3Trl",
        "outputId": "7f9e7439-f072-4152-c8a2-c6737114d4d8"
      },
      "execution_count": 2,
      "outputs": [
        {
          "output_type": "stream",
          "name": "stdout",
          "text": [
            "Mounted at /content/drive\n"
          ]
        }
      ]
    },
    {
      "cell_type": "code",
      "source": [
        "ts = 32\n",
        "# train_datagen = ImageDataGenerator(preprocessing_function=vgg16.preprocess_input, validation_split=0.2)\n",
        "train_datagen  = ImageDataGenerator(rescale=1./255,\n",
        "                                    validation_split=0.2)\n",
        "\n",
        "# --------------------\n",
        "# Flow training images in batches of 20 using train_datagen generator\n",
        "# --------------------\n",
        "train_generator = train_datagen.flow_from_directory(train_dir,\n",
        "                                                    batch_size=128,\n",
        "                                                    class_mode='categorical',\n",
        "                                                    color_mode='grayscale',\n",
        "                                                    target_size=(ts,ts),\n",
        "                                                    subset='training', seed=1)     \n",
        "# --------------------\n",
        "# Flow validation images in batches of 20 using test_datagen generator\n",
        "# --------------------\n",
        "validation_generator =  train_datagen.flow_from_directory(train_dir,\n",
        "                                                        batch_size=128,\n",
        "                                                        class_mode='categorical',\n",
        "                                                         color_mode='grayscale',\n",
        "                                                         target_size=(ts,ts),\n",
        "                                                        subset='validation', seed=1)"
      ],
      "metadata": {
        "colab": {
          "base_uri": "https://localhost:8080/"
        },
        "id": "ekbUNrDx3pMD",
        "outputId": "d41cbcd7-1a8f-4893-aaab-d54dc6daa8d9"
      },
      "execution_count": 3,
      "outputs": [
        {
          "output_type": "stream",
          "name": "stdout",
          "text": [
            "Found 388 images belonging to 5 classes.\n",
            "Found 94 images belonging to 5 classes.\n"
          ]
        }
      ]
    },
    {
      "cell_type": "code",
      "source": [
        "model = tf.keras.models.Sequential([\n",
        "  tf.keras.layers.Conv2D(64, (5, 5), strides=(1, 1), activation='relu', input_shape=(ts, ts, 1)),\n",
        "  tf.keras.layers.Conv2D(64, (5, 5), strides=(1, 1), activation='relu', input_shape=(ts, ts, 1)),\n",
        "  tf.keras.layers.MaxPooling2D(pool_size=(2, 2), strides=(2, 2)),\n",
        "  # tf.keras.layers.Conv2D(64, (5, 5), strides=(1, 1), activation='relu', input_shape=(ts, ts, 1)),\n",
        "  tf.keras.layers.Flatten(),\n",
        "  tf.keras.layers.Dense(512, activation='relu'),\n",
        "  tf.keras.layers.Dropout(0.5),\n",
        "  tf.keras.layers.Dense(5, activation='softmax')\n",
        "])\n",
        "model.compile(optimizer = tf.keras.optimizers.Adam(), loss = 'categorical_crossentropy', metrics=['accuracy'])\n",
        "model.summary()"
      ],
      "metadata": {
        "colab": {
          "base_uri": "https://localhost:8080/"
        },
        "id": "8_9rTLow3q7K",
        "outputId": "67c317d3-6871-41ba-f0a9-bacd95b552ce"
      },
      "execution_count": 4,
      "outputs": [
        {
          "output_type": "stream",
          "name": "stdout",
          "text": [
            "Model: \"sequential\"\n",
            "_________________________________________________________________\n",
            " Layer (type)                Output Shape              Param #   \n",
            "=================================================================\n",
            " conv2d (Conv2D)             (None, 28, 28, 64)        1664      \n",
            "                                                                 \n",
            " conv2d_1 (Conv2D)           (None, 24, 24, 64)        102464    \n",
            "                                                                 \n",
            " max_pooling2d (MaxPooling2D  (None, 12, 12, 64)       0         \n",
            " )                                                               \n",
            "                                                                 \n",
            " flatten (Flatten)           (None, 9216)              0         \n",
            "                                                                 \n",
            " dense (Dense)               (None, 512)               4719104   \n",
            "                                                                 \n",
            " dropout (Dropout)           (None, 512)               0         \n",
            "                                                                 \n",
            " dense_1 (Dense)             (None, 5)                 2565      \n",
            "                                                                 \n",
            "=================================================================\n",
            "Total params: 4,825,797\n",
            "Trainable params: 4,825,797\n",
            "Non-trainable params: 0\n",
            "_________________________________________________________________\n"
          ]
        }
      ]
    },
    {
      "cell_type": "code",
      "source": [
        "callbacks = []\n",
        "\n",
        "save_best_callback = tf.keras.callbacks.ModelCheckpoint(f'best_weights.hdf5', save_best_only=True, verbose=1)\n",
        "callbacks.append(save_best_callback)\n",
        "\n",
        "early_stop_callback = tf.keras.callbacks.EarlyStopping(patience=10, restore_best_weights=True, verbose=1)\n",
        "callbacks.append(early_stop_callback)\n",
        "\n",
        "history = model.fit(train_generator, validation_data=validation_generator, epochs=30, verbose=1, callbacks=callbacks)"
      ],
      "metadata": {
        "colab": {
          "base_uri": "https://localhost:8080/"
        },
        "id": "wJqULocI3y24",
        "outputId": "b6b4adde-d77b-4898-8f24-d301ff8b1778"
      },
      "execution_count": 5,
      "outputs": [
        {
          "output_type": "stream",
          "name": "stdout",
          "text": [
            "Epoch 1/30\n",
            "4/4 [==============================] - ETA: 0s - loss: 1.7715 - accuracy: 0.2423\n",
            "Epoch 1: val_loss improved from inf to 1.59664, saving model to best_weights.hdf5\n",
            "4/4 [==============================] - 9s 441ms/step - loss: 1.7715 - accuracy: 0.2423 - val_loss: 1.5966 - val_accuracy: 0.2128\n",
            "Epoch 2/30\n",
            "3/4 [=====================>........] - ETA: 0s - loss: 1.5814 - accuracy: 0.2865\n",
            "Epoch 2: val_loss improved from 1.59664 to 1.55746, saving model to best_weights.hdf5\n",
            "4/4 [==============================] - 1s 268ms/step - loss: 1.5800 - accuracy: 0.2912 - val_loss: 1.5575 - val_accuracy: 0.1809\n",
            "Epoch 3/30\n",
            "4/4 [==============================] - ETA: 0s - loss: 1.5309 - accuracy: 0.2732\n",
            "Epoch 3: val_loss improved from 1.55746 to 1.48485, saving model to best_weights.hdf5\n",
            "4/4 [==============================] - 1s 277ms/step - loss: 1.5309 - accuracy: 0.2732 - val_loss: 1.4848 - val_accuracy: 0.3723\n",
            "Epoch 4/30\n",
            "4/4 [==============================] - ETA: 0s - loss: 1.3894 - accuracy: 0.4820\n",
            "Epoch 4: val_loss improved from 1.48485 to 1.30258, saving model to best_weights.hdf5\n",
            "4/4 [==============================] - 1s 265ms/step - loss: 1.3894 - accuracy: 0.4820 - val_loss: 1.3026 - val_accuracy: 0.5638\n",
            "Epoch 5/30\n",
            "4/4 [==============================] - ETA: 0s - loss: 1.2281 - accuracy: 0.5722\n",
            "Epoch 5: val_loss improved from 1.30258 to 1.15450, saving model to best_weights.hdf5\n",
            "4/4 [==============================] - 1s 284ms/step - loss: 1.2281 - accuracy: 0.5722 - val_loss: 1.1545 - val_accuracy: 0.6064\n",
            "Epoch 6/30\n",
            "3/4 [=====================>........] - ETA: 0s - loss: 1.0432 - accuracy: 0.6510\n",
            "Epoch 6: val_loss did not improve from 1.15450\n",
            "4/4 [==============================] - 1s 236ms/step - loss: 1.0379 - accuracy: 0.6521 - val_loss: 1.1675 - val_accuracy: 0.4681\n",
            "Epoch 7/30\n",
            "3/4 [=====================>........] - ETA: 0s - loss: 0.9841 - accuracy: 0.5911\n",
            "Epoch 7: val_loss improved from 1.15450 to 0.84142, saving model to best_weights.hdf5\n",
            "4/4 [==============================] - 1s 302ms/step - loss: 0.9812 - accuracy: 0.5928 - val_loss: 0.8414 - val_accuracy: 0.7340\n",
            "Epoch 8/30\n",
            "3/4 [=====================>........] - ETA: 0s - loss: 0.7885 - accuracy: 0.6979\n",
            "Epoch 8: val_loss improved from 0.84142 to 0.83616, saving model to best_weights.hdf5\n",
            "4/4 [==============================] - 1s 262ms/step - loss: 0.7835 - accuracy: 0.7010 - val_loss: 0.8362 - val_accuracy: 0.6915\n",
            "Epoch 9/30\n",
            "4/4 [==============================] - ETA: 0s - loss: 0.6564 - accuracy: 0.7552\n",
            "Epoch 9: val_loss improved from 0.83616 to 0.78130, saving model to best_weights.hdf5\n",
            "4/4 [==============================] - 1s 269ms/step - loss: 0.6564 - accuracy: 0.7552 - val_loss: 0.7813 - val_accuracy: 0.7660\n",
            "Epoch 10/30\n",
            "3/4 [=====================>........] - ETA: 0s - loss: 0.5487 - accuracy: 0.8021\n",
            "Epoch 10: val_loss did not improve from 0.78130\n",
            "4/4 [==============================] - 1s 223ms/step - loss: 0.5472 - accuracy: 0.8041 - val_loss: 0.8776 - val_accuracy: 0.6489\n",
            "Epoch 11/30\n",
            "3/4 [=====================>........] - ETA: 0s - loss: 0.6269 - accuracy: 0.7474\n",
            "Epoch 11: val_loss did not improve from 0.78130\n",
            "4/4 [==============================] - 1s 230ms/step - loss: 0.6313 - accuracy: 0.7474 - val_loss: 0.9217 - val_accuracy: 0.6915\n",
            "Epoch 12/30\n",
            "4/4 [==============================] - ETA: 0s - loss: 0.6842 - accuracy: 0.7629\n",
            "Epoch 12: val_loss did not improve from 0.78130\n",
            "4/4 [==============================] - 1s 233ms/step - loss: 0.6842 - accuracy: 0.7629 - val_loss: 0.8555 - val_accuracy: 0.7128\n",
            "Epoch 13/30\n",
            "3/4 [=====================>........] - ETA: 0s - loss: 0.5286 - accuracy: 0.8151\n",
            "Epoch 13: val_loss improved from 0.78130 to 0.72076, saving model to best_weights.hdf5\n",
            "4/4 [==============================] - 1s 284ms/step - loss: 0.5262 - accuracy: 0.8144 - val_loss: 0.7208 - val_accuracy: 0.7021\n",
            "Epoch 14/30\n",
            "4/4 [==============================] - ETA: 0s - loss: 0.5196 - accuracy: 0.8041\n",
            "Epoch 14: val_loss improved from 0.72076 to 0.66178, saving model to best_weights.hdf5\n",
            "4/4 [==============================] - 1s 340ms/step - loss: 0.5196 - accuracy: 0.8041 - val_loss: 0.6618 - val_accuracy: 0.7872\n",
            "Epoch 15/30\n",
            "4/4 [==============================] - ETA: 0s - loss: 0.4225 - accuracy: 0.8686\n",
            "Epoch 15: val_loss did not improve from 0.66178\n",
            "4/4 [==============================] - 1s 236ms/step - loss: 0.4225 - accuracy: 0.8686 - val_loss: 0.6812 - val_accuracy: 0.7872\n",
            "Epoch 16/30\n",
            "4/4 [==============================] - ETA: 0s - loss: 0.3903 - accuracy: 0.8660\n",
            "Epoch 16: val_loss did not improve from 0.66178\n",
            "4/4 [==============================] - 1s 243ms/step - loss: 0.3903 - accuracy: 0.8660 - val_loss: 0.7975 - val_accuracy: 0.7234\n",
            "Epoch 17/30\n",
            "4/4 [==============================] - ETA: 0s - loss: 0.4907 - accuracy: 0.8144\n",
            "Epoch 17: val_loss did not improve from 0.66178\n",
            "4/4 [==============================] - 1s 220ms/step - loss: 0.4907 - accuracy: 0.8144 - val_loss: 0.6967 - val_accuracy: 0.7447\n",
            "Epoch 18/30\n",
            "4/4 [==============================] - ETA: 0s - loss: 0.3773 - accuracy: 0.8737\n",
            "Epoch 18: val_loss improved from 0.66178 to 0.64202, saving model to best_weights.hdf5\n",
            "4/4 [==============================] - 1s 273ms/step - loss: 0.3773 - accuracy: 0.8737 - val_loss: 0.6420 - val_accuracy: 0.7872\n",
            "Epoch 19/30\n",
            "4/4 [==============================] - ETA: 0s - loss: 0.3568 - accuracy: 0.8608\n",
            "Epoch 19: val_loss improved from 0.64202 to 0.63933, saving model to best_weights.hdf5\n",
            "4/4 [==============================] - 1s 272ms/step - loss: 0.3568 - accuracy: 0.8608 - val_loss: 0.6393 - val_accuracy: 0.7979\n",
            "Epoch 20/30\n",
            "4/4 [==============================] - ETA: 0s - loss: 0.2888 - accuracy: 0.9021\n",
            "Epoch 20: val_loss improved from 0.63933 to 0.60898, saving model to best_weights.hdf5\n",
            "4/4 [==============================] - 1s 331ms/step - loss: 0.2888 - accuracy: 0.9021 - val_loss: 0.6090 - val_accuracy: 0.8298\n",
            "Epoch 21/30\n",
            "4/4 [==============================] - ETA: 0s - loss: 0.2669 - accuracy: 0.9124\n",
            "Epoch 21: val_loss did not improve from 0.60898\n",
            "4/4 [==============================] - 1s 231ms/step - loss: 0.2669 - accuracy: 0.9124 - val_loss: 0.6134 - val_accuracy: 0.8085\n",
            "Epoch 22/30\n",
            "3/4 [=====================>........] - ETA: 0s - loss: 0.2503 - accuracy: 0.9271\n",
            "Epoch 22: val_loss improved from 0.60898 to 0.58469, saving model to best_weights.hdf5\n",
            "4/4 [==============================] - 1s 271ms/step - loss: 0.2485 - accuracy: 0.9278 - val_loss: 0.5847 - val_accuracy: 0.8298\n",
            "Epoch 23/30\n",
            "4/4 [==============================] - ETA: 0s - loss: 0.1978 - accuracy: 0.9381\n",
            "Epoch 23: val_loss did not improve from 0.58469\n",
            "4/4 [==============================] - 1s 234ms/step - loss: 0.1978 - accuracy: 0.9381 - val_loss: 0.5991 - val_accuracy: 0.8298\n",
            "Epoch 24/30\n",
            "4/4 [==============================] - ETA: 0s - loss: 0.2117 - accuracy: 0.9201\n",
            "Epoch 24: val_loss improved from 0.58469 to 0.58416, saving model to best_weights.hdf5\n",
            "4/4 [==============================] - 1s 338ms/step - loss: 0.2117 - accuracy: 0.9201 - val_loss: 0.5842 - val_accuracy: 0.8511\n",
            "Epoch 25/30\n",
            "4/4 [==============================] - ETA: 0s - loss: 0.1507 - accuracy: 0.9510\n",
            "Epoch 25: val_loss improved from 0.58416 to 0.57894, saving model to best_weights.hdf5\n",
            "4/4 [==============================] - 1s 278ms/step - loss: 0.1507 - accuracy: 0.9510 - val_loss: 0.5789 - val_accuracy: 0.8723\n",
            "Epoch 26/30\n",
            "4/4 [==============================] - ETA: 0s - loss: 0.1365 - accuracy: 0.9510\n",
            "Epoch 26: val_loss improved from 0.57894 to 0.57394, saving model to best_weights.hdf5\n",
            "4/4 [==============================] - 1s 276ms/step - loss: 0.1365 - accuracy: 0.9510 - val_loss: 0.5739 - val_accuracy: 0.8936\n",
            "Epoch 27/30\n",
            "4/4 [==============================] - ETA: 0s - loss: 0.1392 - accuracy: 0.9562\n",
            "Epoch 27: val_loss did not improve from 0.57394\n",
            "4/4 [==============================] - 1s 226ms/step - loss: 0.1392 - accuracy: 0.9562 - val_loss: 0.5929 - val_accuracy: 0.8511\n",
            "Epoch 28/30\n",
            "3/4 [=====================>........] - ETA: 0s - loss: 0.1211 - accuracy: 0.9635\n",
            "Epoch 28: val_loss did not improve from 0.57394\n",
            "4/4 [==============================] - 1s 235ms/step - loss: 0.1201 - accuracy: 0.9639 - val_loss: 0.5999 - val_accuracy: 0.8511\n",
            "Epoch 29/30\n",
            "3/4 [=====================>........] - ETA: 0s - loss: 0.0987 - accuracy: 0.9766\n",
            "Epoch 29: val_loss did not improve from 0.57394\n",
            "4/4 [==============================] - 1s 233ms/step - loss: 0.0979 - accuracy: 0.9768 - val_loss: 0.5752 - val_accuracy: 0.8404\n",
            "Epoch 30/30\n",
            "3/4 [=====================>........] - ETA: 0s - loss: 0.0782 - accuracy: 0.9740\n",
            "Epoch 30: val_loss improved from 0.57394 to 0.55493, saving model to best_weights.hdf5\n",
            "4/4 [==============================] - 1s 332ms/step - loss: 0.0787 - accuracy: 0.9742 - val_loss: 0.5549 - val_accuracy: 0.9043\n"
          ]
        }
      ]
    },
    {
      "cell_type": "code",
      "source": [
        "test_datagen  = ImageDataGenerator(rescale=1./255)\n",
        "test_generator =  test_datagen.flow_from_directory(test_dir,\n",
        "                                                         batch_size=32,\n",
        "                                                         class_mode  = 'categorical',\n",
        "                                                         color_mode='grayscale',\n",
        "                                                         target_size=(ts,ts)) \n",
        "loss, acc = model.evaluate(test_generator)\n",
        "print(acc)"
      ],
      "metadata": {
        "colab": {
          "base_uri": "https://localhost:8080/"
        },
        "id": "SxsUHZcY30IX",
        "outputId": "1db7a30e-9b40-496e-936e-1e5775640553"
      },
      "execution_count": 6,
      "outputs": [
        {
          "output_type": "stream",
          "name": "stdout",
          "text": [
            "Found 52 images belonging to 5 classes.\n",
            "2/2 [==============================] - 0s 53ms/step - loss: 0.4344 - accuracy: 0.8846\n",
            "0.8846153616905212\n"
          ]
        }
      ]
    }
  ]
}