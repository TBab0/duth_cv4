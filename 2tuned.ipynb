{
  "nbformat": 4,
  "nbformat_minor": 0,
  "metadata": {
    "colab": {
      "provenance": [],
      "authorship_tag": "ABX9TyPnyaYRDJ5jVm10qkfpvAnH",
      "include_colab_link": true
    },
    "kernelspec": {
      "name": "python3",
      "display_name": "Python 3"
    },
    "language_info": {
      "name": "python"
    },
    "accelerator": "GPU",
    "gpuClass": "standard"
  },
  "cells": [
    {
      "cell_type": "markdown",
      "metadata": {
        "id": "view-in-github",
        "colab_type": "text"
      },
      "source": [
        "<a href=\"https://colab.research.google.com/github/TBab0/duth_cv4/blob/main/2tuned.ipynb\" target=\"_parent\"><img src=\"https://colab.research.google.com/assets/colab-badge.svg\" alt=\"Open In Colab\"/></a>"
      ]
    },
    {
      "cell_type": "code",
      "execution_count": 1,
      "metadata": {
        "id": "UOT8kGMv4SM_"
      },
      "outputs": [],
      "source": [
        "# Declare Imports\n",
        "from keras import models, regularizers, layers, optimizers, losses, metrics\n",
        "from keras.models import Sequential\n",
        "from keras.layers import Dense\n",
        "from keras.utils import np_utils, to_categorical\n",
        "from keras.preprocessing.image import ImageDataGenerator\n",
        "from keras.preprocessing import image\n",
        "from keras.applications import ResNet50\n",
        "from tensorflow.keras.applications.resnet50 import preprocess_input\n",
        "import os\n",
        "from google.colab import drive\n",
        "import zipfile\n",
        "import tensorflow as tf\n",
        "import datetime"
      ]
    },
    {
      "cell_type": "code",
      "source": [
        "# Import from drive\n",
        "drive.mount('/content/drive')\n",
        "local_zip = '/content/drive/MyDrive/Colab Notebooks/imagedb_btsd.zip'\n",
        "zip_ref = zipfile.ZipFile(local_zip, 'r')\n",
        "zip_ref.extractall('/content')\n",
        "zip_ref.close()\n",
        "\n",
        "train_dir = '/content/imagedb'\n",
        "test_dir = '/content/imagedb_test'"
      ],
      "metadata": {
        "colab": {
          "base_uri": "https://localhost:8080/"
        },
        "id": "13S1sWty4TQy",
        "outputId": "37e9a675-f84b-4922-db51-1418dcad7875"
      },
      "execution_count": 2,
      "outputs": [
        {
          "output_type": "stream",
          "name": "stdout",
          "text": [
            "Mounted at /content/drive\n"
          ]
        }
      ]
    },
    {
      "cell_type": "code",
      "source": [
        "# Prep the Train Valid and Test directories for the generator\n",
        "batch_size = 128\n",
        "row, col, cha = 256, 256, 3\n",
        "target_size = (row, col)\n",
        "\n",
        "train_datagen = ImageDataGenerator(preprocessing_function=preprocess_input, validation_split=0.2)\n",
        "\n",
        "train_generator = train_datagen.flow_from_directory(\n",
        "    train_dir,\n",
        "    target_size=target_size,\n",
        "    batch_size=batch_size,\n",
        "    class_mode='categorical',\n",
        "    subset='training', seed=1) # set as training data\n",
        "\n",
        "validation_generator = train_datagen.flow_from_directory(\n",
        "    train_dir, # same directory as training data\n",
        "    target_size=target_size,\n",
        "    batch_size=batch_size,\n",
        "    class_mode='categorical',\n",
        "    subset='validation',  seed=1) # set as validation data"
      ],
      "metadata": {
        "colab": {
          "base_uri": "https://localhost:8080/"
        },
        "id": "JSgDf_3L4THY",
        "outputId": "209c5477-399e-46ab-c670-794bc7487b45"
      },
      "execution_count": 3,
      "outputs": [
        {
          "output_type": "stream",
          "name": "stdout",
          "text": [
            "Found 2457 images belonging to 34 classes.\n",
            "Found 599 images belonging to 34 classes.\n"
          ]
        }
      ]
    },
    {
      "cell_type": "code",
      "source": [
        "# Convoluted Base MODEL\n",
        "conv_base = ResNet50(weights='imagenet', include_top=False, input_shape=(row, col, cha))\n",
        "# print(conv_base.summary())\n",
        "\n",
        "# Freeze the layers\n",
        "for layer in conv_base.layers[:]:\n",
        "    layer.trainable = False\n",
        " \n",
        "# Check the trainable status of the individual layers\n",
        "# for layer in conv_base.layers:\n",
        "    # print(layer, layer.trainable)"
      ],
      "metadata": {
        "colab": {
          "base_uri": "https://localhost:8080/"
        },
        "id": "HF3aQLyw4TDS",
        "outputId": "c7e1b735-f860-4b1f-996f-ad8f1256511e"
      },
      "execution_count": 4,
      "outputs": [
        {
          "output_type": "stream",
          "name": "stdout",
          "text": [
            "Downloading data from https://storage.googleapis.com/tensorflow/keras-applications/resnet/resnet50_weights_tf_dim_ordering_tf_kernels_notop.h5\n",
            "94765736/94765736 [==============================] - 6s 0us/step\n"
          ]
        }
      ]
    },
    {
      "cell_type": "code",
      "source": [
        "# Create the model\n",
        "model = models.Sequential()\n",
        " \n",
        "# Add the vgg convolutional base model\n",
        "model.add(conv_base)\n",
        " \n",
        "# Add new layers\n",
        "model.add(layers.Flatten())\n",
        "model.add(layers.Dense(2048, activation='relu'))\n",
        "model.add(layers.Dropout(0.5))\n",
        "model.add(layers.Dense(512, activation='relu'))\n",
        "model.add(layers.Dropout(0.5))\n",
        "model.add(layers.Dense(34, activation='softmax'))\n",
        " \n",
        "# Show a summary of the model. Check the number of trainable parameters\n",
        "model.summary()"
      ],
      "metadata": {
        "colab": {
          "base_uri": "https://localhost:8080/"
        },
        "id": "DTwiqi0l4S-z",
        "outputId": "a8087768-0dfa-47dc-cc75-57936c09865e"
      },
      "execution_count": 5,
      "outputs": [
        {
          "output_type": "stream",
          "name": "stdout",
          "text": [
            "Model: \"sequential\"\n",
            "_________________________________________________________________\n",
            " Layer (type)                Output Shape              Param #   \n",
            "=================================================================\n",
            " resnet50 (Functional)       (None, 8, 8, 2048)        23587712  \n",
            "                                                                 \n",
            " flatten (Flatten)           (None, 131072)            0         \n",
            "                                                                 \n",
            " dense (Dense)               (None, 2048)              268437504 \n",
            "                                                                 \n",
            " dropout (Dropout)           (None, 2048)              0         \n",
            "                                                                 \n",
            " dense_1 (Dense)             (None, 512)               1049088   \n",
            "                                                                 \n",
            " dropout_1 (Dropout)         (None, 512)               0         \n",
            "                                                                 \n",
            " dense_2 (Dense)             (None, 34)                17442     \n",
            "                                                                 \n",
            "=================================================================\n",
            "Total params: 293,091,746\n",
            "Trainable params: 269,504,034\n",
            "Non-trainable params: 23,587,712\n",
            "_________________________________________________________________\n"
          ]
        }
      ]
    },
    {
      "cell_type": "code",
      "source": [
        "callbacks = []\n",
        "\n",
        "save_best_callback = tf.keras.callbacks.ModelCheckpoint(f'best_weights.hdf5', save_best_only=True, verbose=1)\n",
        "callbacks.append(save_best_callback)\n",
        "\n",
        "early_stop_callback = tf.keras.callbacks.EarlyStopping(patience=5, restore_best_weights=True, verbose=1)\n",
        "callbacks.append(early_stop_callback)"
      ],
      "metadata": {
        "id": "24HhMmbQ4S8D"
      },
      "execution_count": 6,
      "outputs": []
    },
    {
      "cell_type": "code",
      "source": [
        "# Compile the model\n",
        "model.compile(loss='categorical_crossentropy', optimizer=optimizers.adam_v2.Adam(learning_rate=1e-4), metrics=['acc'])\n",
        "# Train the model\n",
        "history = model.fit_generator(train_generator, steps_per_epoch=train_generator.samples/train_generator.batch_size, epochs=30, validation_data=validation_generator, verbose=1, callbacks = callbacks)\n",
        " \n",
        "# Save the model\n",
        "model.save('small_last4.h5')"
      ],
      "metadata": {
        "colab": {
          "base_uri": "https://localhost:8080/"
        },
        "id": "AqLgCZkm4i5h",
        "outputId": "ff3b3093-83b5-4dd4-e695-3946a80d0719"
      },
      "execution_count": 7,
      "outputs": [
        {
          "output_type": "stream",
          "name": "stderr",
          "text": [
            "<ipython-input-7-24e1b0ab929e>:4: UserWarning: `Model.fit_generator` is deprecated and will be removed in a future version. Please use `Model.fit`, which supports generators.\n",
            "  history = model.fit_generator(train_generator, steps_per_epoch=train_generator.samples/train_generator.batch_size, epochs=30, validation_data=validation_generator, verbose=1, callbacks = callbacks)\n"
          ]
        },
        {
          "output_type": "stream",
          "name": "stdout",
          "text": [
            "Epoch 1/30\n",
            "20/19 [===============================] - ETA: 0s - loss: 4.4139 - acc: 0.4827\n",
            "Epoch 1: val_loss improved from inf to 0.56068, saving model to best_weights.hdf5\n",
            "19/19 [==============================] - 46s 2s/step - loss: 4.4139 - acc: 0.4827 - val_loss: 0.5607 - val_acc: 0.8681\n",
            "Epoch 2/30\n",
            "20/19 [===============================] - ETA: 0s - loss: 1.2874 - acc: 0.7806\n",
            "Epoch 2: val_loss improved from 0.56068 to 0.35365, saving model to best_weights.hdf5\n",
            "19/19 [==============================] - 30s 2s/step - loss: 1.2874 - acc: 0.7806 - val_loss: 0.3537 - val_acc: 0.9165\n",
            "Epoch 3/30\n",
            "20/19 [===============================] - ETA: 0s - loss: 0.6307 - acc: 0.8795\n",
            "Epoch 3: val_loss improved from 0.35365 to 0.35053, saving model to best_weights.hdf5\n",
            "19/19 [==============================] - 29s 2s/step - loss: 0.6307 - acc: 0.8795 - val_loss: 0.3505 - val_acc: 0.9299\n",
            "Epoch 4/30\n",
            "20/19 [===============================] - ETA: 0s - loss: 0.4416 - acc: 0.9056\n",
            "Epoch 4: val_loss improved from 0.35053 to 0.27989, saving model to best_weights.hdf5\n",
            "19/19 [==============================] - 29s 2s/step - loss: 0.4416 - acc: 0.9056 - val_loss: 0.2799 - val_acc: 0.9416\n",
            "Epoch 5/30\n",
            "20/19 [===============================] - ETA: 0s - loss: 0.2860 - acc: 0.9341\n",
            "Epoch 5: val_loss improved from 0.27989 to 0.22193, saving model to best_weights.hdf5\n",
            "19/19 [==============================] - 30s 2s/step - loss: 0.2860 - acc: 0.9341 - val_loss: 0.2219 - val_acc: 0.9466\n",
            "Epoch 6/30\n",
            "20/19 [===============================] - ETA: 0s - loss: 0.2616 - acc: 0.9377\n",
            "Epoch 6: val_loss did not improve from 0.22193\n",
            "19/19 [==============================] - 14s 736ms/step - loss: 0.2616 - acc: 0.9377 - val_loss: 0.2326 - val_acc: 0.9449\n",
            "Epoch 7/30\n",
            "20/19 [===============================] - ETA: 0s - loss: 0.2102 - acc: 0.9528\n",
            "Epoch 7: val_loss did not improve from 0.22193\n",
            "19/19 [==============================] - 14s 758ms/step - loss: 0.2102 - acc: 0.9528 - val_loss: 0.3005 - val_acc: 0.9366\n",
            "Epoch 8/30\n",
            "20/19 [===============================] - ETA: 0s - loss: 0.1766 - acc: 0.9569\n",
            "Epoch 8: val_loss did not improve from 0.22193\n",
            "19/19 [==============================] - 14s 729ms/step - loss: 0.1766 - acc: 0.9569 - val_loss: 0.3426 - val_acc: 0.9466\n",
            "Epoch 9/30\n",
            "20/19 [===============================] - ETA: 0s - loss: 0.1463 - acc: 0.9642\n",
            "Epoch 9: val_loss did not improve from 0.22193\n",
            "19/19 [==============================] - 14s 724ms/step - loss: 0.1463 - acc: 0.9642 - val_loss: 0.2406 - val_acc: 0.9516\n",
            "Epoch 10/30\n",
            "20/19 [===============================] - ETA: 0s - loss: 0.1234 - acc: 0.9695\n",
            "Epoch 10: val_loss did not improve from 0.22193\n",
            "Restoring model weights from the end of the best epoch: 5.\n",
            "19/19 [==============================] - 14s 746ms/step - loss: 0.1234 - acc: 0.9695 - val_loss: 0.2423 - val_acc: 0.9482\n",
            "Epoch 10: early stopping\n"
          ]
        }
      ]
    },
    {
      "cell_type": "code",
      "source": [
        "# --------------------\n",
        "# Flow validation images in batches of 20 using test_datagen generator\n",
        "# --------------------\n",
        "test_datagen  = ImageDataGenerator(preprocessing_function=preprocess_input)\n",
        "test_generator =  test_datagen.flow_from_directory(test_dir,\n",
        "                                                        batch_size=128,\n",
        "                                                        class_mode='categorical',\n",
        "                                                        #  color_mode='grayscale',\n",
        "                                                         target_size=target_size) \n",
        "loss, acc = model.evaluate(test_generator)"
      ],
      "metadata": {
        "colab": {
          "base_uri": "https://localhost:8080/"
        },
        "id": "L8uZcoRg4i1m",
        "outputId": "6bff25b3-64b6-4359-897f-2d713492b4e2"
      },
      "execution_count": 8,
      "outputs": [
        {
          "output_type": "stream",
          "name": "stdout",
          "text": [
            "Found 2149 images belonging to 34 classes.\n",
            "17/17 [==============================] - 11s 637ms/step - loss: 0.3806 - acc: 0.9041\n"
          ]
        }
      ]
    }
  ]
}