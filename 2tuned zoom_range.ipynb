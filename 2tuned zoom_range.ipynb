{
  "nbformat": 4,
  "nbformat_minor": 0,
  "metadata": {
    "colab": {
      "provenance": [],
      "authorship_tag": "ABX9TyN4gc6H+nSbqcXeIPYXtKcI",
      "include_colab_link": true
    },
    "kernelspec": {
      "name": "python3",
      "display_name": "Python 3"
    },
    "language_info": {
      "name": "python"
    },
    "accelerator": "GPU",
    "gpuClass": "standard"
  },
  "cells": [
    {
      "cell_type": "markdown",
      "metadata": {
        "id": "view-in-github",
        "colab_type": "text"
      },
      "source": [
        "<a href=\"https://colab.research.google.com/github/TBab0/duth_cv4/blob/main/2tuned%20zoom_range.ipynb\" target=\"_parent\"><img src=\"https://colab.research.google.com/assets/colab-badge.svg\" alt=\"Open In Colab\"/></a>"
      ]
    },
    {
      "cell_type": "code",
      "execution_count": 1,
      "metadata": {
        "id": "46--Gy83oQwe"
      },
      "outputs": [],
      "source": [
        "# Declare Imports\n",
        "from keras import models, regularizers, layers, optimizers, losses, metrics\n",
        "from keras.models import Sequential\n",
        "from keras.layers import Dense\n",
        "from keras.utils import np_utils, to_categorical\n",
        "from keras.preprocessing.image import ImageDataGenerator\n",
        "from keras.preprocessing import image\n",
        "from keras.applications import ResNet50\n",
        "from tensorflow.keras.applications.resnet50 import preprocess_input\n",
        "import os\n",
        "from google.colab import drive\n",
        "import zipfile\n",
        "import tensorflow as tf\n",
        "import datetime"
      ]
    },
    {
      "cell_type": "code",
      "source": [
        "# Import from drive\n",
        "drive.mount('/content/drive')\n",
        "local_zip = '/content/drive/MyDrive/Colab Notebooks/imagedb_btsd.zip'\n",
        "zip_ref = zipfile.ZipFile(local_zip, 'r')\n",
        "zip_ref.extractall('/content')\n",
        "zip_ref.close()\n",
        "\n",
        "train_dir = '/content/imagedb'\n",
        "test_dir = '/content/imagedb_test'"
      ],
      "metadata": {
        "colab": {
          "base_uri": "https://localhost:8080/"
        },
        "id": "SColed9aocTn",
        "outputId": "f0cd3aa0-3835-411d-ad83-910bf227f47e"
      },
      "execution_count": 2,
      "outputs": [
        {
          "output_type": "stream",
          "name": "stdout",
          "text": [
            "Mounted at /content/drive\n"
          ]
        }
      ]
    },
    {
      "cell_type": "code",
      "source": [
        "# Prep the Train Valid and Test directories for the generator\n",
        "batch_size = 128\n",
        "row, col, cha = 256, 256, 3\n",
        "target_size = (row, col)\n",
        "\n",
        "train_datagen = ImageDataGenerator(preprocessing_function=preprocess_input,\n",
        "                                   zoom_range=0.2,\n",
        "                                   validation_split=0.2)\n",
        "\n",
        "train_generator = train_datagen.flow_from_directory(\n",
        "    train_dir,\n",
        "    target_size=target_size,\n",
        "    batch_size=batch_size,\n",
        "    class_mode='categorical',\n",
        "    subset='training', seed=1) # set as training data\n",
        "\n",
        "validation_generator = train_datagen.flow_from_directory(\n",
        "    train_dir, # same directory as training data\n",
        "    target_size=target_size,\n",
        "    batch_size=batch_size,\n",
        "    class_mode='categorical',\n",
        "    subset='validation',  seed=1) # set as validation data"
      ],
      "metadata": {
        "colab": {
          "base_uri": "https://localhost:8080/"
        },
        "id": "uEcv2NCMocRR",
        "outputId": "28b990fa-5158-4a53-c41f-e25fa9a89e4f"
      },
      "execution_count": 3,
      "outputs": [
        {
          "output_type": "stream",
          "name": "stdout",
          "text": [
            "Found 2457 images belonging to 34 classes.\n",
            "Found 599 images belonging to 34 classes.\n"
          ]
        }
      ]
    },
    {
      "cell_type": "code",
      "source": [
        "# Convoluted Base MODEL\n",
        "conv_base = ResNet50(weights='imagenet', include_top=False, input_shape=(row, col, cha))\n",
        "# print(conv_base.summary())\n",
        "\n",
        "# Freeze the layers\n",
        "for layer in conv_base.layers[:]:\n",
        "    layer.trainable = False\n",
        " \n",
        "# Check the trainable status of the individual layers\n",
        "# for layer in conv_base.layers:\n",
        "    # print(layer, layer.trainable)"
      ],
      "metadata": {
        "colab": {
          "base_uri": "https://localhost:8080/"
        },
        "id": "egImsVVaocOw",
        "outputId": "37d523b8-526d-4ab7-c425-0aa823313de7"
      },
      "execution_count": 4,
      "outputs": [
        {
          "output_type": "stream",
          "name": "stdout",
          "text": [
            "Downloading data from https://storage.googleapis.com/tensorflow/keras-applications/resnet/resnet50_weights_tf_dim_ordering_tf_kernels_notop.h5\n",
            "94765736/94765736 [==============================] - 1s 0us/step\n"
          ]
        }
      ]
    },
    {
      "cell_type": "code",
      "source": [
        "# Create the model\n",
        "model = models.Sequential()\n",
        " \n",
        "# Add the vgg convolutional base model\n",
        "model.add(conv_base)\n",
        " \n",
        "# Add new layers\n",
        "model.add(layers.Flatten())\n",
        "model.add(layers.Dense(2048, activation='relu'))\n",
        "model.add(layers.Dropout(0.5))\n",
        "model.add(layers.Dense(512, activation='relu'))\n",
        "model.add(layers.Dropout(0.5))\n",
        "model.add(layers.Dense(34, activation='softmax'))\n",
        " \n",
        "# Show a summary of the model. Check the number of trainable parameters\n",
        "model.summary()"
      ],
      "metadata": {
        "colab": {
          "base_uri": "https://localhost:8080/"
        },
        "id": "Vbn1a9wBocMe",
        "outputId": "3f417969-c5c8-4ec7-cf7f-5d867321ace2"
      },
      "execution_count": 5,
      "outputs": [
        {
          "output_type": "stream",
          "name": "stdout",
          "text": [
            "Model: \"sequential\"\n",
            "_________________________________________________________________\n",
            " Layer (type)                Output Shape              Param #   \n",
            "=================================================================\n",
            " resnet50 (Functional)       (None, 8, 8, 2048)        23587712  \n",
            "                                                                 \n",
            " flatten (Flatten)           (None, 131072)            0         \n",
            "                                                                 \n",
            " dense (Dense)               (None, 2048)              268437504 \n",
            "                                                                 \n",
            " dropout (Dropout)           (None, 2048)              0         \n",
            "                                                                 \n",
            " dense_1 (Dense)             (None, 512)               1049088   \n",
            "                                                                 \n",
            " dropout_1 (Dropout)         (None, 512)               0         \n",
            "                                                                 \n",
            " dense_2 (Dense)             (None, 34)                17442     \n",
            "                                                                 \n",
            "=================================================================\n",
            "Total params: 293,091,746\n",
            "Trainable params: 269,504,034\n",
            "Non-trainable params: 23,587,712\n",
            "_________________________________________________________________\n"
          ]
        }
      ]
    },
    {
      "cell_type": "code",
      "source": [
        "callbacks = []\n",
        "\n",
        "save_best_callback = tf.keras.callbacks.ModelCheckpoint(f'best_weights.hdf5', save_best_only=True, verbose=1)\n",
        "callbacks.append(save_best_callback)\n",
        "\n",
        "early_stop_callback = tf.keras.callbacks.EarlyStopping(patience=5, restore_best_weights=True, verbose=1)\n",
        "callbacks.append(early_stop_callback)"
      ],
      "metadata": {
        "id": "f-5pn8aWocKD"
      },
      "execution_count": 6,
      "outputs": []
    },
    {
      "cell_type": "code",
      "source": [
        "# Compile the model\n",
        "model.compile(loss='categorical_crossentropy', optimizer=optimizers.adam_v2.Adam(learning_rate=1e-4), metrics=['acc'])\n",
        "# Train the model\n",
        "history = model.fit_generator(train_generator, steps_per_epoch=train_generator.samples/train_generator.batch_size, epochs=30, validation_data=validation_generator, verbose=1, callbacks = callbacks)\n",
        " \n",
        "# Save the model\n",
        "model.save('small_last4.h5')"
      ],
      "metadata": {
        "colab": {
          "base_uri": "https://localhost:8080/"
        },
        "id": "qOJuLMtQocHt",
        "outputId": "ceaaa00c-a711-4e10-879d-b32ae94aa1d7"
      },
      "execution_count": 7,
      "outputs": [
        {
          "output_type": "stream",
          "name": "stderr",
          "text": [
            "<ipython-input-7-24e1b0ab929e>:4: UserWarning: `Model.fit_generator` is deprecated and will be removed in a future version. Please use `Model.fit`, which supports generators.\n",
            "  history = model.fit_generator(train_generator, steps_per_epoch=train_generator.samples/train_generator.batch_size, epochs=30, validation_data=validation_generator, verbose=1, callbacks = callbacks)\n"
          ]
        },
        {
          "output_type": "stream",
          "name": "stdout",
          "text": [
            "Epoch 1/30\n",
            "20/19 [===============================] - ETA: -1s - loss: 4.1667 - acc: 0.4750\n",
            "Epoch 1: val_loss improved from inf to 0.69054, saving model to best_weights.hdf5\n",
            "19/19 [==============================] - 72s 3s/step - loss: 4.1667 - acc: 0.4750 - val_loss: 0.6905 - val_acc: 0.8347\n",
            "Epoch 2/30\n",
            "20/19 [===============================] - ETA: -1s - loss: 1.4952 - acc: 0.7582\n",
            "Epoch 2: val_loss improved from 0.69054 to 0.29292, saving model to best_weights.hdf5\n",
            "19/19 [==============================] - 58s 3s/step - loss: 1.4952 - acc: 0.7582 - val_loss: 0.2929 - val_acc: 0.9299\n",
            "Epoch 3/30\n",
            "20/19 [===============================] - ETA: -1s - loss: 0.8408 - acc: 0.8339\n",
            "Epoch 3: val_loss did not improve from 0.29292\n",
            "19/19 [==============================] - 42s 2s/step - loss: 0.8408 - acc: 0.8339 - val_loss: 0.3513 - val_acc: 0.9265\n",
            "Epoch 4/30\n",
            "20/19 [===============================] - ETA: -1s - loss: 0.5417 - acc: 0.8844\n",
            "Epoch 4: val_loss improved from 0.29292 to 0.24252, saving model to best_weights.hdf5\n",
            "19/19 [==============================] - 55s 3s/step - loss: 0.5417 - acc: 0.8844 - val_loss: 0.2425 - val_acc: 0.9399\n",
            "Epoch 5/30\n",
            "20/19 [===============================] - ETA: -1s - loss: 0.3972 - acc: 0.9101\n",
            "Epoch 5: val_loss did not improve from 0.24252\n",
            "19/19 [==============================] - 40s 2s/step - loss: 0.3972 - acc: 0.9101 - val_loss: 0.2912 - val_acc: 0.9382\n",
            "Epoch 6/30\n",
            "20/19 [===============================] - ETA: -1s - loss: 0.3783 - acc: 0.9101\n",
            "Epoch 6: val_loss did not improve from 0.24252\n",
            "19/19 [==============================] - 40s 2s/step - loss: 0.3783 - acc: 0.9101 - val_loss: 0.2538 - val_acc: 0.9466\n",
            "Epoch 7/30\n",
            "20/19 [===============================] - ETA: -1s - loss: 0.2867 - acc: 0.9353\n",
            "Epoch 7: val_loss did not improve from 0.24252\n",
            "19/19 [==============================] - 40s 2s/step - loss: 0.2867 - acc: 0.9353 - val_loss: 0.2544 - val_acc: 0.9466\n",
            "Epoch 8/30\n",
            "20/19 [===============================] - ETA: -1s - loss: 0.2490 - acc: 0.9402\n",
            "Epoch 8: val_loss improved from 0.24252 to 0.21195, saving model to best_weights.hdf5\n",
            "19/19 [==============================] - 55s 3s/step - loss: 0.2490 - acc: 0.9402 - val_loss: 0.2120 - val_acc: 0.9533\n",
            "Epoch 9/30\n",
            "20/19 [===============================] - ETA: -1s - loss: 0.2343 - acc: 0.9438\n",
            "Epoch 9: val_loss did not improve from 0.21195\n",
            "19/19 [==============================] - 41s 2s/step - loss: 0.2343 - acc: 0.9438 - val_loss: 0.2494 - val_acc: 0.9482\n",
            "Epoch 10/30\n",
            "20/19 [===============================] - ETA: -1s - loss: 0.2269 - acc: 0.9434\n",
            "Epoch 10: val_loss did not improve from 0.21195\n",
            "19/19 [==============================] - 41s 2s/step - loss: 0.2269 - acc: 0.9434 - val_loss: 0.2163 - val_acc: 0.9466\n",
            "Epoch 11/30\n",
            "20/19 [===============================] - ETA: -1s - loss: 0.1889 - acc: 0.9544\n",
            "Epoch 11: val_loss improved from 0.21195 to 0.20962, saving model to best_weights.hdf5\n",
            "19/19 [==============================] - 55s 3s/step - loss: 0.1889 - acc: 0.9544 - val_loss: 0.2096 - val_acc: 0.9482\n",
            "Epoch 12/30\n",
            "20/19 [===============================] - ETA: -1s - loss: 0.1265 - acc: 0.9654\n",
            "Epoch 12: val_loss improved from 0.20962 to 0.20153, saving model to best_weights.hdf5\n",
            "19/19 [==============================] - 55s 3s/step - loss: 0.1265 - acc: 0.9654 - val_loss: 0.2015 - val_acc: 0.9583\n",
            "Epoch 13/30\n",
            "20/19 [===============================] - ETA: -1s - loss: 0.1212 - acc: 0.9658\n",
            "Epoch 13: val_loss improved from 0.20153 to 0.18884, saving model to best_weights.hdf5\n",
            "19/19 [==============================] - 56s 3s/step - loss: 0.1212 - acc: 0.9658 - val_loss: 0.1888 - val_acc: 0.9516\n",
            "Epoch 14/30\n",
            "20/19 [===============================] - ETA: -1s - loss: 0.1748 - acc: 0.9613\n",
            "Epoch 14: val_loss did not improve from 0.18884\n",
            "19/19 [==============================] - 42s 2s/step - loss: 0.1748 - acc: 0.9613 - val_loss: 0.1981 - val_acc: 0.9616\n",
            "Epoch 15/30\n",
            "20/19 [===============================] - ETA: -1s - loss: 0.1945 - acc: 0.9609\n",
            "Epoch 15: val_loss did not improve from 0.18884\n",
            "19/19 [==============================] - 40s 2s/step - loss: 0.1945 - acc: 0.9609 - val_loss: 0.2260 - val_acc: 0.9533\n",
            "Epoch 16/30\n",
            "20/19 [===============================] - ETA: -1s - loss: 0.1274 - acc: 0.9678\n",
            "Epoch 16: val_loss did not improve from 0.18884\n",
            "19/19 [==============================] - 40s 2s/step - loss: 0.1274 - acc: 0.9678 - val_loss: 0.1969 - val_acc: 0.9599\n",
            "Epoch 17/30\n",
            "20/19 [===============================] - ETA: -1s - loss: 0.1875 - acc: 0.9626\n",
            "Epoch 17: val_loss did not improve from 0.18884\n",
            "19/19 [==============================] - 40s 2s/step - loss: 0.1875 - acc: 0.9626 - val_loss: 0.2076 - val_acc: 0.9583\n",
            "Epoch 18/30\n",
            "20/19 [===============================] - ETA: -1s - loss: 0.1576 - acc: 0.9662\n",
            "Epoch 18: val_loss did not improve from 0.18884\n",
            "Restoring model weights from the end of the best epoch: 13.\n",
            "19/19 [==============================] - 40s 2s/step - loss: 0.1576 - acc: 0.9662 - val_loss: 0.2977 - val_acc: 0.9566\n",
            "Epoch 18: early stopping\n"
          ]
        }
      ]
    },
    {
      "cell_type": "code",
      "source": [
        "# --------------------\n",
        "# Flow validation images in batches of 20 using test_datagen generator\n",
        "# --------------------\n",
        "test_datagen  = ImageDataGenerator(preprocessing_function=preprocess_input)\n",
        "test_generator =  test_datagen.flow_from_directory(test_dir,\n",
        "                                                        batch_size=128,\n",
        "                                                        class_mode='categorical',\n",
        "                                                        #  color_mode='grayscale',\n",
        "                                                         target_size=target_size) \n",
        "loss, acc = model.evaluate(test_generator)"
      ],
      "metadata": {
        "colab": {
          "base_uri": "https://localhost:8080/"
        },
        "id": "r2SxI0WzocFN",
        "outputId": "cb424f7a-d360-41a7-fe10-62ee9f8b68f8"
      },
      "execution_count": 8,
      "outputs": [
        {
          "output_type": "stream",
          "name": "stdout",
          "text": [
            "Found 2149 images belonging to 34 classes.\n",
            "17/17 [==============================] - 11s 646ms/step - loss: 0.3359 - acc: 0.9311\n"
          ]
        }
      ]
    }
  ]
}