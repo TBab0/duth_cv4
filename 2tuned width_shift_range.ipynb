{
  "nbformat": 4,
  "nbformat_minor": 0,
  "metadata": {
    "colab": {
      "provenance": [],
      "name": "2tuned.ipynb",
      "authorship_tag": "ABX9TyNKB/wPl26RkZlUO3TOavm5",
      "include_colab_link": true
    },
    "kernelspec": {
      "name": "python3",
      "display_name": "Python 3"
    },
    "language_info": {
      "name": "python"
    },
    "accelerator": "GPU",
    "gpuClass": "standard"
  },
  "cells": [
    {
      "cell_type": "markdown",
      "metadata": {
        "id": "view-in-github",
        "colab_type": "text"
      },
      "source": [
        "<a href=\"https://colab.research.google.com/github/TBab0/duth_cv4/blob/main/2tuned%20width_shift_range.ipynb\" target=\"_parent\"><img src=\"https://colab.research.google.com/assets/colab-badge.svg\" alt=\"Open In Colab\"/></a>"
      ]
    },
    {
      "cell_type": "code",
      "source": [
        "# Declare Imports\n",
        "from keras import models, regularizers, layers, optimizers, losses, metrics\n",
        "from keras.models import Sequential\n",
        "from keras.layers import Dense\n",
        "from keras.utils import np_utils, to_categorical\n",
        "from keras.preprocessing.image import ImageDataGenerator\n",
        "from keras.preprocessing import image\n",
        "from keras.applications import ResNet50\n",
        "from tensorflow.keras.applications.resnet50 import preprocess_input\n",
        "import os\n",
        "from google.colab import drive\n",
        "import zipfile\n",
        "import tensorflow as tf\n",
        "import datetime"
      ],
      "metadata": {
        "id": "DTKt3q_P4BG3"
      },
      "execution_count": 1,
      "outputs": []
    },
    {
      "cell_type": "code",
      "source": [
        "# Import from drive\n",
        "drive.mount('/content/drive')\n",
        "local_zip = '/content/drive/MyDrive/imagedb_btsd.zip'\n",
        "zip_ref = zipfile.ZipFile(local_zip, 'r')\n",
        "zip_ref.extractall('/content')\n",
        "zip_ref.close()\n",
        "\n",
        "train_dir = '/content/imagedb'\n",
        "test_dir = '/content/imagedb_test'"
      ],
      "metadata": {
        "colab": {
          "base_uri": "https://localhost:8080/"
        },
        "id": "OBGivO3c4BD-",
        "outputId": "4a50a85d-d0e7-4f92-dcb5-04a50c2d3b89"
      },
      "execution_count": 2,
      "outputs": [
        {
          "output_type": "stream",
          "name": "stdout",
          "text": [
            "Mounted at /content/drive\n"
          ]
        }
      ]
    },
    {
      "cell_type": "code",
      "source": [
        "# Prep the Train Valid and Test directories for the generator\n",
        "batch_size = 128\n",
        "row, col, cha = 256, 256, 3\n",
        "target_size = (row, col)\n",
        "\n",
        "train_datagen = ImageDataGenerator(preprocessing_function=preprocess_input,\n",
        "                                   width_shift_range=0.2,\n",
        "                                   validation_split=0.2)\n",
        "\n",
        "train_generator = train_datagen.flow_from_directory(\n",
        "    train_dir,\n",
        "    target_size=target_size,\n",
        "    batch_size=batch_size,\n",
        "    class_mode='categorical',\n",
        "    subset='training', seed=1) # set as training data\n",
        "\n",
        "validation_generator = train_datagen.flow_from_directory(\n",
        "    train_dir, # same directory as training data\n",
        "    target_size=target_size,\n",
        "    batch_size=batch_size,\n",
        "    class_mode='categorical',\n",
        "    subset='validation',  seed=1) # set as validation data"
      ],
      "metadata": {
        "colab": {
          "base_uri": "https://localhost:8080/"
        },
        "id": "5GA8in3D4BBz",
        "outputId": "9322d19f-73f9-473f-93aa-90f8fae25464"
      },
      "execution_count": 3,
      "outputs": [
        {
          "output_type": "stream",
          "name": "stdout",
          "text": [
            "Found 2457 images belonging to 34 classes.\n",
            "Found 599 images belonging to 34 classes.\n"
          ]
        }
      ]
    },
    {
      "cell_type": "code",
      "source": [
        "# Convoluted Base MODEL\n",
        "conv_base = ResNet50(weights='imagenet', include_top=False, input_shape=(row, col, cha))\n",
        "# print(conv_base.summary())\n",
        "\n",
        "# Freeze the layers\n",
        "for layer in conv_base.layers[:]:\n",
        "    layer.trainable = False\n",
        " \n",
        "# Check the trainable status of the individual layers\n",
        "# for layer in conv_base.layers:\n",
        "    # print(layer, layer.trainable)"
      ],
      "metadata": {
        "colab": {
          "base_uri": "https://localhost:8080/"
        },
        "id": "5YAqCfYA4A_K",
        "outputId": "0959b5d6-7fbe-43fa-cf2c-5c74fd9cccd1"
      },
      "execution_count": 4,
      "outputs": [
        {
          "output_type": "stream",
          "name": "stdout",
          "text": [
            "Downloading data from https://storage.googleapis.com/tensorflow/keras-applications/resnet/resnet50_weights_tf_dim_ordering_tf_kernels_notop.h5\n",
            "94765736/94765736 [==============================] - 5s 0us/step\n"
          ]
        }
      ]
    },
    {
      "cell_type": "code",
      "source": [
        "# Create the model\n",
        "model = models.Sequential()\n",
        " \n",
        "# Add the vgg convolutional base model\n",
        "model.add(conv_base)\n",
        " \n",
        "# Add new layers\n",
        "model.add(layers.Flatten())\n",
        "model.add(layers.Dense(2048, activation='relu'))\n",
        "model.add(layers.Dropout(0.5))\n",
        "model.add(layers.Dense(512, activation='relu'))\n",
        "model.add(layers.Dropout(0.5))\n",
        "model.add(layers.Dense(34, activation='softmax'))\n",
        " \n",
        "# Show a summary of the model. Check the number of trainable parameters\n",
        "model.summary()"
      ],
      "metadata": {
        "colab": {
          "base_uri": "https://localhost:8080/"
        },
        "id": "sLvOxsdg4A8r",
        "outputId": "f8064e8c-412d-4462-867f-b3e37ccc9ccc"
      },
      "execution_count": 5,
      "outputs": [
        {
          "output_type": "stream",
          "name": "stdout",
          "text": [
            "Model: \"sequential\"\n",
            "_________________________________________________________________\n",
            " Layer (type)                Output Shape              Param #   \n",
            "=================================================================\n",
            " resnet50 (Functional)       (None, 8, 8, 2048)        23587712  \n",
            "                                                                 \n",
            " flatten (Flatten)           (None, 131072)            0         \n",
            "                                                                 \n",
            " dense (Dense)               (None, 2048)              268437504 \n",
            "                                                                 \n",
            " dropout (Dropout)           (None, 2048)              0         \n",
            "                                                                 \n",
            " dense_1 (Dense)             (None, 512)               1049088   \n",
            "                                                                 \n",
            " dropout_1 (Dropout)         (None, 512)               0         \n",
            "                                                                 \n",
            " dense_2 (Dense)             (None, 34)                17442     \n",
            "                                                                 \n",
            "=================================================================\n",
            "Total params: 293,091,746\n",
            "Trainable params: 269,504,034\n",
            "Non-trainable params: 23,587,712\n",
            "_________________________________________________________________\n"
          ]
        }
      ]
    },
    {
      "cell_type": "code",
      "source": [
        "callbacks = []\n",
        "\n",
        "save_best_callback = tf.keras.callbacks.ModelCheckpoint(f'best_weights.hdf5', save_best_only=True, verbose=1)\n",
        "callbacks.append(save_best_callback)\n",
        "\n",
        "early_stop_callback = tf.keras.callbacks.EarlyStopping(patience=5, restore_best_weights=True, verbose=1)\n",
        "callbacks.append(early_stop_callback)\n"
      ],
      "metadata": {
        "id": "XeT-FvMS4A51"
      },
      "execution_count": 6,
      "outputs": []
    },
    {
      "cell_type": "code",
      "source": [
        "# Compile the model\n",
        "model.compile(loss='categorical_crossentropy', optimizer=optimizers.adam_v2.Adam(learning_rate=1e-4), metrics=['acc'])\n",
        "# Train the model\n",
        "history = model.fit_generator(train_generator, steps_per_epoch=train_generator.samples/train_generator.batch_size, epochs=30, validation_data=validation_generator, verbose=1, callbacks = callbacks)\n",
        " \n",
        "# Save the model\n",
        "model.save('small_last4.h5')"
      ],
      "metadata": {
        "colab": {
          "base_uri": "https://localhost:8080/"
        },
        "id": "cOSQLEr_qTzr",
        "outputId": "c4c84a8d-f394-48d5-93df-4c050aa20ab0"
      },
      "execution_count": 7,
      "outputs": [
        {
          "output_type": "stream",
          "name": "stderr",
          "text": [
            "<ipython-input-7-24e1b0ab929e>:4: UserWarning: `Model.fit_generator` is deprecated and will be removed in a future version. Please use `Model.fit`, which supports generators.\n",
            "  history = model.fit_generator(train_generator, steps_per_epoch=train_generator.samples/train_generator.batch_size, epochs=30, validation_data=validation_generator, verbose=1, callbacks = callbacks)\n"
          ]
        },
        {
          "output_type": "stream",
          "name": "stdout",
          "text": [
            "Epoch 1/30\n",
            "20/19 [===============================] - ETA: -1s - loss: 5.1771 - acc: 0.3854\n",
            "Epoch 1: val_loss improved from inf to 1.06582, saving model to best_weights.hdf5\n",
            "19/19 [==============================] - 77s 3s/step - loss: 5.1771 - acc: 0.3854 - val_loss: 1.0658 - val_acc: 0.7462\n",
            "Epoch 2/30\n",
            "20/19 [===============================] - ETA: -1s - loss: 2.0918 - acc: 0.6569\n",
            "Epoch 2: val_loss improved from 1.06582 to 0.53109, saving model to best_weights.hdf5\n",
            "19/19 [==============================] - 60s 3s/step - loss: 2.0918 - acc: 0.6569 - val_loss: 0.5311 - val_acc: 0.8464\n",
            "Epoch 3/30\n",
            "20/19 [===============================] - ETA: -1s - loss: 1.2367 - acc: 0.7473\n",
            "Epoch 3: val_loss improved from 0.53109 to 0.42125, saving model to best_weights.hdf5\n",
            "19/19 [==============================] - 59s 3s/step - loss: 1.2367 - acc: 0.7473 - val_loss: 0.4213 - val_acc: 0.8915\n",
            "Epoch 4/30\n",
            "20/19 [===============================] - ETA: -1s - loss: 0.8723 - acc: 0.8132\n",
            "Epoch 4: val_loss improved from 0.42125 to 0.39840, saving model to best_weights.hdf5\n",
            "19/19 [==============================] - 61s 3s/step - loss: 0.8723 - acc: 0.8132 - val_loss: 0.3984 - val_acc: 0.9065\n",
            "Epoch 5/30\n",
            "20/19 [===============================] - ETA: -1s - loss: 0.6585 - acc: 0.8368\n",
            "Epoch 5: val_loss improved from 0.39840 to 0.29486, saving model to best_weights.hdf5\n",
            "19/19 [==============================] - 59s 3s/step - loss: 0.6585 - acc: 0.8368 - val_loss: 0.2949 - val_acc: 0.9232\n",
            "Epoch 6/30\n",
            "20/19 [===============================] - ETA: -1s - loss: 0.5660 - acc: 0.8689\n",
            "Epoch 6: val_loss improved from 0.29486 to 0.29001, saving model to best_weights.hdf5\n",
            "19/19 [==============================] - 60s 3s/step - loss: 0.5660 - acc: 0.8689 - val_loss: 0.2900 - val_acc: 0.9299\n",
            "Epoch 7/30\n",
            "20/19 [===============================] - ETA: -1s - loss: 0.4533 - acc: 0.8791\n",
            "Epoch 7: val_loss improved from 0.29001 to 0.21385, saving model to best_weights.hdf5\n",
            "19/19 [==============================] - 61s 3s/step - loss: 0.4533 - acc: 0.8791 - val_loss: 0.2138 - val_acc: 0.9366\n",
            "Epoch 8/30\n",
            "20/19 [===============================] - ETA: -1s - loss: 0.4664 - acc: 0.8864\n",
            "Epoch 8: val_loss did not improve from 0.21385\n",
            "19/19 [==============================] - 44s 2s/step - loss: 0.4664 - acc: 0.8864 - val_loss: 0.2174 - val_acc: 0.9366\n",
            "Epoch 9/30\n",
            "20/19 [===============================] - ETA: -1s - loss: 0.4135 - acc: 0.9007\n",
            "Epoch 9: val_loss did not improve from 0.21385\n",
            "19/19 [==============================] - 42s 2s/step - loss: 0.4135 - acc: 0.9007 - val_loss: 0.2510 - val_acc: 0.9316\n",
            "Epoch 10/30\n",
            "20/19 [===============================] - ETA: -1s - loss: 0.3842 - acc: 0.9129\n",
            "Epoch 10: val_loss did not improve from 0.21385\n",
            "19/19 [==============================] - 42s 2s/step - loss: 0.3842 - acc: 0.9129 - val_loss: 0.2176 - val_acc: 0.9482\n",
            "Epoch 11/30\n",
            "20/19 [===============================] - ETA: -1s - loss: 0.3231 - acc: 0.9166\n",
            "Epoch 11: val_loss improved from 0.21385 to 0.21375, saving model to best_weights.hdf5\n",
            "19/19 [==============================] - 57s 3s/step - loss: 0.3231 - acc: 0.9166 - val_loss: 0.2137 - val_acc: 0.9432\n",
            "Epoch 12/30\n",
            "20/19 [===============================] - ETA: -1s - loss: 0.2742 - acc: 0.9263\n",
            "Epoch 12: val_loss did not improve from 0.21375\n",
            "19/19 [==============================] - 42s 2s/step - loss: 0.2742 - acc: 0.9263 - val_loss: 0.2550 - val_acc: 0.9249\n",
            "Epoch 13/30\n",
            "20/19 [===============================] - ETA: -1s - loss: 0.2530 - acc: 0.9324\n",
            "Epoch 13: val_loss improved from 0.21375 to 0.20482, saving model to best_weights.hdf5\n",
            "19/19 [==============================] - 57s 3s/step - loss: 0.2530 - acc: 0.9324 - val_loss: 0.2048 - val_acc: 0.9499\n",
            "Epoch 14/30\n",
            "20/19 [===============================] - ETA: -1s - loss: 0.2770 - acc: 0.9288\n",
            "Epoch 14: val_loss did not improve from 0.20482\n",
            "19/19 [==============================] - 42s 2s/step - loss: 0.2770 - acc: 0.9288 - val_loss: 0.2099 - val_acc: 0.9449\n",
            "Epoch 15/30\n",
            "20/19 [===============================] - ETA: -1s - loss: 0.2443 - acc: 0.9373\n",
            "Epoch 15: val_loss did not improve from 0.20482\n",
            "19/19 [==============================] - 42s 2s/step - loss: 0.2443 - acc: 0.9373 - val_loss: 0.2150 - val_acc: 0.9482\n",
            "Epoch 16/30\n",
            "20/19 [===============================] - ETA: -1s - loss: 0.2437 - acc: 0.9512\n",
            "Epoch 16: val_loss improved from 0.20482 to 0.20281, saving model to best_weights.hdf5\n",
            "19/19 [==============================] - 57s 3s/step - loss: 0.2437 - acc: 0.9512 - val_loss: 0.2028 - val_acc: 0.9432\n",
            "Epoch 17/30\n",
            "20/19 [===============================] - ETA: -1s - loss: 0.1849 - acc: 0.9581\n",
            "Epoch 17: val_loss did not improve from 0.20281\n",
            "19/19 [==============================] - 42s 2s/step - loss: 0.1849 - acc: 0.9581 - val_loss: 0.2265 - val_acc: 0.9499\n",
            "Epoch 18/30\n",
            "20/19 [===============================] - ETA: -1s - loss: 0.1722 - acc: 0.9577\n",
            "Epoch 18: val_loss improved from 0.20281 to 0.16816, saving model to best_weights.hdf5\n",
            "19/19 [==============================] - 57s 3s/step - loss: 0.1722 - acc: 0.9577 - val_loss: 0.1682 - val_acc: 0.9533\n",
            "Epoch 19/30\n",
            "20/19 [===============================] - ETA: -1s - loss: 0.1944 - acc: 0.9536\n",
            "Epoch 19: val_loss did not improve from 0.16816\n",
            "19/19 [==============================] - 43s 2s/step - loss: 0.1944 - acc: 0.9536 - val_loss: 0.2255 - val_acc: 0.9482\n",
            "Epoch 20/30\n",
            "20/19 [===============================] - ETA: -1s - loss: 0.1692 - acc: 0.9532\n",
            "Epoch 20: val_loss did not improve from 0.16816\n",
            "19/19 [==============================] - 43s 2s/step - loss: 0.1692 - acc: 0.9532 - val_loss: 0.2249 - val_acc: 0.9566\n",
            "Epoch 21/30\n",
            "20/19 [===============================] - ETA: -1s - loss: 0.1878 - acc: 0.9544\n",
            "Epoch 21: val_loss did not improve from 0.16816\n",
            "19/19 [==============================] - 43s 2s/step - loss: 0.1878 - acc: 0.9544 - val_loss: 0.2198 - val_acc: 0.9499\n",
            "Epoch 22/30\n",
            "20/19 [===============================] - ETA: -1s - loss: 0.1473 - acc: 0.9658\n",
            "Epoch 22: val_loss did not improve from 0.16816\n",
            "19/19 [==============================] - 43s 2s/step - loss: 0.1473 - acc: 0.9658 - val_loss: 0.1990 - val_acc: 0.9499\n",
            "Epoch 23/30\n",
            "20/19 [===============================] - ETA: -1s - loss: 0.1399 - acc: 0.9650\n",
            "Epoch 23: val_loss did not improve from 0.16816\n",
            "Restoring model weights from the end of the best epoch: 18.\n",
            "19/19 [==============================] - 43s 2s/step - loss: 0.1399 - acc: 0.9650 - val_loss: 0.2199 - val_acc: 0.9499\n",
            "Epoch 23: early stopping\n"
          ]
        }
      ]
    },
    {
      "cell_type": "code",
      "source": [
        "# --------------------\n",
        "# Flow validation images in batches of 20 using test_datagen generator\n",
        "# --------------------\n",
        "test_datagen  = ImageDataGenerator(preprocessing_function=preprocess_input)\n",
        "test_generator =  test_datagen.flow_from_directory(test_dir,\n",
        "                                                        batch_size=128,\n",
        "                                                        class_mode='categorical',\n",
        "                                                        #  color_mode='grayscale',\n",
        "                                                         target_size=target_size) \n",
        "loss, acc = model.evaluate(test_generator)"
      ],
      "metadata": {
        "colab": {
          "base_uri": "https://localhost:8080/"
        },
        "id": "nSxvqbd7qVBq",
        "outputId": "c69d35b8-52ae-4bed-b3a3-326a459284f7"
      },
      "execution_count": 8,
      "outputs": [
        {
          "output_type": "stream",
          "name": "stdout",
          "text": [
            "Found 2149 images belonging to 34 classes.\n",
            "17/17 [==============================] - 11s 643ms/step - loss: 0.2876 - acc: 0.9344\n"
          ]
        }
      ]
    }
  ]
}