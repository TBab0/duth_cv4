{
  "cells": [
    {
      "cell_type": "markdown",
      "metadata": {
        "id": "view-in-github",
        "colab_type": "text"
      },
      "source": [
        "<a href=\"https://colab.research.google.com/github/TBab0/duth_cv4/blob/main/1sratch%20mod3.ipynb\" target=\"_parent\"><img src=\"https://colab.research.google.com/assets/colab-badge.svg\" alt=\"Open In Colab\"/></a>"
      ]
    },
    {
      "cell_type": "code",
      "execution_count": 1,
      "metadata": {
        "id": "DTKt3q_P4BG3"
      },
      "outputs": [],
      "source": [
        "from google.colab import drive\n",
        "import os\n",
        "import zipfile\n",
        "from tensorflow.keras.preprocessing.image import ImageDataGenerator\n",
        "import tensorflow as tf\n",
        "import datetime"
      ]
    },
    {
      "cell_type": "code",
      "execution_count": 2,
      "metadata": {
        "colab": {
          "base_uri": "https://localhost:8080/"
        },
        "id": "OBGivO3c4BD-",
        "outputId": "33fac08b-d58c-4e6c-b52b-69cc82e0f795"
      },
      "outputs": [
        {
          "output_type": "stream",
          "name": "stdout",
          "text": [
            "Mounted at /content/drive\n"
          ]
        }
      ],
      "source": [
        "drive.mount('/content/drive')\n",
        "local_zip = '/content/drive/MyDrive/imagedb_btsd.zip'\n",
        "zip_ref = zipfile.ZipFile(local_zip, 'r')\n",
        "zip_ref.extractall('/content')\n",
        "zip_ref.close()\n",
        "\n",
        "train_dir = '/content/imagedb'\n",
        "test_dir = '/content/imagedb_test'"
      ]
    },
    {
      "cell_type": "code",
      "execution_count": 3,
      "metadata": {
        "colab": {
          "base_uri": "https://localhost:8080/"
        },
        "id": "5GA8in3D4BBz",
        "outputId": "1a27418b-1e13-46e1-b1aa-19ff6bf7456d"
      },
      "outputs": [
        {
          "output_type": "stream",
          "name": "stdout",
          "text": [
            "Found 2457 images belonging to 34 classes.\n",
            "Found 599 images belonging to 34 classes.\n"
          ]
        }
      ],
      "source": [
        "ts = 32\n",
        "# train_datagen = ImageDataGenerator(preprocessing_function=vgg16.preprocess_input, validation_split=0.2)\n",
        "train_datagen  = ImageDataGenerator(rescale=1./255,\n",
        "                                    validation_split=0.2)\n",
        "\n",
        "# --------------------\n",
        "# Flow training images in batches of 20 using train_datagen generator\n",
        "# --------------------\n",
        "train_generator = train_datagen.flow_from_directory(train_dir,\n",
        "                                                    batch_size=128,\n",
        "                                                    class_mode='categorical',\n",
        "                                                    color_mode='grayscale',\n",
        "                                                    target_size=(ts,ts),\n",
        "                                                    subset='training', seed=1)      \n",
        "# --------------------\n",
        "# Flow validation images in batches of 20 using test_datagen generator\n",
        "# --------------------\n",
        "validation_generator =  train_datagen.flow_from_directory(train_dir,\n",
        "                                                        batch_size=128,\n",
        "                                                        class_mode='categorical',\n",
        "                                                         color_mode='grayscale',\n",
        "                                                         target_size=(ts,ts),\n",
        "                                                        subset='validation', seed=1)"
      ]
    },
    {
      "cell_type": "code",
      "execution_count": 4,
      "metadata": {
        "colab": {
          "base_uri": "https://localhost:8080/"
        },
        "id": "5YAqCfYA4A_K",
        "outputId": "cbed81da-3c6e-4a50-9b00-8d7c104c8e6a"
      },
      "outputs": [
        {
          "output_type": "stream",
          "name": "stdout",
          "text": [
            "Model: \"sequential\"\n",
            "_________________________________________________________________\n",
            " Layer (type)                Output Shape              Param #   \n",
            "=================================================================\n",
            " conv2d (Conv2D)             (None, 28, 28, 16)        416       \n",
            "                                                                 \n",
            " max_pooling2d (MaxPooling2D  (None, 14, 14, 16)       0         \n",
            " )                                                               \n",
            "                                                                 \n",
            " flatten (Flatten)           (None, 3136)              0         \n",
            "                                                                 \n",
            " dense (Dense)               (None, 100)               313700    \n",
            "                                                                 \n",
            " dense_1 (Dense)             (None, 34)                3434      \n",
            "                                                                 \n",
            "=================================================================\n",
            "Total params: 317,550\n",
            "Trainable params: 317,550\n",
            "Non-trainable params: 0\n",
            "_________________________________________________________________\n"
          ]
        }
      ],
      "source": [
        "model = tf.keras.models.Sequential([\n",
        "  tf.keras.layers.Conv2D(16, (5, 5), strides=(1, 1), activation='relu', input_shape=(ts, ts, 1)),\n",
        "  tf.keras.layers.MaxPooling2D(pool_size=(2, 2), strides=(2, 2)),\n",
        "  tf.keras.layers.Flatten(),\n",
        "  tf.keras.layers.Dense(100, activation='relu'),\n",
        "  tf.keras.layers.Dense(34, activation='softmax')\n",
        "])\n",
        "model.compile(optimizer = tf.keras.optimizers.Adam(), loss = 'categorical_crossentropy', metrics=['accuracy'])\n",
        "model.summary()"
      ]
    },
    {
      "cell_type": "code",
      "execution_count": 5,
      "metadata": {
        "colab": {
          "base_uri": "https://localhost:8080/"
        },
        "id": "sLvOxsdg4A8r",
        "outputId": "634bec88-c53b-4f43-c077-dd716953ee5e"
      },
      "outputs": [
        {
          "output_type": "stream",
          "name": "stdout",
          "text": [
            "Epoch 1/30\n",
            "19/20 [===========================>..] - ETA: 0s - loss: 2.9878 - accuracy: 0.2598\n",
            "Epoch 1: val_loss improved from inf to 2.37603, saving model to best_weights.hdf5\n",
            "20/20 [==============================] - 9s 66ms/step - loss: 2.9617 - accuracy: 0.2658 - val_loss: 2.3760 - val_accuracy: 0.4357\n",
            "Epoch 2/30\n",
            "19/20 [===========================>..] - ETA: 0s - loss: 1.9272 - accuracy: 0.5608\n",
            "Epoch 2: val_loss improved from 2.37603 to 1.53147, saving model to best_weights.hdf5\n",
            "20/20 [==============================] - 1s 57ms/step - loss: 1.9137 - accuracy: 0.5629 - val_loss: 1.5315 - val_accuracy: 0.6711\n",
            "Epoch 3/30\n",
            "19/20 [===========================>..] - ETA: 0s - loss: 1.2098 - accuracy: 0.7359\n",
            "Epoch 3: val_loss improved from 1.53147 to 1.00845, saving model to best_weights.hdf5\n",
            "20/20 [==============================] - 1s 54ms/step - loss: 1.2005 - accuracy: 0.7387 - val_loss: 1.0084 - val_accuracy: 0.7846\n",
            "Epoch 4/30\n",
            "19/20 [===========================>..] - ETA: 0s - loss: 0.7744 - accuracy: 0.8544\n",
            "Epoch 4: val_loss improved from 1.00845 to 0.78198, saving model to best_weights.hdf5\n",
            "20/20 [==============================] - 1s 56ms/step - loss: 0.7652 - accuracy: 0.8563 - val_loss: 0.7820 - val_accuracy: 0.8164\n",
            "Epoch 5/30\n",
            "20/20 [==============================] - ETA: 0s - loss: 0.5365 - accuracy: 0.8954\n",
            "Epoch 5: val_loss improved from 0.78198 to 0.59955, saving model to best_weights.hdf5\n",
            "20/20 [==============================] - 1s 55ms/step - loss: 0.5365 - accuracy: 0.8954 - val_loss: 0.5996 - val_accuracy: 0.8681\n",
            "Epoch 6/30\n",
            "20/20 [==============================] - ETA: 0s - loss: 0.4132 - accuracy: 0.9186\n",
            "Epoch 6: val_loss improved from 0.59955 to 0.52229, saving model to best_weights.hdf5\n",
            "20/20 [==============================] - 1s 54ms/step - loss: 0.4132 - accuracy: 0.9186 - val_loss: 0.5223 - val_accuracy: 0.8815\n",
            "Epoch 7/30\n",
            "20/20 [==============================] - ETA: 0s - loss: 0.3063 - accuracy: 0.9446\n",
            "Epoch 7: val_loss improved from 0.52229 to 0.46146, saving model to best_weights.hdf5\n",
            "20/20 [==============================] - 1s 55ms/step - loss: 0.3063 - accuracy: 0.9446 - val_loss: 0.4615 - val_accuracy: 0.8731\n",
            "Epoch 8/30\n",
            "20/20 [==============================] - ETA: 0s - loss: 0.2411 - accuracy: 0.9617\n",
            "Epoch 8: val_loss improved from 0.46146 to 0.42953, saving model to best_weights.hdf5\n",
            "20/20 [==============================] - 1s 55ms/step - loss: 0.2411 - accuracy: 0.9617 - val_loss: 0.4295 - val_accuracy: 0.8982\n",
            "Epoch 9/30\n",
            "19/20 [===========================>..] - ETA: 0s - loss: 0.2040 - accuracy: 0.9657\n",
            "Epoch 9: val_loss improved from 0.42953 to 0.41318, saving model to best_weights.hdf5\n",
            "20/20 [==============================] - 1s 55ms/step - loss: 0.2035 - accuracy: 0.9654 - val_loss: 0.4132 - val_accuracy: 0.9032\n",
            "Epoch 10/30\n",
            "20/20 [==============================] - ETA: 0s - loss: 0.1804 - accuracy: 0.9674\n",
            "Epoch 10: val_loss improved from 0.41318 to 0.35549, saving model to best_weights.hdf5\n",
            "20/20 [==============================] - 1s 55ms/step - loss: 0.1804 - accuracy: 0.9674 - val_loss: 0.3555 - val_accuracy: 0.9182\n",
            "Epoch 11/30\n",
            "19/20 [===========================>..] - ETA: 0s - loss: 0.1294 - accuracy: 0.9811\n",
            "Epoch 11: val_loss improved from 0.35549 to 0.32419, saving model to best_weights.hdf5\n",
            "20/20 [==============================] - 1s 56ms/step - loss: 0.1343 - accuracy: 0.9809 - val_loss: 0.3242 - val_accuracy: 0.9249\n",
            "Epoch 12/30\n",
            "19/20 [===========================>..] - ETA: 0s - loss: 0.1210 - accuracy: 0.9811\n",
            "Epoch 12: val_loss did not improve from 0.32419\n",
            "20/20 [==============================] - 1s 52ms/step - loss: 0.1189 - accuracy: 0.9821 - val_loss: 0.3707 - val_accuracy: 0.9132\n",
            "Epoch 13/30\n",
            "20/20 [==============================] - ETA: 0s - loss: 0.1063 - accuracy: 0.9829\n",
            "Epoch 13: val_loss did not improve from 0.32419\n",
            "20/20 [==============================] - 1s 60ms/step - loss: 0.1063 - accuracy: 0.9829 - val_loss: 0.3464 - val_accuracy: 0.9149\n",
            "Epoch 14/30\n",
            "19/20 [===========================>..] - ETA: 0s - loss: 0.0947 - accuracy: 0.9867\n",
            "Epoch 14: val_loss did not improve from 0.32419\n",
            "20/20 [==============================] - 1s 60ms/step - loss: 0.0922 - accuracy: 0.9870 - val_loss: 0.3464 - val_accuracy: 0.9098\n",
            "Epoch 15/30\n",
            "19/20 [===========================>..] - ETA: 0s - loss: 0.0768 - accuracy: 0.9927\n",
            "Epoch 15: val_loss did not improve from 0.32419\n",
            "20/20 [==============================] - 1s 53ms/step - loss: 0.0777 - accuracy: 0.9919 - val_loss: 0.3268 - val_accuracy: 0.9165\n",
            "Epoch 16/30\n",
            "19/20 [===========================>..] - ETA: 0s - loss: 0.0632 - accuracy: 0.9948\n",
            "Epoch 16: val_loss did not improve from 0.32419\n",
            "20/20 [==============================] - 1s 56ms/step - loss: 0.0625 - accuracy: 0.9947 - val_loss: 0.3345 - val_accuracy: 0.9132\n",
            "Epoch 17/30\n",
            "20/20 [==============================] - ETA: 0s - loss: 0.0547 - accuracy: 0.9939\n",
            "Epoch 17: val_loss did not improve from 0.32419\n",
            "20/20 [==============================] - 1s 55ms/step - loss: 0.0547 - accuracy: 0.9939 - val_loss: 0.3349 - val_accuracy: 0.9115\n",
            "Epoch 18/30\n",
            "20/20 [==============================] - ETA: 0s - loss: 0.0564 - accuracy: 0.9943\n",
            "Epoch 18: val_loss improved from 0.32419 to 0.29893, saving model to best_weights.hdf5\n",
            "20/20 [==============================] - 1s 56ms/step - loss: 0.0564 - accuracy: 0.9943 - val_loss: 0.2989 - val_accuracy: 0.9182\n",
            "Epoch 19/30\n",
            "20/20 [==============================] - ETA: 0s - loss: 0.0464 - accuracy: 0.9947\n",
            "Epoch 19: val_loss did not improve from 0.29893\n",
            "20/20 [==============================] - 1s 54ms/step - loss: 0.0464 - accuracy: 0.9947 - val_loss: 0.3215 - val_accuracy: 0.9199\n",
            "Epoch 20/30\n",
            "20/20 [==============================] - ETA: 0s - loss: 0.0378 - accuracy: 0.9963\n",
            "Epoch 20: val_loss did not improve from 0.29893\n",
            "20/20 [==============================] - 1s 54ms/step - loss: 0.0378 - accuracy: 0.9963 - val_loss: 0.3293 - val_accuracy: 0.9149\n",
            "Epoch 21/30\n",
            "19/20 [===========================>..] - ETA: 0s - loss: 0.0359 - accuracy: 0.9966\n",
            "Epoch 21: val_loss did not improve from 0.29893\n",
            "20/20 [==============================] - 1s 54ms/step - loss: 0.0367 - accuracy: 0.9963 - val_loss: 0.3217 - val_accuracy: 0.9199\n",
            "Epoch 22/30\n",
            "20/20 [==============================] - ETA: 0s - loss: 0.0307 - accuracy: 0.9972\n",
            "Epoch 22: val_loss did not improve from 0.29893\n",
            "20/20 [==============================] - 1s 53ms/step - loss: 0.0307 - accuracy: 0.9972 - val_loss: 0.3051 - val_accuracy: 0.9215\n",
            "Epoch 23/30\n",
            "20/20 [==============================] - ETA: 0s - loss: 0.0286 - accuracy: 0.9984\n",
            "Epoch 23: val_loss did not improve from 0.29893\n",
            "20/20 [==============================] - 1s 58ms/step - loss: 0.0286 - accuracy: 0.9984 - val_loss: 0.3419 - val_accuracy: 0.9115\n",
            "Epoch 24/30\n",
            "19/20 [===========================>..] - ETA: 0s - loss: 0.0287 - accuracy: 0.9974\n",
            "Epoch 24: val_loss did not improve from 0.29893\n",
            "20/20 [==============================] - 1s 53ms/step - loss: 0.0279 - accuracy: 0.9976 - val_loss: 0.3096 - val_accuracy: 0.9182\n",
            "Epoch 25/30\n",
            "20/20 [==============================] - ETA: 0s - loss: 0.0256 - accuracy: 0.9980\n",
            "Epoch 25: val_loss improved from 0.29893 to 0.29728, saving model to best_weights.hdf5\n",
            "20/20 [==============================] - 1s 56ms/step - loss: 0.0256 - accuracy: 0.9980 - val_loss: 0.2973 - val_accuracy: 0.9249\n",
            "Epoch 26/30\n",
            "20/20 [==============================] - ETA: 0s - loss: 0.0234 - accuracy: 0.9972\n",
            "Epoch 26: val_loss did not improve from 0.29728\n",
            "20/20 [==============================] - 1s 54ms/step - loss: 0.0234 - accuracy: 0.9972 - val_loss: 0.3289 - val_accuracy: 0.9182\n",
            "Epoch 27/30\n",
            "19/20 [===========================>..] - ETA: 0s - loss: 0.0207 - accuracy: 0.9987\n",
            "Epoch 27: val_loss did not improve from 0.29728\n",
            "20/20 [==============================] - 1s 54ms/step - loss: 0.0203 - accuracy: 0.9988 - val_loss: 0.3086 - val_accuracy: 0.9265\n",
            "Epoch 28/30\n",
            "18/20 [==========================>...] - ETA: 0s - loss: 0.0187 - accuracy: 0.9987\n",
            "Epoch 28: val_loss did not improve from 0.29728\n",
            "20/20 [==============================] - 1s 53ms/step - loss: 0.0186 - accuracy: 0.9988 - val_loss: 0.3057 - val_accuracy: 0.9282\n",
            "Epoch 29/30\n",
            "19/20 [===========================>..] - ETA: 0s - loss: 0.0170 - accuracy: 0.9983\n",
            "Epoch 29: val_loss did not improve from 0.29728\n",
            "20/20 [==============================] - 1s 55ms/step - loss: 0.0169 - accuracy: 0.9984 - val_loss: 0.3213 - val_accuracy: 0.9232\n",
            "Epoch 30/30\n",
            "19/20 [===========================>..] - ETA: 0s - loss: 0.0157 - accuracy: 0.9983\n",
            "Epoch 30: val_loss did not improve from 0.29728\n",
            "20/20 [==============================] - 1s 56ms/step - loss: 0.0162 - accuracy: 0.9980 - val_loss: 0.3303 - val_accuracy: 0.9182\n"
          ]
        }
      ],
      "source": [
        "callbacks = []\n",
        "\n",
        "save_best_callback = tf.keras.callbacks.ModelCheckpoint(f'best_weights.hdf5', save_best_only=True, verbose=1)\n",
        "callbacks.append(save_best_callback)\n",
        "\n",
        "early_stop_callback = tf.keras.callbacks.EarlyStopping(patience=10, restore_best_weights=True, verbose=1)\n",
        "callbacks.append(early_stop_callback)\n",
        "\n",
        "history = model.fit(train_generator, validation_data=validation_generator, epochs=30, verbose=1, callbacks=callbacks)"
      ]
    },
    {
      "cell_type": "code",
      "execution_count": 6,
      "metadata": {
        "colab": {
          "base_uri": "https://localhost:8080/"
        },
        "id": "XeT-FvMS4A51",
        "outputId": "9ac0badb-0e49-4dd1-a744-1af42c3f7788"
      },
      "outputs": [
        {
          "output_type": "stream",
          "name": "stdout",
          "text": [
            "Found 2149 images belonging to 34 classes.\n",
            "68/68 [==============================] - 1s 13ms/step - loss: 0.2916 - accuracy: 0.9260\n",
            "0.9260120987892151\n"
          ]
        }
      ],
      "source": [
        "test_datagen  = ImageDataGenerator(rescale=1./255)\n",
        "test_generator =  test_datagen.flow_from_directory(test_dir,\n",
        "                                                         batch_size=32,\n",
        "                                                         class_mode  = 'categorical',\n",
        "                                                         color_mode='grayscale',\n",
        "                                                         target_size=(ts,ts)) \n",
        "loss, acc = model.evaluate(test_generator)\n",
        "print(acc)\n"
      ]
    }
  ],
  "metadata": {
    "accelerator": "GPU",
    "colab": {
      "provenance": [],
      "authorship_tag": "ABX9TyOY20cp9CW+S95foMyGK9fk",
      "include_colab_link": true
    },
    "gpuClass": "standard",
    "kernelspec": {
      "display_name": "Python 3",
      "name": "python3"
    },
    "language_info": {
      "name": "python"
    }
  },
  "nbformat": 4,
  "nbformat_minor": 0
}