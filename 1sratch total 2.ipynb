{
  "nbformat": 4,
  "nbformat_minor": 0,
  "metadata": {
    "colab": {
      "provenance": [],
      "authorship_tag": "ABX9TyOfnr4cDVX6LUelzQxnEeBa",
      "include_colab_link": true
    },
    "kernelspec": {
      "name": "python3",
      "display_name": "Python 3"
    },
    "language_info": {
      "name": "python"
    },
    "accelerator": "GPU",
    "gpuClass": "standard"
  },
  "cells": [
    {
      "cell_type": "markdown",
      "metadata": {
        "id": "view-in-github",
        "colab_type": "text"
      },
      "source": [
        "<a href=\"https://colab.research.google.com/github/TBab0/duth_cv4/blob/main/1sratch%20total%202.ipynb\" target=\"_parent\"><img src=\"https://colab.research.google.com/assets/colab-badge.svg\" alt=\"Open In Colab\"/></a>"
      ]
    },
    {
      "cell_type": "code",
      "source": [
        "from google.colab import drive\n",
        "import os\n",
        "import zipfile\n",
        "from tensorflow.keras.preprocessing.image import ImageDataGenerator\n",
        "import tensorflow as tf\n",
        "import datetime"
      ],
      "metadata": {
        "id": "DTKt3q_P4BG3"
      },
      "execution_count": 1,
      "outputs": []
    },
    {
      "cell_type": "code",
      "source": [
        "drive.mount('/content/drive')\n",
        "local_zip = '/content/drive/MyDrive/imagedb_btsd.zip'\n",
        "zip_ref = zipfile.ZipFile(local_zip, 'r')\n",
        "zip_ref.extractall('/content')\n",
        "zip_ref.close()\n",
        "\n",
        "train_dir = '/content/imagedb'\n",
        "test_dir = '/content/imagedb_test'"
      ],
      "metadata": {
        "colab": {
          "base_uri": "https://localhost:8080/"
        },
        "id": "OBGivO3c4BD-",
        "outputId": "cedd94b9-51d8-4ada-930f-1c83ffe50b9c"
      },
      "execution_count": 2,
      "outputs": [
        {
          "output_type": "stream",
          "name": "stdout",
          "text": [
            "Mounted at /content/drive\n"
          ]
        }
      ]
    },
    {
      "cell_type": "code",
      "source": [
        "ts = 32\n",
        "# train_datagen = ImageDataGenerator(preprocessing_function=vgg16.preprocess_input, validation_split=0.2)\n",
        "train_datagen  = ImageDataGenerator(rescale=1./255,\n",
        "                                    rotation_range= 20,\n",
        "                                    shear_range=0.2,\n",
        "                                    zoom_range=0.2,\n",
        "                                    validation_split=0.2)\n",
        "\n",
        "# --------------------\n",
        "# Flow training images in batches of 20 using train_datagen generator\n",
        "# --------------------\n",
        "train_generator = train_datagen.flow_from_directory(train_dir,\n",
        "                                                    batch_size=128,\n",
        "                                                    class_mode='categorical',\n",
        "                                                    color_mode='grayscale',\n",
        "                                                    target_size=(ts,ts),\n",
        "                                                    subset='training', seed=1)     \n",
        "# --------------------\n",
        "# Flow validation images in batches of 20 using test_datagen generator\n",
        "# --------------------\n",
        "validation_generator =  train_datagen.flow_from_directory(train_dir,\n",
        "                                                        batch_size=128,\n",
        "                                                        class_mode='categorical',\n",
        "                                                         color_mode='grayscale',\n",
        "                                                         target_size=(ts,ts),\n",
        "                                                        subset='validation', seed=1)"
      ],
      "metadata": {
        "colab": {
          "base_uri": "https://localhost:8080/"
        },
        "id": "5GA8in3D4BBz",
        "outputId": "e2e74ab1-30f3-4dc5-c00e-b0c21838d7aa"
      },
      "execution_count": 3,
      "outputs": [
        {
          "output_type": "stream",
          "name": "stdout",
          "text": [
            "Found 2457 images belonging to 34 classes.\n",
            "Found 599 images belonging to 34 classes.\n"
          ]
        }
      ]
    },
    {
      "cell_type": "code",
      "source": [
        "model = tf.keras.models.Sequential([\n",
        "  tf.keras.layers.Conv2D(64, (5, 5), strides=(1, 1), activation='relu', input_shape=(ts, ts, 1)),\n",
        "  tf.keras.layers.Conv2D(64, (5, 5), strides=(1, 1), activation='relu', input_shape=(ts, ts, 1)),\n",
        "  tf.keras.layers.MaxPooling2D(pool_size=(2, 2), strides=(2, 2)),\n",
        "  # tf.keras.layers.Conv2D(64, (5, 5), strides=(1, 1), activation='relu', input_shape=(ts, ts, 1)),\n",
        "  tf.keras.layers.Flatten(),\n",
        "  tf.keras.layers.Dense(512, activation='relu'),\n",
        "  tf.keras.layers.Dropout(0.5),\n",
        "  tf.keras.layers.Dense(34, activation='softmax')\n",
        "])\n",
        "model.compile(optimizer = tf.keras.optimizers.Adam(), loss = 'categorical_crossentropy', metrics=['accuracy'])\n",
        "model.summary()"
      ],
      "metadata": {
        "colab": {
          "base_uri": "https://localhost:8080/"
        },
        "id": "5YAqCfYA4A_K",
        "outputId": "7766e42c-b4b8-4d1e-d224-33cdea048c02"
      },
      "execution_count": 4,
      "outputs": [
        {
          "output_type": "stream",
          "name": "stdout",
          "text": [
            "Model: \"sequential\"\n",
            "_________________________________________________________________\n",
            " Layer (type)                Output Shape              Param #   \n",
            "=================================================================\n",
            " conv2d (Conv2D)             (None, 28, 28, 64)        1664      \n",
            "                                                                 \n",
            " conv2d_1 (Conv2D)           (None, 24, 24, 64)        102464    \n",
            "                                                                 \n",
            " max_pooling2d (MaxPooling2D  (None, 12, 12, 64)       0         \n",
            " )                                                               \n",
            "                                                                 \n",
            " flatten (Flatten)           (None, 9216)              0         \n",
            "                                                                 \n",
            " dense (Dense)               (None, 512)               4719104   \n",
            "                                                                 \n",
            " dropout (Dropout)           (None, 512)               0         \n",
            "                                                                 \n",
            " dense_1 (Dense)             (None, 34)                17442     \n",
            "                                                                 \n",
            "=================================================================\n",
            "Total params: 4,840,674\n",
            "Trainable params: 4,840,674\n",
            "Non-trainable params: 0\n",
            "_________________________________________________________________\n"
          ]
        }
      ]
    },
    {
      "cell_type": "code",
      "source": [
        "callbacks = []\n",
        "\n",
        "save_best_callback = tf.keras.callbacks.ModelCheckpoint(f'best_weights.hdf5', save_best_only=True, verbose=1)\n",
        "callbacks.append(save_best_callback)\n",
        "\n",
        "early_stop_callback = tf.keras.callbacks.EarlyStopping(patience=10, restore_best_weights=True, verbose=1)\n",
        "callbacks.append(early_stop_callback)\n",
        "\n",
        "history = model.fit(train_generator, validation_data=validation_generator, epochs=30, verbose=1, callbacks=callbacks)"
      ],
      "metadata": {
        "colab": {
          "base_uri": "https://localhost:8080/"
        },
        "id": "sLvOxsdg4A8r",
        "outputId": "1c444c8f-7756-4a49-a325-a1568a9e5995"
      },
      "execution_count": 5,
      "outputs": [
        {
          "output_type": "stream",
          "name": "stdout",
          "text": [
            "Epoch 1/30\n",
            "20/20 [==============================] - ETA: 0s - loss: 3.1772 - accuracy: 0.1734\n",
            "Epoch 1: val_loss improved from inf to 2.55884, saving model to best_weights.hdf5\n",
            "20/20 [==============================] - 10s 112ms/step - loss: 3.1772 - accuracy: 0.1734 - val_loss: 2.5588 - val_accuracy: 0.4124\n",
            "Epoch 2/30\n",
            "20/20 [==============================] - ETA: 0s - loss: 2.0039 - accuracy: 0.5079\n",
            "Epoch 2: val_loss improved from 2.55884 to 1.26184, saving model to best_weights.hdf5\n",
            "20/20 [==============================] - 2s 101ms/step - loss: 2.0039 - accuracy: 0.5079 - val_loss: 1.2618 - val_accuracy: 0.7112\n",
            "Epoch 3/30\n",
            "20/20 [==============================] - ETA: 0s - loss: 1.1484 - accuracy: 0.7013\n",
            "Epoch 3: val_loss improved from 1.26184 to 0.75690, saving model to best_weights.hdf5\n",
            "20/20 [==============================] - 2s 100ms/step - loss: 1.1484 - accuracy: 0.7013 - val_loss: 0.7569 - val_accuracy: 0.7980\n",
            "Epoch 4/30\n",
            "20/20 [==============================] - ETA: 0s - loss: 0.7330 - accuracy: 0.8006\n",
            "Epoch 4: val_loss improved from 0.75690 to 0.53890, saving model to best_weights.hdf5\n",
            "20/20 [==============================] - 2s 104ms/step - loss: 0.7330 - accuracy: 0.8006 - val_loss: 0.5389 - val_accuracy: 0.8765\n",
            "Epoch 5/30\n",
            "20/20 [==============================] - ETA: 0s - loss: 0.5343 - accuracy: 0.8567\n",
            "Epoch 5: val_loss improved from 0.53890 to 0.38299, saving model to best_weights.hdf5\n",
            "20/20 [==============================] - 2s 100ms/step - loss: 0.5343 - accuracy: 0.8567 - val_loss: 0.3830 - val_accuracy: 0.8948\n",
            "Epoch 6/30\n",
            "20/20 [==============================] - ETA: 0s - loss: 0.3997 - accuracy: 0.8852\n",
            "Epoch 6: val_loss improved from 0.38299 to 0.36106, saving model to best_weights.hdf5\n",
            "20/20 [==============================] - 2s 102ms/step - loss: 0.3997 - accuracy: 0.8852 - val_loss: 0.3611 - val_accuracy: 0.9115\n",
            "Epoch 7/30\n",
            "20/20 [==============================] - ETA: 0s - loss: 0.3407 - accuracy: 0.9056\n",
            "Epoch 7: val_loss improved from 0.36106 to 0.31391, saving model to best_weights.hdf5\n",
            "20/20 [==============================] - 2s 102ms/step - loss: 0.3407 - accuracy: 0.9056 - val_loss: 0.3139 - val_accuracy: 0.9249\n",
            "Epoch 8/30\n",
            "20/20 [==============================] - ETA: 0s - loss: 0.3033 - accuracy: 0.9158\n",
            "Epoch 8: val_loss improved from 0.31391 to 0.29140, saving model to best_weights.hdf5\n",
            "20/20 [==============================] - 2s 102ms/step - loss: 0.3033 - accuracy: 0.9158 - val_loss: 0.2914 - val_accuracy: 0.9232\n",
            "Epoch 9/30\n",
            "20/20 [==============================] - ETA: 0s - loss: 0.2409 - accuracy: 0.9308\n",
            "Epoch 9: val_loss improved from 0.29140 to 0.25144, saving model to best_weights.hdf5\n",
            "20/20 [==============================] - 2s 103ms/step - loss: 0.2409 - accuracy: 0.9308 - val_loss: 0.2514 - val_accuracy: 0.9366\n",
            "Epoch 10/30\n",
            "20/20 [==============================] - ETA: 0s - loss: 0.2051 - accuracy: 0.9434\n",
            "Epoch 10: val_loss improved from 0.25144 to 0.21703, saving model to best_weights.hdf5\n",
            "20/20 [==============================] - 2s 104ms/step - loss: 0.2051 - accuracy: 0.9434 - val_loss: 0.2170 - val_accuracy: 0.9533\n",
            "Epoch 11/30\n",
            "20/20 [==============================] - ETA: 0s - loss: 0.1712 - accuracy: 0.9491\n",
            "Epoch 11: val_loss did not improve from 0.21703\n",
            "20/20 [==============================] - 2s 96ms/step - loss: 0.1712 - accuracy: 0.9491 - val_loss: 0.2374 - val_accuracy: 0.9349\n",
            "Epoch 12/30\n",
            "20/20 [==============================] - ETA: 0s - loss: 0.1613 - accuracy: 0.9556\n",
            "Epoch 12: val_loss did not improve from 0.21703\n",
            "20/20 [==============================] - 2s 114ms/step - loss: 0.1613 - accuracy: 0.9556 - val_loss: 0.2332 - val_accuracy: 0.9449\n",
            "Epoch 13/30\n",
            "20/20 [==============================] - ETA: 0s - loss: 0.1433 - accuracy: 0.9577\n",
            "Epoch 13: val_loss improved from 0.21703 to 0.21499, saving model to best_weights.hdf5\n",
            "20/20 [==============================] - 2s 104ms/step - loss: 0.1433 - accuracy: 0.9577 - val_loss: 0.2150 - val_accuracy: 0.9482\n",
            "Epoch 14/30\n",
            "20/20 [==============================] - ETA: 0s - loss: 0.1267 - accuracy: 0.9646\n",
            "Epoch 14: val_loss did not improve from 0.21499\n",
            "20/20 [==============================] - 2s 99ms/step - loss: 0.1267 - accuracy: 0.9646 - val_loss: 0.2554 - val_accuracy: 0.9349\n",
            "Epoch 15/30\n",
            "20/20 [==============================] - ETA: 0s - loss: 0.1336 - accuracy: 0.9695\n",
            "Epoch 15: val_loss did not improve from 0.21499\n",
            "20/20 [==============================] - 2s 92ms/step - loss: 0.1336 - accuracy: 0.9695 - val_loss: 0.2277 - val_accuracy: 0.9482\n",
            "Epoch 16/30\n",
            "20/20 [==============================] - ETA: 0s - loss: 0.1187 - accuracy: 0.9670\n",
            "Epoch 16: val_loss did not improve from 0.21499\n",
            "20/20 [==============================] - 2s 94ms/step - loss: 0.1187 - accuracy: 0.9670 - val_loss: 0.2206 - val_accuracy: 0.9516\n",
            "Epoch 17/30\n",
            "20/20 [==============================] - ETA: 0s - loss: 0.1270 - accuracy: 0.9654\n",
            "Epoch 17: val_loss improved from 0.21499 to 0.20249, saving model to best_weights.hdf5\n",
            "20/20 [==============================] - 2s 102ms/step - loss: 0.1270 - accuracy: 0.9654 - val_loss: 0.2025 - val_accuracy: 0.9499\n",
            "Epoch 18/30\n",
            "20/20 [==============================] - ETA: 0s - loss: 0.1105 - accuracy: 0.9699\n",
            "Epoch 18: val_loss did not improve from 0.20249\n",
            "20/20 [==============================] - 2s 97ms/step - loss: 0.1105 - accuracy: 0.9699 - val_loss: 0.2645 - val_accuracy: 0.9499\n",
            "Epoch 19/30\n",
            "20/20 [==============================] - ETA: 0s - loss: 0.0874 - accuracy: 0.9780\n",
            "Epoch 19: val_loss did not improve from 0.20249\n",
            "20/20 [==============================] - 2s 93ms/step - loss: 0.0874 - accuracy: 0.9780 - val_loss: 0.2336 - val_accuracy: 0.9432\n",
            "Epoch 20/30\n",
            "20/20 [==============================] - ETA: 0s - loss: 0.0775 - accuracy: 0.9780\n",
            "Epoch 20: val_loss improved from 0.20249 to 0.18497, saving model to best_weights.hdf5\n",
            "20/20 [==============================] - 2s 100ms/step - loss: 0.0775 - accuracy: 0.9780 - val_loss: 0.1850 - val_accuracy: 0.9549\n",
            "Epoch 21/30\n",
            "20/20 [==============================] - ETA: 0s - loss: 0.0936 - accuracy: 0.9744\n",
            "Epoch 21: val_loss did not improve from 0.18497\n",
            "20/20 [==============================] - 2s 94ms/step - loss: 0.0936 - accuracy: 0.9744 - val_loss: 0.2102 - val_accuracy: 0.9499\n",
            "Epoch 22/30\n",
            "19/20 [===========================>..] - ETA: 0s - loss: 0.0767 - accuracy: 0.9762\n",
            "Epoch 22: val_loss did not improve from 0.18497\n",
            "20/20 [==============================] - 2s 92ms/step - loss: 0.0769 - accuracy: 0.9760 - val_loss: 0.2024 - val_accuracy: 0.9599\n",
            "Epoch 23/30\n",
            "20/20 [==============================] - ETA: 0s - loss: 0.0830 - accuracy: 0.9780\n",
            "Epoch 23: val_loss did not improve from 0.18497\n",
            "20/20 [==============================] - 2s 91ms/step - loss: 0.0830 - accuracy: 0.9780 - val_loss: 0.2167 - val_accuracy: 0.9583\n",
            "Epoch 24/30\n",
            "20/20 [==============================] - ETA: 0s - loss: 0.0911 - accuracy: 0.9748\n",
            "Epoch 24: val_loss improved from 0.18497 to 0.17101, saving model to best_weights.hdf5\n",
            "20/20 [==============================] - 2s 104ms/step - loss: 0.0911 - accuracy: 0.9748 - val_loss: 0.1710 - val_accuracy: 0.9616\n",
            "Epoch 25/30\n",
            "20/20 [==============================] - ETA: 0s - loss: 0.0751 - accuracy: 0.9744\n",
            "Epoch 25: val_loss did not improve from 0.17101\n",
            "20/20 [==============================] - 2s 93ms/step - loss: 0.0751 - accuracy: 0.9744 - val_loss: 0.1995 - val_accuracy: 0.9616\n",
            "Epoch 26/30\n",
            "20/20 [==============================] - ETA: 0s - loss: 0.0739 - accuracy: 0.9780\n",
            "Epoch 26: val_loss did not improve from 0.17101\n",
            "20/20 [==============================] - 2s 96ms/step - loss: 0.0739 - accuracy: 0.9780 - val_loss: 0.2271 - val_accuracy: 0.9516\n",
            "Epoch 27/30\n",
            "20/20 [==============================] - ETA: 0s - loss: 0.0866 - accuracy: 0.9805\n",
            "Epoch 27: val_loss improved from 0.17101 to 0.15877, saving model to best_weights.hdf5\n",
            "20/20 [==============================] - 2s 102ms/step - loss: 0.0866 - accuracy: 0.9805 - val_loss: 0.1588 - val_accuracy: 0.9533\n",
            "Epoch 28/30\n",
            "20/20 [==============================] - ETA: 0s - loss: 0.0645 - accuracy: 0.9813\n",
            "Epoch 28: val_loss did not improve from 0.15877\n",
            "20/20 [==============================] - 2s 95ms/step - loss: 0.0645 - accuracy: 0.9813 - val_loss: 0.1941 - val_accuracy: 0.9516\n",
            "Epoch 29/30\n",
            "20/20 [==============================] - ETA: 0s - loss: 0.0567 - accuracy: 0.9837\n",
            "Epoch 29: val_loss did not improve from 0.15877\n",
            "20/20 [==============================] - 2s 93ms/step - loss: 0.0567 - accuracy: 0.9837 - val_loss: 0.1788 - val_accuracy: 0.9533\n",
            "Epoch 30/30\n",
            "20/20 [==============================] - ETA: 0s - loss: 0.0659 - accuracy: 0.9788\n",
            "Epoch 30: val_loss did not improve from 0.15877\n",
            "20/20 [==============================] - 2s 98ms/step - loss: 0.0659 - accuracy: 0.9788 - val_loss: 0.1724 - val_accuracy: 0.9599\n"
          ]
        }
      ]
    },
    {
      "cell_type": "code",
      "source": [
        "test_datagen  = ImageDataGenerator(rescale=1./255)\n",
        "test_generator =  test_datagen.flow_from_directory(test_dir,\n",
        "                                                         batch_size=32,\n",
        "                                                         class_mode  = 'categorical',\n",
        "                                                         color_mode='grayscale',\n",
        "                                                         target_size=(ts,ts)) \n",
        "loss, acc = model.evaluate(test_generator)\n",
        "print(acc)\n"
      ],
      "metadata": {
        "colab": {
          "base_uri": "https://localhost:8080/"
        },
        "id": "XeT-FvMS4A51",
        "outputId": "fb9a352f-3d5f-466e-a38c-a5ee30ca169a"
      },
      "execution_count": 6,
      "outputs": [
        {
          "output_type": "stream",
          "name": "stdout",
          "text": [
            "Found 2149 images belonging to 34 classes.\n",
            "68/68 [==============================] - 1s 13ms/step - loss: 0.1508 - accuracy: 0.9772\n",
            "0.9771987199783325\n"
          ]
        }
      ]
    }
  ]
}