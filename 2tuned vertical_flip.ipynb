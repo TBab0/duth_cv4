{
  "nbformat": 4,
  "nbformat_minor": 0,
  "metadata": {
    "colab": {
      "provenance": [],
      "name": "2tuned.ipynb",
      "authorship_tag": "ABX9TyO7SEpiceP7ms3zOMZ+Qnlh",
      "include_colab_link": true
    },
    "kernelspec": {
      "name": "python3",
      "display_name": "Python 3"
    },
    "language_info": {
      "name": "python"
    },
    "accelerator": "GPU",
    "gpuClass": "standard"
  },
  "cells": [
    {
      "cell_type": "markdown",
      "metadata": {
        "id": "view-in-github",
        "colab_type": "text"
      },
      "source": [
        "<a href=\"https://colab.research.google.com/github/TBab0/duth_cv4/blob/main/2tuned%20vertical_flip.ipynb\" target=\"_parent\"><img src=\"https://colab.research.google.com/assets/colab-badge.svg\" alt=\"Open In Colab\"/></a>"
      ]
    },
    {
      "cell_type": "code",
      "source": [
        "# Declare Imports\n",
        "from keras import models, regularizers, layers, optimizers, losses, metrics\n",
        "from keras.models import Sequential\n",
        "from keras.layers import Dense\n",
        "from keras.utils import np_utils, to_categorical\n",
        "from keras.preprocessing.image import ImageDataGenerator\n",
        "from keras.preprocessing import image\n",
        "from keras.applications import ResNet50\n",
        "from tensorflow.keras.applications.resnet50 import preprocess_input\n",
        "import os\n",
        "from google.colab import drive\n",
        "import zipfile\n",
        "import tensorflow as tf\n",
        "import datetime"
      ],
      "metadata": {
        "id": "DTKt3q_P4BG3"
      },
      "execution_count": 1,
      "outputs": []
    },
    {
      "cell_type": "code",
      "source": [
        "# Import from drive\n",
        "drive.mount('/content/drive')\n",
        "local_zip = '/content/drive/MyDrive/imagedb_btsd.zip'\n",
        "zip_ref = zipfile.ZipFile(local_zip, 'r')\n",
        "zip_ref.extractall('/content')\n",
        "zip_ref.close()\n",
        "\n",
        "train_dir = '/content/imagedb'\n",
        "test_dir = '/content/imagedb_test'"
      ],
      "metadata": {
        "colab": {
          "base_uri": "https://localhost:8080/"
        },
        "id": "OBGivO3c4BD-",
        "outputId": "b4d11f17-e01f-42bf-eb97-107d05e0402e"
      },
      "execution_count": 2,
      "outputs": [
        {
          "output_type": "stream",
          "name": "stdout",
          "text": [
            "Mounted at /content/drive\n"
          ]
        }
      ]
    },
    {
      "cell_type": "code",
      "source": [
        "# Prep the Train Valid and Test directories for the generator\n",
        "batch_size = 128\n",
        "row, col, cha = 256, 256, 3\n",
        "target_size = (row, col)\n",
        "\n",
        "train_datagen = ImageDataGenerator(preprocessing_function=preprocess_input,\n",
        "                                   vertical_flip= True,\n",
        "                                   validation_split=0.2)\n",
        "\n",
        "train_generator = train_datagen.flow_from_directory(\n",
        "    train_dir,\n",
        "    target_size=target_size,\n",
        "    batch_size=batch_size,\n",
        "    class_mode='categorical',\n",
        "    subset='training', seed=1) # set as training data\n",
        "\n",
        "validation_generator = train_datagen.flow_from_directory(\n",
        "    train_dir, # same directory as training data\n",
        "    target_size=target_size,\n",
        "    batch_size=batch_size,\n",
        "    class_mode='categorical',\n",
        "    subset='validation',  seed=1) # set as validation data"
      ],
      "metadata": {
        "colab": {
          "base_uri": "https://localhost:8080/"
        },
        "id": "5GA8in3D4BBz",
        "outputId": "beb7acf9-1f10-4667-de41-bb0a8629baaa"
      },
      "execution_count": 3,
      "outputs": [
        {
          "output_type": "stream",
          "name": "stdout",
          "text": [
            "Found 2457 images belonging to 34 classes.\n",
            "Found 599 images belonging to 34 classes.\n"
          ]
        }
      ]
    },
    {
      "cell_type": "code",
      "source": [
        "# Convoluted Base MODEL\n",
        "conv_base = ResNet50(weights='imagenet', include_top=False, input_shape=(row, col, cha))\n",
        "# print(conv_base.summary())\n",
        "\n",
        "# Freeze the layers\n",
        "for layer in conv_base.layers[:]:\n",
        "    layer.trainable = False\n",
        " \n",
        "# Check the trainable status of the individual layers\n",
        "# for layer in conv_base.layers:\n",
        "    # print(layer, layer.trainable)"
      ],
      "metadata": {
        "colab": {
          "base_uri": "https://localhost:8080/"
        },
        "id": "5YAqCfYA4A_K",
        "outputId": "ade08a14-8c04-43e3-d054-150bc81cceda"
      },
      "execution_count": 4,
      "outputs": [
        {
          "output_type": "stream",
          "name": "stdout",
          "text": [
            "Downloading data from https://storage.googleapis.com/tensorflow/keras-applications/resnet/resnet50_weights_tf_dim_ordering_tf_kernels_notop.h5\n",
            "94765736/94765736 [==============================] - 3s 0us/step\n"
          ]
        }
      ]
    },
    {
      "cell_type": "code",
      "source": [
        "# Create the model\n",
        "model = models.Sequential()\n",
        " \n",
        "# Add the vgg convolutional base model\n",
        "model.add(conv_base)\n",
        " \n",
        "# Add new layers\n",
        "model.add(layers.Flatten())\n",
        "model.add(layers.Dense(2048, activation='relu'))\n",
        "model.add(layers.Dropout(0.5))\n",
        "model.add(layers.Dense(512, activation='relu'))\n",
        "model.add(layers.Dropout(0.5))\n",
        "model.add(layers.Dense(34, activation='softmax'))\n",
        " \n",
        "# Show a summary of the model. Check the number of trainable parameters\n",
        "model.summary()"
      ],
      "metadata": {
        "colab": {
          "base_uri": "https://localhost:8080/"
        },
        "id": "sLvOxsdg4A8r",
        "outputId": "9c15be91-5cee-4ea6-e64e-7776b6dcb311"
      },
      "execution_count": 5,
      "outputs": [
        {
          "output_type": "stream",
          "name": "stdout",
          "text": [
            "Model: \"sequential\"\n",
            "_________________________________________________________________\n",
            " Layer (type)                Output Shape              Param #   \n",
            "=================================================================\n",
            " resnet50 (Functional)       (None, 8, 8, 2048)        23587712  \n",
            "                                                                 \n",
            " flatten (Flatten)           (None, 131072)            0         \n",
            "                                                                 \n",
            " dense (Dense)               (None, 2048)              268437504 \n",
            "                                                                 \n",
            " dropout (Dropout)           (None, 2048)              0         \n",
            "                                                                 \n",
            " dense_1 (Dense)             (None, 512)               1049088   \n",
            "                                                                 \n",
            " dropout_1 (Dropout)         (None, 512)               0         \n",
            "                                                                 \n",
            " dense_2 (Dense)             (None, 34)                17442     \n",
            "                                                                 \n",
            "=================================================================\n",
            "Total params: 293,091,746\n",
            "Trainable params: 269,504,034\n",
            "Non-trainable params: 23,587,712\n",
            "_________________________________________________________________\n"
          ]
        }
      ]
    },
    {
      "cell_type": "code",
      "source": [
        "callbacks = []\n",
        "\n",
        "save_best_callback = tf.keras.callbacks.ModelCheckpoint(f'best_weights.hdf5', save_best_only=True, verbose=1)\n",
        "callbacks.append(save_best_callback)\n",
        "\n",
        "early_stop_callback = tf.keras.callbacks.EarlyStopping(patience=5, restore_best_weights=True, verbose=1)\n",
        "callbacks.append(early_stop_callback)\n"
      ],
      "metadata": {
        "id": "XeT-FvMS4A51"
      },
      "execution_count": 6,
      "outputs": []
    },
    {
      "cell_type": "code",
      "source": [
        "# Compile the model\n",
        "model.compile(loss='categorical_crossentropy', optimizer=optimizers.adam_v2.Adam(learning_rate=1e-4), metrics=['acc'])\n",
        "# Train the model\n",
        "history = model.fit_generator(train_generator, steps_per_epoch=train_generator.samples/train_generator.batch_size, epochs=30, validation_data=validation_generator, verbose=1, callbacks = callbacks)\n",
        " \n",
        "# Save the model\n",
        "model.save('small_last4.h5')"
      ],
      "metadata": {
        "colab": {
          "base_uri": "https://localhost:8080/"
        },
        "id": "cOSQLEr_qTzr",
        "outputId": "e7467e1a-c4f7-4e69-baa1-6accfbaaec14"
      },
      "execution_count": 7,
      "outputs": [
        {
          "output_type": "stream",
          "name": "stderr",
          "text": [
            "<ipython-input-7-24e1b0ab929e>:4: UserWarning: `Model.fit_generator` is deprecated and will be removed in a future version. Please use `Model.fit`, which supports generators.\n",
            "  history = model.fit_generator(train_generator, steps_per_epoch=train_generator.samples/train_generator.batch_size, epochs=30, validation_data=validation_generator, verbose=1, callbacks = callbacks)\n"
          ]
        },
        {
          "output_type": "stream",
          "name": "stdout",
          "text": [
            "Epoch 1/30\n",
            "20/19 [===============================] - ETA: 0s - loss: 4.9630 - acc: 0.4155\n",
            "Epoch 1: val_loss improved from inf to 0.84083, saving model to best_weights.hdf5\n",
            "19/19 [==============================] - 46s 2s/step - loss: 4.9630 - acc: 0.4155 - val_loss: 0.8408 - val_acc: 0.7646\n",
            "Epoch 2/30\n",
            "20/19 [===============================] - ETA: 0s - loss: 1.7669 - acc: 0.6915\n",
            "Epoch 2: val_loss improved from 0.84083 to 0.49917, saving model to best_weights.hdf5\n",
            "19/19 [==============================] - 30s 2s/step - loss: 1.7669 - acc: 0.6915 - val_loss: 0.4992 - val_acc: 0.8681\n",
            "Epoch 3/30\n",
            "20/19 [===============================] - ETA: 0s - loss: 1.0346 - acc: 0.7928\n",
            "Epoch 3: val_loss improved from 0.49917 to 0.36799, saving model to best_weights.hdf5\n",
            "19/19 [==============================] - 29s 2s/step - loss: 1.0346 - acc: 0.7928 - val_loss: 0.3680 - val_acc: 0.9048\n",
            "Epoch 4/30\n",
            "20/19 [===============================] - ETA: 0s - loss: 0.7069 - acc: 0.8405\n",
            "Epoch 4: val_loss improved from 0.36799 to 0.29119, saving model to best_weights.hdf5\n",
            "19/19 [==============================] - 29s 2s/step - loss: 0.7069 - acc: 0.8405 - val_loss: 0.2912 - val_acc: 0.9232\n",
            "Epoch 5/30\n",
            "20/19 [===============================] - ETA: 0s - loss: 0.5486 - acc: 0.8628\n",
            "Epoch 5: val_loss improved from 0.29119 to 0.27477, saving model to best_weights.hdf5\n",
            "19/19 [==============================] - 29s 2s/step - loss: 0.5486 - acc: 0.8628 - val_loss: 0.2748 - val_acc: 0.9282\n",
            "Epoch 6/30\n",
            "20/19 [===============================] - ETA: 0s - loss: 0.4322 - acc: 0.8917\n",
            "Epoch 6: val_loss improved from 0.27477 to 0.22693, saving model to best_weights.hdf5\n",
            "19/19 [==============================] - 29s 2s/step - loss: 0.4322 - acc: 0.8917 - val_loss: 0.2269 - val_acc: 0.9399\n",
            "Epoch 7/30\n",
            "20/19 [===============================] - ETA: 0s - loss: 0.4324 - acc: 0.8901\n",
            "Epoch 7: val_loss improved from 0.22693 to 0.19515, saving model to best_weights.hdf5\n",
            "19/19 [==============================] - 29s 2s/step - loss: 0.4324 - acc: 0.8901 - val_loss: 0.1952 - val_acc: 0.9399\n",
            "Epoch 8/30\n",
            "20/19 [===============================] - ETA: 0s - loss: 0.3864 - acc: 0.9068\n",
            "Epoch 8: val_loss did not improve from 0.19515\n",
            "19/19 [==============================] - 14s 716ms/step - loss: 0.3864 - acc: 0.9068 - val_loss: 0.2285 - val_acc: 0.9299\n",
            "Epoch 9/30\n",
            "20/19 [===============================] - ETA: 0s - loss: 0.2882 - acc: 0.9288\n",
            "Epoch 9: val_loss did not improve from 0.19515\n",
            "19/19 [==============================] - 14s 704ms/step - loss: 0.2882 - acc: 0.9288 - val_loss: 0.2039 - val_acc: 0.9466\n",
            "Epoch 10/30\n",
            "20/19 [===============================] - ETA: 0s - loss: 0.2447 - acc: 0.9381\n",
            "Epoch 10: val_loss improved from 0.19515 to 0.18647, saving model to best_weights.hdf5\n",
            "19/19 [==============================] - 29s 2s/step - loss: 0.2447 - acc: 0.9381 - val_loss: 0.1865 - val_acc: 0.9432\n",
            "Epoch 11/30\n",
            "20/19 [===============================] - ETA: 0s - loss: 0.2522 - acc: 0.9406\n",
            "Epoch 11: val_loss did not improve from 0.18647\n",
            "19/19 [==============================] - 14s 703ms/step - loss: 0.2522 - acc: 0.9406 - val_loss: 0.2160 - val_acc: 0.9366\n",
            "Epoch 12/30\n",
            "20/19 [===============================] - ETA: 0s - loss: 0.2296 - acc: 0.9430\n",
            "Epoch 12: val_loss did not improve from 0.18647\n",
            "19/19 [==============================] - 14s 711ms/step - loss: 0.2296 - acc: 0.9430 - val_loss: 0.2341 - val_acc: 0.9466\n",
            "Epoch 13/30\n",
            "20/19 [===============================] - ETA: 0s - loss: 0.2298 - acc: 0.9438\n",
            "Epoch 13: val_loss did not improve from 0.18647\n",
            "19/19 [==============================] - 14s 712ms/step - loss: 0.2298 - acc: 0.9438 - val_loss: 0.2704 - val_acc: 0.9366\n",
            "Epoch 14/30\n",
            "20/19 [===============================] - ETA: 0s - loss: 0.2063 - acc: 0.9467\n",
            "Epoch 14: val_loss did not improve from 0.18647\n",
            "19/19 [==============================] - 14s 711ms/step - loss: 0.2063 - acc: 0.9467 - val_loss: 0.2947 - val_acc: 0.9332\n",
            "Epoch 15/30\n",
            "20/19 [===============================] - ETA: 0s - loss: 0.1933 - acc: 0.9573\n",
            "Epoch 15: val_loss did not improve from 0.18647\n",
            "Restoring model weights from the end of the best epoch: 10.\n",
            "19/19 [==============================] - 14s 733ms/step - loss: 0.1933 - acc: 0.9573 - val_loss: 0.2131 - val_acc: 0.9499\n",
            "Epoch 15: early stopping\n"
          ]
        }
      ]
    },
    {
      "cell_type": "code",
      "source": [
        "# --------------------\n",
        "# Flow validation images in batches of 20 using test_datagen generator\n",
        "# --------------------\n",
        "test_datagen  = ImageDataGenerator(preprocessing_function=preprocess_input)\n",
        "test_generator =  test_datagen.flow_from_directory(test_dir,\n",
        "                                                        batch_size=128,\n",
        "                                                        class_mode='categorical',\n",
        "                                                        #  color_mode='grayscale',\n",
        "                                                         target_size=target_size) \n",
        "loss, acc = model.evaluate(test_generator)"
      ],
      "metadata": {
        "colab": {
          "base_uri": "https://localhost:8080/"
        },
        "id": "nSxvqbd7qVBq",
        "outputId": "74cbdca4-363d-4e62-815c-35ad9a85b4af"
      },
      "execution_count": 8,
      "outputs": [
        {
          "output_type": "stream",
          "name": "stdout",
          "text": [
            "Found 2149 images belonging to 34 classes.\n",
            "17/17 [==============================] - 11s 627ms/step - loss: 0.3416 - acc: 0.9195\n"
          ]
        }
      ]
    }
  ]
}