{
  "nbformat": 4,
  "nbformat_minor": 0,
  "metadata": {
    "colab": {
      "provenance": [],
      "authorship_tag": "ABX9TyN8G7LWHDMGyCtUH2eijl79",
      "include_colab_link": true
    },
    "kernelspec": {
      "name": "python3",
      "display_name": "Python 3"
    },
    "language_info": {
      "name": "python"
    },
    "accelerator": "GPU",
    "gpuClass": "standard"
  },
  "cells": [
    {
      "cell_type": "markdown",
      "metadata": {
        "id": "view-in-github",
        "colab_type": "text"
      },
      "source": [
        "<a href=\"https://colab.research.google.com/github/TBab0/duth_cv4/blob/main/2tuned%20featurewise_std_normalization.ipynb\" target=\"_parent\"><img src=\"https://colab.research.google.com/assets/colab-badge.svg\" alt=\"Open In Colab\"/></a>"
      ]
    },
    {
      "cell_type": "code",
      "execution_count": 1,
      "metadata": {
        "id": "UOT8kGMv4SM_"
      },
      "outputs": [],
      "source": [
        "# Declare Imports\n",
        "from keras import models, regularizers, layers, optimizers, losses, metrics\n",
        "from keras.models import Sequential\n",
        "from keras.layers import Dense\n",
        "from keras.utils import np_utils, to_categorical\n",
        "from keras.preprocessing.image import ImageDataGenerator\n",
        "from keras.preprocessing import image\n",
        "from keras.applications import ResNet50\n",
        "from tensorflow.keras.applications.resnet50 import preprocess_input\n",
        "import os\n",
        "from google.colab import drive\n",
        "import zipfile\n",
        "import tensorflow as tf\n",
        "import datetime"
      ]
    },
    {
      "cell_type": "code",
      "source": [
        "# Import from drive\n",
        "drive.mount('/content/drive')\n",
        "local_zip = '/content/drive/MyDrive/Colab Notebooks/imagedb_btsd.zip'\n",
        "zip_ref = zipfile.ZipFile(local_zip, 'r')\n",
        "zip_ref.extractall('/content')\n",
        "zip_ref.close()\n",
        "\n",
        "train_dir = '/content/imagedb'\n",
        "test_dir = '/content/imagedb_test'"
      ],
      "metadata": {
        "colab": {
          "base_uri": "https://localhost:8080/"
        },
        "id": "13S1sWty4TQy",
        "outputId": "165d9aa6-e666-43dd-aadc-f3eef7ec7af2"
      },
      "execution_count": 2,
      "outputs": [
        {
          "output_type": "stream",
          "name": "stdout",
          "text": [
            "Mounted at /content/drive\n"
          ]
        }
      ]
    },
    {
      "cell_type": "code",
      "source": [
        "# Prep the Train Valid and Test directories for the generator\n",
        "batch_size = 128\n",
        "row, col, cha = 256, 256, 3\n",
        "target_size = (row, col)\n",
        "\n",
        "train_datagen = ImageDataGenerator(preprocessing_function=preprocess_input,\n",
        "                                   featurewise_std_normalization=True,\n",
        "                                   validation_split=0.2)\n",
        "\n",
        "train_generator = train_datagen.flow_from_directory(\n",
        "    train_dir,\n",
        "    target_size=target_size,\n",
        "    batch_size=batch_size,\n",
        "    class_mode='categorical',\n",
        "    subset='training', seed=1) # set as training data\n",
        "\n",
        "validation_generator = train_datagen.flow_from_directory(\n",
        "    train_dir, # same directory as training data\n",
        "    target_size=target_size,\n",
        "    batch_size=batch_size,\n",
        "    class_mode='categorical',\n",
        "    subset='validation',  seed=1) # set as validation data"
      ],
      "metadata": {
        "colab": {
          "base_uri": "https://localhost:8080/"
        },
        "id": "JSgDf_3L4THY",
        "outputId": "265bec36-73ce-41af-afd6-f4edb851f68c"
      },
      "execution_count": 3,
      "outputs": [
        {
          "output_type": "stream",
          "name": "stdout",
          "text": [
            "Found 2457 images belonging to 34 classes.\n",
            "Found 599 images belonging to 34 classes.\n"
          ]
        },
        {
          "output_type": "stream",
          "name": "stderr",
          "text": [
            "/usr/local/lib/python3.8/dist-packages/keras/preprocessing/image.py:1297: UserWarning: This ImageDataGenerator specifies `featurewise_std_normalization`, which overrides setting of `featurewise_center`.\n",
            "  warnings.warn('This ImageDataGenerator specifies '\n"
          ]
        }
      ]
    },
    {
      "cell_type": "code",
      "source": [
        "# Convoluted Base MODEL\n",
        "conv_base = ResNet50(weights='imagenet', include_top=False, input_shape=(row, col, cha))\n",
        "# print(conv_base.summary())\n",
        "\n",
        "# Freeze the layers\n",
        "for layer in conv_base.layers[:]:\n",
        "    layer.trainable = False\n",
        " \n",
        "# Check the trainable status of the individual layers\n",
        "# for layer in conv_base.layers:\n",
        "    # print(layer, layer.trainable)"
      ],
      "metadata": {
        "colab": {
          "base_uri": "https://localhost:8080/"
        },
        "id": "HF3aQLyw4TDS",
        "outputId": "0244dd2f-83d9-4a9b-e07b-3c05478b1921"
      },
      "execution_count": 4,
      "outputs": [
        {
          "output_type": "stream",
          "name": "stdout",
          "text": [
            "Downloading data from https://storage.googleapis.com/tensorflow/keras-applications/resnet/resnet50_weights_tf_dim_ordering_tf_kernels_notop.h5\n",
            "94765736/94765736 [==============================] - 3s 0us/step\n"
          ]
        }
      ]
    },
    {
      "cell_type": "code",
      "source": [
        "# Create the model\n",
        "model = models.Sequential()\n",
        " \n",
        "# Add the vgg convolutional base model\n",
        "model.add(conv_base)\n",
        " \n",
        "# Add new layers\n",
        "model.add(layers.Flatten())\n",
        "model.add(layers.Dense(2048, activation='relu'))\n",
        "model.add(layers.Dropout(0.5))\n",
        "model.add(layers.Dense(512, activation='relu'))\n",
        "model.add(layers.Dropout(0.5))\n",
        "model.add(layers.Dense(34, activation='softmax'))\n",
        " \n",
        "# Show a summary of the model. Check the number of trainable parameters\n",
        "model.summary()"
      ],
      "metadata": {
        "colab": {
          "base_uri": "https://localhost:8080/"
        },
        "id": "DTwiqi0l4S-z",
        "outputId": "12b5aee4-e70a-42c4-c92b-fde096c8b84f"
      },
      "execution_count": 5,
      "outputs": [
        {
          "output_type": "stream",
          "name": "stdout",
          "text": [
            "Model: \"sequential\"\n",
            "_________________________________________________________________\n",
            " Layer (type)                Output Shape              Param #   \n",
            "=================================================================\n",
            " resnet50 (Functional)       (None, 8, 8, 2048)        23587712  \n",
            "                                                                 \n",
            " flatten (Flatten)           (None, 131072)            0         \n",
            "                                                                 \n",
            " dense (Dense)               (None, 2048)              268437504 \n",
            "                                                                 \n",
            " dropout (Dropout)           (None, 2048)              0         \n",
            "                                                                 \n",
            " dense_1 (Dense)             (None, 512)               1049088   \n",
            "                                                                 \n",
            " dropout_1 (Dropout)         (None, 512)               0         \n",
            "                                                                 \n",
            " dense_2 (Dense)             (None, 34)                17442     \n",
            "                                                                 \n",
            "=================================================================\n",
            "Total params: 293,091,746\n",
            "Trainable params: 269,504,034\n",
            "Non-trainable params: 23,587,712\n",
            "_________________________________________________________________\n"
          ]
        }
      ]
    },
    {
      "cell_type": "code",
      "source": [
        "callbacks = []\n",
        "\n",
        "save_best_callback = tf.keras.callbacks.ModelCheckpoint(f'best_weights.hdf5', save_best_only=True, verbose=1)\n",
        "callbacks.append(save_best_callback)\n",
        "\n",
        "early_stop_callback = tf.keras.callbacks.EarlyStopping(patience=5, restore_best_weights=True, verbose=1)\n",
        "callbacks.append(early_stop_callback)"
      ],
      "metadata": {
        "id": "24HhMmbQ4S8D"
      },
      "execution_count": 6,
      "outputs": []
    },
    {
      "cell_type": "code",
      "source": [
        "# Compile the model\n",
        "model.compile(loss='categorical_crossentropy', optimizer=optimizers.adam_v2.Adam(learning_rate=1e-4), metrics=['acc'])\n",
        "# Train the model\n",
        "history = model.fit_generator(train_generator, steps_per_epoch=train_generator.samples/train_generator.batch_size, epochs=30, validation_data=validation_generator, verbose=1, callbacks = callbacks)\n",
        " \n",
        "# Save the model\n",
        "model.save('small_last4.h5')"
      ],
      "metadata": {
        "colab": {
          "base_uri": "https://localhost:8080/"
        },
        "id": "AqLgCZkm4i5h",
        "outputId": "5c7f2ac1-652f-4b66-bf51-1050225cbb3c"
      },
      "execution_count": 7,
      "outputs": [
        {
          "output_type": "stream",
          "name": "stderr",
          "text": [
            "<ipython-input-7-24e1b0ab929e>:4: UserWarning: `Model.fit_generator` is deprecated and will be removed in a future version. Please use `Model.fit`, which supports generators.\n",
            "  history = model.fit_generator(train_generator, steps_per_epoch=train_generator.samples/train_generator.batch_size, epochs=30, validation_data=validation_generator, verbose=1, callbacks = callbacks)\n",
            "/usr/local/lib/python3.8/dist-packages/keras/preprocessing/image.py:1663: UserWarning: This ImageDataGenerator specifies `featurewise_center`, but it hasn't been fit on any training data. Fit it first by calling `.fit(numpy_data)`.\n",
            "  warnings.warn('This ImageDataGenerator specifies '\n",
            "/usr/local/lib/python3.8/dist-packages/keras/preprocessing/image.py:1671: UserWarning: This ImageDataGenerator specifies `featurewise_std_normalization`, but it hasn't been fit on any training data. Fit it first by calling `.fit(numpy_data)`.\n",
            "  warnings.warn('This ImageDataGenerator specifies '\n"
          ]
        },
        {
          "output_type": "stream",
          "name": "stdout",
          "text": [
            "Epoch 1/30\n",
            "20/19 [===============================] - ETA: 0s - loss: 4.0194 - acc: 0.5059\n",
            "Epoch 1: val_loss improved from inf to 0.71253, saving model to best_weights.hdf5\n",
            "19/19 [==============================] - 46s 2s/step - loss: 4.0194 - acc: 0.5059 - val_loss: 0.7125 - val_acc: 0.8497\n",
            "Epoch 2/30\n",
            "20/19 [===============================] - ETA: 0s - loss: 1.2832 - acc: 0.7957\n",
            "Epoch 2: val_loss improved from 0.71253 to 0.36152, saving model to best_weights.hdf5\n",
            "19/19 [==============================] - 30s 2s/step - loss: 1.2832 - acc: 0.7957 - val_loss: 0.3615 - val_acc: 0.9232\n",
            "Epoch 3/30\n",
            "20/19 [===============================] - ETA: 0s - loss: 0.6588 - acc: 0.8710\n",
            "Epoch 3: val_loss improved from 0.36152 to 0.33773, saving model to best_weights.hdf5\n",
            "19/19 [==============================] - 29s 2s/step - loss: 0.6588 - acc: 0.8710 - val_loss: 0.3377 - val_acc: 0.9215\n",
            "Epoch 4/30\n",
            "20/19 [===============================] - ETA: 0s - loss: 0.4116 - acc: 0.9105\n",
            "Epoch 4: val_loss improved from 0.33773 to 0.23797, saving model to best_weights.hdf5\n",
            "19/19 [==============================] - 30s 2s/step - loss: 0.4116 - acc: 0.9105 - val_loss: 0.2380 - val_acc: 0.9432\n",
            "Epoch 5/30\n",
            "20/19 [===============================] - ETA: 0s - loss: 0.3153 - acc: 0.9333\n",
            "Epoch 5: val_loss did not improve from 0.23797\n",
            "19/19 [==============================] - 15s 755ms/step - loss: 0.3153 - acc: 0.9333 - val_loss: 0.3039 - val_acc: 0.9349\n",
            "Epoch 6/30\n",
            "20/19 [===============================] - ETA: 0s - loss: 0.2360 - acc: 0.9455\n",
            "Epoch 6: val_loss did not improve from 0.23797\n",
            "19/19 [==============================] - 14s 754ms/step - loss: 0.2360 - acc: 0.9455 - val_loss: 0.2621 - val_acc: 0.9416\n",
            "Epoch 7/30\n",
            "20/19 [===============================] - ETA: 0s - loss: 0.2133 - acc: 0.9508\n",
            "Epoch 7: val_loss did not improve from 0.23797\n",
            "19/19 [==============================] - 14s 742ms/step - loss: 0.2133 - acc: 0.9508 - val_loss: 0.2906 - val_acc: 0.9316\n",
            "Epoch 8/30\n",
            "20/19 [===============================] - ETA: 0s - loss: 0.1879 - acc: 0.9565\n",
            "Epoch 8: val_loss did not improve from 0.23797\n",
            "19/19 [==============================] - 14s 759ms/step - loss: 0.1879 - acc: 0.9565 - val_loss: 0.3169 - val_acc: 0.9399\n",
            "Epoch 9/30\n",
            "20/19 [===============================] - ETA: 0s - loss: 0.1418 - acc: 0.9707\n",
            "Epoch 9: val_loss improved from 0.23797 to 0.19634, saving model to best_weights.hdf5\n",
            "19/19 [==============================] - 29s 2s/step - loss: 0.1418 - acc: 0.9707 - val_loss: 0.1963 - val_acc: 0.9549\n",
            "Epoch 10/30\n",
            "20/19 [===============================] - ETA: 0s - loss: 0.1049 - acc: 0.9772\n",
            "Epoch 10: val_loss did not improve from 0.19634\n",
            "19/19 [==============================] - 14s 738ms/step - loss: 0.1049 - acc: 0.9772 - val_loss: 0.3133 - val_acc: 0.9516\n",
            "Epoch 11/30\n",
            "20/19 [===============================] - ETA: 0s - loss: 0.0590 - acc: 0.9821\n",
            "Epoch 11: val_loss did not improve from 0.19634\n",
            "19/19 [==============================] - 14s 774ms/step - loss: 0.0590 - acc: 0.9821 - val_loss: 0.2385 - val_acc: 0.9482\n",
            "Epoch 12/30\n",
            "20/19 [===============================] - ETA: 0s - loss: 0.0860 - acc: 0.9752\n",
            "Epoch 12: val_loss did not improve from 0.19634\n",
            "19/19 [==============================] - 14s 749ms/step - loss: 0.0860 - acc: 0.9752 - val_loss: 0.2699 - val_acc: 0.9566\n",
            "Epoch 13/30\n",
            "20/19 [===============================] - ETA: 0s - loss: 0.0657 - acc: 0.9829\n",
            "Epoch 13: val_loss did not improve from 0.19634\n",
            "19/19 [==============================] - 14s 740ms/step - loss: 0.0657 - acc: 0.9829 - val_loss: 0.3247 - val_acc: 0.9566\n",
            "Epoch 14/30\n",
            "20/19 [===============================] - ETA: 0s - loss: 0.0669 - acc: 0.9817\n",
            "Epoch 14: val_loss did not improve from 0.19634\n",
            "Restoring model weights from the end of the best epoch: 9.\n",
            "19/19 [==============================] - 15s 756ms/step - loss: 0.0669 - acc: 0.9817 - val_loss: 0.2988 - val_acc: 0.9566\n",
            "Epoch 14: early stopping\n"
          ]
        }
      ]
    },
    {
      "cell_type": "code",
      "source": [
        "# --------------------\n",
        "# Flow validation images in batches of 20 using test_datagen generator\n",
        "# --------------------\n",
        "test_datagen  = ImageDataGenerator(preprocessing_function=preprocess_input)\n",
        "test_generator =  test_datagen.flow_from_directory(test_dir,\n",
        "                                                        batch_size=128,\n",
        "                                                        class_mode='categorical',\n",
        "                                                        #  color_mode='grayscale',\n",
        "                                                         target_size=target_size) \n",
        "loss, acc = model.evaluate(test_generator)"
      ],
      "metadata": {
        "colab": {
          "base_uri": "https://localhost:8080/"
        },
        "id": "L8uZcoRg4i1m",
        "outputId": "e3fa029d-010b-47bf-8398-e4bb47382270"
      },
      "execution_count": 8,
      "outputs": [
        {
          "output_type": "stream",
          "name": "stdout",
          "text": [
            "Found 2149 images belonging to 34 classes.\n",
            "17/17 [==============================] - 11s 648ms/step - loss: 0.3003 - acc: 0.9400\n"
          ]
        }
      ]
    }
  ]
}