{
  "nbformat": 4,
  "nbformat_minor": 0,
  "metadata": {
    "colab": {
      "provenance": [],
      "authorship_tag": "ABX9TyOnev0ULWCFV04yfR9zpiKd",
      "include_colab_link": true
    },
    "kernelspec": {
      "name": "python3",
      "display_name": "Python 3"
    },
    "language_info": {
      "name": "python"
    },
    "accelerator": "GPU",
    "gpuClass": "standard"
  },
  "cells": [
    {
      "cell_type": "markdown",
      "metadata": {
        "id": "view-in-github",
        "colab_type": "text"
      },
      "source": [
        "<a href=\"https://colab.research.google.com/github/TBab0/duth_cv4/blob/main/1sratch%20vertical_flip.ipynb\" target=\"_parent\"><img src=\"https://colab.research.google.com/assets/colab-badge.svg\" alt=\"Open In Colab\"/></a>"
      ]
    },
    {
      "cell_type": "code",
      "source": [
        "from google.colab import drive\n",
        "import os\n",
        "import zipfile\n",
        "from tensorflow.keras.preprocessing.image import ImageDataGenerator\n",
        "import tensorflow as tf\n",
        "import datetime"
      ],
      "metadata": {
        "id": "DTKt3q_P4BG3"
      },
      "execution_count": 1,
      "outputs": []
    },
    {
      "cell_type": "code",
      "source": [
        "drive.mount('/content/drive')\n",
        "local_zip = '/content/drive/MyDrive/imagedb_btsd.zip'\n",
        "zip_ref = zipfile.ZipFile(local_zip, 'r')\n",
        "zip_ref.extractall('/content')\n",
        "zip_ref.close()\n",
        "\n",
        "train_dir = '/content/imagedb'\n",
        "test_dir = '/content/imagedb_test'"
      ],
      "metadata": {
        "colab": {
          "base_uri": "https://localhost:8080/"
        },
        "id": "OBGivO3c4BD-",
        "outputId": "328d5689-4bc2-43d9-827a-c4d236aad78d"
      },
      "execution_count": 2,
      "outputs": [
        {
          "output_type": "stream",
          "name": "stdout",
          "text": [
            "Mounted at /content/drive\n"
          ]
        }
      ]
    },
    {
      "cell_type": "code",
      "source": [
        "ts = 32\n",
        "# train_datagen = ImageDataGenerator(preprocessing_function=vgg16.preprocess_input, validation_split=0.2)\n",
        "train_datagen  = ImageDataGenerator(rescale=1./255,\n",
        "                                    vertical_flip= True,\n",
        "                                    validation_split=0.2)\n",
        "\n",
        "# --------------------\n",
        "# Flow training images in batches of 20 using train_datagen generator\n",
        "# --------------------\n",
        "train_generator = train_datagen.flow_from_directory(train_dir,\n",
        "                                                    batch_size=128,\n",
        "                                                    class_mode='categorical',\n",
        "                                                    color_mode='grayscale',\n",
        "                                                    target_size=(ts,ts),\n",
        "                                                    subset='training', seed=1)     \n",
        "# --------------------\n",
        "# Flow validation images in batches of 20 using test_datagen generator\n",
        "# --------------------\n",
        "validation_generator =  train_datagen.flow_from_directory(train_dir,\n",
        "                                                        batch_size=128,\n",
        "                                                        class_mode='categorical',\n",
        "                                                         color_mode='grayscale',\n",
        "                                                         target_size=(ts,ts),\n",
        "                                                        subset='validation', seed=1)"
      ],
      "metadata": {
        "colab": {
          "base_uri": "https://localhost:8080/"
        },
        "id": "5GA8in3D4BBz",
        "outputId": "ef92a9ef-1d3b-4ed1-d80d-e02d184d6f5c"
      },
      "execution_count": 3,
      "outputs": [
        {
          "output_type": "stream",
          "name": "stdout",
          "text": [
            "Found 2457 images belonging to 34 classes.\n",
            "Found 599 images belonging to 34 classes.\n"
          ]
        }
      ]
    },
    {
      "cell_type": "code",
      "source": [
        "model = tf.keras.models.Sequential([\n",
        "  tf.keras.layers.Conv2D(64, (5, 5), strides=(1, 1), activation='relu', input_shape=(ts, ts, 1)),\n",
        "  tf.keras.layers.Conv2D(64, (5, 5), strides=(1, 1), activation='relu', input_shape=(ts, ts, 1)),\n",
        "  tf.keras.layers.MaxPooling2D(pool_size=(2, 2), strides=(2, 2)),\n",
        "  # tf.keras.layers.Conv2D(64, (5, 5), strides=(1, 1), activation='relu', input_shape=(ts, ts, 1)),\n",
        "  tf.keras.layers.Flatten(),\n",
        "  tf.keras.layers.Dense(512, activation='relu'),\n",
        "  tf.keras.layers.Dropout(0.5),\n",
        "  tf.keras.layers.Dense(34, activation='softmax')\n",
        "])\n",
        "model.compile(optimizer = tf.keras.optimizers.Adam(), loss = 'categorical_crossentropy', metrics=['accuracy'])\n",
        "model.summary()"
      ],
      "metadata": {
        "colab": {
          "base_uri": "https://localhost:8080/"
        },
        "id": "5YAqCfYA4A_K",
        "outputId": "837d209f-f772-4efa-9ef9-221e4984188a"
      },
      "execution_count": 4,
      "outputs": [
        {
          "output_type": "stream",
          "name": "stdout",
          "text": [
            "Model: \"sequential\"\n",
            "_________________________________________________________________\n",
            " Layer (type)                Output Shape              Param #   \n",
            "=================================================================\n",
            " conv2d (Conv2D)             (None, 28, 28, 64)        1664      \n",
            "                                                                 \n",
            " conv2d_1 (Conv2D)           (None, 24, 24, 64)        102464    \n",
            "                                                                 \n",
            " max_pooling2d (MaxPooling2D  (None, 12, 12, 64)       0         \n",
            " )                                                               \n",
            "                                                                 \n",
            " flatten (Flatten)           (None, 9216)              0         \n",
            "                                                                 \n",
            " dense (Dense)               (None, 512)               4719104   \n",
            "                                                                 \n",
            " dropout (Dropout)           (None, 512)               0         \n",
            "                                                                 \n",
            " dense_1 (Dense)             (None, 34)                17442     \n",
            "                                                                 \n",
            "=================================================================\n",
            "Total params: 4,840,674\n",
            "Trainable params: 4,840,674\n",
            "Non-trainable params: 0\n",
            "_________________________________________________________________\n"
          ]
        }
      ]
    },
    {
      "cell_type": "code",
      "source": [
        "callbacks = []\n",
        "\n",
        "save_best_callback = tf.keras.callbacks.ModelCheckpoint(f'best_weights.hdf5', save_best_only=True, verbose=1)\n",
        "callbacks.append(save_best_callback)\n",
        "\n",
        "early_stop_callback = tf.keras.callbacks.EarlyStopping(patience=10, restore_best_weights=True, verbose=1)\n",
        "callbacks.append(early_stop_callback)\n",
        "\n",
        "history = model.fit(train_generator, validation_data=validation_generator, epochs=30, verbose=1, callbacks=callbacks)"
      ],
      "metadata": {
        "colab": {
          "base_uri": "https://localhost:8080/"
        },
        "id": "sLvOxsdg4A8r",
        "outputId": "cc64efd1-3de5-4c49-e394-1c11143546a5"
      },
      "execution_count": 5,
      "outputs": [
        {
          "output_type": "stream",
          "name": "stdout",
          "text": [
            "Epoch 1/30\n",
            "19/20 [===========================>..] - ETA: 0s - loss: 2.8423 - accuracy: 0.2778\n",
            "Epoch 1: val_loss improved from inf to 1.71770, saving model to best_weights.hdf5\n",
            "20/20 [==============================] - 9s 77ms/step - loss: 2.8021 - accuracy: 0.2873 - val_loss: 1.7177 - val_accuracy: 0.5876\n",
            "Epoch 2/30\n",
            "19/20 [===========================>..] - ETA: 0s - loss: 1.4741 - accuracy: 0.6256\n",
            "Epoch 2: val_loss improved from 1.71770 to 0.73128, saving model to best_weights.hdf5\n",
            "20/20 [==============================] - 1s 65ms/step - loss: 1.4468 - accuracy: 0.6321 - val_loss: 0.7313 - val_accuracy: 0.8130\n",
            "Epoch 3/30\n",
            "20/20 [==============================] - ETA: 0s - loss: 0.7726 - accuracy: 0.7908\n",
            "Epoch 3: val_loss improved from 0.73128 to 0.47560, saving model to best_weights.hdf5\n",
            "20/20 [==============================] - 1s 65ms/step - loss: 0.7726 - accuracy: 0.7908 - val_loss: 0.4756 - val_accuracy: 0.8881\n",
            "Epoch 4/30\n",
            "20/20 [==============================] - ETA: 0s - loss: 0.4776 - accuracy: 0.8653\n",
            "Epoch 4: val_loss improved from 0.47560 to 0.33289, saving model to best_weights.hdf5\n",
            "20/20 [==============================] - 1s 65ms/step - loss: 0.4776 - accuracy: 0.8653 - val_loss: 0.3329 - val_accuracy: 0.9165\n",
            "Epoch 5/30\n",
            "19/20 [===========================>..] - ETA: 0s - loss: 0.3529 - accuracy: 0.9073\n",
            "Epoch 5: val_loss improved from 0.33289 to 0.28095, saving model to best_weights.hdf5\n",
            "20/20 [==============================] - 1s 63ms/step - loss: 0.3476 - accuracy: 0.9092 - val_loss: 0.2810 - val_accuracy: 0.9299\n",
            "Epoch 6/30\n",
            "19/20 [===========================>..] - ETA: 0s - loss: 0.2507 - accuracy: 0.9352\n",
            "Epoch 6: val_loss did not improve from 0.28095\n",
            "20/20 [==============================] - 1s 56ms/step - loss: 0.2525 - accuracy: 0.9345 - val_loss: 0.2828 - val_accuracy: 0.9332\n",
            "Epoch 7/30\n",
            "20/20 [==============================] - ETA: 0s - loss: 0.1951 - accuracy: 0.9442\n",
            "Epoch 7: val_loss improved from 0.28095 to 0.23588, saving model to best_weights.hdf5\n",
            "20/20 [==============================] - 1s 67ms/step - loss: 0.1951 - accuracy: 0.9442 - val_loss: 0.2359 - val_accuracy: 0.9432\n",
            "Epoch 8/30\n",
            "20/20 [==============================] - ETA: 0s - loss: 0.1507 - accuracy: 0.9573\n",
            "Epoch 8: val_loss improved from 0.23588 to 0.20290, saving model to best_weights.hdf5\n",
            "20/20 [==============================] - 1s 63ms/step - loss: 0.1507 - accuracy: 0.9573 - val_loss: 0.2029 - val_accuracy: 0.9549\n",
            "Epoch 9/30\n",
            "20/20 [==============================] - ETA: 0s - loss: 0.1269 - accuracy: 0.9662\n",
            "Epoch 9: val_loss did not improve from 0.20290\n",
            "20/20 [==============================] - 1s 58ms/step - loss: 0.1269 - accuracy: 0.9662 - val_loss: 0.2728 - val_accuracy: 0.9482\n",
            "Epoch 10/30\n",
            "20/20 [==============================] - ETA: 0s - loss: 0.1064 - accuracy: 0.9703\n",
            "Epoch 10: val_loss improved from 0.20290 to 0.20053, saving model to best_weights.hdf5\n",
            "20/20 [==============================] - 1s 66ms/step - loss: 0.1064 - accuracy: 0.9703 - val_loss: 0.2005 - val_accuracy: 0.9583\n",
            "Epoch 11/30\n",
            "19/20 [===========================>..] - ETA: 0s - loss: 0.0992 - accuracy: 0.9725\n",
            "Epoch 11: val_loss did not improve from 0.20053\n",
            "20/20 [==============================] - 1s 57ms/step - loss: 0.1006 - accuracy: 0.9715 - val_loss: 0.2135 - val_accuracy: 0.9533\n",
            "Epoch 12/30\n",
            "20/20 [==============================] - ETA: 0s - loss: 0.0740 - accuracy: 0.9756\n",
            "Epoch 12: val_loss did not improve from 0.20053\n",
            "20/20 [==============================] - 1s 57ms/step - loss: 0.0740 - accuracy: 0.9756 - val_loss: 0.2221 - val_accuracy: 0.9499\n",
            "Epoch 13/30\n",
            "19/20 [===========================>..] - ETA: 0s - loss: 0.0677 - accuracy: 0.9794\n",
            "Epoch 13: val_loss did not improve from 0.20053\n",
            "20/20 [==============================] - 1s 54ms/step - loss: 0.0751 - accuracy: 0.9772 - val_loss: 0.2404 - val_accuracy: 0.9549\n",
            "Epoch 14/30\n",
            "20/20 [==============================] - ETA: 0s - loss: 0.0977 - accuracy: 0.9735\n",
            "Epoch 14: val_loss improved from 0.20053 to 0.19697, saving model to best_weights.hdf5\n",
            "20/20 [==============================] - 1s 65ms/step - loss: 0.0977 - accuracy: 0.9735 - val_loss: 0.1970 - val_accuracy: 0.9549\n",
            "Epoch 15/30\n",
            "19/20 [===========================>..] - ETA: 0s - loss: 0.0583 - accuracy: 0.9841\n",
            "Epoch 15: val_loss did not improve from 0.19697\n",
            "20/20 [==============================] - 1s 56ms/step - loss: 0.0581 - accuracy: 0.9829 - val_loss: 0.2138 - val_accuracy: 0.9583\n",
            "Epoch 16/30\n",
            "20/20 [==============================] - ETA: 0s - loss: 0.0493 - accuracy: 0.9853\n",
            "Epoch 16: val_loss did not improve from 0.19697\n",
            "20/20 [==============================] - 1s 58ms/step - loss: 0.0493 - accuracy: 0.9853 - val_loss: 0.2064 - val_accuracy: 0.9432\n",
            "Epoch 17/30\n",
            "20/20 [==============================] - ETA: 0s - loss: 0.0515 - accuracy: 0.9870\n",
            "Epoch 17: val_loss did not improve from 0.19697\n",
            "20/20 [==============================] - 1s 55ms/step - loss: 0.0515 - accuracy: 0.9870 - val_loss: 0.2796 - val_accuracy: 0.9516\n",
            "Epoch 18/30\n",
            "20/20 [==============================] - ETA: 0s - loss: 0.0447 - accuracy: 0.9849\n",
            "Epoch 18: val_loss did not improve from 0.19697\n",
            "20/20 [==============================] - 1s 59ms/step - loss: 0.0447 - accuracy: 0.9849 - val_loss: 0.1985 - val_accuracy: 0.9583\n",
            "Epoch 19/30\n",
            "20/20 [==============================] - ETA: 0s - loss: 0.0359 - accuracy: 0.9886\n",
            "Epoch 19: val_loss did not improve from 0.19697\n",
            "20/20 [==============================] - 1s 56ms/step - loss: 0.0359 - accuracy: 0.9886 - val_loss: 0.2567 - val_accuracy: 0.9499\n",
            "Epoch 20/30\n",
            "20/20 [==============================] - ETA: 0s - loss: 0.0384 - accuracy: 0.9894\n",
            "Epoch 20: val_loss did not improve from 0.19697\n",
            "20/20 [==============================] - 1s 56ms/step - loss: 0.0384 - accuracy: 0.9894 - val_loss: 0.2116 - val_accuracy: 0.9516\n",
            "Epoch 21/30\n",
            "19/20 [===========================>..] - ETA: 0s - loss: 0.0329 - accuracy: 0.9875\n",
            "Epoch 21: val_loss did not improve from 0.19697\n",
            "20/20 [==============================] - 1s 56ms/step - loss: 0.0317 - accuracy: 0.9882 - val_loss: 0.2565 - val_accuracy: 0.9516\n",
            "Epoch 22/30\n",
            "20/20 [==============================] - ETA: 0s - loss: 0.0325 - accuracy: 0.9890\n",
            "Epoch 22: val_loss did not improve from 0.19697\n",
            "20/20 [==============================] - 1s 55ms/step - loss: 0.0325 - accuracy: 0.9890 - val_loss: 0.2175 - val_accuracy: 0.9599\n",
            "Epoch 23/30\n",
            "20/20 [==============================] - ETA: 0s - loss: 0.0391 - accuracy: 0.9882\n",
            "Epoch 23: val_loss did not improve from 0.19697\n",
            "20/20 [==============================] - 1s 56ms/step - loss: 0.0391 - accuracy: 0.9882 - val_loss: 0.2092 - val_accuracy: 0.9599\n",
            "Epoch 24/30\n",
            "20/20 [==============================] - ETA: 0s - loss: 0.0238 - accuracy: 0.9927\n",
            "Epoch 24: val_loss did not improve from 0.19697\n",
            "Restoring model weights from the end of the best epoch: 14.\n",
            "20/20 [==============================] - 1s 57ms/step - loss: 0.0238 - accuracy: 0.9927 - val_loss: 0.2153 - val_accuracy: 0.9549\n",
            "Epoch 24: early stopping\n"
          ]
        }
      ]
    },
    {
      "cell_type": "code",
      "source": [
        "test_datagen  = ImageDataGenerator(rescale=1./255)\n",
        "test_generator =  test_datagen.flow_from_directory(test_dir,\n",
        "                                                         batch_size=32,\n",
        "                                                         class_mode  = 'categorical',\n",
        "                                                         color_mode='grayscale',\n",
        "                                                         target_size=(ts,ts)) \n",
        "loss, acc = model.evaluate(test_generator)\n",
        "print(acc)\n"
      ],
      "metadata": {
        "colab": {
          "base_uri": "https://localhost:8080/"
        },
        "id": "XeT-FvMS4A51",
        "outputId": "46b474b0-f62e-4b4f-b88b-88d70ba6adef"
      },
      "execution_count": 6,
      "outputs": [
        {
          "output_type": "stream",
          "name": "stdout",
          "text": [
            "Found 2149 images belonging to 34 classes.\n",
            "68/68 [==============================] - 1s 14ms/step - loss: 0.3500 - accuracy: 0.9209\n",
            "0.9208934307098389\n"
          ]
        }
      ]
    }
  ]
}