{
  "cells": [
    {
      "cell_type": "markdown",
      "metadata": {
        "id": "view-in-github",
        "colab_type": "text"
      },
      "source": [
        "<a href=\"https://colab.research.google.com/github/TBab0/duth_cv4/blob/main/1sratch%20mod1.ipynb\" target=\"_parent\"><img src=\"https://colab.research.google.com/assets/colab-badge.svg\" alt=\"Open In Colab\"/></a>"
      ]
    },
    {
      "cell_type": "code",
      "execution_count": 1,
      "metadata": {
        "id": "DTKt3q_P4BG3"
      },
      "outputs": [],
      "source": [
        "from google.colab import drive\n",
        "import os\n",
        "import zipfile\n",
        "from tensorflow.keras.preprocessing.image import ImageDataGenerator\n",
        "import tensorflow as tf\n",
        "import datetime"
      ]
    },
    {
      "cell_type": "code",
      "execution_count": 2,
      "metadata": {
        "colab": {
          "base_uri": "https://localhost:8080/"
        },
        "id": "OBGivO3c4BD-",
        "outputId": "79759185-c2a8-4d1b-ec5d-6762f8d6841a"
      },
      "outputs": [
        {
          "output_type": "stream",
          "name": "stdout",
          "text": [
            "Mounted at /content/drive\n"
          ]
        }
      ],
      "source": [
        "drive.mount('/content/drive')\n",
        "local_zip = '/content/drive/MyDrive/imagedb_btsd.zip'\n",
        "zip_ref = zipfile.ZipFile(local_zip, 'r')\n",
        "zip_ref.extractall('/content')\n",
        "zip_ref.close()\n",
        "\n",
        "train_dir = '/content/imagedb'\n",
        "test_dir = '/content/imagedb_test'"
      ]
    },
    {
      "cell_type": "code",
      "execution_count": 3,
      "metadata": {
        "colab": {
          "base_uri": "https://localhost:8080/"
        },
        "id": "5GA8in3D4BBz",
        "outputId": "50a1f94f-fab9-4031-f440-c7231acedc0c"
      },
      "outputs": [
        {
          "output_type": "stream",
          "name": "stdout",
          "text": [
            "Found 2457 images belonging to 34 classes.\n",
            "Found 599 images belonging to 34 classes.\n"
          ]
        }
      ],
      "source": [
        "ts = 32\n",
        "# train_datagen = ImageDataGenerator(preprocessing_function=vgg16.preprocess_input, validation_split=0.2)\n",
        "train_datagen  = ImageDataGenerator(rescale=1./255,\n",
        "                                    validation_split=0.2)\n",
        "\n",
        "# --------------------\n",
        "# Flow training images in batches of 20 using train_datagen generator\n",
        "# --------------------\n",
        "train_generator = train_datagen.flow_from_directory(train_dir,\n",
        "                                                    batch_size=128,\n",
        "                                                    class_mode='categorical',\n",
        "                                                    color_mode='grayscale',\n",
        "                                                    target_size=(ts,ts),\n",
        "                                                    subset='training', seed=1)      \n",
        "# --------------------\n",
        "# Flow validation images in batches of 20 using test_datagen generator\n",
        "# --------------------\n",
        "validation_generator =  train_datagen.flow_from_directory(train_dir,\n",
        "                                                        batch_size=128,\n",
        "                                                        class_mode='categorical',\n",
        "                                                         color_mode='grayscale',\n",
        "                                                         target_size=(ts,ts),\n",
        "                                                        subset='validation', seed=1)"
      ]
    },
    {
      "cell_type": "code",
      "execution_count": 4,
      "metadata": {
        "colab": {
          "base_uri": "https://localhost:8080/"
        },
        "id": "5YAqCfYA4A_K",
        "outputId": "3167d843-1c63-4018-b40b-623cf8896803"
      },
      "outputs": [
        {
          "output_type": "stream",
          "name": "stdout",
          "text": [
            "Model: \"sequential\"\n",
            "_________________________________________________________________\n",
            " Layer (type)                Output Shape              Param #   \n",
            "=================================================================\n",
            " conv2d (Conv2D)             (None, 28, 28, 64)        1664      \n",
            "                                                                 \n",
            " conv2d_1 (Conv2D)           (None, 24, 24, 64)        102464    \n",
            "                                                                 \n",
            " max_pooling2d (MaxPooling2D  (None, 12, 12, 64)       0         \n",
            " )                                                               \n",
            "                                                                 \n",
            " conv2d_2 (Conv2D)           (None, 8, 8, 64)          102464    \n",
            "                                                                 \n",
            " flatten (Flatten)           (None, 4096)              0         \n",
            "                                                                 \n",
            " dense (Dense)               (None, 512)               2097664   \n",
            "                                                                 \n",
            " dropout (Dropout)           (None, 512)               0         \n",
            "                                                                 \n",
            " dense_1 (Dense)             (None, 34)                17442     \n",
            "                                                                 \n",
            "=================================================================\n",
            "Total params: 2,321,698\n",
            "Trainable params: 2,321,698\n",
            "Non-trainable params: 0\n",
            "_________________________________________________________________\n"
          ]
        }
      ],
      "source": [
        "model = tf.keras.models.Sequential([\n",
        "  tf.keras.layers.Conv2D(64, (5, 5), strides=(1, 1), activation='relu', input_shape=(ts, ts, 1)),\n",
        "  tf.keras.layers.Conv2D(64, (5, 5), strides=(1, 1), activation='relu', input_shape=(ts, ts, 1)),\n",
        "  tf.keras.layers.MaxPooling2D(pool_size=(2, 2), strides=(2, 2)),\n",
        "  tf.keras.layers.Conv2D(64, (5, 5), strides=(1, 1), activation='relu', input_shape=(ts, ts, 1)),\n",
        "  tf.keras.layers.Flatten(),\n",
        "  tf.keras.layers.Dense(512, activation='relu'),\n",
        "  tf.keras.layers.Dropout(0.5),\n",
        "  tf.keras.layers.Dense(34, activation='softmax')\n",
        "])\n",
        "model.compile(optimizer = tf.keras.optimizers.Adam(), loss = 'categorical_crossentropy', metrics=['accuracy'])\n",
        "model.summary()"
      ]
    },
    {
      "cell_type": "code",
      "execution_count": 5,
      "metadata": {
        "colab": {
          "base_uri": "https://localhost:8080/"
        },
        "id": "sLvOxsdg4A8r",
        "outputId": "b8c26a0c-c3df-40cf-eb6c-6235726d83ff"
      },
      "outputs": [
        {
          "output_type": "stream",
          "name": "stdout",
          "text": [
            "Epoch 1/30\n",
            "20/20 [==============================] - ETA: 0s - loss: 3.0883 - accuracy: 0.2076\n",
            "Epoch 1: val_loss improved from inf to 2.09407, saving model to best_weights.hdf5\n",
            "20/20 [==============================] - 10s 118ms/step - loss: 3.0883 - accuracy: 0.2076 - val_loss: 2.0941 - val_accuracy: 0.4908\n",
            "Epoch 2/30\n",
            "20/20 [==============================] - ETA: 0s - loss: 1.4447 - accuracy: 0.6365\n",
            "Epoch 2: val_loss improved from 2.09407 to 0.71242, saving model to best_weights.hdf5\n",
            "20/20 [==============================] - 2s 118ms/step - loss: 1.4447 - accuracy: 0.6365 - val_loss: 0.7124 - val_accuracy: 0.8047\n",
            "Epoch 3/30\n",
            "20/20 [==============================] - ETA: 0s - loss: 0.6394 - accuracy: 0.8246\n",
            "Epoch 3: val_loss improved from 0.71242 to 0.37112, saving model to best_weights.hdf5\n",
            "20/20 [==============================] - 1s 64ms/step - loss: 0.6394 - accuracy: 0.8246 - val_loss: 0.3711 - val_accuracy: 0.9065\n",
            "Epoch 4/30\n",
            "19/20 [===========================>..] - ETA: 0s - loss: 0.3514 - accuracy: 0.9098\n",
            "Epoch 4: val_loss improved from 0.37112 to 0.26506, saving model to best_weights.hdf5\n",
            "20/20 [==============================] - 1s 58ms/step - loss: 0.3517 - accuracy: 0.9096 - val_loss: 0.2651 - val_accuracy: 0.9382\n",
            "Epoch 5/30\n",
            "20/20 [==============================] - ETA: 0s - loss: 0.2047 - accuracy: 0.9446\n",
            "Epoch 5: val_loss improved from 0.26506 to 0.20125, saving model to best_weights.hdf5\n",
            "20/20 [==============================] - 1s 58ms/step - loss: 0.2047 - accuracy: 0.9446 - val_loss: 0.2013 - val_accuracy: 0.9416\n",
            "Epoch 6/30\n",
            "20/20 [==============================] - ETA: 0s - loss: 0.1186 - accuracy: 0.9642\n",
            "Epoch 6: val_loss improved from 0.20125 to 0.19905, saving model to best_weights.hdf5\n",
            "20/20 [==============================] - 1s 58ms/step - loss: 0.1186 - accuracy: 0.9642 - val_loss: 0.1990 - val_accuracy: 0.9516\n",
            "Epoch 7/30\n",
            "19/20 [===========================>..] - ETA: 0s - loss: 0.0778 - accuracy: 0.9790\n",
            "Epoch 7: val_loss did not improve from 0.19905\n",
            "20/20 [==============================] - 1s 54ms/step - loss: 0.0776 - accuracy: 0.9788 - val_loss: 0.2439 - val_accuracy: 0.9382\n",
            "Epoch 8/30\n",
            "19/20 [===========================>..] - ETA: 0s - loss: 0.0710 - accuracy: 0.9777\n",
            "Epoch 8: val_loss did not improve from 0.19905\n",
            "20/20 [==============================] - 1s 54ms/step - loss: 0.0717 - accuracy: 0.9780 - val_loss: 0.2616 - val_accuracy: 0.9432\n",
            "Epoch 9/30\n",
            "20/20 [==============================] - ETA: 0s - loss: 0.0622 - accuracy: 0.9829\n",
            "Epoch 9: val_loss improved from 0.19905 to 0.19722, saving model to best_weights.hdf5\n",
            "20/20 [==============================] - 1s 59ms/step - loss: 0.0622 - accuracy: 0.9829 - val_loss: 0.1972 - val_accuracy: 0.9616\n",
            "Epoch 10/30\n",
            "20/20 [==============================] - ETA: 0s - loss: 0.0390 - accuracy: 0.9894\n",
            "Epoch 10: val_loss did not improve from 0.19722\n",
            "20/20 [==============================] - 1s 54ms/step - loss: 0.0390 - accuracy: 0.9894 - val_loss: 0.1989 - val_accuracy: 0.9666\n",
            "Epoch 11/30\n",
            "19/20 [===========================>..] - ETA: 0s - loss: 0.0411 - accuracy: 0.9885\n",
            "Epoch 11: val_loss improved from 0.19722 to 0.16060, saving model to best_weights.hdf5\n",
            "20/20 [==============================] - 1s 63ms/step - loss: 0.0410 - accuracy: 0.9886 - val_loss: 0.1606 - val_accuracy: 0.9633\n",
            "Epoch 12/30\n",
            "19/20 [===========================>..] - ETA: 0s - loss: 0.0407 - accuracy: 0.9880\n",
            "Epoch 12: val_loss did not improve from 0.16060\n",
            "20/20 [==============================] - 1s 53ms/step - loss: 0.0399 - accuracy: 0.9882 - val_loss: 0.1661 - val_accuracy: 0.9633\n",
            "Epoch 13/30\n",
            "20/20 [==============================] - ETA: 0s - loss: 0.0413 - accuracy: 0.9906\n",
            "Epoch 13: val_loss did not improve from 0.16060\n",
            "20/20 [==============================] - 1s 54ms/step - loss: 0.0413 - accuracy: 0.9906 - val_loss: 0.1795 - val_accuracy: 0.9649\n",
            "Epoch 14/30\n",
            "19/20 [===========================>..] - ETA: 0s - loss: 0.0246 - accuracy: 0.9923\n",
            "Epoch 14: val_loss did not improve from 0.16060\n",
            "20/20 [==============================] - 1s 63ms/step - loss: 0.0234 - accuracy: 0.9927 - val_loss: 0.2168 - val_accuracy: 0.9499\n",
            "Epoch 15/30\n",
            "20/20 [==============================] - ETA: 0s - loss: 0.0274 - accuracy: 0.9931\n",
            "Epoch 15: val_loss did not improve from 0.16060\n",
            "20/20 [==============================] - 1s 58ms/step - loss: 0.0274 - accuracy: 0.9931 - val_loss: 0.2323 - val_accuracy: 0.9566\n",
            "Epoch 16/30\n",
            "20/20 [==============================] - ETA: 0s - loss: 0.0170 - accuracy: 0.9955\n",
            "Epoch 16: val_loss did not improve from 0.16060\n",
            "20/20 [==============================] - 1s 55ms/step - loss: 0.0170 - accuracy: 0.9955 - val_loss: 0.2106 - val_accuracy: 0.9599\n",
            "Epoch 17/30\n",
            "19/20 [===========================>..] - ETA: 0s - loss: 0.0259 - accuracy: 0.9936\n",
            "Epoch 17: val_loss did not improve from 0.16060\n",
            "20/20 [==============================] - 1s 53ms/step - loss: 0.0254 - accuracy: 0.9939 - val_loss: 0.2007 - val_accuracy: 0.9566\n",
            "Epoch 18/30\n",
            "19/20 [===========================>..] - ETA: 0s - loss: 0.0183 - accuracy: 0.9961\n",
            "Epoch 18: val_loss did not improve from 0.16060\n",
            "20/20 [==============================] - 1s 53ms/step - loss: 0.0185 - accuracy: 0.9959 - val_loss: 0.2056 - val_accuracy: 0.9599\n",
            "Epoch 19/30\n",
            "20/20 [==============================] - ETA: 0s - loss: 0.0226 - accuracy: 0.9931\n",
            "Epoch 19: val_loss did not improve from 0.16060\n",
            "20/20 [==============================] - 1s 55ms/step - loss: 0.0226 - accuracy: 0.9931 - val_loss: 0.1930 - val_accuracy: 0.9566\n",
            "Epoch 20/30\n",
            "19/20 [===========================>..] - ETA: 0s - loss: 0.0146 - accuracy: 0.9966\n",
            "Epoch 20: val_loss did not improve from 0.16060\n",
            "20/20 [==============================] - 1s 53ms/step - loss: 0.0158 - accuracy: 0.9963 - val_loss: 0.2300 - val_accuracy: 0.9599\n",
            "Epoch 21/30\n",
            "19/20 [===========================>..] - ETA: 0s - loss: 0.0143 - accuracy: 0.9970\n",
            "Epoch 21: val_loss improved from 0.16060 to 0.14926, saving model to best_weights.hdf5\n",
            "20/20 [==============================] - 1s 57ms/step - loss: 0.0140 - accuracy: 0.9972 - val_loss: 0.1493 - val_accuracy: 0.9683\n",
            "Epoch 22/30\n",
            "20/20 [==============================] - ETA: 0s - loss: 0.0151 - accuracy: 0.9959\n",
            "Epoch 22: val_loss did not improve from 0.14926\n",
            "20/20 [==============================] - 1s 53ms/step - loss: 0.0151 - accuracy: 0.9959 - val_loss: 0.2173 - val_accuracy: 0.9616\n",
            "Epoch 23/30\n",
            "20/20 [==============================] - ETA: 0s - loss: 0.0228 - accuracy: 0.9947\n",
            "Epoch 23: val_loss did not improve from 0.14926\n",
            "20/20 [==============================] - 1s 54ms/step - loss: 0.0228 - accuracy: 0.9947 - val_loss: 0.1950 - val_accuracy: 0.9616\n",
            "Epoch 24/30\n",
            "20/20 [==============================] - ETA: 0s - loss: 0.0221 - accuracy: 0.9939\n",
            "Epoch 24: val_loss did not improve from 0.14926\n",
            "20/20 [==============================] - 1s 53ms/step - loss: 0.0221 - accuracy: 0.9939 - val_loss: 0.2072 - val_accuracy: 0.9666\n",
            "Epoch 25/30\n",
            "19/20 [===========================>..] - ETA: 0s - loss: 0.0208 - accuracy: 0.9961\n",
            "Epoch 25: val_loss improved from 0.14926 to 0.14526, saving model to best_weights.hdf5\n",
            "20/20 [==============================] - 1s 59ms/step - loss: 0.0200 - accuracy: 0.9963 - val_loss: 0.1453 - val_accuracy: 0.9633\n",
            "Epoch 26/30\n",
            "19/20 [===========================>..] - ETA: 0s - loss: 0.0269 - accuracy: 0.9923\n",
            "Epoch 26: val_loss did not improve from 0.14526\n",
            "20/20 [==============================] - 1s 54ms/step - loss: 0.0256 - accuracy: 0.9927 - val_loss: 0.1610 - val_accuracy: 0.9633\n",
            "Epoch 27/30\n",
            "20/20 [==============================] - ETA: 0s - loss: 0.0143 - accuracy: 0.9955\n",
            "Epoch 27: val_loss did not improve from 0.14526\n",
            "20/20 [==============================] - 1s 55ms/step - loss: 0.0143 - accuracy: 0.9955 - val_loss: 0.1518 - val_accuracy: 0.9666\n",
            "Epoch 28/30\n",
            "19/20 [===========================>..] - ETA: 0s - loss: 0.0136 - accuracy: 0.9957\n",
            "Epoch 28: val_loss did not improve from 0.14526\n",
            "20/20 [==============================] - 1s 54ms/step - loss: 0.0132 - accuracy: 0.9959 - val_loss: 0.1910 - val_accuracy: 0.9599\n",
            "Epoch 29/30\n",
            "20/20 [==============================] - ETA: 0s - loss: 0.0095 - accuracy: 0.9984\n",
            "Epoch 29: val_loss did not improve from 0.14526\n",
            "20/20 [==============================] - 1s 53ms/step - loss: 0.0095 - accuracy: 0.9984 - val_loss: 0.1724 - val_accuracy: 0.9666\n",
            "Epoch 30/30\n",
            "20/20 [==============================] - ETA: 0s - loss: 0.0048 - accuracy: 0.9988\n",
            "Epoch 30: val_loss did not improve from 0.14526\n",
            "20/20 [==============================] - 1s 53ms/step - loss: 0.0048 - accuracy: 0.9988 - val_loss: 0.2041 - val_accuracy: 0.9616\n"
          ]
        }
      ],
      "source": [
        "callbacks = []\n",
        "\n",
        "save_best_callback = tf.keras.callbacks.ModelCheckpoint(f'best_weights.hdf5', save_best_only=True, verbose=1)\n",
        "callbacks.append(save_best_callback)\n",
        "\n",
        "early_stop_callback = tf.keras.callbacks.EarlyStopping(patience=10, restore_best_weights=True, verbose=1)\n",
        "callbacks.append(early_stop_callback)\n",
        "\n",
        "history = model.fit(train_generator, validation_data=validation_generator, epochs=30, verbose=1, callbacks=callbacks)"
      ]
    },
    {
      "cell_type": "code",
      "execution_count": 6,
      "metadata": {
        "colab": {
          "base_uri": "https://localhost:8080/"
        },
        "id": "XeT-FvMS4A51",
        "outputId": "9ae2de9b-726a-44b0-d1ab-fcd05cfc77ee"
      },
      "outputs": [
        {
          "output_type": "stream",
          "name": "stdout",
          "text": [
            "Found 2149 images belonging to 34 classes.\n",
            "68/68 [==============================] - 1s 13ms/step - loss: 0.3429 - accuracy: 0.9604\n",
            "0.9604467153549194\n"
          ]
        }
      ],
      "source": [
        "test_datagen  = ImageDataGenerator(rescale=1./255)\n",
        "test_generator =  test_datagen.flow_from_directory(test_dir,\n",
        "                                                         batch_size=32,\n",
        "                                                         class_mode  = 'categorical',\n",
        "                                                         color_mode='grayscale',\n",
        "                                                         target_size=(ts,ts)) \n",
        "loss, acc = model.evaluate(test_generator)\n",
        "print(acc)\n"
      ]
    }
  ],
  "metadata": {
    "accelerator": "GPU",
    "colab": {
      "provenance": [],
      "authorship_tag": "ABX9TyN8mKAwmyphtxMXbE1Pownt",
      "include_colab_link": true
    },
    "gpuClass": "standard",
    "kernelspec": {
      "display_name": "Python 3",
      "name": "python3"
    },
    "language_info": {
      "name": "python"
    }
  },
  "nbformat": 4,
  "nbformat_minor": 0
}