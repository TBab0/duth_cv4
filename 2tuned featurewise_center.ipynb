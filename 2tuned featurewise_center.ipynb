{
  "nbformat": 4,
  "nbformat_minor": 0,
  "metadata": {
    "colab": {
      "provenance": [],
      "authorship_tag": "ABX9TyNDvs4FQdGN++gDPf04HowF",
      "include_colab_link": true
    },
    "kernelspec": {
      "name": "python3",
      "display_name": "Python 3"
    },
    "language_info": {
      "name": "python"
    },
    "accelerator": "GPU",
    "gpuClass": "standard"
  },
  "cells": [
    {
      "cell_type": "markdown",
      "metadata": {
        "id": "view-in-github",
        "colab_type": "text"
      },
      "source": [
        "<a href=\"https://colab.research.google.com/github/TBab0/duth_cv4/blob/main/2tuned%20featurewise_center.ipynb\" target=\"_parent\"><img src=\"https://colab.research.google.com/assets/colab-badge.svg\" alt=\"Open In Colab\"/></a>"
      ]
    },
    {
      "cell_type": "code",
      "execution_count": 1,
      "metadata": {
        "id": "UOT8kGMv4SM_"
      },
      "outputs": [],
      "source": [
        "# Declare Imports\n",
        "from keras import models, regularizers, layers, optimizers, losses, metrics\n",
        "from keras.models import Sequential\n",
        "from keras.layers import Dense\n",
        "from keras.utils import np_utils, to_categorical\n",
        "from keras.preprocessing.image import ImageDataGenerator\n",
        "from keras.preprocessing import image\n",
        "from keras.applications import ResNet50\n",
        "from tensorflow.keras.applications.resnet50 import preprocess_input\n",
        "import os\n",
        "from google.colab import drive\n",
        "import zipfile\n",
        "import tensorflow as tf\n",
        "import datetime"
      ]
    },
    {
      "cell_type": "code",
      "source": [
        "# Import from drive\n",
        "drive.mount('/content/drive')\n",
        "local_zip = '/content/drive/MyDrive/Colab Notebooks/imagedb_btsd.zip'\n",
        "zip_ref = zipfile.ZipFile(local_zip, 'r')\n",
        "zip_ref.extractall('/content')\n",
        "zip_ref.close()\n",
        "\n",
        "train_dir = '/content/imagedb'\n",
        "test_dir = '/content/imagedb_test'"
      ],
      "metadata": {
        "colab": {
          "base_uri": "https://localhost:8080/"
        },
        "id": "13S1sWty4TQy",
        "outputId": "9bf2560f-46d2-4b0e-b3be-4b00d8a52863"
      },
      "execution_count": 2,
      "outputs": [
        {
          "output_type": "stream",
          "name": "stdout",
          "text": [
            "Mounted at /content/drive\n"
          ]
        }
      ]
    },
    {
      "cell_type": "code",
      "source": [
        "# Prep the Train Valid and Test directories for the generator\n",
        "batch_size = 128\n",
        "row, col, cha = 256, 256, 3\n",
        "target_size = (row, col)\n",
        "\n",
        "train_datagen = ImageDataGenerator(preprocessing_function=preprocess_input,\n",
        "                                   featurewise_center = True,\n",
        "                                   validation_split=0.2)\n",
        "\n",
        "train_generator = train_datagen.flow_from_directory(\n",
        "    train_dir,\n",
        "    target_size=target_size,\n",
        "    batch_size=batch_size,\n",
        "    class_mode='categorical',\n",
        "    subset='training', seed=1) # set as training data\n",
        "\n",
        "validation_generator = train_datagen.flow_from_directory(\n",
        "    train_dir, # same directory as training data\n",
        "    target_size=target_size,\n",
        "    batch_size=batch_size,\n",
        "    class_mode='categorical',\n",
        "    subset='validation',  seed=1) # set as validation data"
      ],
      "metadata": {
        "colab": {
          "base_uri": "https://localhost:8080/"
        },
        "id": "JSgDf_3L4THY",
        "outputId": "0ab25a9b-a102-410d-973c-f5a58dce4739"
      },
      "execution_count": 3,
      "outputs": [
        {
          "output_type": "stream",
          "name": "stdout",
          "text": [
            "Found 2457 images belonging to 34 classes.\n",
            "Found 599 images belonging to 34 classes.\n"
          ]
        }
      ]
    },
    {
      "cell_type": "code",
      "source": [
        "# Convoluted Base MODEL\n",
        "conv_base = ResNet50(weights='imagenet', include_top=False, input_shape=(row, col, cha))\n",
        "# print(conv_base.summary())\n",
        "\n",
        "# Freeze the layers\n",
        "for layer in conv_base.layers[:]:\n",
        "    layer.trainable = False\n",
        " \n",
        "# Check the trainable status of the individual layers\n",
        "# for layer in conv_base.layers:\n",
        "    # print(layer, layer.trainable)"
      ],
      "metadata": {
        "colab": {
          "base_uri": "https://localhost:8080/"
        },
        "id": "HF3aQLyw4TDS",
        "outputId": "f1b16f41-3aab-42fe-c5d7-6c34851a1853"
      },
      "execution_count": 4,
      "outputs": [
        {
          "output_type": "stream",
          "name": "stdout",
          "text": [
            "Downloading data from https://storage.googleapis.com/tensorflow/keras-applications/resnet/resnet50_weights_tf_dim_ordering_tf_kernels_notop.h5\n",
            "94765736/94765736 [==============================] - 5s 0us/step\n"
          ]
        }
      ]
    },
    {
      "cell_type": "code",
      "source": [
        "# Create the model\n",
        "model = models.Sequential()\n",
        " \n",
        "# Add the vgg convolutional base model\n",
        "model.add(conv_base)\n",
        " \n",
        "# Add new layers\n",
        "model.add(layers.Flatten())\n",
        "model.add(layers.Dense(2048, activation='relu'))\n",
        "model.add(layers.Dropout(0.5))\n",
        "model.add(layers.Dense(512, activation='relu'))\n",
        "model.add(layers.Dropout(0.5))\n",
        "model.add(layers.Dense(34, activation='softmax'))\n",
        " \n",
        "# Show a summary of the model. Check the number of trainable parameters\n",
        "model.summary()"
      ],
      "metadata": {
        "colab": {
          "base_uri": "https://localhost:8080/"
        },
        "id": "DTwiqi0l4S-z",
        "outputId": "3378a764-0e86-4d0e-f8c1-60fbeb77c36a"
      },
      "execution_count": 5,
      "outputs": [
        {
          "output_type": "stream",
          "name": "stdout",
          "text": [
            "Model: \"sequential\"\n",
            "_________________________________________________________________\n",
            " Layer (type)                Output Shape              Param #   \n",
            "=================================================================\n",
            " resnet50 (Functional)       (None, 8, 8, 2048)        23587712  \n",
            "                                                                 \n",
            " flatten (Flatten)           (None, 131072)            0         \n",
            "                                                                 \n",
            " dense (Dense)               (None, 2048)              268437504 \n",
            "                                                                 \n",
            " dropout (Dropout)           (None, 2048)              0         \n",
            "                                                                 \n",
            " dense_1 (Dense)             (None, 512)               1049088   \n",
            "                                                                 \n",
            " dropout_1 (Dropout)         (None, 512)               0         \n",
            "                                                                 \n",
            " dense_2 (Dense)             (None, 34)                17442     \n",
            "                                                                 \n",
            "=================================================================\n",
            "Total params: 293,091,746\n",
            "Trainable params: 269,504,034\n",
            "Non-trainable params: 23,587,712\n",
            "_________________________________________________________________\n"
          ]
        }
      ]
    },
    {
      "cell_type": "code",
      "source": [
        "callbacks = []\n",
        "\n",
        "save_best_callback = tf.keras.callbacks.ModelCheckpoint(f'best_weights.hdf5', save_best_only=True, verbose=1)\n",
        "callbacks.append(save_best_callback)\n",
        "\n",
        "early_stop_callback = tf.keras.callbacks.EarlyStopping(patience=5, restore_best_weights=True, verbose=1)\n",
        "callbacks.append(early_stop_callback)"
      ],
      "metadata": {
        "id": "24HhMmbQ4S8D"
      },
      "execution_count": 6,
      "outputs": []
    },
    {
      "cell_type": "code",
      "source": [
        "# Compile the model\n",
        "model.compile(loss='categorical_crossentropy', optimizer=optimizers.adam_v2.Adam(learning_rate=1e-4), metrics=['acc'])\n",
        "# Train the model\n",
        "history = model.fit_generator(train_generator, steps_per_epoch=train_generator.samples/train_generator.batch_size, epochs=30, validation_data=validation_generator, verbose=1, callbacks = callbacks)\n",
        " \n",
        "# Save the model\n",
        "model.save('small_last4.h5')"
      ],
      "metadata": {
        "colab": {
          "base_uri": "https://localhost:8080/"
        },
        "id": "AqLgCZkm4i5h",
        "outputId": "e91602a2-b3d2-43e9-f617-0a9e263465a5"
      },
      "execution_count": 7,
      "outputs": [
        {
          "output_type": "stream",
          "name": "stderr",
          "text": [
            "<ipython-input-7-24e1b0ab929e>:4: UserWarning: `Model.fit_generator` is deprecated and will be removed in a future version. Please use `Model.fit`, which supports generators.\n",
            "  history = model.fit_generator(train_generator, steps_per_epoch=train_generator.samples/train_generator.batch_size, epochs=30, validation_data=validation_generator, verbose=1, callbacks = callbacks)\n",
            "/usr/local/lib/python3.8/dist-packages/keras/preprocessing/image.py:1663: UserWarning: This ImageDataGenerator specifies `featurewise_center`, but it hasn't been fit on any training data. Fit it first by calling `.fit(numpy_data)`.\n",
            "  warnings.warn('This ImageDataGenerator specifies '\n"
          ]
        },
        {
          "output_type": "stream",
          "name": "stdout",
          "text": [
            "Epoch 1/30\n",
            "20/19 [===============================] - ETA: 0s - loss: 4.3972 - acc: 0.4949\n",
            "Epoch 1: val_loss improved from inf to 0.48415, saving model to best_weights.hdf5\n",
            "19/19 [==============================] - 46s 2s/step - loss: 4.3972 - acc: 0.4949 - val_loss: 0.4842 - val_acc: 0.8781\n",
            "Epoch 2/30\n",
            "20/19 [===============================] - ETA: 0s - loss: 1.2385 - acc: 0.7806\n",
            "Epoch 2: val_loss improved from 0.48415 to 0.35083, saving model to best_weights.hdf5\n",
            "19/19 [==============================] - 30s 2s/step - loss: 1.2385 - acc: 0.7806 - val_loss: 0.3508 - val_acc: 0.9132\n",
            "Epoch 3/30\n",
            "20/19 [===============================] - ETA: 0s - loss: 0.6791 - acc: 0.8738\n",
            "Epoch 3: val_loss did not improve from 0.35083\n",
            "19/19 [==============================] - 14s 737ms/step - loss: 0.6791 - acc: 0.8738 - val_loss: 0.3656 - val_acc: 0.9249\n",
            "Epoch 4/30\n",
            "20/19 [===============================] - ETA: 0s - loss: 0.4525 - acc: 0.9060\n",
            "Epoch 4: val_loss improved from 0.35083 to 0.28395, saving model to best_weights.hdf5\n",
            "19/19 [==============================] - 29s 2s/step - loss: 0.4525 - acc: 0.9060 - val_loss: 0.2840 - val_acc: 0.9299\n",
            "Epoch 5/30\n",
            "20/19 [===============================] - ETA: 0s - loss: 0.3686 - acc: 0.9304\n",
            "Epoch 5: val_loss did not improve from 0.28395\n",
            "19/19 [==============================] - 14s 737ms/step - loss: 0.3686 - acc: 0.9304 - val_loss: 0.3581 - val_acc: 0.9299\n",
            "Epoch 6/30\n",
            "20/19 [===============================] - ETA: 0s - loss: 0.2449 - acc: 0.9487\n",
            "Epoch 6: val_loss improved from 0.28395 to 0.24595, saving model to best_weights.hdf5\n",
            "19/19 [==============================] - 29s 2s/step - loss: 0.2449 - acc: 0.9487 - val_loss: 0.2459 - val_acc: 0.9432\n",
            "Epoch 7/30\n",
            "20/19 [===============================] - ETA: 0s - loss: 0.2297 - acc: 0.9512\n",
            "Epoch 7: val_loss did not improve from 0.24595\n",
            "19/19 [==============================] - 14s 731ms/step - loss: 0.2297 - acc: 0.9512 - val_loss: 0.2663 - val_acc: 0.9482\n",
            "Epoch 8/30\n",
            "20/19 [===============================] - ETA: 0s - loss: 0.1634 - acc: 0.9626\n",
            "Epoch 8: val_loss did not improve from 0.24595\n",
            "19/19 [==============================] - 14s 744ms/step - loss: 0.1634 - acc: 0.9626 - val_loss: 0.3259 - val_acc: 0.9299\n",
            "Epoch 9/30\n",
            "20/19 [===============================] - ETA: 0s - loss: 0.1218 - acc: 0.9711\n",
            "Epoch 9: val_loss did not improve from 0.24595\n",
            "19/19 [==============================] - 14s 743ms/step - loss: 0.1218 - acc: 0.9711 - val_loss: 0.2990 - val_acc: 0.9349\n",
            "Epoch 10/30\n",
            "20/19 [===============================] - ETA: 0s - loss: 0.1420 - acc: 0.9715\n",
            "Epoch 10: val_loss improved from 0.24595 to 0.22947, saving model to best_weights.hdf5\n",
            "19/19 [==============================] - 29s 2s/step - loss: 0.1420 - acc: 0.9715 - val_loss: 0.2295 - val_acc: 0.9482\n",
            "Epoch 11/30\n",
            "20/19 [===============================] - ETA: 0s - loss: 0.0987 - acc: 0.9748\n",
            "Epoch 11: val_loss did not improve from 0.22947\n",
            "19/19 [==============================] - 14s 729ms/step - loss: 0.0987 - acc: 0.9748 - val_loss: 0.2559 - val_acc: 0.9432\n",
            "Epoch 12/30\n",
            "20/19 [===============================] - ETA: 0s - loss: 0.1178 - acc: 0.9719\n",
            "Epoch 12: val_loss did not improve from 0.22947\n",
            "19/19 [==============================] - 14s 739ms/step - loss: 0.1178 - acc: 0.9719 - val_loss: 0.2712 - val_acc: 0.9416\n",
            "Epoch 13/30\n",
            "20/19 [===============================] - ETA: 0s - loss: 0.1144 - acc: 0.9699\n",
            "Epoch 13: val_loss did not improve from 0.22947\n",
            "19/19 [==============================] - 14s 752ms/step - loss: 0.1144 - acc: 0.9699 - val_loss: 0.2623 - val_acc: 0.9533\n",
            "Epoch 14/30\n",
            "20/19 [===============================] - ETA: 0s - loss: 0.1150 - acc: 0.9744\n",
            "Epoch 14: val_loss improved from 0.22947 to 0.22792, saving model to best_weights.hdf5\n",
            "19/19 [==============================] - 29s 2s/step - loss: 0.1150 - acc: 0.9744 - val_loss: 0.2279 - val_acc: 0.9549\n",
            "Epoch 15/30\n",
            "20/19 [===============================] - ETA: 0s - loss: 0.0759 - acc: 0.9809\n",
            "Epoch 15: val_loss did not improve from 0.22792\n",
            "19/19 [==============================] - 14s 735ms/step - loss: 0.0759 - acc: 0.9809 - val_loss: 0.3089 - val_acc: 0.9466\n",
            "Epoch 16/30\n",
            "20/19 [===============================] - ETA: 0s - loss: 0.1145 - acc: 0.9719\n",
            "Epoch 16: val_loss did not improve from 0.22792\n",
            "19/19 [==============================] - 14s 741ms/step - loss: 0.1145 - acc: 0.9719 - val_loss: 0.2694 - val_acc: 0.9432\n",
            "Epoch 17/30\n",
            "20/19 [===============================] - ETA: 0s - loss: 0.1361 - acc: 0.9731\n",
            "Epoch 17: val_loss improved from 0.22792 to 0.21449, saving model to best_weights.hdf5\n",
            "19/19 [==============================] - 29s 2s/step - loss: 0.1361 - acc: 0.9731 - val_loss: 0.2145 - val_acc: 0.9399\n",
            "Epoch 18/30\n",
            "20/19 [===============================] - ETA: 0s - loss: 0.1402 - acc: 0.9711\n",
            "Epoch 18: val_loss did not improve from 0.21449\n",
            "19/19 [==============================] - 14s 731ms/step - loss: 0.1402 - acc: 0.9711 - val_loss: 0.2760 - val_acc: 0.9482\n",
            "Epoch 19/30\n",
            "20/19 [===============================] - ETA: 0s - loss: 0.1006 - acc: 0.9796\n",
            "Epoch 19: val_loss did not improve from 0.21449\n",
            "19/19 [==============================] - 14s 742ms/step - loss: 0.1006 - acc: 0.9796 - val_loss: 0.3038 - val_acc: 0.9533\n",
            "Epoch 20/30\n",
            "20/19 [===============================] - ETA: 0s - loss: 0.1102 - acc: 0.9788\n",
            "Epoch 20: val_loss did not improve from 0.21449\n",
            "19/19 [==============================] - 14s 741ms/step - loss: 0.1102 - acc: 0.9788 - val_loss: 0.2989 - val_acc: 0.9332\n",
            "Epoch 21/30\n",
            "20/19 [===============================] - ETA: 0s - loss: 0.0934 - acc: 0.9776\n",
            "Epoch 21: val_loss did not improve from 0.21449\n",
            "19/19 [==============================] - 14s 737ms/step - loss: 0.0934 - acc: 0.9776 - val_loss: 0.2520 - val_acc: 0.9482\n",
            "Epoch 22/30\n",
            "20/19 [===============================] - ETA: 0s - loss: 0.0800 - acc: 0.9833\n",
            "Epoch 22: val_loss did not improve from 0.21449\n",
            "Restoring model weights from the end of the best epoch: 17.\n",
            "19/19 [==============================] - 14s 753ms/step - loss: 0.0800 - acc: 0.9833 - val_loss: 0.3351 - val_acc: 0.9516\n",
            "Epoch 22: early stopping\n"
          ]
        }
      ]
    },
    {
      "cell_type": "code",
      "source": [
        "# --------------------\n",
        "# Flow validation images in batches of 20 using test_datagen generator\n",
        "# --------------------\n",
        "test_datagen  = ImageDataGenerator(preprocessing_function=preprocess_input)\n",
        "test_generator =  test_datagen.flow_from_directory(test_dir,\n",
        "                                                        batch_size=128,\n",
        "                                                        class_mode='categorical',\n",
        "                                                        #  color_mode='grayscale',\n",
        "                                                         target_size=target_size) \n",
        "loss, acc = model.evaluate(test_generator)"
      ],
      "metadata": {
        "colab": {
          "base_uri": "https://localhost:8080/"
        },
        "id": "L8uZcoRg4i1m",
        "outputId": "06bf983a-f865-48fc-c871-89682b860a76"
      },
      "execution_count": 8,
      "outputs": [
        {
          "output_type": "stream",
          "name": "stdout",
          "text": [
            "Found 2149 images belonging to 34 classes.\n",
            "17/17 [==============================] - 11s 646ms/step - loss: 0.3796 - acc: 0.9404\n"
          ]
        }
      ]
    }
  ]
}