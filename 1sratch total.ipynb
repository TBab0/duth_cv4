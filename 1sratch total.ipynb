{
  "nbformat": 4,
  "nbformat_minor": 0,
  "metadata": {
    "colab": {
      "provenance": [],
      "authorship_tag": "ABX9TyOfQmJcgfA3cj4hTrkOfvoL",
      "include_colab_link": true
    },
    "kernelspec": {
      "name": "python3",
      "display_name": "Python 3"
    },
    "language_info": {
      "name": "python"
    },
    "accelerator": "GPU",
    "gpuClass": "standard"
  },
  "cells": [
    {
      "cell_type": "markdown",
      "metadata": {
        "id": "view-in-github",
        "colab_type": "text"
      },
      "source": [
        "<a href=\"https://colab.research.google.com/github/TBab0/duth_cv4/blob/main/1sratch%20total.ipynb\" target=\"_parent\"><img src=\"https://colab.research.google.com/assets/colab-badge.svg\" alt=\"Open In Colab\"/></a>"
      ]
    },
    {
      "cell_type": "code",
      "source": [
        "from google.colab import drive\n",
        "import os\n",
        "import zipfile\n",
        "from tensorflow.keras.preprocessing.image import ImageDataGenerator\n",
        "import tensorflow as tf\n",
        "import datetime"
      ],
      "metadata": {
        "id": "DTKt3q_P4BG3"
      },
      "execution_count": 1,
      "outputs": []
    },
    {
      "cell_type": "code",
      "source": [
        "drive.mount('/content/drive')\n",
        "local_zip = '/content/drive/MyDrive/imagedb_btsd.zip'\n",
        "zip_ref = zipfile.ZipFile(local_zip, 'r')\n",
        "zip_ref.extractall('/content')\n",
        "zip_ref.close()\n",
        "\n",
        "train_dir = '/content/imagedb'\n",
        "test_dir = '/content/imagedb_test'"
      ],
      "metadata": {
        "colab": {
          "base_uri": "https://localhost:8080/"
        },
        "id": "OBGivO3c4BD-",
        "outputId": "0f9b6417-5b74-4246-dcf0-3695a683cb34"
      },
      "execution_count": 2,
      "outputs": [
        {
          "output_type": "stream",
          "name": "stdout",
          "text": [
            "Mounted at /content/drive\n"
          ]
        }
      ]
    },
    {
      "cell_type": "code",
      "source": [
        "ts = 32\n",
        "# train_datagen = ImageDataGenerator(preprocessing_function=vgg16.preprocess_input, validation_split=0.2)\n",
        "train_datagen  = ImageDataGenerator(rescale=1./255,\n",
        "                                    featurewise_center = True,\n",
        "                                    featurewise_std_normalization=True,\n",
        "                                    horizontal_flip=True,\n",
        "                                    rotation_range= 20,\n",
        "                                    shear_range=0.2,\n",
        "                                    zoom_range=0.2,\n",
        "                                    validation_split=0.2)\n",
        "\n",
        "# --------------------\n",
        "# Flow training images in batches of 20 using train_datagen generator\n",
        "# --------------------\n",
        "train_generator = train_datagen.flow_from_directory(train_dir,\n",
        "                                                    batch_size=128,\n",
        "                                                    class_mode='categorical',\n",
        "                                                    color_mode='grayscale',\n",
        "                                                    target_size=(ts,ts),\n",
        "                                                    subset='training', seed=1)     \n",
        "# --------------------\n",
        "# Flow validation images in batches of 20 using test_datagen generator\n",
        "# --------------------\n",
        "validation_generator =  train_datagen.flow_from_directory(train_dir,\n",
        "                                                        batch_size=128,\n",
        "                                                        class_mode='categorical',\n",
        "                                                         color_mode='grayscale',\n",
        "                                                         target_size=(ts,ts),\n",
        "                                                        subset='validation', seed=1)"
      ],
      "metadata": {
        "colab": {
          "base_uri": "https://localhost:8080/"
        },
        "id": "5GA8in3D4BBz",
        "outputId": "8b1a41de-a81b-4738-ba6d-2b2cae88331f"
      },
      "execution_count": 3,
      "outputs": [
        {
          "output_type": "stream",
          "name": "stdout",
          "text": [
            "Found 2457 images belonging to 34 classes.\n",
            "Found 599 images belonging to 34 classes.\n"
          ]
        }
      ]
    },
    {
      "cell_type": "code",
      "source": [
        "model = tf.keras.models.Sequential([\n",
        "  tf.keras.layers.Conv2D(64, (5, 5), strides=(1, 1), activation='relu', input_shape=(ts, ts, 1)),\n",
        "  tf.keras.layers.Conv2D(64, (5, 5), strides=(1, 1), activation='relu', input_shape=(ts, ts, 1)),\n",
        "  tf.keras.layers.MaxPooling2D(pool_size=(2, 2), strides=(2, 2)),\n",
        "  # tf.keras.layers.Conv2D(64, (5, 5), strides=(1, 1), activation='relu', input_shape=(ts, ts, 1)),\n",
        "  tf.keras.layers.Flatten(),\n",
        "  tf.keras.layers.Dense(512, activation='relu'),\n",
        "  tf.keras.layers.Dropout(0.5),\n",
        "  tf.keras.layers.Dense(34, activation='softmax')\n",
        "])\n",
        "model.compile(optimizer = tf.keras.optimizers.Adam(), loss = 'categorical_crossentropy', metrics=['accuracy'])\n",
        "model.summary()"
      ],
      "metadata": {
        "colab": {
          "base_uri": "https://localhost:8080/"
        },
        "id": "5YAqCfYA4A_K",
        "outputId": "432a44b2-fbd4-41fa-8c85-3cef36ec3fa9"
      },
      "execution_count": 4,
      "outputs": [
        {
          "output_type": "stream",
          "name": "stdout",
          "text": [
            "Model: \"sequential\"\n",
            "_________________________________________________________________\n",
            " Layer (type)                Output Shape              Param #   \n",
            "=================================================================\n",
            " conv2d (Conv2D)             (None, 28, 28, 64)        1664      \n",
            "                                                                 \n",
            " conv2d_1 (Conv2D)           (None, 24, 24, 64)        102464    \n",
            "                                                                 \n",
            " max_pooling2d (MaxPooling2D  (None, 12, 12, 64)       0         \n",
            " )                                                               \n",
            "                                                                 \n",
            " flatten (Flatten)           (None, 9216)              0         \n",
            "                                                                 \n",
            " dense (Dense)               (None, 512)               4719104   \n",
            "                                                                 \n",
            " dropout (Dropout)           (None, 512)               0         \n",
            "                                                                 \n",
            " dense_1 (Dense)             (None, 34)                17442     \n",
            "                                                                 \n",
            "=================================================================\n",
            "Total params: 4,840,674\n",
            "Trainable params: 4,840,674\n",
            "Non-trainable params: 0\n",
            "_________________________________________________________________\n"
          ]
        }
      ]
    },
    {
      "cell_type": "code",
      "source": [
        "callbacks = []\n",
        "\n",
        "save_best_callback = tf.keras.callbacks.ModelCheckpoint(f'best_weights.hdf5', save_best_only=True, verbose=1)\n",
        "callbacks.append(save_best_callback)\n",
        "\n",
        "early_stop_callback = tf.keras.callbacks.EarlyStopping(patience=10, restore_best_weights=True, verbose=1)\n",
        "callbacks.append(early_stop_callback)\n",
        "\n",
        "history = model.fit(train_generator, validation_data=validation_generator, epochs=30, verbose=1, callbacks=callbacks)"
      ],
      "metadata": {
        "colab": {
          "base_uri": "https://localhost:8080/"
        },
        "id": "sLvOxsdg4A8r",
        "outputId": "2342fbbf-ff81-4f70-d513-7d069d1620a7"
      },
      "execution_count": 5,
      "outputs": [
        {
          "output_type": "stream",
          "name": "stderr",
          "text": [
            "/usr/local/lib/python3.8/dist-packages/keras/preprocessing/image.py:1663: UserWarning: This ImageDataGenerator specifies `featurewise_center`, but it hasn't been fit on any training data. Fit it first by calling `.fit(numpy_data)`.\n",
            "  warnings.warn('This ImageDataGenerator specifies '\n",
            "/usr/local/lib/python3.8/dist-packages/keras/preprocessing/image.py:1671: UserWarning: This ImageDataGenerator specifies `featurewise_std_normalization`, but it hasn't been fit on any training data. Fit it first by calling `.fit(numpy_data)`.\n",
            "  warnings.warn('This ImageDataGenerator specifies '\n"
          ]
        },
        {
          "output_type": "stream",
          "name": "stdout",
          "text": [
            "Epoch 1/30\n",
            "20/20 [==============================] - ETA: 0s - loss: 3.1477 - accuracy: 0.1905\n",
            "Epoch 1: val_loss improved from inf to 2.36084, saving model to best_weights.hdf5\n",
            "20/20 [==============================] - 11s 120ms/step - loss: 3.1477 - accuracy: 0.1905 - val_loss: 2.3608 - val_accuracy: 0.3840\n",
            "Epoch 2/30\n",
            "20/20 [==============================] - ETA: 0s - loss: 1.9363 - accuracy: 0.5035\n",
            "Epoch 2: val_loss improved from 2.36084 to 1.25891, saving model to best_weights.hdf5\n",
            "20/20 [==============================] - 2s 108ms/step - loss: 1.9363 - accuracy: 0.5035 - val_loss: 1.2589 - val_accuracy: 0.6711\n",
            "Epoch 3/30\n",
            "20/20 [==============================] - ETA: 0s - loss: 1.1998 - accuracy: 0.6720\n",
            "Epoch 3: val_loss improved from 1.25891 to 0.87297, saving model to best_weights.hdf5\n",
            "20/20 [==============================] - 2s 114ms/step - loss: 1.1998 - accuracy: 0.6720 - val_loss: 0.8730 - val_accuracy: 0.7763\n",
            "Epoch 4/30\n",
            "20/20 [==============================] - ETA: 0s - loss: 0.8665 - accuracy: 0.7591\n",
            "Epoch 4: val_loss improved from 0.87297 to 0.67596, saving model to best_weights.hdf5\n",
            "20/20 [==============================] - 2s 107ms/step - loss: 0.8665 - accuracy: 0.7591 - val_loss: 0.6760 - val_accuracy: 0.8063\n",
            "Epoch 5/30\n",
            "20/20 [==============================] - ETA: 0s - loss: 0.6920 - accuracy: 0.7977\n",
            "Epoch 5: val_loss improved from 0.67596 to 0.49669, saving model to best_weights.hdf5\n",
            "20/20 [==============================] - 2s 124ms/step - loss: 0.6920 - accuracy: 0.7977 - val_loss: 0.4967 - val_accuracy: 0.8731\n",
            "Epoch 6/30\n",
            "20/20 [==============================] - ETA: 0s - loss: 0.5497 - accuracy: 0.8331\n",
            "Epoch 6: val_loss improved from 0.49669 to 0.40545, saving model to best_weights.hdf5\n",
            "20/20 [==============================] - 2s 107ms/step - loss: 0.5497 - accuracy: 0.8331 - val_loss: 0.4054 - val_accuracy: 0.8932\n",
            "Epoch 7/30\n",
            "20/20 [==============================] - ETA: 0s - loss: 0.4365 - accuracy: 0.8694\n",
            "Epoch 7: val_loss improved from 0.40545 to 0.37575, saving model to best_weights.hdf5\n",
            "20/20 [==============================] - 2s 106ms/step - loss: 0.4365 - accuracy: 0.8694 - val_loss: 0.3758 - val_accuracy: 0.8948\n",
            "Epoch 8/30\n",
            "20/20 [==============================] - ETA: 0s - loss: 0.3816 - accuracy: 0.8913\n",
            "Epoch 8: val_loss improved from 0.37575 to 0.33605, saving model to best_weights.hdf5\n",
            "20/20 [==============================] - 2s 109ms/step - loss: 0.3816 - accuracy: 0.8913 - val_loss: 0.3360 - val_accuracy: 0.9082\n",
            "Epoch 9/30\n",
            "20/20 [==============================] - ETA: 0s - loss: 0.3358 - accuracy: 0.8991\n",
            "Epoch 9: val_loss improved from 0.33605 to 0.28127, saving model to best_weights.hdf5\n",
            "20/20 [==============================] - 2s 109ms/step - loss: 0.3358 - accuracy: 0.8991 - val_loss: 0.2813 - val_accuracy: 0.9249\n",
            "Epoch 10/30\n",
            "20/20 [==============================] - ETA: 0s - loss: 0.3016 - accuracy: 0.9153\n",
            "Epoch 10: val_loss improved from 0.28127 to 0.25483, saving model to best_weights.hdf5\n",
            "20/20 [==============================] - 2s 110ms/step - loss: 0.3016 - accuracy: 0.9153 - val_loss: 0.2548 - val_accuracy: 0.9299\n",
            "Epoch 11/30\n",
            "20/20 [==============================] - ETA: 0s - loss: 0.2779 - accuracy: 0.9186\n",
            "Epoch 11: val_loss improved from 0.25483 to 0.25324, saving model to best_weights.hdf5\n",
            "20/20 [==============================] - 2s 107ms/step - loss: 0.2779 - accuracy: 0.9186 - val_loss: 0.2532 - val_accuracy: 0.9316\n",
            "Epoch 12/30\n",
            "20/20 [==============================] - ETA: 0s - loss: 0.2349 - accuracy: 0.9251\n",
            "Epoch 12: val_loss improved from 0.25324 to 0.22744, saving model to best_weights.hdf5\n",
            "20/20 [==============================] - 2s 108ms/step - loss: 0.2349 - accuracy: 0.9251 - val_loss: 0.2274 - val_accuracy: 0.9265\n",
            "Epoch 13/30\n",
            "20/20 [==============================] - ETA: 0s - loss: 0.2525 - accuracy: 0.9243\n",
            "Epoch 13: val_loss improved from 0.22744 to 0.20052, saving model to best_weights.hdf5\n",
            "20/20 [==============================] - 2s 107ms/step - loss: 0.2525 - accuracy: 0.9243 - val_loss: 0.2005 - val_accuracy: 0.9482\n",
            "Epoch 14/30\n",
            "20/20 [==============================] - ETA: 0s - loss: 0.2111 - accuracy: 0.9385\n",
            "Epoch 14: val_loss did not improve from 0.20052\n",
            "20/20 [==============================] - 2s 101ms/step - loss: 0.2111 - accuracy: 0.9385 - val_loss: 0.2145 - val_accuracy: 0.9449\n",
            "Epoch 15/30\n",
            "20/20 [==============================] - ETA: 0s - loss: 0.1967 - accuracy: 0.9418\n",
            "Epoch 15: val_loss did not improve from 0.20052\n",
            "20/20 [==============================] - 2s 100ms/step - loss: 0.1967 - accuracy: 0.9418 - val_loss: 0.2250 - val_accuracy: 0.9349\n",
            "Epoch 16/30\n",
            "20/20 [==============================] - ETA: 0s - loss: 0.1724 - accuracy: 0.9471\n",
            "Epoch 16: val_loss improved from 0.20052 to 0.17019, saving model to best_weights.hdf5\n",
            "20/20 [==============================] - 2s 112ms/step - loss: 0.1724 - accuracy: 0.9471 - val_loss: 0.1702 - val_accuracy: 0.9499\n",
            "Epoch 17/30\n",
            "20/20 [==============================] - ETA: 0s - loss: 0.1829 - accuracy: 0.9410\n",
            "Epoch 17: val_loss did not improve from 0.17019\n",
            "20/20 [==============================] - 2s 101ms/step - loss: 0.1829 - accuracy: 0.9410 - val_loss: 0.1945 - val_accuracy: 0.9416\n",
            "Epoch 18/30\n",
            "19/20 [===========================>..] - ETA: 0s - loss: 0.1538 - accuracy: 0.9552\n",
            "Epoch 18: val_loss did not improve from 0.17019\n",
            "20/20 [==============================] - 2s 104ms/step - loss: 0.1556 - accuracy: 0.9548 - val_loss: 0.2498 - val_accuracy: 0.9399\n",
            "Epoch 19/30\n",
            "20/20 [==============================] - ETA: 0s - loss: 0.1455 - accuracy: 0.9569\n",
            "Epoch 19: val_loss did not improve from 0.17019\n",
            "20/20 [==============================] - 2s 103ms/step - loss: 0.1455 - accuracy: 0.9569 - val_loss: 0.2127 - val_accuracy: 0.9432\n",
            "Epoch 20/30\n",
            "20/20 [==============================] - ETA: 0s - loss: 0.1417 - accuracy: 0.9581\n",
            "Epoch 20: val_loss did not improve from 0.17019\n",
            "20/20 [==============================] - 2s 101ms/step - loss: 0.1417 - accuracy: 0.9581 - val_loss: 0.1871 - val_accuracy: 0.9482\n",
            "Epoch 21/30\n",
            "20/20 [==============================] - ETA: 0s - loss: 0.1351 - accuracy: 0.9621\n",
            "Epoch 21: val_loss did not improve from 0.17019\n",
            "20/20 [==============================] - 2s 102ms/step - loss: 0.1351 - accuracy: 0.9621 - val_loss: 0.2308 - val_accuracy: 0.9382\n",
            "Epoch 22/30\n",
            "20/20 [==============================] - ETA: 0s - loss: 0.1000 - accuracy: 0.9670\n",
            "Epoch 22: val_loss did not improve from 0.17019\n",
            "20/20 [==============================] - 2s 101ms/step - loss: 0.1000 - accuracy: 0.9670 - val_loss: 0.2191 - val_accuracy: 0.9516\n",
            "Epoch 23/30\n",
            "20/20 [==============================] - ETA: 0s - loss: 0.1092 - accuracy: 0.9703\n",
            "Epoch 23: val_loss did not improve from 0.17019\n",
            "20/20 [==============================] - 2s 102ms/step - loss: 0.1092 - accuracy: 0.9703 - val_loss: 0.1884 - val_accuracy: 0.9466\n",
            "Epoch 24/30\n",
            "20/20 [==============================] - ETA: 0s - loss: 0.1098 - accuracy: 0.9683\n",
            "Epoch 24: val_loss did not improve from 0.17019\n",
            "20/20 [==============================] - 2s 102ms/step - loss: 0.1098 - accuracy: 0.9683 - val_loss: 0.1787 - val_accuracy: 0.9432\n",
            "Epoch 25/30\n",
            "20/20 [==============================] - ETA: 0s - loss: 0.1034 - accuracy: 0.9654\n",
            "Epoch 25: val_loss did not improve from 0.17019\n",
            "20/20 [==============================] - 2s 101ms/step - loss: 0.1034 - accuracy: 0.9654 - val_loss: 0.1865 - val_accuracy: 0.9482\n",
            "Epoch 26/30\n",
            "20/20 [==============================] - ETA: 0s - loss: 0.0976 - accuracy: 0.9715\n",
            "Epoch 26: val_loss did not improve from 0.17019\n",
            "Restoring model weights from the end of the best epoch: 16.\n",
            "20/20 [==============================] - 2s 105ms/step - loss: 0.0976 - accuracy: 0.9715 - val_loss: 0.2168 - val_accuracy: 0.9466\n",
            "Epoch 26: early stopping\n"
          ]
        }
      ]
    },
    {
      "cell_type": "code",
      "source": [
        "test_datagen  = ImageDataGenerator(rescale=1./255)\n",
        "test_generator =  test_datagen.flow_from_directory(test_dir,\n",
        "                                                         batch_size=32,\n",
        "                                                         class_mode  = 'categorical',\n",
        "                                                         color_mode='grayscale',\n",
        "                                                         target_size=(ts,ts)) \n",
        "loss, acc = model.evaluate(test_generator)\n",
        "print(acc)\n"
      ],
      "metadata": {
        "colab": {
          "base_uri": "https://localhost:8080/"
        },
        "id": "XeT-FvMS4A51",
        "outputId": "94d41d11-d819-4c32-d230-db332fafa3a0"
      },
      "execution_count": 6,
      "outputs": [
        {
          "output_type": "stream",
          "name": "stdout",
          "text": [
            "Found 2149 images belonging to 34 classes.\n",
            "68/68 [==============================] - 1s 13ms/step - loss: 0.1620 - accuracy: 0.9674\n",
            "0.9674267172813416\n"
          ]
        }
      ]
    }
  ]
}