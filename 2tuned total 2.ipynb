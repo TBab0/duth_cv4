{
  "nbformat": 4,
  "nbformat_minor": 0,
  "metadata": {
    "colab": {
      "provenance": [],
      "authorship_tag": "ABX9TyPEsAWkXEN7+YfaWoYb/3sH",
      "include_colab_link": true
    },
    "kernelspec": {
      "name": "python3",
      "display_name": "Python 3"
    },
    "language_info": {
      "name": "python"
    },
    "accelerator": "GPU",
    "gpuClass": "standard"
  },
  "cells": [
    {
      "cell_type": "markdown",
      "metadata": {
        "id": "view-in-github",
        "colab_type": "text"
      },
      "source": [
        "<a href=\"https://colab.research.google.com/github/TBab0/duth_cv4/blob/main/2tuned%20total%202.ipynb\" target=\"_parent\"><img src=\"https://colab.research.google.com/assets/colab-badge.svg\" alt=\"Open In Colab\"/></a>"
      ]
    },
    {
      "cell_type": "code",
      "execution_count": 1,
      "metadata": {
        "id": "46--Gy83oQwe"
      },
      "outputs": [],
      "source": [
        "# Declare Imports\n",
        "from keras import models, regularizers, layers, optimizers, losses, metrics\n",
        "from keras.models import Sequential\n",
        "from keras.layers import Dense\n",
        "from keras.utils import np_utils, to_categorical\n",
        "from keras.preprocessing.image import ImageDataGenerator\n",
        "from keras.preprocessing import image\n",
        "from keras.applications import ResNet50\n",
        "from tensorflow.keras.applications.resnet50 import preprocess_input\n",
        "import os\n",
        "from google.colab import drive\n",
        "import zipfile\n",
        "import tensorflow as tf\n",
        "import datetime"
      ]
    },
    {
      "cell_type": "code",
      "source": [
        "# Import from drive\n",
        "drive.mount('/content/drive')\n",
        "local_zip = '/content/drive/MyDrive/Colab Notebooks/imagedb_btsd.zip'\n",
        "zip_ref = zipfile.ZipFile(local_zip, 'r')\n",
        "zip_ref.extractall('/content')\n",
        "zip_ref.close()\n",
        "\n",
        "train_dir = '/content/imagedb'\n",
        "test_dir = '/content/imagedb_test'"
      ],
      "metadata": {
        "colab": {
          "base_uri": "https://localhost:8080/"
        },
        "id": "SColed9aocTn",
        "outputId": "46a594cc-49ab-4f83-fed8-f97e6a1f53ca"
      },
      "execution_count": 2,
      "outputs": [
        {
          "output_type": "stream",
          "name": "stdout",
          "text": [
            "Mounted at /content/drive\n"
          ]
        }
      ]
    },
    {
      "cell_type": "code",
      "source": [
        "# Prep the Train Valid and Test directories for the generator\n",
        "batch_size = 128\n",
        "row, col, cha = 256, 256, 3\n",
        "target_size = (row, col)\n",
        "\n",
        "train_datagen = ImageDataGenerator(preprocessing_function=preprocess_input,\n",
        "                                   rotation_range= 20,\n",
        "                                   width_shift_range=0.2,\n",
        "                                   zoom_range=0.2,\n",
        "                                   validation_split=0.2)\n",
        "\n",
        "train_generator = train_datagen.flow_from_directory(\n",
        "    train_dir,\n",
        "    target_size=target_size,\n",
        "    batch_size=batch_size,\n",
        "    class_mode='categorical',\n",
        "    subset='training', seed=1) # set as training data\n",
        "\n",
        "validation_generator = train_datagen.flow_from_directory(\n",
        "    train_dir, # same directory as training data\n",
        "    target_size=target_size,\n",
        "    batch_size=batch_size,\n",
        "    class_mode='categorical',\n",
        "    subset='validation',  seed=1) # set as validation data"
      ],
      "metadata": {
        "colab": {
          "base_uri": "https://localhost:8080/"
        },
        "id": "uEcv2NCMocRR",
        "outputId": "8fd5b8d4-92c5-4e51-fc77-d77c81b38335"
      },
      "execution_count": 3,
      "outputs": [
        {
          "output_type": "stream",
          "name": "stdout",
          "text": [
            "Found 2457 images belonging to 34 classes.\n",
            "Found 599 images belonging to 34 classes.\n"
          ]
        }
      ]
    },
    {
      "cell_type": "code",
      "source": [
        "# Convoluted Base MODEL\n",
        "conv_base = ResNet50(weights='imagenet', include_top=False, input_shape=(row, col, cha))\n",
        "# print(conv_base.summary())\n",
        "\n",
        "# Freeze the layers\n",
        "for layer in conv_base.layers[:]:\n",
        "    layer.trainable = False\n",
        " \n",
        "# Check the trainable status of the individual layers\n",
        "# for layer in conv_base.layers:\n",
        "    # print(layer, layer.trainable)"
      ],
      "metadata": {
        "colab": {
          "base_uri": "https://localhost:8080/"
        },
        "id": "egImsVVaocOw",
        "outputId": "31e20250-d3e9-46f4-d02e-c9bd06d1dcb9"
      },
      "execution_count": 4,
      "outputs": [
        {
          "output_type": "stream",
          "name": "stdout",
          "text": [
            "Downloading data from https://storage.googleapis.com/tensorflow/keras-applications/resnet/resnet50_weights_tf_dim_ordering_tf_kernels_notop.h5\n",
            "94765736/94765736 [==============================] - 4s 0us/step\n"
          ]
        }
      ]
    },
    {
      "cell_type": "code",
      "source": [
        "# Create the model\n",
        "model = models.Sequential()\n",
        " \n",
        "# Add the vgg convolutional base model\n",
        "model.add(conv_base)\n",
        " \n",
        "# Add new layers\n",
        "model.add(layers.Flatten())\n",
        "model.add(layers.Dense(2048, activation='relu'))\n",
        "model.add(layers.Dropout(0.5))\n",
        "model.add(layers.Dense(512, activation='relu'))\n",
        "model.add(layers.Dropout(0.5))\n",
        "model.add(layers.Dense(34, activation='softmax'))\n",
        " \n",
        "# Show a summary of the model. Check the number of trainable parameters\n",
        "model.summary()"
      ],
      "metadata": {
        "colab": {
          "base_uri": "https://localhost:8080/"
        },
        "id": "Vbn1a9wBocMe",
        "outputId": "79526d04-1642-4966-d138-5ac80ead3538"
      },
      "execution_count": 5,
      "outputs": [
        {
          "output_type": "stream",
          "name": "stdout",
          "text": [
            "Model: \"sequential\"\n",
            "_________________________________________________________________\n",
            " Layer (type)                Output Shape              Param #   \n",
            "=================================================================\n",
            " resnet50 (Functional)       (None, 8, 8, 2048)        23587712  \n",
            "                                                                 \n",
            " flatten (Flatten)           (None, 131072)            0         \n",
            "                                                                 \n",
            " dense (Dense)               (None, 2048)              268437504 \n",
            "                                                                 \n",
            " dropout (Dropout)           (None, 2048)              0         \n",
            "                                                                 \n",
            " dense_1 (Dense)             (None, 512)               1049088   \n",
            "                                                                 \n",
            " dropout_1 (Dropout)         (None, 512)               0         \n",
            "                                                                 \n",
            " dense_2 (Dense)             (None, 34)                17442     \n",
            "                                                                 \n",
            "=================================================================\n",
            "Total params: 293,091,746\n",
            "Trainable params: 269,504,034\n",
            "Non-trainable params: 23,587,712\n",
            "_________________________________________________________________\n"
          ]
        }
      ]
    },
    {
      "cell_type": "code",
      "source": [
        "callbacks = []\n",
        "\n",
        "save_best_callback = tf.keras.callbacks.ModelCheckpoint(f'best_weights.hdf5', save_best_only=True, verbose=1)\n",
        "callbacks.append(save_best_callback)\n",
        "\n",
        "early_stop_callback = tf.keras.callbacks.EarlyStopping(patience=5, restore_best_weights=True, verbose=1)\n",
        "callbacks.append(early_stop_callback)"
      ],
      "metadata": {
        "id": "f-5pn8aWocKD"
      },
      "execution_count": 6,
      "outputs": []
    },
    {
      "cell_type": "code",
      "source": [
        "# Compile the model\n",
        "model.compile(loss='categorical_crossentropy', optimizer=optimizers.adam_v2.Adam(learning_rate=1e-4), metrics=['acc'])\n",
        "# Train the model\n",
        "history = model.fit_generator(train_generator, steps_per_epoch=train_generator.samples/train_generator.batch_size, epochs=30, validation_data=validation_generator, verbose=1, callbacks = callbacks)\n",
        " \n",
        "# Save the model\n",
        "model.save('small_last4.h5')"
      ],
      "metadata": {
        "colab": {
          "base_uri": "https://localhost:8080/"
        },
        "id": "qOJuLMtQocHt",
        "outputId": "e078f370-07bf-48c4-9c1b-b725b31dfcff"
      },
      "execution_count": 7,
      "outputs": [
        {
          "output_type": "stream",
          "name": "stderr",
          "text": [
            "<ipython-input-7-24e1b0ab929e>:4: UserWarning: `Model.fit_generator` is deprecated and will be removed in a future version. Please use `Model.fit`, which supports generators.\n",
            "  history = model.fit_generator(train_generator, steps_per_epoch=train_generator.samples/train_generator.batch_size, epochs=30, validation_data=validation_generator, verbose=1, callbacks = callbacks)\n"
          ]
        },
        {
          "output_type": "stream",
          "name": "stdout",
          "text": [
            "Epoch 1/30\n",
            "20/19 [===============================] - ETA: -1s - loss: 5.4180 - acc: 0.3350\n",
            "Epoch 1: val_loss improved from inf to 0.99916, saving model to best_weights.hdf5\n",
            "19/19 [==============================] - 77s 3s/step - loss: 5.4180 - acc: 0.3350 - val_loss: 0.9992 - val_acc: 0.7479\n",
            "Epoch 2/30\n",
            "20/19 [===============================] - ETA: -1s - loss: 2.3713 - acc: 0.5722\n",
            "Epoch 2: val_loss improved from 0.99916 to 0.61497, saving model to best_weights.hdf5\n",
            "19/19 [==============================] - 64s 3s/step - loss: 2.3713 - acc: 0.5722 - val_loss: 0.6150 - val_acc: 0.8347\n",
            "Epoch 3/30\n",
            "20/19 [===============================] - ETA: -1s - loss: 1.4168 - acc: 0.6874\n",
            "Epoch 3: val_loss improved from 0.61497 to 0.49177, saving model to best_weights.hdf5\n",
            "19/19 [==============================] - 63s 3s/step - loss: 1.4168 - acc: 0.6874 - val_loss: 0.4918 - val_acc: 0.8698\n",
            "Epoch 4/30\n",
            "20/19 [===============================] - ETA: -1s - loss: 1.1374 - acc: 0.7391\n",
            "Epoch 4: val_loss improved from 0.49177 to 0.45583, saving model to best_weights.hdf5\n",
            "19/19 [==============================] - 62s 3s/step - loss: 1.1374 - acc: 0.7391 - val_loss: 0.4558 - val_acc: 0.8681\n",
            "Epoch 5/30\n",
            "20/19 [===============================] - ETA: -1s - loss: 0.9310 - acc: 0.7705\n",
            "Epoch 5: val_loss improved from 0.45583 to 0.43793, saving model to best_weights.hdf5\n",
            "19/19 [==============================] - 62s 3s/step - loss: 0.9310 - acc: 0.7705 - val_loss: 0.4379 - val_acc: 0.8765\n",
            "Epoch 6/30\n",
            "20/19 [===============================] - ETA: -1s - loss: 0.8019 - acc: 0.8014\n",
            "Epoch 6: val_loss improved from 0.43793 to 0.31343, saving model to best_weights.hdf5\n",
            "19/19 [==============================] - 63s 3s/step - loss: 0.8019 - acc: 0.8014 - val_loss: 0.3134 - val_acc: 0.9132\n",
            "Epoch 7/30\n",
            "20/19 [===============================] - ETA: -1s - loss: 0.7065 - acc: 0.8042\n",
            "Epoch 7: val_loss improved from 0.31343 to 0.30551, saving model to best_weights.hdf5\n",
            "19/19 [==============================] - 62s 3s/step - loss: 0.7065 - acc: 0.8042 - val_loss: 0.3055 - val_acc: 0.9098\n",
            "Epoch 8/30\n",
            "20/19 [===============================] - ETA: -1s - loss: 0.6090 - acc: 0.8368\n",
            "Epoch 8: val_loss did not improve from 0.30551\n",
            "19/19 [==============================] - 48s 3s/step - loss: 0.6090 - acc: 0.8368 - val_loss: 0.3074 - val_acc: 0.9132\n",
            "Epoch 9/30\n",
            "20/19 [===============================] - ETA: -1s - loss: 0.5899 - acc: 0.8433\n",
            "Epoch 9: val_loss did not improve from 0.30551\n",
            "19/19 [==============================] - 47s 2s/step - loss: 0.5899 - acc: 0.8433 - val_loss: 0.3215 - val_acc: 0.9149\n",
            "Epoch 10/30\n",
            "20/19 [===============================] - ETA: -1s - loss: 0.5007 - acc: 0.8567\n",
            "Epoch 10: val_loss improved from 0.30551 to 0.27461, saving model to best_weights.hdf5\n",
            "19/19 [==============================] - 61s 3s/step - loss: 0.5007 - acc: 0.8567 - val_loss: 0.2746 - val_acc: 0.9232\n",
            "Epoch 11/30\n",
            "20/19 [===============================] - ETA: -1s - loss: 0.4451 - acc: 0.8799\n",
            "Epoch 11: val_loss did not improve from 0.27461\n",
            "19/19 [==============================] - 48s 2s/step - loss: 0.4451 - acc: 0.8799 - val_loss: 0.2807 - val_acc: 0.9265\n",
            "Epoch 12/30\n",
            "20/19 [===============================] - ETA: -1s - loss: 0.4440 - acc: 0.8751\n",
            "Epoch 12: val_loss did not improve from 0.27461\n",
            "19/19 [==============================] - 46s 2s/step - loss: 0.4440 - acc: 0.8751 - val_loss: 0.3001 - val_acc: 0.9215\n",
            "Epoch 13/30\n",
            "20/19 [===============================] - ETA: -1s - loss: 0.4003 - acc: 0.8958\n",
            "Epoch 13: val_loss improved from 0.27461 to 0.23696, saving model to best_weights.hdf5\n",
            "19/19 [==============================] - 61s 3s/step - loss: 0.4003 - acc: 0.8958 - val_loss: 0.2370 - val_acc: 0.9332\n",
            "Epoch 14/30\n",
            "20/19 [===============================] - ETA: -1s - loss: 0.3650 - acc: 0.8958\n",
            "Epoch 14: val_loss did not improve from 0.23696\n",
            "19/19 [==============================] - 45s 2s/step - loss: 0.3650 - acc: 0.8958 - val_loss: 0.2618 - val_acc: 0.9282\n",
            "Epoch 15/30\n",
            "20/19 [===============================] - ETA: -1s - loss: 0.3458 - acc: 0.9019\n",
            "Epoch 15: val_loss did not improve from 0.23696\n",
            "19/19 [==============================] - 45s 2s/step - loss: 0.3458 - acc: 0.9019 - val_loss: 0.2505 - val_acc: 0.9199\n",
            "Epoch 16/30\n",
            "20/19 [===============================] - ETA: -1s - loss: 0.3094 - acc: 0.9117\n",
            "Epoch 16: val_loss did not improve from 0.23696\n",
            "19/19 [==============================] - 45s 2s/step - loss: 0.3094 - acc: 0.9117 - val_loss: 0.2564 - val_acc: 0.9215\n",
            "Epoch 17/30\n",
            "20/19 [===============================] - ETA: -1s - loss: 0.3173 - acc: 0.9080\n",
            "Epoch 17: val_loss improved from 0.23696 to 0.23238, saving model to best_weights.hdf5\n",
            "19/19 [==============================] - 60s 3s/step - loss: 0.3173 - acc: 0.9080 - val_loss: 0.2324 - val_acc: 0.9299\n",
            "Epoch 18/30\n",
            "20/19 [===============================] - ETA: -1s - loss: 0.3355 - acc: 0.9105\n",
            "Epoch 18: val_loss improved from 0.23238 to 0.22044, saving model to best_weights.hdf5\n",
            "19/19 [==============================] - 60s 3s/step - loss: 0.3355 - acc: 0.9105 - val_loss: 0.2204 - val_acc: 0.9399\n",
            "Epoch 19/30\n",
            "20/19 [===============================] - ETA: -1s - loss: 0.2938 - acc: 0.9198\n",
            "Epoch 19: val_loss did not improve from 0.22044\n",
            "19/19 [==============================] - 45s 2s/step - loss: 0.2938 - acc: 0.9198 - val_loss: 0.2630 - val_acc: 0.9332\n",
            "Epoch 20/30\n",
            "20/19 [===============================] - ETA: -1s - loss: 0.2649 - acc: 0.9239\n",
            "Epoch 20: val_loss improved from 0.22044 to 0.20363, saving model to best_weights.hdf5\n",
            "19/19 [==============================] - 60s 3s/step - loss: 0.2649 - acc: 0.9239 - val_loss: 0.2036 - val_acc: 0.9416\n",
            "Epoch 21/30\n",
            "20/19 [===============================] - ETA: -1s - loss: 0.2567 - acc: 0.9304\n",
            "Epoch 21: val_loss did not improve from 0.20363\n",
            "19/19 [==============================] - 45s 2s/step - loss: 0.2567 - acc: 0.9304 - val_loss: 0.2101 - val_acc: 0.9349\n",
            "Epoch 22/30\n",
            "20/19 [===============================] - ETA: -1s - loss: 0.2808 - acc: 0.9239\n",
            "Epoch 22: val_loss did not improve from 0.20363\n",
            "19/19 [==============================] - 45s 2s/step - loss: 0.2808 - acc: 0.9239 - val_loss: 0.2071 - val_acc: 0.9382\n",
            "Epoch 23/30\n",
            "20/19 [===============================] - ETA: -1s - loss: 0.3059 - acc: 0.9214\n",
            "Epoch 23: val_loss did not improve from 0.20363\n",
            "19/19 [==============================] - 45s 2s/step - loss: 0.3059 - acc: 0.9214 - val_loss: 0.2976 - val_acc: 0.9182\n",
            "Epoch 24/30\n",
            "20/19 [===============================] - ETA: -1s - loss: 0.2634 - acc: 0.9320\n",
            "Epoch 24: val_loss did not improve from 0.20363\n",
            "19/19 [==============================] - 46s 2s/step - loss: 0.2634 - acc: 0.9320 - val_loss: 0.2796 - val_acc: 0.9232\n",
            "Epoch 25/30\n",
            "20/19 [===============================] - ETA: -1s - loss: 0.2625 - acc: 0.9320\n",
            "Epoch 25: val_loss did not improve from 0.20363\n",
            "Restoring model weights from the end of the best epoch: 20.\n",
            "19/19 [==============================] - 46s 2s/step - loss: 0.2625 - acc: 0.9320 - val_loss: 0.2464 - val_acc: 0.9349\n",
            "Epoch 25: early stopping\n"
          ]
        }
      ]
    },
    {
      "cell_type": "code",
      "source": [
        "# --------------------\n",
        "# Flow validation images in batches of 20 using test_datagen generator\n",
        "# --------------------\n",
        "test_datagen  = ImageDataGenerator(preprocessing_function=preprocess_input)\n",
        "test_generator =  test_datagen.flow_from_directory(test_dir,\n",
        "                                                        batch_size=128,\n",
        "                                                        class_mode='categorical',\n",
        "                                                        #  color_mode='grayscale',\n",
        "                                                         target_size=target_size) \n",
        "loss, acc = model.evaluate(test_generator)"
      ],
      "metadata": {
        "colab": {
          "base_uri": "https://localhost:8080/"
        },
        "id": "r2SxI0WzocFN",
        "outputId": "957d4b81-d77b-4cc1-e430-b4d7a02a0917"
      },
      "execution_count": 8,
      "outputs": [
        {
          "output_type": "stream",
          "name": "stdout",
          "text": [
            "Found 2149 images belonging to 34 classes.\n",
            "17/17 [==============================] - 12s 705ms/step - loss: 0.2687 - acc: 0.9232\n"
          ]
        }
      ]
    }
  ]
}