{
  "nbformat": 4,
  "nbformat_minor": 0,
  "metadata": {
    "colab": {
      "provenance": [],
      "authorship_tag": "ABX9TyOZF40pdY9757tKnmzr6o2G",
      "include_colab_link": true
    },
    "kernelspec": {
      "name": "python3",
      "display_name": "Python 3"
    },
    "language_info": {
      "name": "python"
    },
    "accelerator": "GPU",
    "gpuClass": "standard"
  },
  "cells": [
    {
      "cell_type": "markdown",
      "metadata": {
        "id": "view-in-github",
        "colab_type": "text"
      },
      "source": [
        "<a href=\"https://colab.research.google.com/github/TBab0/duth_cv4/blob/main/1sratch%20shuffle.ipynb\" target=\"_parent\"><img src=\"https://colab.research.google.com/assets/colab-badge.svg\" alt=\"Open In Colab\"/></a>"
      ]
    },
    {
      "cell_type": "code",
      "source": [
        "from google.colab import drive\n",
        "import os\n",
        "import zipfile\n",
        "from tensorflow.keras.preprocessing.image import ImageDataGenerator\n",
        "import tensorflow as tf\n",
        "import datetime"
      ],
      "metadata": {
        "id": "DTKt3q_P4BG3"
      },
      "execution_count": 3,
      "outputs": []
    },
    {
      "cell_type": "code",
      "source": [
        "drive.mount('/content/drive')\n",
        "local_zip = '/content/drive/MyDrive/imagedb_btsd.zip'\n",
        "zip_ref = zipfile.ZipFile(local_zip, 'r')\n",
        "zip_ref.extractall('/content')\n",
        "zip_ref.close()\n",
        "\n",
        "train_dir = '/content/imagedb'\n",
        "test_dir = '/content/imagedb_test'"
      ],
      "metadata": {
        "colab": {
          "base_uri": "https://localhost:8080/"
        },
        "id": "OBGivO3c4BD-",
        "outputId": "e514ca7f-66c2-4c30-8764-de4ba687e9aa"
      },
      "execution_count": 4,
      "outputs": [
        {
          "output_type": "stream",
          "name": "stdout",
          "text": [
            "Drive already mounted at /content/drive; to attempt to forcibly remount, call drive.mount(\"/content/drive\", force_remount=True).\n"
          ]
        }
      ]
    },
    {
      "cell_type": "code",
      "source": [
        "ts = 32\n",
        "# train_datagen = ImageDataGenerator(preprocessing_function=vgg16.preprocess_input, validation_split=0.2)\n",
        "train_datagen  = ImageDataGenerator(rescale=1./255, validation_split=0.2)\n",
        "\n",
        "# --------------------\n",
        "# Flow training images in batches of 20 using train_datagen generator\n",
        "# --------------------\n",
        "train_generator = train_datagen.flow_from_directory(train_dir,\n",
        "                                                    batch_size=128,\n",
        "                                                    class_mode='categorical',\n",
        "                                                    color_mode='grayscale',\n",
        "                                                    target_size=(ts,ts),\n",
        "                                                    shuffle=True,\n",
        "                                                    subset='training', seed=1)     \n",
        "# --------------------\n",
        "# Flow validation images in batches of 20 using test_datagen generator\n",
        "# --------------------\n",
        "validation_generator =  train_datagen.flow_from_directory(train_dir,\n",
        "                                                        batch_size=128,\n",
        "                                                        class_mode='categorical',\n",
        "                                                         color_mode='grayscale',\n",
        "                                                         target_size=(ts,ts),\n",
        "                                                        subset='validation', seed=1)"
      ],
      "metadata": {
        "colab": {
          "base_uri": "https://localhost:8080/"
        },
        "id": "5GA8in3D4BBz",
        "outputId": "9b21789d-b332-44d9-b621-8a6374fada4b"
      },
      "execution_count": 5,
      "outputs": [
        {
          "output_type": "stream",
          "name": "stdout",
          "text": [
            "Found 2457 images belonging to 34 classes.\n",
            "Found 599 images belonging to 34 classes.\n"
          ]
        }
      ]
    },
    {
      "cell_type": "code",
      "source": [
        "model = tf.keras.models.Sequential([\n",
        "  tf.keras.layers.Conv2D(64, (5, 5), strides=(1, 1), activation='relu', input_shape=(ts, ts, 1)),\n",
        "  tf.keras.layers.Conv2D(64, (5, 5), strides=(1, 1), activation='relu', input_shape=(ts, ts, 1)),\n",
        "  tf.keras.layers.MaxPooling2D(pool_size=(2, 2), strides=(2, 2)),\n",
        "  # tf.keras.layers.Conv2D(64, (5, 5), strides=(1, 1), activation='relu', input_shape=(ts, ts, 1)),\n",
        "  tf.keras.layers.Flatten(),\n",
        "  tf.keras.layers.Dense(512, activation='relu'),\n",
        "  tf.keras.layers.Dropout(0.5),\n",
        "  tf.keras.layers.Dense(34, activation='softmax')\n",
        "])\n",
        "model.compile(optimizer = tf.keras.optimizers.Adam(), loss = 'categorical_crossentropy', metrics=['accuracy'])\n",
        "model.summary()"
      ],
      "metadata": {
        "colab": {
          "base_uri": "https://localhost:8080/"
        },
        "id": "5YAqCfYA4A_K",
        "outputId": "db0043d3-99ee-4d6b-d676-4a76920a85e9"
      },
      "execution_count": 6,
      "outputs": [
        {
          "output_type": "stream",
          "name": "stdout",
          "text": [
            "Model: \"sequential\"\n",
            "_________________________________________________________________\n",
            " Layer (type)                Output Shape              Param #   \n",
            "=================================================================\n",
            " conv2d (Conv2D)             (None, 28, 28, 64)        1664      \n",
            "                                                                 \n",
            " conv2d_1 (Conv2D)           (None, 24, 24, 64)        102464    \n",
            "                                                                 \n",
            " max_pooling2d (MaxPooling2D  (None, 12, 12, 64)       0         \n",
            " )                                                               \n",
            "                                                                 \n",
            " flatten (Flatten)           (None, 9216)              0         \n",
            "                                                                 \n",
            " dense (Dense)               (None, 512)               4719104   \n",
            "                                                                 \n",
            " dropout (Dropout)           (None, 512)               0         \n",
            "                                                                 \n",
            " dense_1 (Dense)             (None, 34)                17442     \n",
            "                                                                 \n",
            "=================================================================\n",
            "Total params: 4,840,674\n",
            "Trainable params: 4,840,674\n",
            "Non-trainable params: 0\n",
            "_________________________________________________________________\n"
          ]
        }
      ]
    },
    {
      "cell_type": "code",
      "source": [
        "callbacks = []\n",
        "\n",
        "save_best_callback = tf.keras.callbacks.ModelCheckpoint(f'best_weights.hdf5', save_best_only=True, verbose=1)\n",
        "callbacks.append(save_best_callback)\n",
        "\n",
        "early_stop_callback = tf.keras.callbacks.EarlyStopping(patience=10, restore_best_weights=True, verbose=1)\n",
        "callbacks.append(early_stop_callback)\n",
        "\n",
        "history = model.fit(train_generator, validation_data=validation_generator, epochs=30, verbose=1, callbacks=callbacks)"
      ],
      "metadata": {
        "colab": {
          "base_uri": "https://localhost:8080/"
        },
        "id": "sLvOxsdg4A8r",
        "outputId": "353b1687-2b2b-418f-cf4c-21d992ff366b"
      },
      "execution_count": 7,
      "outputs": [
        {
          "output_type": "stream",
          "name": "stdout",
          "text": [
            "Epoch 1/30\n",
            "20/20 [==============================] - ETA: 0s - loss: 2.4895 - accuracy: 0.3785\n",
            "Epoch 1: val_loss improved from inf to 1.18781, saving model to best_weights.hdf5\n",
            "20/20 [==============================] - 9s 76ms/step - loss: 2.4895 - accuracy: 0.3785 - val_loss: 1.1878 - val_accuracy: 0.7629\n",
            "Epoch 2/30\n",
            "19/20 [===========================>..] - ETA: 0s - loss: 0.9516 - accuracy: 0.7617\n",
            "Epoch 2: val_loss improved from 1.18781 to 0.44482, saving model to best_weights.hdf5\n",
            "20/20 [==============================] - 1s 63ms/step - loss: 0.9250 - accuracy: 0.7692 - val_loss: 0.4448 - val_accuracy: 0.8848\n",
            "Epoch 3/30\n",
            "20/20 [==============================] - ETA: 0s - loss: 0.3780 - accuracy: 0.8991\n",
            "Epoch 3: val_loss improved from 0.44482 to 0.25034, saving model to best_weights.hdf5\n",
            "20/20 [==============================] - 1s 62ms/step - loss: 0.3780 - accuracy: 0.8991 - val_loss: 0.2503 - val_accuracy: 0.9299\n",
            "Epoch 4/30\n",
            "20/20 [==============================] - ETA: 0s - loss: 0.1971 - accuracy: 0.9503\n",
            "Epoch 4: val_loss improved from 0.25034 to 0.22655, saving model to best_weights.hdf5\n",
            "20/20 [==============================] - 1s 64ms/step - loss: 0.1971 - accuracy: 0.9503 - val_loss: 0.2265 - val_accuracy: 0.9499\n",
            "Epoch 5/30\n",
            "19/20 [===========================>..] - ETA: 0s - loss: 0.1310 - accuracy: 0.9695\n",
            "Epoch 5: val_loss did not improve from 0.22655\n",
            "20/20 [==============================] - 1s 55ms/step - loss: 0.1292 - accuracy: 0.9703 - val_loss: 0.2400 - val_accuracy: 0.9399\n",
            "Epoch 6/30\n",
            "20/20 [==============================] - ETA: 0s - loss: 0.0748 - accuracy: 0.9809\n",
            "Epoch 6: val_loss improved from 0.22655 to 0.19568, saving model to best_weights.hdf5\n",
            "20/20 [==============================] - 1s 69ms/step - loss: 0.0748 - accuracy: 0.9809 - val_loss: 0.1957 - val_accuracy: 0.9516\n",
            "Epoch 7/30\n",
            "19/20 [===========================>..] - ETA: 0s - loss: 0.0598 - accuracy: 0.9850\n",
            "Epoch 7: val_loss did not improve from 0.19568\n",
            "20/20 [==============================] - 1s 54ms/step - loss: 0.0596 - accuracy: 0.9845 - val_loss: 0.1966 - val_accuracy: 0.9432\n",
            "Epoch 8/30\n",
            "19/20 [===========================>..] - ETA: 0s - loss: 0.0513 - accuracy: 0.9850\n",
            "Epoch 8: val_loss did not improve from 0.19568\n",
            "20/20 [==============================] - 1s 56ms/step - loss: 0.0513 - accuracy: 0.9853 - val_loss: 0.2506 - val_accuracy: 0.9449\n",
            "Epoch 9/30\n",
            "19/20 [===========================>..] - ETA: 0s - loss: 0.0594 - accuracy: 0.9863\n",
            "Epoch 9: val_loss did not improve from 0.19568\n",
            "20/20 [==============================] - 1s 57ms/step - loss: 0.0611 - accuracy: 0.9858 - val_loss: 0.2520 - val_accuracy: 0.9599\n",
            "Epoch 10/30\n",
            "20/20 [==============================] - ETA: 0s - loss: 0.0456 - accuracy: 0.9878\n",
            "Epoch 10: val_loss did not improve from 0.19568\n",
            "20/20 [==============================] - 1s 55ms/step - loss: 0.0456 - accuracy: 0.9878 - val_loss: 0.2384 - val_accuracy: 0.9516\n",
            "Epoch 11/30\n",
            "19/20 [===========================>..] - ETA: 0s - loss: 0.0323 - accuracy: 0.9914\n",
            "Epoch 11: val_loss did not improve from 0.19568\n",
            "20/20 [==============================] - 1s 55ms/step - loss: 0.0338 - accuracy: 0.9906 - val_loss: 0.2349 - val_accuracy: 0.9482\n",
            "Epoch 12/30\n",
            "20/20 [==============================] - ETA: 0s - loss: 0.0278 - accuracy: 0.9923\n",
            "Epoch 12: val_loss did not improve from 0.19568\n",
            "20/20 [==============================] - 1s 55ms/step - loss: 0.0278 - accuracy: 0.9923 - val_loss: 0.2462 - val_accuracy: 0.9499\n",
            "Epoch 13/30\n",
            "20/20 [==============================] - ETA: 0s - loss: 0.0285 - accuracy: 0.9906\n",
            "Epoch 13: val_loss did not improve from 0.19568\n",
            "20/20 [==============================] - 1s 56ms/step - loss: 0.0285 - accuracy: 0.9906 - val_loss: 0.2623 - val_accuracy: 0.9499\n",
            "Epoch 14/30\n",
            "19/20 [===========================>..] - ETA: 0s - loss: 0.0255 - accuracy: 0.9936\n",
            "Epoch 14: val_loss did not improve from 0.19568\n",
            "20/20 [==============================] - 1s 55ms/step - loss: 0.0245 - accuracy: 0.9939 - val_loss: 0.2289 - val_accuracy: 0.9499\n",
            "Epoch 15/30\n",
            "19/20 [===========================>..] - ETA: 0s - loss: 0.0181 - accuracy: 0.9948\n",
            "Epoch 15: val_loss did not improve from 0.19568\n",
            "20/20 [==============================] - 1s 57ms/step - loss: 0.0177 - accuracy: 0.9951 - val_loss: 0.2234 - val_accuracy: 0.9549\n",
            "Epoch 16/30\n",
            "20/20 [==============================] - ETA: 0s - loss: 0.0169 - accuracy: 0.9955\n",
            "Epoch 16: val_loss did not improve from 0.19568\n",
            "Restoring model weights from the end of the best epoch: 6.\n",
            "20/20 [==============================] - 1s 60ms/step - loss: 0.0169 - accuracy: 0.9955 - val_loss: 0.2739 - val_accuracy: 0.9533\n",
            "Epoch 16: early stopping\n"
          ]
        }
      ]
    },
    {
      "cell_type": "code",
      "source": [
        "test_datagen  = ImageDataGenerator(rescale=1./255)\n",
        "test_generator =  test_datagen.flow_from_directory(test_dir,\n",
        "                                                         batch_size=32,\n",
        "                                                         class_mode  = 'categorical',\n",
        "                                                         color_mode='grayscale',\n",
        "                                                         target_size=(ts,ts)) \n",
        "loss, acc = model.evaluate(test_generator)\n",
        "print(acc)\n"
      ],
      "metadata": {
        "colab": {
          "base_uri": "https://localhost:8080/"
        },
        "id": "XeT-FvMS4A51",
        "outputId": "cf198ff3-dd80-4a10-bd0f-052f75ffdbbd"
      },
      "execution_count": 8,
      "outputs": [
        {
          "output_type": "stream",
          "name": "stdout",
          "text": [
            "Found 2149 images belonging to 34 classes.\n",
            "68/68 [==============================] - 1s 13ms/step - loss: 0.1887 - accuracy: 0.9581\n",
            "0.9581200480461121\n"
          ]
        }
      ]
    }
  ]
}