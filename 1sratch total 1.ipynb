{
  "nbformat": 4,
  "nbformat_minor": 0,
  "metadata": {
    "colab": {
      "provenance": [],
      "authorship_tag": "ABX9TyPzpqMG/uiwB42sFTyBN5uu",
      "include_colab_link": true
    },
    "kernelspec": {
      "name": "python3",
      "display_name": "Python 3"
    },
    "language_info": {
      "name": "python"
    },
    "accelerator": "GPU",
    "gpuClass": "standard"
  },
  "cells": [
    {
      "cell_type": "markdown",
      "metadata": {
        "id": "view-in-github",
        "colab_type": "text"
      },
      "source": [
        "<a href=\"https://colab.research.google.com/github/TBab0/duth_cv4/blob/main/1sratch%20total%201.ipynb\" target=\"_parent\"><img src=\"https://colab.research.google.com/assets/colab-badge.svg\" alt=\"Open In Colab\"/></a>"
      ]
    },
    {
      "cell_type": "code",
      "source": [
        "from google.colab import drive\n",
        "import os\n",
        "import zipfile\n",
        "from tensorflow.keras.preprocessing.image import ImageDataGenerator\n",
        "import tensorflow as tf\n",
        "import datetime"
      ],
      "metadata": {
        "id": "DTKt3q_P4BG3"
      },
      "execution_count": 1,
      "outputs": []
    },
    {
      "cell_type": "code",
      "source": [
        "drive.mount('/content/drive')\n",
        "local_zip = '/content/drive/MyDrive/imagedb_btsd.zip'\n",
        "zip_ref = zipfile.ZipFile(local_zip, 'r')\n",
        "zip_ref.extractall('/content')\n",
        "zip_ref.close()\n",
        "\n",
        "train_dir = '/content/imagedb'\n",
        "test_dir = '/content/imagedb_test'"
      ],
      "metadata": {
        "colab": {
          "base_uri": "https://localhost:8080/"
        },
        "id": "OBGivO3c4BD-",
        "outputId": "86a829ba-6388-4dc6-ac61-580dfc74a999"
      },
      "execution_count": 2,
      "outputs": [
        {
          "output_type": "stream",
          "name": "stdout",
          "text": [
            "Mounted at /content/drive\n"
          ]
        }
      ]
    },
    {
      "cell_type": "code",
      "source": [
        "ts = 32\n",
        "# train_datagen = ImageDataGenerator(preprocessing_function=vgg16.preprocess_input, validation_split=0.2)\n",
        "train_datagen  = ImageDataGenerator(rescale=1./255,\n",
        "                                    featurewise_center = True,\n",
        "                                    featurewise_std_normalization=True,\n",
        "                                    horizontal_flip=True,\n",
        "                                    validation_split=0.2)\n",
        "\n",
        "# --------------------\n",
        "# Flow training images in batches of 20 using train_datagen generator\n",
        "# --------------------\n",
        "train_generator = train_datagen.flow_from_directory(train_dir,\n",
        "                                                    batch_size=128,\n",
        "                                                    class_mode='categorical',\n",
        "                                                    color_mode='grayscale',\n",
        "                                                    target_size=(ts,ts),\n",
        "                                                    subset='training', seed=1)     \n",
        "# --------------------\n",
        "# Flow validation images in batches of 20 using test_datagen generator\n",
        "# --------------------\n",
        "validation_generator =  train_datagen.flow_from_directory(train_dir,\n",
        "                                                        batch_size=128,\n",
        "                                                        class_mode='categorical',\n",
        "                                                         color_mode='grayscale',\n",
        "                                                         target_size=(ts,ts),\n",
        "                                                        subset='validation', seed=1)"
      ],
      "metadata": {
        "colab": {
          "base_uri": "https://localhost:8080/"
        },
        "id": "5GA8in3D4BBz",
        "outputId": "87befb0e-f3b8-4ae3-ca22-86dd99f1b13c"
      },
      "execution_count": 3,
      "outputs": [
        {
          "output_type": "stream",
          "name": "stdout",
          "text": [
            "Found 2457 images belonging to 34 classes.\n",
            "Found 599 images belonging to 34 classes.\n"
          ]
        }
      ]
    },
    {
      "cell_type": "code",
      "source": [
        "model = tf.keras.models.Sequential([\n",
        "  tf.keras.layers.Conv2D(64, (5, 5), strides=(1, 1), activation='relu', input_shape=(ts, ts, 1)),\n",
        "  tf.keras.layers.Conv2D(64, (5, 5), strides=(1, 1), activation='relu', input_shape=(ts, ts, 1)),\n",
        "  tf.keras.layers.MaxPooling2D(pool_size=(2, 2), strides=(2, 2)),\n",
        "  # tf.keras.layers.Conv2D(64, (5, 5), strides=(1, 1), activation='relu', input_shape=(ts, ts, 1)),\n",
        "  tf.keras.layers.Flatten(),\n",
        "  tf.keras.layers.Dense(512, activation='relu'),\n",
        "  tf.keras.layers.Dropout(0.5),\n",
        "  tf.keras.layers.Dense(34, activation='softmax')\n",
        "])\n",
        "model.compile(optimizer = tf.keras.optimizers.Adam(), loss = 'categorical_crossentropy', metrics=['accuracy'])\n",
        "model.summary()"
      ],
      "metadata": {
        "colab": {
          "base_uri": "https://localhost:8080/"
        },
        "id": "5YAqCfYA4A_K",
        "outputId": "e0384d54-5ea6-4ef9-9c1c-d0f39106efd7"
      },
      "execution_count": 4,
      "outputs": [
        {
          "output_type": "stream",
          "name": "stdout",
          "text": [
            "Model: \"sequential\"\n",
            "_________________________________________________________________\n",
            " Layer (type)                Output Shape              Param #   \n",
            "=================================================================\n",
            " conv2d (Conv2D)             (None, 28, 28, 64)        1664      \n",
            "                                                                 \n",
            " conv2d_1 (Conv2D)           (None, 24, 24, 64)        102464    \n",
            "                                                                 \n",
            " max_pooling2d (MaxPooling2D  (None, 12, 12, 64)       0         \n",
            " )                                                               \n",
            "                                                                 \n",
            " flatten (Flatten)           (None, 9216)              0         \n",
            "                                                                 \n",
            " dense (Dense)               (None, 512)               4719104   \n",
            "                                                                 \n",
            " dropout (Dropout)           (None, 512)               0         \n",
            "                                                                 \n",
            " dense_1 (Dense)             (None, 34)                17442     \n",
            "                                                                 \n",
            "=================================================================\n",
            "Total params: 4,840,674\n",
            "Trainable params: 4,840,674\n",
            "Non-trainable params: 0\n",
            "_________________________________________________________________\n"
          ]
        }
      ]
    },
    {
      "cell_type": "code",
      "source": [
        "callbacks = []\n",
        "\n",
        "save_best_callback = tf.keras.callbacks.ModelCheckpoint(f'best_weights.hdf5', save_best_only=True, verbose=1)\n",
        "callbacks.append(save_best_callback)\n",
        "\n",
        "early_stop_callback = tf.keras.callbacks.EarlyStopping(patience=10, restore_best_weights=True, verbose=1)\n",
        "callbacks.append(early_stop_callback)\n",
        "\n",
        "history = model.fit(train_generator, validation_data=validation_generator, epochs=30, verbose=1, callbacks=callbacks)"
      ],
      "metadata": {
        "colab": {
          "base_uri": "https://localhost:8080/"
        },
        "id": "sLvOxsdg4A8r",
        "outputId": "76b33644-3881-45e8-8924-9edf484185c0"
      },
      "execution_count": 5,
      "outputs": [
        {
          "output_type": "stream",
          "name": "stdout",
          "text": [
            "Epoch 1/30\n"
          ]
        },
        {
          "output_type": "stream",
          "name": "stderr",
          "text": [
            "/usr/local/lib/python3.8/dist-packages/keras/preprocessing/image.py:1663: UserWarning: This ImageDataGenerator specifies `featurewise_center`, but it hasn't been fit on any training data. Fit it first by calling `.fit(numpy_data)`.\n",
            "  warnings.warn('This ImageDataGenerator specifies '\n",
            "/usr/local/lib/python3.8/dist-packages/keras/preprocessing/image.py:1671: UserWarning: This ImageDataGenerator specifies `featurewise_std_normalization`, but it hasn't been fit on any training data. Fit it first by calling `.fit(numpy_data)`.\n",
            "  warnings.warn('This ImageDataGenerator specifies '\n"
          ]
        },
        {
          "output_type": "stream",
          "name": "stdout",
          "text": [
            "20/20 [==============================] - ETA: 0s - loss: 2.5593 - accuracy: 0.3435\n",
            "Epoch 1: val_loss improved from inf to 1.35019, saving model to best_weights.hdf5\n",
            "20/20 [==============================] - 10s 69ms/step - loss: 2.5593 - accuracy: 0.3435 - val_loss: 1.3502 - val_accuracy: 0.7295\n",
            "Epoch 2/30\n",
            "19/20 [===========================>..] - ETA: 0s - loss: 1.1156 - accuracy: 0.7110\n",
            "Epoch 2: val_loss improved from 1.35019 to 0.56306, saving model to best_weights.hdf5\n",
            "20/20 [==============================] - 1s 56ms/step - loss: 1.0989 - accuracy: 0.7135 - val_loss: 0.5631 - val_accuracy: 0.8664\n",
            "Epoch 3/30\n",
            "20/20 [==============================] - ETA: 0s - loss: 0.5255 - accuracy: 0.8604\n",
            "Epoch 3: val_loss improved from 0.56306 to 0.38846, saving model to best_weights.hdf5\n",
            "20/20 [==============================] - 1s 56ms/step - loss: 0.5255 - accuracy: 0.8604 - val_loss: 0.3885 - val_accuracy: 0.8932\n",
            "Epoch 4/30\n",
            "19/20 [===========================>..] - ETA: 0s - loss: 0.3100 - accuracy: 0.9171\n",
            "Epoch 4: val_loss improved from 0.38846 to 0.31376, saving model to best_weights.hdf5\n",
            "20/20 [==============================] - 1s 56ms/step - loss: 0.3055 - accuracy: 0.9170 - val_loss: 0.3138 - val_accuracy: 0.9182\n",
            "Epoch 5/30\n",
            "20/20 [==============================] - ETA: 0s - loss: 0.2282 - accuracy: 0.9414\n",
            "Epoch 5: val_loss improved from 0.31376 to 0.27039, saving model to best_weights.hdf5\n",
            "20/20 [==============================] - 1s 57ms/step - loss: 0.2282 - accuracy: 0.9414 - val_loss: 0.2704 - val_accuracy: 0.9366\n",
            "Epoch 6/30\n",
            "20/20 [==============================] - ETA: 0s - loss: 0.1880 - accuracy: 0.9483\n",
            "Epoch 6: val_loss improved from 0.27039 to 0.22796, saving model to best_weights.hdf5\n",
            "20/20 [==============================] - 1s 57ms/step - loss: 0.1880 - accuracy: 0.9483 - val_loss: 0.2280 - val_accuracy: 0.9399\n",
            "Epoch 7/30\n",
            "20/20 [==============================] - ETA: 0s - loss: 0.1188 - accuracy: 0.9666\n",
            "Epoch 7: val_loss did not improve from 0.22796\n",
            "20/20 [==============================] - 1s 49ms/step - loss: 0.1188 - accuracy: 0.9666 - val_loss: 0.3170 - val_accuracy: 0.9332\n",
            "Epoch 8/30\n",
            "19/20 [===========================>..] - ETA: 0s - loss: 0.1085 - accuracy: 0.9712\n",
            "Epoch 8: val_loss improved from 0.22796 to 0.20736, saving model to best_weights.hdf5\n",
            "20/20 [==============================] - 1s 55ms/step - loss: 0.1068 - accuracy: 0.9723 - val_loss: 0.2074 - val_accuracy: 0.9416\n",
            "Epoch 9/30\n",
            "20/20 [==============================] - ETA: 0s - loss: 0.0722 - accuracy: 0.9801\n",
            "Epoch 9: val_loss improved from 0.20736 to 0.18164, saving model to best_weights.hdf5\n",
            "20/20 [==============================] - 1s 55ms/step - loss: 0.0722 - accuracy: 0.9801 - val_loss: 0.1816 - val_accuracy: 0.9466\n",
            "Epoch 10/30\n",
            "19/20 [===========================>..] - ETA: 0s - loss: 0.0697 - accuracy: 0.9807\n",
            "Epoch 10: val_loss did not improve from 0.18164\n",
            "20/20 [==============================] - 1s 48ms/step - loss: 0.0720 - accuracy: 0.9801 - val_loss: 0.2259 - val_accuracy: 0.9432\n",
            "Epoch 11/30\n",
            "19/20 [===========================>..] - ETA: 0s - loss: 0.0726 - accuracy: 0.9798\n",
            "Epoch 11: val_loss improved from 0.18164 to 0.16416, saving model to best_weights.hdf5\n",
            "20/20 [==============================] - 1s 55ms/step - loss: 0.0720 - accuracy: 0.9801 - val_loss: 0.1642 - val_accuracy: 0.9566\n",
            "Epoch 12/30\n",
            "19/20 [===========================>..] - ETA: 0s - loss: 0.0578 - accuracy: 0.9815\n",
            "Epoch 12: val_loss did not improve from 0.16416\n",
            "20/20 [==============================] - 1s 49ms/step - loss: 0.0579 - accuracy: 0.9821 - val_loss: 0.2052 - val_accuracy: 0.9499\n",
            "Epoch 13/30\n",
            "19/20 [===========================>..] - ETA: 0s - loss: 0.0466 - accuracy: 0.9850\n",
            "Epoch 13: val_loss did not improve from 0.16416\n",
            "20/20 [==============================] - 1s 49ms/step - loss: 0.0467 - accuracy: 0.9849 - val_loss: 0.1981 - val_accuracy: 0.9482\n",
            "Epoch 14/30\n",
            "19/20 [===========================>..] - ETA: 0s - loss: 0.0406 - accuracy: 0.9897\n",
            "Epoch 14: val_loss did not improve from 0.16416\n",
            "20/20 [==============================] - 1s 49ms/step - loss: 0.0403 - accuracy: 0.9898 - val_loss: 0.1773 - val_accuracy: 0.9499\n",
            "Epoch 15/30\n",
            "19/20 [===========================>..] - ETA: 0s - loss: 0.0457 - accuracy: 0.9858\n",
            "Epoch 15: val_loss did not improve from 0.16416\n",
            "20/20 [==============================] - 1s 47ms/step - loss: 0.0449 - accuracy: 0.9858 - val_loss: 0.1736 - val_accuracy: 0.9533\n",
            "Epoch 16/30\n",
            "19/20 [===========================>..] - ETA: 0s - loss: 0.0403 - accuracy: 0.9871\n",
            "Epoch 16: val_loss improved from 0.16416 to 0.14719, saving model to best_weights.hdf5\n",
            "20/20 [==============================] - 1s 59ms/step - loss: 0.0402 - accuracy: 0.9874 - val_loss: 0.1472 - val_accuracy: 0.9599\n",
            "Epoch 17/30\n",
            "19/20 [===========================>..] - ETA: 0s - loss: 0.0331 - accuracy: 0.9906\n",
            "Epoch 17: val_loss did not improve from 0.14719\n",
            "20/20 [==============================] - 1s 49ms/step - loss: 0.0325 - accuracy: 0.9906 - val_loss: 0.1718 - val_accuracy: 0.9516\n",
            "Epoch 18/30\n",
            "20/20 [==============================] - ETA: 0s - loss: 0.0284 - accuracy: 0.9902\n",
            "Epoch 18: val_loss did not improve from 0.14719\n",
            "20/20 [==============================] - 1s 49ms/step - loss: 0.0284 - accuracy: 0.9902 - val_loss: 0.1537 - val_accuracy: 0.9583\n",
            "Epoch 19/30\n",
            "19/20 [===========================>..] - ETA: 0s - loss: 0.0309 - accuracy: 0.9901\n",
            "Epoch 19: val_loss did not improve from 0.14719\n",
            "20/20 [==============================] - 1s 50ms/step - loss: 0.0348 - accuracy: 0.9898 - val_loss: 0.2140 - val_accuracy: 0.9516\n",
            "Epoch 20/30\n",
            "20/20 [==============================] - ETA: 0s - loss: 0.0429 - accuracy: 0.9890\n",
            "Epoch 20: val_loss did not improve from 0.14719\n",
            "20/20 [==============================] - 1s 49ms/step - loss: 0.0429 - accuracy: 0.9890 - val_loss: 0.1571 - val_accuracy: 0.9633\n",
            "Epoch 21/30\n",
            "19/20 [===========================>..] - ETA: 0s - loss: 0.0283 - accuracy: 0.9910\n",
            "Epoch 21: val_loss did not improve from 0.14719\n",
            "20/20 [==============================] - 1s 48ms/step - loss: 0.0285 - accuracy: 0.9906 - val_loss: 0.2388 - val_accuracy: 0.9466\n",
            "Epoch 22/30\n",
            "20/20 [==============================] - ETA: 0s - loss: 0.0205 - accuracy: 0.9943\n",
            "Epoch 22: val_loss did not improve from 0.14719\n",
            "20/20 [==============================] - 1s 66ms/step - loss: 0.0205 - accuracy: 0.9943 - val_loss: 0.2581 - val_accuracy: 0.9633\n",
            "Epoch 23/30\n",
            "19/20 [===========================>..] - ETA: 0s - loss: 0.0196 - accuracy: 0.9940\n",
            "Epoch 23: val_loss did not improve from 0.14719\n",
            "20/20 [==============================] - 1s 48ms/step - loss: 0.0201 - accuracy: 0.9939 - val_loss: 0.2193 - val_accuracy: 0.9599\n",
            "Epoch 24/30\n",
            "19/20 [===========================>..] - ETA: 0s - loss: 0.0261 - accuracy: 0.9927\n",
            "Epoch 24: val_loss did not improve from 0.14719\n",
            "20/20 [==============================] - 1s 55ms/step - loss: 0.0263 - accuracy: 0.9927 - val_loss: 0.2142 - val_accuracy: 0.9649\n",
            "Epoch 25/30\n",
            "19/20 [===========================>..] - ETA: 0s - loss: 0.0167 - accuracy: 0.9944\n",
            "Epoch 25: val_loss did not improve from 0.14719\n",
            "20/20 [==============================] - 1s 49ms/step - loss: 0.0173 - accuracy: 0.9943 - val_loss: 0.1718 - val_accuracy: 0.9666\n",
            "Epoch 26/30\n",
            "19/20 [===========================>..] - ETA: 0s - loss: 0.0170 - accuracy: 0.9947\n",
            "Epoch 26: val_loss did not improve from 0.14719\n",
            "Restoring model weights from the end of the best epoch: 16.\n",
            "20/20 [==============================] - 1s 48ms/step - loss: 0.0169 - accuracy: 0.9947 - val_loss: 0.1731 - val_accuracy: 0.9599\n",
            "Epoch 26: early stopping\n"
          ]
        }
      ]
    },
    {
      "cell_type": "code",
      "source": [
        "test_datagen  = ImageDataGenerator(rescale=1./255)\n",
        "test_generator =  test_datagen.flow_from_directory(test_dir,\n",
        "                                                         batch_size=32,\n",
        "                                                         class_mode  = 'categorical',\n",
        "                                                         color_mode='grayscale',\n",
        "                                                         target_size=(ts,ts)) \n",
        "loss, acc = model.evaluate(test_generator)\n",
        "print(acc)\n"
      ],
      "metadata": {
        "colab": {
          "base_uri": "https://localhost:8080/"
        },
        "id": "XeT-FvMS4A51",
        "outputId": "03dc8842-85b0-48e3-9d0f-b4ed55dfc136"
      },
      "execution_count": 6,
      "outputs": [
        {
          "output_type": "stream",
          "name": "stdout",
          "text": [
            "Found 2149 images belonging to 34 classes.\n",
            "68/68 [==============================] - 1s 12ms/step - loss: 0.2003 - accuracy: 0.9609\n",
            "0.9609120488166809\n"
          ]
        }
      ]
    }
  ]
}