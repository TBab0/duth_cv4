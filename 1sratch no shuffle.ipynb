{
  "nbformat": 4,
  "nbformat_minor": 0,
  "metadata": {
    "colab": {
      "provenance": [],
      "authorship_tag": "ABX9TyNPdyawpSQUDwWM0J+kp1SI",
      "include_colab_link": true
    },
    "kernelspec": {
      "name": "python3",
      "display_name": "Python 3"
    },
    "language_info": {
      "name": "python"
    },
    "accelerator": "GPU",
    "gpuClass": "standard"
  },
  "cells": [
    {
      "cell_type": "markdown",
      "metadata": {
        "id": "view-in-github",
        "colab_type": "text"
      },
      "source": [
        "<a href=\"https://colab.research.google.com/github/TBab0/duth_cv4/blob/main/1sratch%20no%20shuffle.ipynb\" target=\"_parent\"><img src=\"https://colab.research.google.com/assets/colab-badge.svg\" alt=\"Open In Colab\"/></a>"
      ]
    },
    {
      "cell_type": "code",
      "source": [
        "from google.colab import drive\n",
        "import os\n",
        "import zipfile\n",
        "from tensorflow.keras.preprocessing.image import ImageDataGenerator\n",
        "import tensorflow as tf\n",
        "import datetime"
      ],
      "metadata": {
        "id": "DTKt3q_P4BG3"
      },
      "execution_count": 1,
      "outputs": []
    },
    {
      "cell_type": "code",
      "source": [
        "drive.mount('/content/drive')\n",
        "local_zip = '/content/drive/MyDrive/imagedb_btsd.zip'\n",
        "zip_ref = zipfile.ZipFile(local_zip, 'r')\n",
        "zip_ref.extractall('/content')\n",
        "zip_ref.close()\n",
        "\n",
        "train_dir = '/content/imagedb'\n",
        "test_dir = '/content/imagedb_test'"
      ],
      "metadata": {
        "colab": {
          "base_uri": "https://localhost:8080/"
        },
        "id": "OBGivO3c4BD-",
        "outputId": "5ce6cb81-9630-4883-810a-0463ff566841"
      },
      "execution_count": 2,
      "outputs": [
        {
          "output_type": "stream",
          "name": "stdout",
          "text": [
            "Mounted at /content/drive\n"
          ]
        }
      ]
    },
    {
      "cell_type": "code",
      "source": [
        "ts = 32\n",
        "# train_datagen = ImageDataGenerator(preprocessing_function=vgg16.preprocess_input, validation_split=0.2)\n",
        "train_datagen  = ImageDataGenerator(rescale=1./255,\n",
        "                                    validation_split=0.2)\n",
        "\n",
        "# --------------------\n",
        "# Flow training images in batches of 20 using train_datagen generator\n",
        "# --------------------\n",
        "train_generator = train_datagen.flow_from_directory(train_dir,\n",
        "                                                    batch_size=128,\n",
        "                                                    class_mode='categorical',\n",
        "                                                    color_mode='grayscale',\n",
        "                                                    target_size=(ts,ts),\n",
        "                                                    subset='training', seed=1)     \n",
        "# --------------------\n",
        "# Flow validation images in batches of 20 using test_datagen generator\n",
        "# --------------------\n",
        "validation_generator =  train_datagen.flow_from_directory(train_dir,\n",
        "                                                        batch_size=128,\n",
        "                                                        class_mode='categorical',\n",
        "                                                         color_mode='grayscale',\n",
        "                                                         target_size=(ts,ts),\n",
        "                                                        subset='validation', seed=1)"
      ],
      "metadata": {
        "colab": {
          "base_uri": "https://localhost:8080/"
        },
        "id": "5GA8in3D4BBz",
        "outputId": "da64212d-121a-4664-8557-0f7c785dfa43"
      },
      "execution_count": 3,
      "outputs": [
        {
          "output_type": "stream",
          "name": "stdout",
          "text": [
            "Found 2457 images belonging to 34 classes.\n",
            "Found 599 images belonging to 34 classes.\n"
          ]
        }
      ]
    },
    {
      "cell_type": "code",
      "source": [
        "model = tf.keras.models.Sequential([\n",
        "  tf.keras.layers.Conv2D(64, (5, 5), strides=(1, 1), activation='relu', input_shape=(ts, ts, 1)),\n",
        "  tf.keras.layers.Conv2D(64, (5, 5), strides=(1, 1), activation='relu', input_shape=(ts, ts, 1)),\n",
        "  tf.keras.layers.MaxPooling2D(pool_size=(2, 2), strides=(2, 2)),\n",
        "  # tf.keras.layers.Conv2D(64, (5, 5), strides=(1, 1), activation='relu', input_shape=(ts, ts, 1)),\n",
        "  tf.keras.layers.Flatten(),\n",
        "  tf.keras.layers.Dense(512, activation='relu'),\n",
        "  tf.keras.layers.Dropout(0.5),\n",
        "  tf.keras.layers.Dense(34, activation='softmax')\n",
        "])\n",
        "model.compile(optimizer = tf.keras.optimizers.Adam(), loss = 'categorical_crossentropy', metrics=['accuracy'])\n",
        "model.summary()"
      ],
      "metadata": {
        "colab": {
          "base_uri": "https://localhost:8080/"
        },
        "id": "5YAqCfYA4A_K",
        "outputId": "5d9b1325-2f71-4af6-b9ad-888a508cbc6f"
      },
      "execution_count": 4,
      "outputs": [
        {
          "output_type": "stream",
          "name": "stdout",
          "text": [
            "Model: \"sequential\"\n",
            "_________________________________________________________________\n",
            " Layer (type)                Output Shape              Param #   \n",
            "=================================================================\n",
            " conv2d (Conv2D)             (None, 28, 28, 64)        1664      \n",
            "                                                                 \n",
            " conv2d_1 (Conv2D)           (None, 24, 24, 64)        102464    \n",
            "                                                                 \n",
            " max_pooling2d (MaxPooling2D  (None, 12, 12, 64)       0         \n",
            " )                                                               \n",
            "                                                                 \n",
            " flatten (Flatten)           (None, 9216)              0         \n",
            "                                                                 \n",
            " dense (Dense)               (None, 512)               4719104   \n",
            "                                                                 \n",
            " dropout (Dropout)           (None, 512)               0         \n",
            "                                                                 \n",
            " dense_1 (Dense)             (None, 34)                17442     \n",
            "                                                                 \n",
            "=================================================================\n",
            "Total params: 4,840,674\n",
            "Trainable params: 4,840,674\n",
            "Non-trainable params: 0\n",
            "_________________________________________________________________\n"
          ]
        }
      ]
    },
    {
      "cell_type": "code",
      "source": [
        "callbacks = []\n",
        "\n",
        "save_best_callback = tf.keras.callbacks.ModelCheckpoint(f'best_weights.hdf5', save_best_only=True, verbose=1)\n",
        "callbacks.append(save_best_callback)\n",
        "\n",
        "early_stop_callback = tf.keras.callbacks.EarlyStopping(patience=10, restore_best_weights=True, verbose=1)\n",
        "callbacks.append(early_stop_callback)\n",
        "\n",
        "history = model.fit(train_generator, validation_data=validation_generator, epochs=30, verbose=1, callbacks=callbacks)"
      ],
      "metadata": {
        "colab": {
          "base_uri": "https://localhost:8080/"
        },
        "id": "sLvOxsdg4A8r",
        "outputId": "57964e92-e882-425a-e1a7-bef70b47b1ca"
      },
      "execution_count": 5,
      "outputs": [
        {
          "output_type": "stream",
          "name": "stdout",
          "text": [
            "Epoch 1/30\n",
            "20/20 [==============================] - ETA: 0s - loss: 2.5484 - accuracy: 0.3590\n",
            "Epoch 1: val_loss improved from inf to 1.37467, saving model to best_weights.hdf5\n",
            "20/20 [==============================] - 11s 97ms/step - loss: 2.5484 - accuracy: 0.3590 - val_loss: 1.3747 - val_accuracy: 0.7078\n",
            "Epoch 2/30\n",
            "20/20 [==============================] - ETA: 0s - loss: 1.0133 - accuracy: 0.7473\n",
            "Epoch 2: val_loss improved from 1.37467 to 0.44717, saving model to best_weights.hdf5\n",
            "20/20 [==============================] - 1s 62ms/step - loss: 1.0133 - accuracy: 0.7473 - val_loss: 0.4472 - val_accuracy: 0.8865\n",
            "Epoch 3/30\n",
            "19/20 [===========================>..] - ETA: 0s - loss: 0.4745 - accuracy: 0.8759\n",
            "Epoch 3: val_loss improved from 0.44717 to 0.32127, saving model to best_weights.hdf5\n",
            "20/20 [==============================] - 1s 61ms/step - loss: 0.4582 - accuracy: 0.8820 - val_loss: 0.3213 - val_accuracy: 0.9349\n",
            "Epoch 4/30\n",
            "20/20 [==============================] - ETA: 0s - loss: 0.2414 - accuracy: 0.9410\n",
            "Epoch 4: val_loss improved from 0.32127 to 0.26812, saving model to best_weights.hdf5\n",
            "20/20 [==============================] - 1s 63ms/step - loss: 0.2414 - accuracy: 0.9410 - val_loss: 0.2681 - val_accuracy: 0.9382\n",
            "Epoch 5/30\n",
            "20/20 [==============================] - ETA: 0s - loss: 0.1522 - accuracy: 0.9634\n",
            "Epoch 5: val_loss improved from 0.26812 to 0.22368, saving model to best_weights.hdf5\n",
            "20/20 [==============================] - 1s 61ms/step - loss: 0.1522 - accuracy: 0.9634 - val_loss: 0.2237 - val_accuracy: 0.9482\n",
            "Epoch 6/30\n",
            "20/20 [==============================] - ETA: 0s - loss: 0.0979 - accuracy: 0.9752\n",
            "Epoch 6: val_loss did not improve from 0.22368\n",
            "20/20 [==============================] - 1s 56ms/step - loss: 0.0979 - accuracy: 0.9752 - val_loss: 0.2421 - val_accuracy: 0.9499\n",
            "Epoch 7/30\n",
            "19/20 [===========================>..] - ETA: 0s - loss: 0.0675 - accuracy: 0.9833\n",
            "Epoch 7: val_loss did not improve from 0.22368\n",
            "20/20 [==============================] - 1s 55ms/step - loss: 0.0653 - accuracy: 0.9841 - val_loss: 0.2562 - val_accuracy: 0.9449\n",
            "Epoch 8/30\n",
            "20/20 [==============================] - ETA: 0s - loss: 0.0516 - accuracy: 0.9878\n",
            "Epoch 8: val_loss did not improve from 0.22368\n",
            "20/20 [==============================] - 1s 57ms/step - loss: 0.0516 - accuracy: 0.9878 - val_loss: 0.2417 - val_accuracy: 0.9482\n",
            "Epoch 9/30\n",
            "19/20 [===========================>..] - ETA: 0s - loss: 0.0441 - accuracy: 0.9884\n",
            "Epoch 9: val_loss did not improve from 0.22368\n",
            "20/20 [==============================] - 1s 54ms/step - loss: 0.0449 - accuracy: 0.9882 - val_loss: 0.2355 - val_accuracy: 0.9482\n",
            "Epoch 10/30\n",
            "19/20 [===========================>..] - ETA: 0s - loss: 0.0361 - accuracy: 0.9927\n",
            "Epoch 10: val_loss improved from 0.22368 to 0.21713, saving model to best_weights.hdf5\n",
            "20/20 [==============================] - 1s 61ms/step - loss: 0.0355 - accuracy: 0.9931 - val_loss: 0.2171 - val_accuracy: 0.9566\n",
            "Epoch 11/30\n",
            "19/20 [===========================>..] - ETA: 0s - loss: 0.0296 - accuracy: 0.9918\n",
            "Epoch 11: val_loss did not improve from 0.21713\n",
            "20/20 [==============================] - 1s 55ms/step - loss: 0.0293 - accuracy: 0.9919 - val_loss: 0.2635 - val_accuracy: 0.9549\n",
            "Epoch 12/30\n",
            "19/20 [===========================>..] - ETA: 0s - loss: 0.0302 - accuracy: 0.9901\n",
            "Epoch 12: val_loss did not improve from 0.21713\n",
            "20/20 [==============================] - 1s 53ms/step - loss: 0.0303 - accuracy: 0.9898 - val_loss: 0.2406 - val_accuracy: 0.9482\n",
            "Epoch 13/30\n",
            "20/20 [==============================] - ETA: 0s - loss: 0.0354 - accuracy: 0.9906\n",
            "Epoch 13: val_loss did not improve from 0.21713\n",
            "20/20 [==============================] - 1s 66ms/step - loss: 0.0354 - accuracy: 0.9906 - val_loss: 0.2288 - val_accuracy: 0.9549\n",
            "Epoch 14/30\n",
            "20/20 [==============================] - ETA: 0s - loss: 0.0218 - accuracy: 0.9943\n",
            "Epoch 14: val_loss did not improve from 0.21713\n",
            "20/20 [==============================] - 1s 57ms/step - loss: 0.0218 - accuracy: 0.9943 - val_loss: 0.2459 - val_accuracy: 0.9499\n",
            "Epoch 15/30\n",
            "19/20 [===========================>..] - ETA: 0s - loss: 0.0208 - accuracy: 0.9944\n",
            "Epoch 15: val_loss did not improve from 0.21713\n",
            "20/20 [==============================] - 1s 54ms/step - loss: 0.0204 - accuracy: 0.9943 - val_loss: 0.2670 - val_accuracy: 0.9533\n",
            "Epoch 16/30\n",
            "19/20 [===========================>..] - ETA: 0s - loss: 0.0239 - accuracy: 0.9901\n",
            "Epoch 16: val_loss did not improve from 0.21713\n",
            "20/20 [==============================] - 1s 55ms/step - loss: 0.0239 - accuracy: 0.9902 - val_loss: 0.2535 - val_accuracy: 0.9499\n",
            "Epoch 17/30\n",
            "20/20 [==============================] - ETA: 0s - loss: 0.0315 - accuracy: 0.9906\n",
            "Epoch 17: val_loss did not improve from 0.21713\n",
            "20/20 [==============================] - 1s 54ms/step - loss: 0.0315 - accuracy: 0.9906 - val_loss: 0.2853 - val_accuracy: 0.9466\n",
            "Epoch 18/30\n",
            "20/20 [==============================] - ETA: 0s - loss: 0.0353 - accuracy: 0.9898\n",
            "Epoch 18: val_loss did not improve from 0.21713\n",
            "20/20 [==============================] - 1s 55ms/step - loss: 0.0353 - accuracy: 0.9898 - val_loss: 0.2317 - val_accuracy: 0.9583\n",
            "Epoch 19/30\n",
            "19/20 [===========================>..] - ETA: 0s - loss: 0.0235 - accuracy: 0.9944\n",
            "Epoch 19: val_loss did not improve from 0.21713\n",
            "20/20 [==============================] - 1s 53ms/step - loss: 0.0226 - accuracy: 0.9947 - val_loss: 0.2416 - val_accuracy: 0.9549\n",
            "Epoch 20/30\n",
            "20/20 [==============================] - ETA: 0s - loss: 0.0169 - accuracy: 0.9951\n",
            "Epoch 20: val_loss did not improve from 0.21713\n",
            "Restoring model weights from the end of the best epoch: 10.\n",
            "20/20 [==============================] - 1s 55ms/step - loss: 0.0169 - accuracy: 0.9951 - val_loss: 0.3122 - val_accuracy: 0.9349\n",
            "Epoch 20: early stopping\n"
          ]
        }
      ]
    },
    {
      "cell_type": "code",
      "source": [
        "test_datagen  = ImageDataGenerator(rescale=1./255)\n",
        "test_generator =  test_datagen.flow_from_directory(test_dir,\n",
        "                                                         batch_size=32,\n",
        "                                                         class_mode  = 'categorical',\n",
        "                                                         color_mode='grayscale',\n",
        "                                                         target_size=(ts,ts)) \n",
        "loss, acc = model.evaluate(test_generator)\n",
        "print(acc)\n"
      ],
      "metadata": {
        "colab": {
          "base_uri": "https://localhost:8080/"
        },
        "id": "XeT-FvMS4A51",
        "outputId": "c14fb0d9-2fb7-44bb-ad65-d4267f763d3f"
      },
      "execution_count": 6,
      "outputs": [
        {
          "output_type": "stream",
          "name": "stdout",
          "text": [
            "Found 2149 images belonging to 34 classes.\n",
            "68/68 [==============================] - 1s 13ms/step - loss: 0.2307 - accuracy: 0.9600\n",
            "0.959981381893158\n"
          ]
        }
      ]
    }
  ]
}