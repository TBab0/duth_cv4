{
  "nbformat": 4,
  "nbformat_minor": 0,
  "metadata": {
    "colab": {
      "provenance": [],
      "authorship_tag": "ABX9TyMdVUPLq4Uvlmu4IJI84aLt",
      "include_colab_link": true
    },
    "kernelspec": {
      "name": "python3",
      "display_name": "Python 3"
    },
    "language_info": {
      "name": "python"
    },
    "accelerator": "GPU",
    "gpuClass": "standard"
  },
  "cells": [
    {
      "cell_type": "markdown",
      "metadata": {
        "id": "view-in-github",
        "colab_type": "text"
      },
      "source": [
        "<a href=\"https://colab.research.google.com/github/TBab0/duth_cv4/blob/main/1sratch%20width_shift_range.ipynb\" target=\"_parent\"><img src=\"https://colab.research.google.com/assets/colab-badge.svg\" alt=\"Open In Colab\"/></a>"
      ]
    },
    {
      "cell_type": "code",
      "source": [
        "from google.colab import drive\n",
        "import os\n",
        "import zipfile\n",
        "from tensorflow.keras.preprocessing.image import ImageDataGenerator\n",
        "import tensorflow as tf\n",
        "import datetime"
      ],
      "metadata": {
        "id": "DTKt3q_P4BG3"
      },
      "execution_count": 1,
      "outputs": []
    },
    {
      "cell_type": "code",
      "source": [
        "drive.mount('/content/drive')\n",
        "local_zip = '/content/drive/MyDrive/imagedb_btsd.zip'\n",
        "zip_ref = zipfile.ZipFile(local_zip, 'r')\n",
        "zip_ref.extractall('/content')\n",
        "zip_ref.close()\n",
        "\n",
        "train_dir = '/content/imagedb'\n",
        "test_dir = '/content/imagedb_test'"
      ],
      "metadata": {
        "colab": {
          "base_uri": "https://localhost:8080/"
        },
        "id": "OBGivO3c4BD-",
        "outputId": "639bcef8-0629-405a-83ee-74315cbe6ead"
      },
      "execution_count": 2,
      "outputs": [
        {
          "output_type": "stream",
          "name": "stdout",
          "text": [
            "Mounted at /content/drive\n"
          ]
        }
      ]
    },
    {
      "cell_type": "code",
      "source": [
        "ts = 32\n",
        "# train_datagen = ImageDataGenerator(preprocessing_function=vgg16.preprocess_input, validation_split=0.2)\n",
        "train_datagen  = ImageDataGenerator(rescale=1./255,\n",
        "                                    width_shift_range=0.2,\n",
        "                                    validation_split=0.2)\n",
        "\n",
        "# --------------------\n",
        "# Flow training images in batches of 20 using train_datagen generator\n",
        "# --------------------\n",
        "train_generator = train_datagen.flow_from_directory(train_dir,\n",
        "                                                    batch_size=128,\n",
        "                                                    class_mode='categorical',\n",
        "                                                    color_mode='grayscale',\n",
        "                                                    target_size=(ts,ts),\n",
        "                                                    subset='training', seed=1)     \n",
        "# --------------------\n",
        "# Flow validation images in batches of 20 using test_datagen generator\n",
        "# --------------------\n",
        "validation_generator =  train_datagen.flow_from_directory(train_dir,\n",
        "                                                        batch_size=128,\n",
        "                                                        class_mode='categorical',\n",
        "                                                         color_mode='grayscale',\n",
        "                                                         target_size=(ts,ts),\n",
        "                                                        subset='validation', seed=1)"
      ],
      "metadata": {
        "colab": {
          "base_uri": "https://localhost:8080/"
        },
        "id": "5GA8in3D4BBz",
        "outputId": "3c3a358e-cd82-4219-d4e1-c9a3206325ce"
      },
      "execution_count": 3,
      "outputs": [
        {
          "output_type": "stream",
          "name": "stdout",
          "text": [
            "Found 2457 images belonging to 34 classes.\n",
            "Found 599 images belonging to 34 classes.\n"
          ]
        }
      ]
    },
    {
      "cell_type": "code",
      "source": [
        "model = tf.keras.models.Sequential([\n",
        "  tf.keras.layers.Conv2D(64, (5, 5), strides=(1, 1), activation='relu', input_shape=(ts, ts, 1)),\n",
        "  tf.keras.layers.Conv2D(64, (5, 5), strides=(1, 1), activation='relu', input_shape=(ts, ts, 1)),\n",
        "  tf.keras.layers.MaxPooling2D(pool_size=(2, 2), strides=(2, 2)),\n",
        "  # tf.keras.layers.Conv2D(64, (5, 5), strides=(1, 1), activation='relu', input_shape=(ts, ts, 1)),\n",
        "  tf.keras.layers.Flatten(),\n",
        "  tf.keras.layers.Dense(512, activation='relu'),\n",
        "  tf.keras.layers.Dropout(0.5),\n",
        "  tf.keras.layers.Dense(34, activation='softmax')\n",
        "])\n",
        "model.compile(optimizer = tf.keras.optimizers.Adam(), loss = 'categorical_crossentropy', metrics=['accuracy'])\n",
        "model.summary()"
      ],
      "metadata": {
        "colab": {
          "base_uri": "https://localhost:8080/"
        },
        "id": "5YAqCfYA4A_K",
        "outputId": "3d9daceb-63fd-45fd-9264-e8ff92aa108d"
      },
      "execution_count": 4,
      "outputs": [
        {
          "output_type": "stream",
          "name": "stdout",
          "text": [
            "Model: \"sequential\"\n",
            "_________________________________________________________________\n",
            " Layer (type)                Output Shape              Param #   \n",
            "=================================================================\n",
            " conv2d (Conv2D)             (None, 28, 28, 64)        1664      \n",
            "                                                                 \n",
            " conv2d_1 (Conv2D)           (None, 24, 24, 64)        102464    \n",
            "                                                                 \n",
            " max_pooling2d (MaxPooling2D  (None, 12, 12, 64)       0         \n",
            " )                                                               \n",
            "                                                                 \n",
            " flatten (Flatten)           (None, 9216)              0         \n",
            "                                                                 \n",
            " dense (Dense)               (None, 512)               4719104   \n",
            "                                                                 \n",
            " dropout (Dropout)           (None, 512)               0         \n",
            "                                                                 \n",
            " dense_1 (Dense)             (None, 34)                17442     \n",
            "                                                                 \n",
            "=================================================================\n",
            "Total params: 4,840,674\n",
            "Trainable params: 4,840,674\n",
            "Non-trainable params: 0\n",
            "_________________________________________________________________\n"
          ]
        }
      ]
    },
    {
      "cell_type": "code",
      "source": [
        "callbacks = []\n",
        "\n",
        "save_best_callback = tf.keras.callbacks.ModelCheckpoint(f'best_weights.hdf5', save_best_only=True, verbose=1)\n",
        "callbacks.append(save_best_callback)\n",
        "\n",
        "early_stop_callback = tf.keras.callbacks.EarlyStopping(patience=10, restore_best_weights=True, verbose=1)\n",
        "callbacks.append(early_stop_callback)\n",
        "\n",
        "history = model.fit(train_generator, validation_data=validation_generator, epochs=30, verbose=1, callbacks=callbacks)"
      ],
      "metadata": {
        "colab": {
          "base_uri": "https://localhost:8080/"
        },
        "id": "sLvOxsdg4A8r",
        "outputId": "d6a19265-3879-4f09-c70e-ff8af1e6fcbc"
      },
      "execution_count": 5,
      "outputs": [
        {
          "output_type": "stream",
          "name": "stdout",
          "text": [
            "Epoch 1/30\n",
            "20/20 [==============================] - ETA: 0s - loss: 3.1809 - accuracy: 0.1563\n",
            "Epoch 1: val_loss improved from inf to 2.60033, saving model to best_weights.hdf5\n",
            "20/20 [==============================] - 10s 126ms/step - loss: 3.1809 - accuracy: 0.1563 - val_loss: 2.6003 - val_accuracy: 0.3523\n",
            "Epoch 2/30\n",
            "20/20 [==============================] - ETA: 0s - loss: 2.1505 - accuracy: 0.4587\n",
            "Epoch 2: val_loss improved from 2.60033 to 1.46288, saving model to best_weights.hdf5\n",
            "20/20 [==============================] - 2s 112ms/step - loss: 2.1505 - accuracy: 0.4587 - val_loss: 1.4629 - val_accuracy: 0.6594\n",
            "Epoch 3/30\n",
            "20/20 [==============================] - ETA: 0s - loss: 1.4423 - accuracy: 0.6129\n",
            "Epoch 3: val_loss improved from 1.46288 to 0.99917, saving model to best_weights.hdf5\n",
            "20/20 [==============================] - 2s 117ms/step - loss: 1.4423 - accuracy: 0.6129 - val_loss: 0.9992 - val_accuracy: 0.7362\n",
            "Epoch 4/30\n",
            "20/20 [==============================] - ETA: 0s - loss: 1.0488 - accuracy: 0.7273\n",
            "Epoch 4: val_loss improved from 0.99917 to 0.85894, saving model to best_weights.hdf5\n",
            "20/20 [==============================] - 2s 117ms/step - loss: 1.0488 - accuracy: 0.7273 - val_loss: 0.8589 - val_accuracy: 0.7780\n",
            "Epoch 5/30\n",
            "20/20 [==============================] - ETA: 0s - loss: 0.8233 - accuracy: 0.7623\n",
            "Epoch 5: val_loss improved from 0.85894 to 0.63900, saving model to best_weights.hdf5\n",
            "20/20 [==============================] - 2s 113ms/step - loss: 0.8233 - accuracy: 0.7623 - val_loss: 0.6390 - val_accuracy: 0.8297\n",
            "Epoch 6/30\n",
            "20/20 [==============================] - ETA: 0s - loss: 0.6648 - accuracy: 0.8177\n",
            "Epoch 6: val_loss improved from 0.63900 to 0.57623, saving model to best_weights.hdf5\n",
            "20/20 [==============================] - 2s 111ms/step - loss: 0.6648 - accuracy: 0.8177 - val_loss: 0.5762 - val_accuracy: 0.8414\n",
            "Epoch 7/30\n",
            "20/20 [==============================] - ETA: 0s - loss: 0.5517 - accuracy: 0.8421\n",
            "Epoch 7: val_loss improved from 0.57623 to 0.49119, saving model to best_weights.hdf5\n",
            "20/20 [==============================] - 2s 116ms/step - loss: 0.5517 - accuracy: 0.8421 - val_loss: 0.4912 - val_accuracy: 0.8798\n",
            "Epoch 8/30\n",
            "20/20 [==============================] - ETA: 0s - loss: 0.4812 - accuracy: 0.8620\n",
            "Epoch 8: val_loss improved from 0.49119 to 0.46311, saving model to best_weights.hdf5\n",
            "20/20 [==============================] - 2s 113ms/step - loss: 0.4812 - accuracy: 0.8620 - val_loss: 0.4631 - val_accuracy: 0.8932\n",
            "Epoch 9/30\n",
            "20/20 [==============================] - ETA: 0s - loss: 0.4032 - accuracy: 0.8832\n",
            "Epoch 9: val_loss did not improve from 0.46311\n",
            "20/20 [==============================] - 2s 107ms/step - loss: 0.4032 - accuracy: 0.8832 - val_loss: 0.5153 - val_accuracy: 0.8798\n",
            "Epoch 10/30\n",
            "20/20 [==============================] - ETA: 0s - loss: 0.3794 - accuracy: 0.8926\n",
            "Epoch 10: val_loss improved from 0.46311 to 0.39749, saving model to best_weights.hdf5\n",
            "20/20 [==============================] - 2s 110ms/step - loss: 0.3794 - accuracy: 0.8926 - val_loss: 0.3975 - val_accuracy: 0.8965\n",
            "Epoch 11/30\n",
            "19/20 [===========================>..] - ETA: 0s - loss: 0.2980 - accuracy: 0.9124\n",
            "Epoch 11: val_loss did not improve from 0.39749\n",
            "20/20 [==============================] - 2s 101ms/step - loss: 0.2969 - accuracy: 0.9129 - val_loss: 0.3999 - val_accuracy: 0.9149\n",
            "Epoch 12/30\n",
            "20/20 [==============================] - ETA: 0s - loss: 0.2793 - accuracy: 0.9141\n",
            "Epoch 12: val_loss improved from 0.39749 to 0.37220, saving model to best_weights.hdf5\n",
            "20/20 [==============================] - 2s 112ms/step - loss: 0.2793 - accuracy: 0.9141 - val_loss: 0.3722 - val_accuracy: 0.9065\n",
            "Epoch 13/30\n",
            "20/20 [==============================] - ETA: 0s - loss: 0.2597 - accuracy: 0.9223\n",
            "Epoch 13: val_loss did not improve from 0.37220\n",
            "20/20 [==============================] - 2s 107ms/step - loss: 0.2597 - accuracy: 0.9223 - val_loss: 0.4010 - val_accuracy: 0.9065\n",
            "Epoch 14/30\n",
            "20/20 [==============================] - ETA: 0s - loss: 0.2537 - accuracy: 0.9227\n",
            "Epoch 14: val_loss did not improve from 0.37220\n",
            "20/20 [==============================] - 2s 107ms/step - loss: 0.2537 - accuracy: 0.9227 - val_loss: 0.3826 - val_accuracy: 0.9215\n",
            "Epoch 15/30\n",
            "20/20 [==============================] - ETA: 0s - loss: 0.2045 - accuracy: 0.9422\n",
            "Epoch 15: val_loss improved from 0.37220 to 0.35248, saving model to best_weights.hdf5\n",
            "20/20 [==============================] - 2s 111ms/step - loss: 0.2045 - accuracy: 0.9422 - val_loss: 0.3525 - val_accuracy: 0.9182\n",
            "Epoch 16/30\n",
            "20/20 [==============================] - ETA: 0s - loss: 0.1731 - accuracy: 0.9491\n",
            "Epoch 16: val_loss improved from 0.35248 to 0.32780, saving model to best_weights.hdf5\n",
            "20/20 [==============================] - 2s 112ms/step - loss: 0.1731 - accuracy: 0.9491 - val_loss: 0.3278 - val_accuracy: 0.9349\n",
            "Epoch 17/30\n",
            "20/20 [==============================] - ETA: 0s - loss: 0.1728 - accuracy: 0.9467\n",
            "Epoch 17: val_loss did not improve from 0.32780\n",
            "20/20 [==============================] - 2s 102ms/step - loss: 0.1728 - accuracy: 0.9467 - val_loss: 0.3470 - val_accuracy: 0.9182\n",
            "Epoch 18/30\n",
            "20/20 [==============================] - ETA: 0s - loss: 0.1689 - accuracy: 0.9495\n",
            "Epoch 18: val_loss did not improve from 0.32780\n",
            "20/20 [==============================] - 2s 101ms/step - loss: 0.1689 - accuracy: 0.9495 - val_loss: 0.3424 - val_accuracy: 0.9299\n",
            "Epoch 19/30\n",
            "20/20 [==============================] - ETA: 0s - loss: 0.1556 - accuracy: 0.9548\n",
            "Epoch 19: val_loss did not improve from 0.32780\n",
            "20/20 [==============================] - 2s 102ms/step - loss: 0.1556 - accuracy: 0.9548 - val_loss: 0.3631 - val_accuracy: 0.9182\n",
            "Epoch 20/30\n",
            "19/20 [===========================>..] - ETA: 0s - loss: 0.1456 - accuracy: 0.9581\n",
            "Epoch 20: val_loss improved from 0.32780 to 0.31689, saving model to best_weights.hdf5\n",
            "20/20 [==============================] - 2s 111ms/step - loss: 0.1508 - accuracy: 0.9565 - val_loss: 0.3169 - val_accuracy: 0.9182\n",
            "Epoch 21/30\n",
            "20/20 [==============================] - ETA: 0s - loss: 0.1466 - accuracy: 0.9552\n",
            "Epoch 21: val_loss improved from 0.31689 to 0.28935, saving model to best_weights.hdf5\n",
            "20/20 [==============================] - 2s 111ms/step - loss: 0.1466 - accuracy: 0.9552 - val_loss: 0.2894 - val_accuracy: 0.9366\n",
            "Epoch 22/30\n",
            "20/20 [==============================] - ETA: 0s - loss: 0.1359 - accuracy: 0.9577\n",
            "Epoch 22: val_loss did not improve from 0.28935\n",
            "20/20 [==============================] - 2s 106ms/step - loss: 0.1359 - accuracy: 0.9577 - val_loss: 0.3119 - val_accuracy: 0.9299\n",
            "Epoch 23/30\n",
            "20/20 [==============================] - ETA: 0s - loss: 0.1366 - accuracy: 0.9609\n",
            "Epoch 23: val_loss did not improve from 0.28935\n",
            "20/20 [==============================] - 2s 104ms/step - loss: 0.1366 - accuracy: 0.9609 - val_loss: 0.2934 - val_accuracy: 0.9349\n",
            "Epoch 24/30\n",
            "20/20 [==============================] - ETA: 0s - loss: 0.1241 - accuracy: 0.9617\n",
            "Epoch 24: val_loss did not improve from 0.28935\n",
            "20/20 [==============================] - 2s 104ms/step - loss: 0.1241 - accuracy: 0.9617 - val_loss: 0.3117 - val_accuracy: 0.9399\n",
            "Epoch 25/30\n",
            "20/20 [==============================] - ETA: 0s - loss: 0.1303 - accuracy: 0.9589\n",
            "Epoch 25: val_loss improved from 0.28935 to 0.25768, saving model to best_weights.hdf5\n",
            "20/20 [==============================] - 2s 110ms/step - loss: 0.1303 - accuracy: 0.9589 - val_loss: 0.2577 - val_accuracy: 0.9449\n",
            "Epoch 26/30\n",
            "20/20 [==============================] - ETA: 0s - loss: 0.0932 - accuracy: 0.9731\n",
            "Epoch 26: val_loss did not improve from 0.25768\n",
            "20/20 [==============================] - 2s 105ms/step - loss: 0.0932 - accuracy: 0.9731 - val_loss: 0.3071 - val_accuracy: 0.9382\n",
            "Epoch 27/30\n",
            "20/20 [==============================] - ETA: 0s - loss: 0.0950 - accuracy: 0.9719\n",
            "Epoch 27: val_loss did not improve from 0.25768\n",
            "20/20 [==============================] - 2s 99ms/step - loss: 0.0950 - accuracy: 0.9719 - val_loss: 0.3112 - val_accuracy: 0.9332\n",
            "Epoch 28/30\n",
            "20/20 [==============================] - ETA: 0s - loss: 0.0881 - accuracy: 0.9723\n",
            "Epoch 28: val_loss did not improve from 0.25768\n",
            "20/20 [==============================] - 2s 101ms/step - loss: 0.0881 - accuracy: 0.9723 - val_loss: 0.3257 - val_accuracy: 0.9316\n",
            "Epoch 29/30\n",
            "20/20 [==============================] - ETA: 0s - loss: 0.1204 - accuracy: 0.9638\n",
            "Epoch 29: val_loss did not improve from 0.25768\n",
            "20/20 [==============================] - 2s 104ms/step - loss: 0.1204 - accuracy: 0.9638 - val_loss: 0.2947 - val_accuracy: 0.9332\n",
            "Epoch 30/30\n",
            "20/20 [==============================] - ETA: 0s - loss: 0.0891 - accuracy: 0.9719\n",
            "Epoch 30: val_loss did not improve from 0.25768\n",
            "20/20 [==============================] - 2s 105ms/step - loss: 0.0891 - accuracy: 0.9719 - val_loss: 0.2947 - val_accuracy: 0.9366\n"
          ]
        }
      ]
    },
    {
      "cell_type": "code",
      "source": [
        "test_datagen  = ImageDataGenerator(rescale=1./255)\n",
        "test_generator =  test_datagen.flow_from_directory(test_dir,\n",
        "                                                         batch_size=32,\n",
        "                                                         class_mode  = 'categorical',\n",
        "                                                         color_mode='grayscale',\n",
        "                                                         target_size=(ts,ts)) \n",
        "loss, acc = model.evaluate(test_generator)\n",
        "print(acc)\n"
      ],
      "metadata": {
        "colab": {
          "base_uri": "https://localhost:8080/"
        },
        "id": "XeT-FvMS4A51",
        "outputId": "3f205f2a-0814-4cbb-dfd2-5ce1a020c6e8"
      },
      "execution_count": 6,
      "outputs": [
        {
          "output_type": "stream",
          "name": "stdout",
          "text": [
            "Found 2149 images belonging to 34 classes.\n",
            "68/68 [==============================] - 1s 14ms/step - loss: 0.3355 - accuracy: 0.9283\n",
            "0.9283387660980225\n"
          ]
        }
      ]
    }
  ]
}