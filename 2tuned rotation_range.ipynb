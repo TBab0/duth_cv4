{
  "nbformat": 4,
  "nbformat_minor": 0,
  "metadata": {
    "colab": {
      "provenance": [],
      "name": "2tuned.ipynb",
      "authorship_tag": "ABX9TyPRJHmreg4Ny8JiqV1W0GAK",
      "include_colab_link": true
    },
    "kernelspec": {
      "name": "python3",
      "display_name": "Python 3"
    },
    "language_info": {
      "name": "python"
    },
    "accelerator": "GPU",
    "gpuClass": "standard"
  },
  "cells": [
    {
      "cell_type": "markdown",
      "metadata": {
        "id": "view-in-github",
        "colab_type": "text"
      },
      "source": [
        "<a href=\"https://colab.research.google.com/github/TBab0/duth_cv4/blob/main/2tuned%20rotation_range.ipynb\" target=\"_parent\"><img src=\"https://colab.research.google.com/assets/colab-badge.svg\" alt=\"Open In Colab\"/></a>"
      ]
    },
    {
      "cell_type": "code",
      "source": [
        "# Declare Imports\n",
        "from keras import models, regularizers, layers, optimizers, losses, metrics\n",
        "from keras.models import Sequential\n",
        "from keras.layers import Dense\n",
        "from keras.utils import np_utils, to_categorical\n",
        "from keras.preprocessing.image import ImageDataGenerator\n",
        "from keras.preprocessing import image\n",
        "from keras.applications import ResNet50\n",
        "from tensorflow.keras.applications.resnet50 import preprocess_input\n",
        "import os\n",
        "from google.colab import drive\n",
        "import zipfile\n",
        "import tensorflow as tf\n",
        "import datetime"
      ],
      "metadata": {
        "id": "DTKt3q_P4BG3"
      },
      "execution_count": 1,
      "outputs": []
    },
    {
      "cell_type": "code",
      "source": [
        "# Import from drive\n",
        "drive.mount('/content/drive')\n",
        "local_zip = '/content/drive/MyDrive/imagedb_btsd.zip'\n",
        "zip_ref = zipfile.ZipFile(local_zip, 'r')\n",
        "zip_ref.extractall('/content')\n",
        "zip_ref.close()\n",
        "\n",
        "train_dir = '/content/imagedb'\n",
        "test_dir = '/content/imagedb_test'"
      ],
      "metadata": {
        "colab": {
          "base_uri": "https://localhost:8080/"
        },
        "id": "OBGivO3c4BD-",
        "outputId": "24dd1d9c-6aa3-464b-c166-e98c984e1f35"
      },
      "execution_count": 2,
      "outputs": [
        {
          "output_type": "stream",
          "name": "stdout",
          "text": [
            "Mounted at /content/drive\n"
          ]
        }
      ]
    },
    {
      "cell_type": "code",
      "source": [
        "# Prep the Train Valid and Test directories for the generator\n",
        "batch_size = 128\n",
        "row, col, cha = 256, 256, 3\n",
        "target_size = (row, col)\n",
        "\n",
        "train_datagen = ImageDataGenerator(preprocessing_function=preprocess_input,\n",
        "                                   rotation_range= 20,\n",
        "                                   validation_split=0.2)\n",
        "\n",
        "train_generator = train_datagen.flow_from_directory(\n",
        "    train_dir,\n",
        "    target_size=target_size,\n",
        "    batch_size=batch_size,\n",
        "    class_mode='categorical',\n",
        "    subset='training', seed=1) # set as training data\n",
        "\n",
        "validation_generator = train_datagen.flow_from_directory(\n",
        "    train_dir, # same directory as training data\n",
        "    target_size=target_size,\n",
        "    batch_size=batch_size,\n",
        "    class_mode='categorical',\n",
        "    subset='validation',  seed=1) # set as validation data"
      ],
      "metadata": {
        "colab": {
          "base_uri": "https://localhost:8080/"
        },
        "id": "5GA8in3D4BBz",
        "outputId": "646a1ef7-8ad9-43d3-b171-43d89710b262"
      },
      "execution_count": 3,
      "outputs": [
        {
          "output_type": "stream",
          "name": "stdout",
          "text": [
            "Found 2457 images belonging to 34 classes.\n",
            "Found 599 images belonging to 34 classes.\n"
          ]
        }
      ]
    },
    {
      "cell_type": "code",
      "source": [
        "# Convoluted Base MODEL\n",
        "conv_base = ResNet50(weights='imagenet', include_top=False, input_shape=(row, col, cha))\n",
        "# print(conv_base.summary())\n",
        "\n",
        "# Freeze the layers\n",
        "for layer in conv_base.layers[:]:\n",
        "    layer.trainable = False\n",
        " \n",
        "# Check the trainable status of the individual layers\n",
        "# for layer in conv_base.layers:\n",
        "    # print(layer, layer.trainable)"
      ],
      "metadata": {
        "colab": {
          "base_uri": "https://localhost:8080/"
        },
        "id": "5YAqCfYA4A_K",
        "outputId": "af286de4-4aac-4cf5-aed0-d2fd7045fa91"
      },
      "execution_count": 4,
      "outputs": [
        {
          "output_type": "stream",
          "name": "stdout",
          "text": [
            "Downloading data from https://storage.googleapis.com/tensorflow/keras-applications/resnet/resnet50_weights_tf_dim_ordering_tf_kernels_notop.h5\n",
            "94765736/94765736 [==============================] - 5s 0us/step\n"
          ]
        }
      ]
    },
    {
      "cell_type": "code",
      "source": [
        "# Create the model\n",
        "model = models.Sequential()\n",
        " \n",
        "# Add the vgg convolutional base model\n",
        "model.add(conv_base)\n",
        " \n",
        "# Add new layers\n",
        "model.add(layers.Flatten())\n",
        "model.add(layers.Dense(2048, activation='relu'))\n",
        "model.add(layers.Dropout(0.5))\n",
        "model.add(layers.Dense(512, activation='relu'))\n",
        "model.add(layers.Dropout(0.5))\n",
        "model.add(layers.Dense(34, activation='softmax'))\n",
        " \n",
        "# Show a summary of the model. Check the number of trainable parameters\n",
        "model.summary()"
      ],
      "metadata": {
        "colab": {
          "base_uri": "https://localhost:8080/"
        },
        "id": "sLvOxsdg4A8r",
        "outputId": "7fbe7671-fa33-47f5-8197-9d34046a8973"
      },
      "execution_count": 5,
      "outputs": [
        {
          "output_type": "stream",
          "name": "stdout",
          "text": [
            "Model: \"sequential\"\n",
            "_________________________________________________________________\n",
            " Layer (type)                Output Shape              Param #   \n",
            "=================================================================\n",
            " resnet50 (Functional)       (None, 8, 8, 2048)        23587712  \n",
            "                                                                 \n",
            " flatten (Flatten)           (None, 131072)            0         \n",
            "                                                                 \n",
            " dense (Dense)               (None, 2048)              268437504 \n",
            "                                                                 \n",
            " dropout (Dropout)           (None, 2048)              0         \n",
            "                                                                 \n",
            " dense_1 (Dense)             (None, 512)               1049088   \n",
            "                                                                 \n",
            " dropout_1 (Dropout)         (None, 512)               0         \n",
            "                                                                 \n",
            " dense_2 (Dense)             (None, 34)                17442     \n",
            "                                                                 \n",
            "=================================================================\n",
            "Total params: 293,091,746\n",
            "Trainable params: 269,504,034\n",
            "Non-trainable params: 23,587,712\n",
            "_________________________________________________________________\n"
          ]
        }
      ]
    },
    {
      "cell_type": "code",
      "source": [
        "callbacks = []\n",
        "\n",
        "save_best_callback = tf.keras.callbacks.ModelCheckpoint(f'best_weights.hdf5', save_best_only=True, verbose=1)\n",
        "callbacks.append(save_best_callback)\n",
        "\n",
        "early_stop_callback = tf.keras.callbacks.EarlyStopping(patience=5, restore_best_weights=True, verbose=1)\n",
        "callbacks.append(early_stop_callback)\n"
      ],
      "metadata": {
        "id": "XeT-FvMS4A51"
      },
      "execution_count": 6,
      "outputs": []
    },
    {
      "cell_type": "code",
      "source": [
        "# Compile the model\n",
        "model.compile(loss='categorical_crossentropy', optimizer=optimizers.adam_v2.Adam(learning_rate=1e-4), metrics=['acc'])\n",
        "# Train the model\n",
        "history = model.fit_generator(train_generator, steps_per_epoch=train_generator.samples/train_generator.batch_size, epochs=30, validation_data=validation_generator, verbose=1, callbacks = callbacks)\n",
        " \n",
        "# Save the model\n",
        "model.save('small_last4.h5')"
      ],
      "metadata": {
        "colab": {
          "base_uri": "https://localhost:8080/"
        },
        "id": "cOSQLEr_qTzr",
        "outputId": "f5f14799-e2e9-4e60-9bb5-d0de9d07037d"
      },
      "execution_count": 7,
      "outputs": [
        {
          "output_type": "stream",
          "name": "stderr",
          "text": [
            "<ipython-input-7-24e1b0ab929e>:4: UserWarning: `Model.fit_generator` is deprecated and will be removed in a future version. Please use `Model.fit`, which supports generators.\n",
            "  history = model.fit_generator(train_generator, steps_per_epoch=train_generator.samples/train_generator.batch_size, epochs=30, validation_data=validation_generator, verbose=1, callbacks = callbacks)\n"
          ]
        },
        {
          "output_type": "stream",
          "name": "stdout",
          "text": [
            "Epoch 1/30\n",
            "20/19 [===============================] - ETA: -1s - loss: 4.4780 - acc: 0.4330\n",
            "Epoch 1: val_loss improved from inf to 0.64979, saving model to best_weights.hdf5\n",
            "19/19 [==============================] - 74s 3s/step - loss: 4.4780 - acc: 0.4330 - val_loss: 0.6498 - val_acc: 0.8280\n",
            "Epoch 2/30\n",
            "20/19 [===============================] - ETA: -1s - loss: 1.5797 - acc: 0.7175\n",
            "Epoch 2: val_loss improved from 0.64979 to 0.41128, saving model to best_weights.hdf5\n",
            "19/19 [==============================] - 60s 3s/step - loss: 1.5797 - acc: 0.7175 - val_loss: 0.4113 - val_acc: 0.8915\n",
            "Epoch 3/30\n",
            "20/19 [===============================] - ETA: -1s - loss: 0.9097 - acc: 0.8103\n",
            "Epoch 3: val_loss improved from 0.41128 to 0.29309, saving model to best_weights.hdf5\n",
            "19/19 [==============================] - 59s 3s/step - loss: 0.9097 - acc: 0.8103 - val_loss: 0.2931 - val_acc: 0.9149\n",
            "Epoch 4/30\n",
            "20/19 [===============================] - ETA: -1s - loss: 0.6177 - acc: 0.8531\n",
            "Epoch 4: val_loss improved from 0.29309 to 0.28106, saving model to best_weights.hdf5\n",
            "19/19 [==============================] - 59s 3s/step - loss: 0.6177 - acc: 0.8531 - val_loss: 0.2811 - val_acc: 0.9265\n",
            "Epoch 5/30\n",
            "20/19 [===============================] - ETA: -1s - loss: 0.5146 - acc: 0.8852\n",
            "Epoch 5: val_loss improved from 0.28106 to 0.25970, saving model to best_weights.hdf5\n",
            "19/19 [==============================] - 59s 3s/step - loss: 0.5146 - acc: 0.8852 - val_loss: 0.2597 - val_acc: 0.9249\n",
            "Epoch 6/30\n",
            "20/19 [===============================] - ETA: -1s - loss: 0.4248 - acc: 0.8938\n",
            "Epoch 6: val_loss improved from 0.25970 to 0.25874, saving model to best_weights.hdf5\n",
            "19/19 [==============================] - 59s 3s/step - loss: 0.4248 - acc: 0.8938 - val_loss: 0.2587 - val_acc: 0.9149\n",
            "Epoch 7/30\n",
            "20/19 [===============================] - ETA: -1s - loss: 0.4044 - acc: 0.9035\n",
            "Epoch 7: val_loss improved from 0.25874 to 0.24525, saving model to best_weights.hdf5\n",
            "19/19 [==============================] - 59s 3s/step - loss: 0.4044 - acc: 0.9035 - val_loss: 0.2453 - val_acc: 0.9382\n",
            "Epoch 8/30\n",
            "20/19 [===============================] - ETA: -1s - loss: 0.3241 - acc: 0.9162\n",
            "Epoch 8: val_loss improved from 0.24525 to 0.22009, saving model to best_weights.hdf5\n",
            "19/19 [==============================] - 59s 3s/step - loss: 0.3241 - acc: 0.9162 - val_loss: 0.2201 - val_acc: 0.9382\n",
            "Epoch 9/30\n",
            "20/19 [===============================] - ETA: -1s - loss: 0.2945 - acc: 0.9255\n",
            "Epoch 9: val_loss did not improve from 0.22009\n",
            "19/19 [==============================] - 44s 2s/step - loss: 0.2945 - acc: 0.9255 - val_loss: 0.2395 - val_acc: 0.9265\n",
            "Epoch 10/30\n",
            "20/19 [===============================] - ETA: -1s - loss: 0.2469 - acc: 0.9410\n",
            "Epoch 10: val_loss improved from 0.22009 to 0.17428, saving model to best_weights.hdf5\n",
            "19/19 [==============================] - 57s 3s/step - loss: 0.2469 - acc: 0.9410 - val_loss: 0.1743 - val_acc: 0.9466\n",
            "Epoch 11/30\n",
            "20/19 [===============================] - ETA: -1s - loss: 0.2424 - acc: 0.9418\n",
            "Epoch 11: val_loss did not improve from 0.17428\n",
            "19/19 [==============================] - 42s 2s/step - loss: 0.2424 - acc: 0.9418 - val_loss: 0.1914 - val_acc: 0.9399\n",
            "Epoch 12/30\n",
            "20/19 [===============================] - ETA: -1s - loss: 0.1988 - acc: 0.9463\n",
            "Epoch 12: val_loss did not improve from 0.17428\n",
            "19/19 [==============================] - 42s 2s/step - loss: 0.1988 - acc: 0.9463 - val_loss: 0.2178 - val_acc: 0.9482\n",
            "Epoch 13/30\n",
            "20/19 [===============================] - ETA: -1s - loss: 0.1913 - acc: 0.9508\n",
            "Epoch 13: val_loss did not improve from 0.17428\n",
            "19/19 [==============================] - 42s 2s/step - loss: 0.1913 - acc: 0.9508 - val_loss: 0.2112 - val_acc: 0.9466\n",
            "Epoch 14/30\n",
            "20/19 [===============================] - ETA: -1s - loss: 0.1925 - acc: 0.9491\n",
            "Epoch 14: val_loss did not improve from 0.17428\n",
            "19/19 [==============================] - 42s 2s/step - loss: 0.1925 - acc: 0.9491 - val_loss: 0.2150 - val_acc: 0.9449\n",
            "Epoch 15/30\n",
            "20/19 [===============================] - ETA: -1s - loss: 0.1782 - acc: 0.9577\n",
            "Epoch 15: val_loss did not improve from 0.17428\n",
            "Restoring model weights from the end of the best epoch: 10.\n",
            "19/19 [==============================] - 42s 2s/step - loss: 0.1782 - acc: 0.9577 - val_loss: 0.2228 - val_acc: 0.9382\n",
            "Epoch 15: early stopping\n"
          ]
        }
      ]
    },
    {
      "cell_type": "code",
      "source": [
        "# --------------------\n",
        "# Flow validation images in batches of 20 using test_datagen generator\n",
        "# --------------------\n",
        "test_datagen  = ImageDataGenerator(preprocessing_function=preprocess_input)\n",
        "test_generator =  test_datagen.flow_from_directory(test_dir,\n",
        "                                                        batch_size=128,\n",
        "                                                        class_mode='categorical',\n",
        "                                                        #  color_mode='grayscale',\n",
        "                                                         target_size=target_size) \n",
        "loss, acc = model.evaluate(test_generator)"
      ],
      "metadata": {
        "colab": {
          "base_uri": "https://localhost:8080/"
        },
        "id": "nSxvqbd7qVBq",
        "outputId": "db6ec034-ac56-4673-9a30-a0c890acb37f"
      },
      "execution_count": 8,
      "outputs": [
        {
          "output_type": "stream",
          "name": "stdout",
          "text": [
            "Found 2149 images belonging to 34 classes.\n",
            "17/17 [==============================] - 13s 735ms/step - loss: 0.3180 - acc: 0.9349\n"
          ]
        }
      ]
    }
  ]
}