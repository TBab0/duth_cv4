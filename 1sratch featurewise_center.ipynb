{
  "nbformat": 4,
  "nbformat_minor": 0,
  "metadata": {
    "colab": {
      "provenance": [],
      "authorship_tag": "ABX9TyPoh2i2vNFOJG3eXR0W9+Vc",
      "include_colab_link": true
    },
    "kernelspec": {
      "name": "python3",
      "display_name": "Python 3"
    },
    "language_info": {
      "name": "python"
    },
    "accelerator": "GPU",
    "gpuClass": "standard"
  },
  "cells": [
    {
      "cell_type": "markdown",
      "metadata": {
        "id": "view-in-github",
        "colab_type": "text"
      },
      "source": [
        "<a href=\"https://colab.research.google.com/github/TBab0/duth_cv4/blob/main/1sratch%20featurewise_center.ipynb\" target=\"_parent\"><img src=\"https://colab.research.google.com/assets/colab-badge.svg\" alt=\"Open In Colab\"/></a>"
      ]
    },
    {
      "cell_type": "code",
      "source": [
        "from google.colab import drive\n",
        "import os\n",
        "import zipfile\n",
        "from tensorflow.keras.preprocessing.image import ImageDataGenerator\n",
        "import tensorflow as tf\n",
        "import datetime"
      ],
      "metadata": {
        "id": "DTKt3q_P4BG3"
      },
      "execution_count": 1,
      "outputs": []
    },
    {
      "cell_type": "code",
      "source": [
        "drive.mount('/content/drive')\n",
        "local_zip = '/content/drive/MyDrive/imagedb_btsd.zip'\n",
        "zip_ref = zipfile.ZipFile(local_zip, 'r')\n",
        "zip_ref.extractall('/content')\n",
        "zip_ref.close()\n",
        "\n",
        "train_dir = '/content/imagedb'\n",
        "test_dir = '/content/imagedb_test'"
      ],
      "metadata": {
        "colab": {
          "base_uri": "https://localhost:8080/"
        },
        "id": "OBGivO3c4BD-",
        "outputId": "bd7822cc-bca9-4f65-fe9a-672d634e7e7e"
      },
      "execution_count": 2,
      "outputs": [
        {
          "output_type": "stream",
          "name": "stdout",
          "text": [
            "Mounted at /content/drive\n"
          ]
        }
      ]
    },
    {
      "cell_type": "code",
      "source": [
        "ts = 32\n",
        "# train_datagen = ImageDataGenerator(preprocessing_function=vgg16.preprocess_input, validation_split=0.2)\n",
        "train_datagen  = ImageDataGenerator(rescale=1./255,\n",
        "                                    featurewise_center = True,\n",
        "                                    validation_split=0.2)\n",
        "\n",
        "# --------------------\n",
        "# Flow training images in batches of 20 using train_datagen generator\n",
        "# --------------------\n",
        "train_generator = train_datagen.flow_from_directory(train_dir,\n",
        "                                                    batch_size=128,\n",
        "                                                    class_mode='categorical',\n",
        "                                                    color_mode='grayscale',\n",
        "                                                    target_size=(ts,ts),\n",
        "                                                    subset='training', seed=1)     \n",
        "# --------------------\n",
        "# Flow validation images in batches of 20 using test_datagen generator\n",
        "# --------------------\n",
        "validation_generator =  train_datagen.flow_from_directory(train_dir,\n",
        "                                                        batch_size=128,\n",
        "                                                        class_mode='categorical',\n",
        "                                                         color_mode='grayscale',\n",
        "                                                         target_size=(ts,ts),\n",
        "                                                        subset='validation', seed=1)"
      ],
      "metadata": {
        "colab": {
          "base_uri": "https://localhost:8080/"
        },
        "id": "5GA8in3D4BBz",
        "outputId": "54096857-c4ac-4b63-9ad6-b78984545b2f"
      },
      "execution_count": 3,
      "outputs": [
        {
          "output_type": "stream",
          "name": "stdout",
          "text": [
            "Found 2457 images belonging to 34 classes.\n",
            "Found 599 images belonging to 34 classes.\n"
          ]
        }
      ]
    },
    {
      "cell_type": "code",
      "source": [
        "model = tf.keras.models.Sequential([\n",
        "  tf.keras.layers.Conv2D(64, (5, 5), strides=(1, 1), activation='relu', input_shape=(ts, ts, 1)),\n",
        "  tf.keras.layers.Conv2D(64, (5, 5), strides=(1, 1), activation='relu', input_shape=(ts, ts, 1)),\n",
        "  tf.keras.layers.MaxPooling2D(pool_size=(2, 2), strides=(2, 2)),\n",
        "  # tf.keras.layers.Conv2D(64, (5, 5), strides=(1, 1), activation='relu', input_shape=(ts, ts, 1)),\n",
        "  tf.keras.layers.Flatten(),\n",
        "  tf.keras.layers.Dense(512, activation='relu'),\n",
        "  tf.keras.layers.Dropout(0.5),\n",
        "  tf.keras.layers.Dense(34, activation='softmax')\n",
        "])\n",
        "model.compile(optimizer = tf.keras.optimizers.Adam(), loss = 'categorical_crossentropy', metrics=['accuracy'])\n",
        "model.summary()"
      ],
      "metadata": {
        "colab": {
          "base_uri": "https://localhost:8080/"
        },
        "id": "5YAqCfYA4A_K",
        "outputId": "2b778d98-c4f8-4468-e779-fea768626c3a"
      },
      "execution_count": 4,
      "outputs": [
        {
          "output_type": "stream",
          "name": "stdout",
          "text": [
            "Model: \"sequential\"\n",
            "_________________________________________________________________\n",
            " Layer (type)                Output Shape              Param #   \n",
            "=================================================================\n",
            " conv2d (Conv2D)             (None, 28, 28, 64)        1664      \n",
            "                                                                 \n",
            " conv2d_1 (Conv2D)           (None, 24, 24, 64)        102464    \n",
            "                                                                 \n",
            " max_pooling2d (MaxPooling2D  (None, 12, 12, 64)       0         \n",
            " )                                                               \n",
            "                                                                 \n",
            " flatten (Flatten)           (None, 9216)              0         \n",
            "                                                                 \n",
            " dense (Dense)               (None, 512)               4719104   \n",
            "                                                                 \n",
            " dropout (Dropout)           (None, 512)               0         \n",
            "                                                                 \n",
            " dense_1 (Dense)             (None, 34)                17442     \n",
            "                                                                 \n",
            "=================================================================\n",
            "Total params: 4,840,674\n",
            "Trainable params: 4,840,674\n",
            "Non-trainable params: 0\n",
            "_________________________________________________________________\n"
          ]
        }
      ]
    },
    {
      "cell_type": "code",
      "source": [
        "callbacks = []\n",
        "\n",
        "save_best_callback = tf.keras.callbacks.ModelCheckpoint(f'best_weights.hdf5', save_best_only=True, verbose=1)\n",
        "callbacks.append(save_best_callback)\n",
        "\n",
        "early_stop_callback = tf.keras.callbacks.EarlyStopping(patience=10, restore_best_weights=True, verbose=1)\n",
        "callbacks.append(early_stop_callback)\n",
        "\n",
        "history = model.fit(train_generator, validation_data=validation_generator, epochs=30, verbose=1, callbacks=callbacks)"
      ],
      "metadata": {
        "colab": {
          "base_uri": "https://localhost:8080/"
        },
        "id": "sLvOxsdg4A8r",
        "outputId": "f2cd1a6e-8139-4611-aa34-bf723db5c1ed"
      },
      "execution_count": 5,
      "outputs": [
        {
          "output_type": "stream",
          "name": "stdout",
          "text": [
            "Epoch 1/30\n"
          ]
        },
        {
          "output_type": "stream",
          "name": "stderr",
          "text": [
            "/usr/local/lib/python3.8/dist-packages/keras/preprocessing/image.py:1663: UserWarning: This ImageDataGenerator specifies `featurewise_center`, but it hasn't been fit on any training data. Fit it first by calling `.fit(numpy_data)`.\n",
            "  warnings.warn('This ImageDataGenerator specifies '\n"
          ]
        },
        {
          "output_type": "stream",
          "name": "stdout",
          "text": [
            "20/20 [==============================] - ETA: 0s - loss: 2.6703 - accuracy: 0.3329\n",
            "Epoch 1: val_loss improved from inf to 1.42057, saving model to best_weights.hdf5\n",
            "20/20 [==============================] - 10s 75ms/step - loss: 2.6703 - accuracy: 0.3329 - val_loss: 1.4206 - val_accuracy: 0.7412\n",
            "Epoch 2/30\n",
            "19/20 [===========================>..] - ETA: 0s - loss: 1.0727 - accuracy: 0.7359\n",
            "Epoch 2: val_loss improved from 1.42057 to 0.56498, saving model to best_weights.hdf5\n",
            "20/20 [==============================] - 1s 61ms/step - loss: 1.0562 - accuracy: 0.7399 - val_loss: 0.5650 - val_accuracy: 0.8815\n",
            "Epoch 3/30\n",
            "19/20 [===========================>..] - ETA: 0s - loss: 0.4552 - accuracy: 0.8815\n",
            "Epoch 3: val_loss improved from 0.56498 to 0.30786, saving model to best_weights.hdf5\n",
            "20/20 [==============================] - 1s 59ms/step - loss: 0.4470 - accuracy: 0.8840 - val_loss: 0.3079 - val_accuracy: 0.9366\n",
            "Epoch 4/30\n",
            "19/20 [===========================>..] - ETA: 0s - loss: 0.2320 - accuracy: 0.9317\n",
            "Epoch 4: val_loss improved from 0.30786 to 0.26592, saving model to best_weights.hdf5\n",
            "20/20 [==============================] - 1s 60ms/step - loss: 0.2316 - accuracy: 0.9324 - val_loss: 0.2659 - val_accuracy: 0.9416\n",
            "Epoch 5/30\n",
            "19/20 [===========================>..] - ETA: 0s - loss: 0.1319 - accuracy: 0.9652\n",
            "Epoch 5: val_loss improved from 0.26592 to 0.24057, saving model to best_weights.hdf5\n",
            "20/20 [==============================] - 1s 61ms/step - loss: 0.1286 - accuracy: 0.9662 - val_loss: 0.2406 - val_accuracy: 0.9416\n",
            "Epoch 6/30\n",
            "19/20 [===========================>..] - ETA: 0s - loss: 0.0938 - accuracy: 0.9764\n",
            "Epoch 6: val_loss improved from 0.24057 to 0.22131, saving model to best_weights.hdf5\n",
            "20/20 [==============================] - 1s 62ms/step - loss: 0.0932 - accuracy: 0.9768 - val_loss: 0.2213 - val_accuracy: 0.9482\n",
            "Epoch 7/30\n",
            "20/20 [==============================] - ETA: 0s - loss: 0.0684 - accuracy: 0.9845\n",
            "Epoch 7: val_loss did not improve from 0.22131\n",
            "20/20 [==============================] - 1s 53ms/step - loss: 0.0684 - accuracy: 0.9845 - val_loss: 0.2300 - val_accuracy: 0.9499\n",
            "Epoch 8/30\n",
            "20/20 [==============================] - ETA: 0s - loss: 0.0426 - accuracy: 0.9882\n",
            "Epoch 8: val_loss did not improve from 0.22131\n",
            "20/20 [==============================] - 1s 53ms/step - loss: 0.0426 - accuracy: 0.9882 - val_loss: 0.2323 - val_accuracy: 0.9549\n",
            "Epoch 9/30\n",
            "20/20 [==============================] - ETA: 0s - loss: 0.0468 - accuracy: 0.9890\n",
            "Epoch 9: val_loss did not improve from 0.22131\n",
            "20/20 [==============================] - 1s 57ms/step - loss: 0.0468 - accuracy: 0.9890 - val_loss: 0.2274 - val_accuracy: 0.9482\n",
            "Epoch 10/30\n",
            "19/20 [===========================>..] - ETA: 0s - loss: 0.0439 - accuracy: 0.9884\n",
            "Epoch 10: val_loss did not improve from 0.22131\n",
            "20/20 [==============================] - 1s 54ms/step - loss: 0.0431 - accuracy: 0.9886 - val_loss: 0.2532 - val_accuracy: 0.9516\n",
            "Epoch 11/30\n",
            "19/20 [===========================>..] - ETA: 0s - loss: 0.0352 - accuracy: 0.9918\n",
            "Epoch 11: val_loss did not improve from 0.22131\n",
            "20/20 [==============================] - 1s 54ms/step - loss: 0.0362 - accuracy: 0.9915 - val_loss: 0.2255 - val_accuracy: 0.9616\n",
            "Epoch 12/30\n",
            "19/20 [===========================>..] - ETA: 0s - loss: 0.0223 - accuracy: 0.9940\n",
            "Epoch 12: val_loss did not improve from 0.22131\n",
            "20/20 [==============================] - 1s 61ms/step - loss: 0.0217 - accuracy: 0.9943 - val_loss: 0.2375 - val_accuracy: 0.9583\n",
            "Epoch 13/30\n",
            "19/20 [===========================>..] - ETA: 0s - loss: 0.0178 - accuracy: 0.9940\n",
            "Epoch 13: val_loss did not improve from 0.22131\n",
            "20/20 [==============================] - 1s 56ms/step - loss: 0.0195 - accuracy: 0.9931 - val_loss: 0.2246 - val_accuracy: 0.9599\n",
            "Epoch 14/30\n",
            "20/20 [==============================] - ETA: 0s - loss: 0.0329 - accuracy: 0.9910\n",
            "Epoch 14: val_loss improved from 0.22131 to 0.18753, saving model to best_weights.hdf5\n",
            "20/20 [==============================] - 1s 63ms/step - loss: 0.0329 - accuracy: 0.9910 - val_loss: 0.1875 - val_accuracy: 0.9599\n",
            "Epoch 15/30\n",
            "19/20 [===========================>..] - ETA: 0s - loss: 0.0323 - accuracy: 0.9918\n",
            "Epoch 15: val_loss did not improve from 0.18753\n",
            "20/20 [==============================] - 1s 56ms/step - loss: 0.0323 - accuracy: 0.9915 - val_loss: 0.2166 - val_accuracy: 0.9566\n",
            "Epoch 16/30\n",
            "19/20 [===========================>..] - ETA: 0s - loss: 0.0340 - accuracy: 0.9906\n",
            "Epoch 16: val_loss did not improve from 0.18753\n",
            "20/20 [==============================] - 1s 55ms/step - loss: 0.0338 - accuracy: 0.9906 - val_loss: 0.2658 - val_accuracy: 0.9449\n",
            "Epoch 17/30\n",
            "20/20 [==============================] - ETA: 0s - loss: 0.0241 - accuracy: 0.9939\n",
            "Epoch 17: val_loss did not improve from 0.18753\n",
            "20/20 [==============================] - 1s 54ms/step - loss: 0.0241 - accuracy: 0.9939 - val_loss: 0.2206 - val_accuracy: 0.9616\n",
            "Epoch 18/30\n",
            "20/20 [==============================] - ETA: 0s - loss: 0.0136 - accuracy: 0.9967\n",
            "Epoch 18: val_loss did not improve from 0.18753\n",
            "20/20 [==============================] - 1s 54ms/step - loss: 0.0136 - accuracy: 0.9967 - val_loss: 0.1932 - val_accuracy: 0.9616\n",
            "Epoch 19/30\n",
            "20/20 [==============================] - ETA: 0s - loss: 0.0150 - accuracy: 0.9959\n",
            "Epoch 19: val_loss did not improve from 0.18753\n",
            "20/20 [==============================] - 1s 53ms/step - loss: 0.0150 - accuracy: 0.9959 - val_loss: 0.2377 - val_accuracy: 0.9533\n",
            "Epoch 20/30\n",
            "19/20 [===========================>..] - ETA: 0s - loss: 0.0161 - accuracy: 0.9957\n",
            "Epoch 20: val_loss did not improve from 0.18753\n",
            "20/20 [==============================] - 1s 55ms/step - loss: 0.0157 - accuracy: 0.9959 - val_loss: 0.2122 - val_accuracy: 0.9633\n",
            "Epoch 21/30\n",
            "19/20 [===========================>..] - ETA: 0s - loss: 0.0149 - accuracy: 0.9948\n",
            "Epoch 21: val_loss did not improve from 0.18753\n",
            "20/20 [==============================] - 1s 54ms/step - loss: 0.0143 - accuracy: 0.9951 - val_loss: 0.2207 - val_accuracy: 0.9583\n",
            "Epoch 22/30\n",
            "20/20 [==============================] - ETA: 0s - loss: 0.0090 - accuracy: 0.9976\n",
            "Epoch 22: val_loss did not improve from 0.18753\n",
            "20/20 [==============================] - 1s 53ms/step - loss: 0.0090 - accuracy: 0.9976 - val_loss: 0.1959 - val_accuracy: 0.9633\n",
            "Epoch 23/30\n",
            "19/20 [===========================>..] - ETA: 0s - loss: 0.0148 - accuracy: 0.9957\n",
            "Epoch 23: val_loss did not improve from 0.18753\n",
            "20/20 [==============================] - 1s 55ms/step - loss: 0.0170 - accuracy: 0.9951 - val_loss: 0.2044 - val_accuracy: 0.9566\n",
            "Epoch 24/30\n",
            "20/20 [==============================] - ETA: 0s - loss: 0.0079 - accuracy: 0.9976\n",
            "Epoch 24: val_loss did not improve from 0.18753\n",
            "Restoring model weights from the end of the best epoch: 14.\n",
            "20/20 [==============================] - 1s 56ms/step - loss: 0.0079 - accuracy: 0.9976 - val_loss: 0.2001 - val_accuracy: 0.9616\n",
            "Epoch 24: early stopping\n"
          ]
        }
      ]
    },
    {
      "cell_type": "code",
      "source": [
        "test_datagen  = ImageDataGenerator(rescale=1./255)\n",
        "test_generator =  test_datagen.flow_from_directory(test_dir,\n",
        "                                                         batch_size=32,\n",
        "                                                         class_mode  = 'categorical',\n",
        "                                                         color_mode='grayscale',\n",
        "                                                         target_size=(ts,ts)) \n",
        "loss, acc = model.evaluate(test_generator)\n",
        "print(acc)\n"
      ],
      "metadata": {
        "colab": {
          "base_uri": "https://localhost:8080/"
        },
        "id": "XeT-FvMS4A51",
        "outputId": "281c0498-4f6a-4896-8be9-de77dd23531e"
      },
      "execution_count": 6,
      "outputs": [
        {
          "output_type": "stream",
          "name": "stdout",
          "text": [
            "Found 2149 images belonging to 34 classes.\n",
            "68/68 [==============================] - 1s 13ms/step - loss: 0.2014 - accuracy: 0.9632\n",
            "0.9632387161254883\n"
          ]
        }
      ]
    }
  ]
}