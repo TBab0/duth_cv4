{
  "nbformat": 4,
  "nbformat_minor": 0,
  "metadata": {
    "colab": {
      "provenance": [],
      "authorship_tag": "ABX9TyMPVFovv0VLozRpM+L+EmNv",
      "include_colab_link": true
    },
    "kernelspec": {
      "name": "python3",
      "display_name": "Python 3"
    },
    "language_info": {
      "name": "python"
    },
    "accelerator": "GPU",
    "gpuClass": "standard"
  },
  "cells": [
    {
      "cell_type": "markdown",
      "metadata": {
        "id": "view-in-github",
        "colab_type": "text"
      },
      "source": [
        "<a href=\"https://colab.research.google.com/github/TBab0/duth_cv4/blob/main/1sratch%20horizontal_flip.ipynb\" target=\"_parent\"><img src=\"https://colab.research.google.com/assets/colab-badge.svg\" alt=\"Open In Colab\"/></a>"
      ]
    },
    {
      "cell_type": "code",
      "source": [
        "from google.colab import drive\n",
        "import os\n",
        "import zipfile\n",
        "from tensorflow.keras.preprocessing.image import ImageDataGenerator\n",
        "import tensorflow as tf\n",
        "import datetime"
      ],
      "metadata": {
        "id": "DTKt3q_P4BG3"
      },
      "execution_count": 1,
      "outputs": []
    },
    {
      "cell_type": "code",
      "source": [
        "drive.mount('/content/drive')\n",
        "local_zip = '/content/drive/MyDrive/imagedb_btsd.zip'\n",
        "zip_ref = zipfile.ZipFile(local_zip, 'r')\n",
        "zip_ref.extractall('/content')\n",
        "zip_ref.close()\n",
        "\n",
        "train_dir = '/content/imagedb'\n",
        "test_dir = '/content/imagedb_test'"
      ],
      "metadata": {
        "colab": {
          "base_uri": "https://localhost:8080/"
        },
        "id": "OBGivO3c4BD-",
        "outputId": "c94c8f69-c894-42df-e29a-3ec0aa5e396b"
      },
      "execution_count": 2,
      "outputs": [
        {
          "output_type": "stream",
          "name": "stdout",
          "text": [
            "Mounted at /content/drive\n"
          ]
        }
      ]
    },
    {
      "cell_type": "code",
      "source": [
        "ts = 32\n",
        "# train_datagen = ImageDataGenerator(preprocessing_function=vgg16.preprocess_input, validation_split=0.2)\n",
        "train_datagen  = ImageDataGenerator(rescale=1./255,\n",
        "                                    horizontal_flip=True,\n",
        "                                    validation_split=0.2)\n",
        "\n",
        "# --------------------\n",
        "# Flow training images in batches of 20 using train_datagen generator\n",
        "# --------------------\n",
        "train_generator = train_datagen.flow_from_directory(train_dir,\n",
        "                                                    batch_size=128,\n",
        "                                                    class_mode='categorical',\n",
        "                                                    color_mode='grayscale',\n",
        "                                                    target_size=(ts,ts),\n",
        "                                                    subset='training', seed=1)     \n",
        "# --------------------\n",
        "# Flow validation images in batches of 20 using test_datagen generator\n",
        "# --------------------\n",
        "validation_generator =  train_datagen.flow_from_directory(train_dir,\n",
        "                                                        batch_size=128,\n",
        "                                                        class_mode='categorical',\n",
        "                                                         color_mode='grayscale',\n",
        "                                                         target_size=(ts,ts),\n",
        "                                                        subset='validation', seed=1)"
      ],
      "metadata": {
        "colab": {
          "base_uri": "https://localhost:8080/"
        },
        "id": "5GA8in3D4BBz",
        "outputId": "5f1a9b51-b698-4ea7-e6e2-8e0aea0ab9f5"
      },
      "execution_count": 3,
      "outputs": [
        {
          "output_type": "stream",
          "name": "stdout",
          "text": [
            "Found 2457 images belonging to 34 classes.\n",
            "Found 599 images belonging to 34 classes.\n"
          ]
        }
      ]
    },
    {
      "cell_type": "code",
      "source": [
        "model = tf.keras.models.Sequential([\n",
        "  tf.keras.layers.Conv2D(64, (5, 5), strides=(1, 1), activation='relu', input_shape=(ts, ts, 1)),\n",
        "  tf.keras.layers.Conv2D(64, (5, 5), strides=(1, 1), activation='relu', input_shape=(ts, ts, 1)),\n",
        "  tf.keras.layers.MaxPooling2D(pool_size=(2, 2), strides=(2, 2)),\n",
        "  # tf.keras.layers.Conv2D(64, (5, 5), strides=(1, 1), activation='relu', input_shape=(ts, ts, 1)),\n",
        "  tf.keras.layers.Flatten(),\n",
        "  tf.keras.layers.Dense(512, activation='relu'),\n",
        "  tf.keras.layers.Dropout(0.5),\n",
        "  tf.keras.layers.Dense(34, activation='softmax')\n",
        "])\n",
        "model.compile(optimizer = tf.keras.optimizers.Adam(), loss = 'categorical_crossentropy', metrics=['accuracy'])\n",
        "model.summary()"
      ],
      "metadata": {
        "colab": {
          "base_uri": "https://localhost:8080/"
        },
        "id": "5YAqCfYA4A_K",
        "outputId": "8aacc233-3b6d-41e0-f075-5b6c5b6d0566"
      },
      "execution_count": 4,
      "outputs": [
        {
          "output_type": "stream",
          "name": "stdout",
          "text": [
            "Model: \"sequential\"\n",
            "_________________________________________________________________\n",
            " Layer (type)                Output Shape              Param #   \n",
            "=================================================================\n",
            " conv2d (Conv2D)             (None, 28, 28, 64)        1664      \n",
            "                                                                 \n",
            " conv2d_1 (Conv2D)           (None, 24, 24, 64)        102464    \n",
            "                                                                 \n",
            " max_pooling2d (MaxPooling2D  (None, 12, 12, 64)       0         \n",
            " )                                                               \n",
            "                                                                 \n",
            " flatten (Flatten)           (None, 9216)              0         \n",
            "                                                                 \n",
            " dense (Dense)               (None, 512)               4719104   \n",
            "                                                                 \n",
            " dropout (Dropout)           (None, 512)               0         \n",
            "                                                                 \n",
            " dense_1 (Dense)             (None, 34)                17442     \n",
            "                                                                 \n",
            "=================================================================\n",
            "Total params: 4,840,674\n",
            "Trainable params: 4,840,674\n",
            "Non-trainable params: 0\n",
            "_________________________________________________________________\n"
          ]
        }
      ]
    },
    {
      "cell_type": "code",
      "source": [
        "callbacks = []\n",
        "\n",
        "save_best_callback = tf.keras.callbacks.ModelCheckpoint(f'best_weights.hdf5', save_best_only=True, verbose=1)\n",
        "callbacks.append(save_best_callback)\n",
        "\n",
        "early_stop_callback = tf.keras.callbacks.EarlyStopping(patience=10, restore_best_weights=True, verbose=1)\n",
        "callbacks.append(early_stop_callback)\n",
        "\n",
        "history = model.fit(train_generator, validation_data=validation_generator, epochs=30, verbose=1, callbacks=callbacks)"
      ],
      "metadata": {
        "colab": {
          "base_uri": "https://localhost:8080/"
        },
        "id": "sLvOxsdg4A8r",
        "outputId": "f7a86e05-af31-46a1-c751-50f0d3a5acb7"
      },
      "execution_count": 5,
      "outputs": [
        {
          "output_type": "stream",
          "name": "stdout",
          "text": [
            "Epoch 1/30\n",
            "19/20 [===========================>..] - ETA: 0s - loss: 2.6428 - accuracy: 0.3396\n",
            "Epoch 1: val_loss improved from inf to 1.33409, saving model to best_weights.hdf5\n",
            "20/20 [==============================] - 10s 77ms/step - loss: 2.5934 - accuracy: 0.3508 - val_loss: 1.3341 - val_accuracy: 0.7212\n",
            "Epoch 2/30\n",
            "19/20 [===========================>..] - ETA: 0s - loss: 1.1254 - accuracy: 0.7170\n",
            "Epoch 2: val_loss improved from 1.33409 to 0.61144, saving model to best_weights.hdf5\n",
            "20/20 [==============================] - 1s 63ms/step - loss: 1.1003 - accuracy: 0.7253 - val_loss: 0.6114 - val_accuracy: 0.8648\n",
            "Epoch 3/30\n",
            "19/20 [===========================>..] - ETA: 0s - loss: 0.5576 - accuracy: 0.8480\n",
            "Epoch 3: val_loss improved from 0.61144 to 0.32817, saving model to best_weights.hdf5\n",
            "20/20 [==============================] - 1s 64ms/step - loss: 0.5451 - accuracy: 0.8519 - val_loss: 0.3282 - val_accuracy: 0.9149\n",
            "Epoch 4/30\n",
            "19/20 [===========================>..] - ETA: 0s - loss: 0.2970 - accuracy: 0.9206\n",
            "Epoch 4: val_loss improved from 0.32817 to 0.31292, saving model to best_weights.hdf5\n",
            "20/20 [==============================] - 1s 62ms/step - loss: 0.2899 - accuracy: 0.9219 - val_loss: 0.3129 - val_accuracy: 0.9082\n",
            "Epoch 5/30\n",
            "19/20 [===========================>..] - ETA: 0s - loss: 0.2371 - accuracy: 0.9373\n",
            "Epoch 5: val_loss improved from 0.31292 to 0.21691, saving model to best_weights.hdf5\n",
            "20/20 [==============================] - 1s 62ms/step - loss: 0.2310 - accuracy: 0.9389 - val_loss: 0.2169 - val_accuracy: 0.9416\n",
            "Epoch 6/30\n",
            "20/20 [==============================] - ETA: 0s - loss: 0.1670 - accuracy: 0.9532\n",
            "Epoch 6: val_loss improved from 0.21691 to 0.21327, saving model to best_weights.hdf5\n",
            "20/20 [==============================] - 1s 62ms/step - loss: 0.1670 - accuracy: 0.9532 - val_loss: 0.2133 - val_accuracy: 0.9416\n",
            "Epoch 7/30\n",
            "19/20 [===========================>..] - ETA: 0s - loss: 0.1308 - accuracy: 0.9631\n",
            "Epoch 7: val_loss did not improve from 0.21327\n",
            "20/20 [==============================] - 1s 56ms/step - loss: 0.1300 - accuracy: 0.9638 - val_loss: 0.2277 - val_accuracy: 0.9432\n",
            "Epoch 8/30\n",
            "19/20 [===========================>..] - ETA: 0s - loss: 0.1064 - accuracy: 0.9708\n",
            "Epoch 8: val_loss improved from 0.21327 to 0.17370, saving model to best_weights.hdf5\n",
            "20/20 [==============================] - 1s 70ms/step - loss: 0.1058 - accuracy: 0.9711 - val_loss: 0.1737 - val_accuracy: 0.9499\n",
            "Epoch 9/30\n",
            "20/20 [==============================] - ETA: 0s - loss: 0.0962 - accuracy: 0.9740\n",
            "Epoch 9: val_loss did not improve from 0.17370\n",
            "20/20 [==============================] - 1s 56ms/step - loss: 0.0962 - accuracy: 0.9740 - val_loss: 0.2426 - val_accuracy: 0.9316\n",
            "Epoch 10/30\n",
            "20/20 [==============================] - ETA: 0s - loss: 0.0709 - accuracy: 0.9796\n",
            "Epoch 10: val_loss did not improve from 0.17370\n",
            "20/20 [==============================] - 1s 56ms/step - loss: 0.0709 - accuracy: 0.9796 - val_loss: 0.1954 - val_accuracy: 0.9482\n",
            "Epoch 11/30\n",
            "20/20 [==============================] - ETA: 0s - loss: 0.0623 - accuracy: 0.9796\n",
            "Epoch 11: val_loss did not improve from 0.17370\n",
            "20/20 [==============================] - 1s 55ms/step - loss: 0.0623 - accuracy: 0.9796 - val_loss: 0.1980 - val_accuracy: 0.9482\n",
            "Epoch 12/30\n",
            "19/20 [===========================>..] - ETA: 0s - loss: 0.0494 - accuracy: 0.9871\n",
            "Epoch 12: val_loss did not improve from 0.17370\n",
            "20/20 [==============================] - 1s 57ms/step - loss: 0.0493 - accuracy: 0.9874 - val_loss: 0.1993 - val_accuracy: 0.9566\n",
            "Epoch 13/30\n",
            "20/20 [==============================] - ETA: 0s - loss: 0.0415 - accuracy: 0.9878\n",
            "Epoch 13: val_loss did not improve from 0.17370\n",
            "20/20 [==============================] - 1s 57ms/step - loss: 0.0415 - accuracy: 0.9878 - val_loss: 0.1989 - val_accuracy: 0.9566\n",
            "Epoch 14/30\n",
            "19/20 [===========================>..] - ETA: 0s - loss: 0.0534 - accuracy: 0.9837\n",
            "Epoch 14: val_loss improved from 0.17370 to 0.14781, saving model to best_weights.hdf5\n",
            "20/20 [==============================] - 1s 63ms/step - loss: 0.0524 - accuracy: 0.9841 - val_loss: 0.1478 - val_accuracy: 0.9583\n",
            "Epoch 15/30\n",
            "20/20 [==============================] - ETA: 0s - loss: 0.0384 - accuracy: 0.9902\n",
            "Epoch 15: val_loss did not improve from 0.14781\n",
            "20/20 [==============================] - 1s 56ms/step - loss: 0.0384 - accuracy: 0.9902 - val_loss: 0.1901 - val_accuracy: 0.9533\n",
            "Epoch 16/30\n",
            "19/20 [===========================>..] - ETA: 0s - loss: 0.0449 - accuracy: 0.9884\n",
            "Epoch 16: val_loss did not improve from 0.14781\n",
            "20/20 [==============================] - 1s 59ms/step - loss: 0.0437 - accuracy: 0.9890 - val_loss: 0.1994 - val_accuracy: 0.9583\n",
            "Epoch 17/30\n",
            "19/20 [===========================>..] - ETA: 0s - loss: 0.0409 - accuracy: 0.9897\n",
            "Epoch 17: val_loss did not improve from 0.14781\n",
            "20/20 [==============================] - 1s 57ms/step - loss: 0.0396 - accuracy: 0.9898 - val_loss: 0.1706 - val_accuracy: 0.9599\n",
            "Epoch 18/30\n",
            "20/20 [==============================] - ETA: 0s - loss: 0.0327 - accuracy: 0.9902\n",
            "Epoch 18: val_loss did not improve from 0.14781\n",
            "20/20 [==============================] - 1s 57ms/step - loss: 0.0327 - accuracy: 0.9902 - val_loss: 0.1493 - val_accuracy: 0.9583\n",
            "Epoch 19/30\n",
            "20/20 [==============================] - ETA: 0s - loss: 0.0320 - accuracy: 0.9915\n",
            "Epoch 19: val_loss did not improve from 0.14781\n",
            "20/20 [==============================] - 1s 56ms/step - loss: 0.0320 - accuracy: 0.9915 - val_loss: 0.2043 - val_accuracy: 0.9499\n",
            "Epoch 20/30\n",
            "19/20 [===========================>..] - ETA: 0s - loss: 0.0379 - accuracy: 0.9893\n",
            "Epoch 20: val_loss did not improve from 0.14781\n",
            "20/20 [==============================] - 1s 56ms/step - loss: 0.0376 - accuracy: 0.9894 - val_loss: 0.1544 - val_accuracy: 0.9633\n",
            "Epoch 21/30\n",
            "19/20 [===========================>..] - ETA: 0s - loss: 0.0197 - accuracy: 0.9944\n",
            "Epoch 21: val_loss did not improve from 0.14781\n",
            "20/20 [==============================] - 1s 57ms/step - loss: 0.0188 - accuracy: 0.9947 - val_loss: 0.1900 - val_accuracy: 0.9482\n",
            "Epoch 22/30\n",
            "20/20 [==============================] - ETA: 0s - loss: 0.0297 - accuracy: 0.9906\n",
            "Epoch 22: val_loss did not improve from 0.14781\n",
            "20/20 [==============================] - 1s 55ms/step - loss: 0.0297 - accuracy: 0.9906 - val_loss: 0.1753 - val_accuracy: 0.9599\n",
            "Epoch 23/30\n",
            "20/20 [==============================] - ETA: 0s - loss: 0.0197 - accuracy: 0.9939\n",
            "Epoch 23: val_loss did not improve from 0.14781\n",
            "20/20 [==============================] - 1s 56ms/step - loss: 0.0197 - accuracy: 0.9939 - val_loss: 0.1675 - val_accuracy: 0.9633\n",
            "Epoch 24/30\n",
            "19/20 [===========================>..] - ETA: 0s - loss: 0.0181 - accuracy: 0.9948\n",
            "Epoch 24: val_loss did not improve from 0.14781\n",
            "Restoring model weights from the end of the best epoch: 14.\n",
            "20/20 [==============================] - 1s 59ms/step - loss: 0.0178 - accuracy: 0.9951 - val_loss: 0.1615 - val_accuracy: 0.9666\n",
            "Epoch 24: early stopping\n"
          ]
        }
      ]
    },
    {
      "cell_type": "code",
      "source": [
        "test_datagen  = ImageDataGenerator(rescale=1./255)\n",
        "test_generator =  test_datagen.flow_from_directory(test_dir,\n",
        "                                                         batch_size=32,\n",
        "                                                         class_mode  = 'categorical',\n",
        "                                                         color_mode='grayscale',\n",
        "                                                         target_size=(ts,ts)) \n",
        "loss, acc = model.evaluate(test_generator)\n",
        "print(acc)\n"
      ],
      "metadata": {
        "colab": {
          "base_uri": "https://localhost:8080/"
        },
        "id": "XeT-FvMS4A51",
        "outputId": "80a023b9-0b2d-42de-f95d-7ad11d624325"
      },
      "execution_count": 6,
      "outputs": [
        {
          "output_type": "stream",
          "name": "stdout",
          "text": [
            "Found 2149 images belonging to 34 classes.\n",
            "68/68 [==============================] - 1s 13ms/step - loss: 0.2511 - accuracy: 0.9525\n",
            "0.9525360465049744\n"
          ]
        }
      ]
    }
  ]
}