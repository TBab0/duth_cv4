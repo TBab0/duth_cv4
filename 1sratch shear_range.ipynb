{
  "nbformat": 4,
  "nbformat_minor": 0,
  "metadata": {
    "colab": {
      "provenance": [],
      "authorship_tag": "ABX9TyN2G3v2BZOcP4CxU0z81+Oq",
      "include_colab_link": true
    },
    "kernelspec": {
      "name": "python3",
      "display_name": "Python 3"
    },
    "language_info": {
      "name": "python"
    },
    "accelerator": "GPU",
    "gpuClass": "standard"
  },
  "cells": [
    {
      "cell_type": "markdown",
      "metadata": {
        "id": "view-in-github",
        "colab_type": "text"
      },
      "source": [
        "<a href=\"https://colab.research.google.com/github/TBab0/duth_cv4/blob/main/1sratch%20shear_range.ipynb\" target=\"_parent\"><img src=\"https://colab.research.google.com/assets/colab-badge.svg\" alt=\"Open In Colab\"/></a>"
      ]
    },
    {
      "cell_type": "code",
      "source": [
        "from google.colab import drive\n",
        "import os\n",
        "import zipfile\n",
        "from tensorflow.keras.preprocessing.image import ImageDataGenerator\n",
        "import tensorflow as tf\n",
        "import datetime"
      ],
      "metadata": {
        "id": "DTKt3q_P4BG3"
      },
      "execution_count": 1,
      "outputs": []
    },
    {
      "cell_type": "code",
      "source": [
        "drive.mount('/content/drive')\n",
        "local_zip = '/content/drive/MyDrive/imagedb_btsd.zip'\n",
        "zip_ref = zipfile.ZipFile(local_zip, 'r')\n",
        "zip_ref.extractall('/content')\n",
        "zip_ref.close()\n",
        "\n",
        "train_dir = '/content/imagedb'\n",
        "test_dir = '/content/imagedb_test'"
      ],
      "metadata": {
        "colab": {
          "base_uri": "https://localhost:8080/"
        },
        "id": "OBGivO3c4BD-",
        "outputId": "ef0a5d4c-c7d9-4bcf-d2cb-7da34092def3"
      },
      "execution_count": 2,
      "outputs": [
        {
          "output_type": "stream",
          "name": "stdout",
          "text": [
            "Mounted at /content/drive\n"
          ]
        }
      ]
    },
    {
      "cell_type": "code",
      "source": [
        "ts = 32\n",
        "# train_datagen = ImageDataGenerator(preprocessing_function=vgg16.preprocess_input, validation_split=0.2)\n",
        "train_datagen  = ImageDataGenerator(rescale=1./255,\n",
        "                                    shear_range=0.2,\n",
        "                                    validation_split=0.2)\n",
        "\n",
        "# --------------------\n",
        "# Flow training images in batches of 20 using train_datagen generator\n",
        "# --------------------\n",
        "train_generator = train_datagen.flow_from_directory(train_dir,\n",
        "                                                    batch_size=128,\n",
        "                                                    class_mode='categorical',\n",
        "                                                    color_mode='grayscale',\n",
        "                                                    target_size=(ts,ts),\n",
        "                                                    subset='training', seed=1)     \n",
        "# --------------------\n",
        "# Flow validation images in batches of 20 using test_datagen generator\n",
        "# --------------------\n",
        "validation_generator =  train_datagen.flow_from_directory(train_dir,\n",
        "                                                        batch_size=128,\n",
        "                                                        class_mode='categorical',\n",
        "                                                         color_mode='grayscale',\n",
        "                                                         target_size=(ts,ts),\n",
        "                                                        subset='validation', seed=1)"
      ],
      "metadata": {
        "colab": {
          "base_uri": "https://localhost:8080/"
        },
        "id": "5GA8in3D4BBz",
        "outputId": "05db2dd1-d4b0-4fe1-a7bf-c0e58925a5b7"
      },
      "execution_count": 3,
      "outputs": [
        {
          "output_type": "stream",
          "name": "stdout",
          "text": [
            "Found 2457 images belonging to 34 classes.\n",
            "Found 599 images belonging to 34 classes.\n"
          ]
        }
      ]
    },
    {
      "cell_type": "code",
      "source": [
        "model = tf.keras.models.Sequential([\n",
        "  tf.keras.layers.Conv2D(64, (5, 5), strides=(1, 1), activation='relu', input_shape=(ts, ts, 1)),\n",
        "  tf.keras.layers.Conv2D(64, (5, 5), strides=(1, 1), activation='relu', input_shape=(ts, ts, 1)),\n",
        "  tf.keras.layers.MaxPooling2D(pool_size=(2, 2), strides=(2, 2)),\n",
        "  # tf.keras.layers.Conv2D(64, (5, 5), strides=(1, 1), activation='relu', input_shape=(ts, ts, 1)),\n",
        "  tf.keras.layers.Flatten(),\n",
        "  tf.keras.layers.Dense(512, activation='relu'),\n",
        "  tf.keras.layers.Dropout(0.5),\n",
        "  tf.keras.layers.Dense(34, activation='softmax')\n",
        "])\n",
        "model.compile(optimizer = tf.keras.optimizers.Adam(), loss = 'categorical_crossentropy', metrics=['accuracy'])\n",
        "model.summary()"
      ],
      "metadata": {
        "colab": {
          "base_uri": "https://localhost:8080/"
        },
        "id": "5YAqCfYA4A_K",
        "outputId": "a5ff842a-37e2-4d24-b59e-35e273eeba22"
      },
      "execution_count": 4,
      "outputs": [
        {
          "output_type": "stream",
          "name": "stdout",
          "text": [
            "Model: \"sequential\"\n",
            "_________________________________________________________________\n",
            " Layer (type)                Output Shape              Param #   \n",
            "=================================================================\n",
            " conv2d (Conv2D)             (None, 28, 28, 64)        1664      \n",
            "                                                                 \n",
            " conv2d_1 (Conv2D)           (None, 24, 24, 64)        102464    \n",
            "                                                                 \n",
            " max_pooling2d (MaxPooling2D  (None, 12, 12, 64)       0         \n",
            " )                                                               \n",
            "                                                                 \n",
            " flatten (Flatten)           (None, 9216)              0         \n",
            "                                                                 \n",
            " dense (Dense)               (None, 512)               4719104   \n",
            "                                                                 \n",
            " dropout (Dropout)           (None, 512)               0         \n",
            "                                                                 \n",
            " dense_1 (Dense)             (None, 34)                17442     \n",
            "                                                                 \n",
            "=================================================================\n",
            "Total params: 4,840,674\n",
            "Trainable params: 4,840,674\n",
            "Non-trainable params: 0\n",
            "_________________________________________________________________\n"
          ]
        }
      ]
    },
    {
      "cell_type": "code",
      "source": [
        "callbacks = []\n",
        "\n",
        "save_best_callback = tf.keras.callbacks.ModelCheckpoint(f'best_weights.hdf5', save_best_only=True, verbose=1)\n",
        "callbacks.append(save_best_callback)\n",
        "\n",
        "early_stop_callback = tf.keras.callbacks.EarlyStopping(patience=10, restore_best_weights=True, verbose=1)\n",
        "callbacks.append(early_stop_callback)\n",
        "\n",
        "history = model.fit(train_generator, validation_data=validation_generator, epochs=30, verbose=1, callbacks=callbacks)"
      ],
      "metadata": {
        "colab": {
          "base_uri": "https://localhost:8080/"
        },
        "id": "sLvOxsdg4A8r",
        "outputId": "b66d96c1-e476-4847-a961-ed09679b51b4"
      },
      "execution_count": 5,
      "outputs": [
        {
          "output_type": "stream",
          "name": "stdout",
          "text": [
            "Epoch 1/30\n",
            "20/20 [==============================] - ETA: 0s - loss: 2.4148 - accuracy: 0.3940\n",
            "Epoch 1: val_loss improved from inf to 1.12997, saving model to best_weights.hdf5\n",
            "20/20 [==============================] - 10s 131ms/step - loss: 2.4148 - accuracy: 0.3940 - val_loss: 1.1300 - val_accuracy: 0.7713\n",
            "Epoch 2/30\n",
            "20/20 [==============================] - ETA: 0s - loss: 0.8224 - accuracy: 0.7977\n",
            "Epoch 2: val_loss improved from 1.12997 to 0.39146, saving model to best_weights.hdf5\n",
            "20/20 [==============================] - 2s 110ms/step - loss: 0.8224 - accuracy: 0.7977 - val_loss: 0.3915 - val_accuracy: 0.9098\n",
            "Epoch 3/30\n",
            "20/20 [==============================] - ETA: 0s - loss: 0.3342 - accuracy: 0.9133\n",
            "Epoch 3: val_loss improved from 0.39146 to 0.31334, saving model to best_weights.hdf5\n",
            "20/20 [==============================] - 2s 106ms/step - loss: 0.3342 - accuracy: 0.9133 - val_loss: 0.3133 - val_accuracy: 0.9349\n",
            "Epoch 4/30\n",
            "20/20 [==============================] - ETA: 0s - loss: 0.1676 - accuracy: 0.9548\n",
            "Epoch 4: val_loss improved from 0.31334 to 0.26936, saving model to best_weights.hdf5\n",
            "20/20 [==============================] - 2s 109ms/step - loss: 0.1676 - accuracy: 0.9548 - val_loss: 0.2694 - val_accuracy: 0.9382\n",
            "Epoch 5/30\n",
            "20/20 [==============================] - ETA: 0s - loss: 0.1036 - accuracy: 0.9719\n",
            "Epoch 5: val_loss improved from 0.26936 to 0.22597, saving model to best_weights.hdf5\n",
            "20/20 [==============================] - 2s 105ms/step - loss: 0.1036 - accuracy: 0.9719 - val_loss: 0.2260 - val_accuracy: 0.9516\n",
            "Epoch 6/30\n",
            "19/20 [===========================>..] - ETA: 0s - loss: 0.0640 - accuracy: 0.9856\n",
            "Epoch 6: val_loss improved from 0.22597 to 0.22560, saving model to best_weights.hdf5\n",
            "20/20 [==============================] - 2s 107ms/step - loss: 0.0637 - accuracy: 0.9858 - val_loss: 0.2256 - val_accuracy: 0.9482\n",
            "Epoch 7/30\n",
            "20/20 [==============================] - ETA: 0s - loss: 0.0634 - accuracy: 0.9853\n",
            "Epoch 7: val_loss improved from 0.22560 to 0.18215, saving model to best_weights.hdf5\n",
            "20/20 [==============================] - 2s 109ms/step - loss: 0.0634 - accuracy: 0.9853 - val_loss: 0.1821 - val_accuracy: 0.9533\n",
            "Epoch 8/30\n",
            "20/20 [==============================] - ETA: 0s - loss: 0.0414 - accuracy: 0.9898\n",
            "Epoch 8: val_loss did not improve from 0.18215\n",
            "20/20 [==============================] - 2s 98ms/step - loss: 0.0414 - accuracy: 0.9898 - val_loss: 0.2398 - val_accuracy: 0.9566\n",
            "Epoch 9/30\n",
            "20/20 [==============================] - ETA: 0s - loss: 0.0392 - accuracy: 0.9890\n",
            "Epoch 9: val_loss did not improve from 0.18215\n",
            "20/20 [==============================] - 2s 98ms/step - loss: 0.0392 - accuracy: 0.9890 - val_loss: 0.1988 - val_accuracy: 0.9583\n",
            "Epoch 10/30\n",
            "20/20 [==============================] - ETA: 0s - loss: 0.0312 - accuracy: 0.9923\n",
            "Epoch 10: val_loss did not improve from 0.18215\n",
            "20/20 [==============================] - 2s 100ms/step - loss: 0.0312 - accuracy: 0.9923 - val_loss: 0.2288 - val_accuracy: 0.9633\n",
            "Epoch 11/30\n",
            "20/20 [==============================] - ETA: 0s - loss: 0.0391 - accuracy: 0.9862\n",
            "Epoch 11: val_loss did not improve from 0.18215\n",
            "20/20 [==============================] - 3s 129ms/step - loss: 0.0391 - accuracy: 0.9862 - val_loss: 0.2157 - val_accuracy: 0.9616\n",
            "Epoch 12/30\n",
            "20/20 [==============================] - ETA: 0s - loss: 0.0260 - accuracy: 0.9931\n",
            "Epoch 12: val_loss did not improve from 0.18215\n",
            "20/20 [==============================] - 3s 130ms/step - loss: 0.0260 - accuracy: 0.9931 - val_loss: 0.1910 - val_accuracy: 0.9599\n",
            "Epoch 13/30\n",
            "20/20 [==============================] - ETA: 0s - loss: 0.0232 - accuracy: 0.9939\n",
            "Epoch 13: val_loss did not improve from 0.18215\n",
            "20/20 [==============================] - 2s 99ms/step - loss: 0.0232 - accuracy: 0.9939 - val_loss: 0.2255 - val_accuracy: 0.9499\n",
            "Epoch 14/30\n",
            "20/20 [==============================] - ETA: 0s - loss: 0.0174 - accuracy: 0.9939\n",
            "Epoch 14: val_loss improved from 0.18215 to 0.17529, saving model to best_weights.hdf5\n",
            "20/20 [==============================] - 2s 105ms/step - loss: 0.0174 - accuracy: 0.9939 - val_loss: 0.1753 - val_accuracy: 0.9633\n",
            "Epoch 15/30\n",
            "20/20 [==============================] - ETA: 0s - loss: 0.0277 - accuracy: 0.9943\n",
            "Epoch 15: val_loss did not improve from 0.17529\n",
            "20/20 [==============================] - 2s 98ms/step - loss: 0.0277 - accuracy: 0.9943 - val_loss: 0.1972 - val_accuracy: 0.9633\n",
            "Epoch 16/30\n",
            "20/20 [==============================] - ETA: 0s - loss: 0.0207 - accuracy: 0.9951\n",
            "Epoch 16: val_loss did not improve from 0.17529\n",
            "20/20 [==============================] - 2s 99ms/step - loss: 0.0207 - accuracy: 0.9951 - val_loss: 0.1835 - val_accuracy: 0.9666\n",
            "Epoch 17/30\n",
            "20/20 [==============================] - ETA: 0s - loss: 0.0170 - accuracy: 0.9959\n",
            "Epoch 17: val_loss improved from 0.17529 to 0.16809, saving model to best_weights.hdf5\n",
            "20/20 [==============================] - 2s 105ms/step - loss: 0.0170 - accuracy: 0.9959 - val_loss: 0.1681 - val_accuracy: 0.9716\n",
            "Epoch 18/30\n",
            "20/20 [==============================] - ETA: 0s - loss: 0.0083 - accuracy: 0.9972\n",
            "Epoch 18: val_loss did not improve from 0.16809\n",
            "20/20 [==============================] - 2s 99ms/step - loss: 0.0083 - accuracy: 0.9972 - val_loss: 0.2439 - val_accuracy: 0.9549\n",
            "Epoch 19/30\n",
            "20/20 [==============================] - ETA: 0s - loss: 0.0103 - accuracy: 0.9972\n",
            "Epoch 19: val_loss did not improve from 0.16809\n",
            "20/20 [==============================] - 2s 96ms/step - loss: 0.0103 - accuracy: 0.9972 - val_loss: 0.1961 - val_accuracy: 0.9516\n",
            "Epoch 20/30\n",
            "20/20 [==============================] - ETA: 0s - loss: 0.0093 - accuracy: 0.9963\n",
            "Epoch 20: val_loss did not improve from 0.16809\n",
            "20/20 [==============================] - 2s 99ms/step - loss: 0.0093 - accuracy: 0.9963 - val_loss: 0.1887 - val_accuracy: 0.9666\n",
            "Epoch 21/30\n",
            "20/20 [==============================] - ETA: 0s - loss: 0.0062 - accuracy: 0.9988\n",
            "Epoch 21: val_loss did not improve from 0.16809\n",
            "20/20 [==============================] - 2s 99ms/step - loss: 0.0062 - accuracy: 0.9988 - val_loss: 0.2030 - val_accuracy: 0.9633\n",
            "Epoch 22/30\n",
            "20/20 [==============================] - ETA: 0s - loss: 0.0063 - accuracy: 0.9992\n",
            "Epoch 22: val_loss did not improve from 0.16809\n",
            "20/20 [==============================] - 2s 98ms/step - loss: 0.0063 - accuracy: 0.9992 - val_loss: 0.2172 - val_accuracy: 0.9616\n",
            "Epoch 23/30\n",
            "20/20 [==============================] - ETA: 0s - loss: 0.0047 - accuracy: 0.9984\n",
            "Epoch 23: val_loss did not improve from 0.16809\n",
            "20/20 [==============================] - 2s 99ms/step - loss: 0.0047 - accuracy: 0.9984 - val_loss: 0.2523 - val_accuracy: 0.9566\n",
            "Epoch 24/30\n",
            "20/20 [==============================] - ETA: 0s - loss: 0.0059 - accuracy: 0.9980\n",
            "Epoch 24: val_loss did not improve from 0.16809\n",
            "20/20 [==============================] - 2s 97ms/step - loss: 0.0059 - accuracy: 0.9980 - val_loss: 0.2046 - val_accuracy: 0.9699\n",
            "Epoch 25/30\n",
            "20/20 [==============================] - ETA: 0s - loss: 0.0043 - accuracy: 0.9996\n",
            "Epoch 25: val_loss did not improve from 0.16809\n",
            "20/20 [==============================] - 2s 104ms/step - loss: 0.0043 - accuracy: 0.9996 - val_loss: 0.2094 - val_accuracy: 0.9633\n",
            "Epoch 26/30\n",
            "20/20 [==============================] - ETA: 0s - loss: 0.0059 - accuracy: 0.9988\n",
            "Epoch 26: val_loss did not improve from 0.16809\n",
            "20/20 [==============================] - 2s 98ms/step - loss: 0.0059 - accuracy: 0.9988 - val_loss: 0.2091 - val_accuracy: 0.9633\n",
            "Epoch 27/30\n",
            "20/20 [==============================] - ETA: 0s - loss: 0.0059 - accuracy: 0.9988\n",
            "Epoch 27: val_loss did not improve from 0.16809\n",
            "Restoring model weights from the end of the best epoch: 17.\n",
            "20/20 [==============================] - 2s 98ms/step - loss: 0.0059 - accuracy: 0.9988 - val_loss: 0.1905 - val_accuracy: 0.9649\n",
            "Epoch 27: early stopping\n"
          ]
        }
      ]
    },
    {
      "cell_type": "code",
      "source": [
        "test_datagen  = ImageDataGenerator(rescale=1./255)\n",
        "test_generator =  test_datagen.flow_from_directory(test_dir,\n",
        "                                                         batch_size=32,\n",
        "                                                         class_mode  = 'categorical',\n",
        "                                                         color_mode='grayscale',\n",
        "                                                         target_size=(ts,ts)) \n",
        "loss, acc = model.evaluate(test_generator)\n",
        "print(acc)\n"
      ],
      "metadata": {
        "colab": {
          "base_uri": "https://localhost:8080/"
        },
        "id": "XeT-FvMS4A51",
        "outputId": "d4df88a0-c6c9-4674-ef39-86022fee9027"
      },
      "execution_count": 6,
      "outputs": [
        {
          "output_type": "stream",
          "name": "stdout",
          "text": [
            "Found 2149 images belonging to 34 classes.\n",
            "68/68 [==============================] - 1s 14ms/step - loss: 0.2528 - accuracy: 0.9558\n",
            "0.9557933807373047\n"
          ]
        }
      ]
    }
  ]
}