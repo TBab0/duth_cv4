{
  "nbformat": 4,
  "nbformat_minor": 0,
  "metadata": {
    "colab": {
      "provenance": [],
      "name": "2tuned.ipynb",
      "authorship_tag": "ABX9TyOMZiKa+j+SkLVMqh9Quc9g",
      "include_colab_link": true
    },
    "kernelspec": {
      "name": "python3",
      "display_name": "Python 3"
    },
    "language_info": {
      "name": "python"
    },
    "accelerator": "GPU",
    "gpuClass": "standard"
  },
  "cells": [
    {
      "cell_type": "markdown",
      "metadata": {
        "id": "view-in-github",
        "colab_type": "text"
      },
      "source": [
        "<a href=\"https://colab.research.google.com/github/TBab0/duth_cv4/blob/main/2tuned%20total.ipynb\" target=\"_parent\"><img src=\"https://colab.research.google.com/assets/colab-badge.svg\" alt=\"Open In Colab\"/></a>"
      ]
    },
    {
      "cell_type": "code",
      "source": [
        "# Declare Imports\n",
        "from keras import models, regularizers, layers, optimizers, losses, metrics\n",
        "from keras.models import Sequential\n",
        "from keras.layers import Dense\n",
        "from keras.utils import np_utils, to_categorical\n",
        "from keras.preprocessing.image import ImageDataGenerator\n",
        "from keras.preprocessing import image\n",
        "from keras.applications import ResNet50\n",
        "from tensorflow.keras.applications.resnet50 import preprocess_input\n",
        "import os\n",
        "from google.colab import drive\n",
        "import zipfile\n",
        "import tensorflow as tf\n",
        "import datetime"
      ],
      "metadata": {
        "id": "DTKt3q_P4BG3"
      },
      "execution_count": 1,
      "outputs": []
    },
    {
      "cell_type": "code",
      "source": [
        "# Import from drive\n",
        "drive.mount('/content/drive')\n",
        "local_zip = '/content/drive/MyDrive/imagedb_btsd.zip'\n",
        "zip_ref = zipfile.ZipFile(local_zip, 'r')\n",
        "zip_ref.extractall('/content')\n",
        "zip_ref.close()\n",
        "\n",
        "train_dir = '/content/imagedb'\n",
        "test_dir = '/content/imagedb_test'"
      ],
      "metadata": {
        "colab": {
          "base_uri": "https://localhost:8080/"
        },
        "id": "OBGivO3c4BD-",
        "outputId": "7502c000-6185-4d57-ee3b-bf8ca81371aa"
      },
      "execution_count": 2,
      "outputs": [
        {
          "output_type": "stream",
          "name": "stdout",
          "text": [
            "Mounted at /content/drive\n"
          ]
        }
      ]
    },
    {
      "cell_type": "code",
      "source": [
        "# Prep the Train Valid and Test directories for the generator\n",
        "batch_size = 128\n",
        "row, col, cha = 256, 256, 3\n",
        "target_size = (row, col)\n",
        "\n",
        "train_datagen = ImageDataGenerator(preprocessing_function=preprocess_input,\n",
        "                                   featurewise_center = True,\n",
        "                                   featurewise_std_normalization=True,\n",
        "                                   horizontal_flip=True,\n",
        "                                   rotation_range= 20,\n",
        "                                   width_shift_range=0.2,\n",
        "                                   zoom_range=0.2,\n",
        "                                   validation_split=0.2)\n",
        "\n",
        "train_generator = train_datagen.flow_from_directory(\n",
        "    train_dir,\n",
        "    target_size=target_size,\n",
        "    batch_size=batch_size,\n",
        "    class_mode='categorical',\n",
        "    subset='training', seed=1) # set as training data\n",
        "\n",
        "validation_generator = train_datagen.flow_from_directory(\n",
        "    train_dir, # same directory as training data\n",
        "    target_size=target_size,\n",
        "    batch_size=batch_size,\n",
        "    class_mode='categorical',\n",
        "    subset='validation',  seed=1) # set as validation data"
      ],
      "metadata": {
        "colab": {
          "base_uri": "https://localhost:8080/"
        },
        "id": "5GA8in3D4BBz",
        "outputId": "3ce87563-1abd-4db6-8081-641c93bffc70"
      },
      "execution_count": 3,
      "outputs": [
        {
          "output_type": "stream",
          "name": "stdout",
          "text": [
            "Found 2457 images belonging to 34 classes.\n",
            "Found 599 images belonging to 34 classes.\n"
          ]
        }
      ]
    },
    {
      "cell_type": "code",
      "source": [
        "# Convoluted Base MODEL\n",
        "conv_base = ResNet50(weights='imagenet', include_top=False, input_shape=(row, col, cha))\n",
        "# print(conv_base.summary())\n",
        "\n",
        "# Freeze the layers\n",
        "for layer in conv_base.layers[:]:\n",
        "    layer.trainable = False\n",
        " \n",
        "# Check the trainable status of the individual layers\n",
        "# for layer in conv_base.layers:\n",
        "    # print(layer, layer.trainable)"
      ],
      "metadata": {
        "colab": {
          "base_uri": "https://localhost:8080/"
        },
        "id": "5YAqCfYA4A_K",
        "outputId": "9ba1f9f9-9393-4903-f7f6-627664553f5f"
      },
      "execution_count": 4,
      "outputs": [
        {
          "output_type": "stream",
          "name": "stdout",
          "text": [
            "Downloading data from https://storage.googleapis.com/tensorflow/keras-applications/resnet/resnet50_weights_tf_dim_ordering_tf_kernels_notop.h5\n",
            "94765736/94765736 [==============================] - 5s 0us/step\n"
          ]
        }
      ]
    },
    {
      "cell_type": "code",
      "source": [
        "# Create the model\n",
        "model = models.Sequential()\n",
        " \n",
        "# Add the vgg convolutional base model\n",
        "model.add(conv_base)\n",
        " \n",
        "# Add new layers\n",
        "model.add(layers.Flatten())\n",
        "model.add(layers.Dense(2048, activation='relu'))\n",
        "model.add(layers.Dropout(0.5))\n",
        "model.add(layers.Dense(512, activation='relu'))\n",
        "model.add(layers.Dropout(0.5))\n",
        "model.add(layers.Dense(34, activation='softmax'))\n",
        " \n",
        "# Show a summary of the model. Check the number of trainable parameters\n",
        "model.summary()"
      ],
      "metadata": {
        "colab": {
          "base_uri": "https://localhost:8080/"
        },
        "id": "sLvOxsdg4A8r",
        "outputId": "795f2883-bb5e-4520-b174-098752ad4b03"
      },
      "execution_count": 5,
      "outputs": [
        {
          "output_type": "stream",
          "name": "stdout",
          "text": [
            "Model: \"sequential\"\n",
            "_________________________________________________________________\n",
            " Layer (type)                Output Shape              Param #   \n",
            "=================================================================\n",
            " resnet50 (Functional)       (None, 8, 8, 2048)        23587712  \n",
            "                                                                 \n",
            " flatten (Flatten)           (None, 131072)            0         \n",
            "                                                                 \n",
            " dense (Dense)               (None, 2048)              268437504 \n",
            "                                                                 \n",
            " dropout (Dropout)           (None, 2048)              0         \n",
            "                                                                 \n",
            " dense_1 (Dense)             (None, 512)               1049088   \n",
            "                                                                 \n",
            " dropout_1 (Dropout)         (None, 512)               0         \n",
            "                                                                 \n",
            " dense_2 (Dense)             (None, 34)                17442     \n",
            "                                                                 \n",
            "=================================================================\n",
            "Total params: 293,091,746\n",
            "Trainable params: 269,504,034\n",
            "Non-trainable params: 23,587,712\n",
            "_________________________________________________________________\n"
          ]
        }
      ]
    },
    {
      "cell_type": "code",
      "source": [
        "callbacks = []\n",
        "\n",
        "save_best_callback = tf.keras.callbacks.ModelCheckpoint(f'best_weights.hdf5', save_best_only=True, verbose=1)\n",
        "callbacks.append(save_best_callback)\n",
        "\n",
        "early_stop_callback = tf.keras.callbacks.EarlyStopping(patience=5, restore_best_weights=True, verbose=1)\n",
        "callbacks.append(early_stop_callback)\n"
      ],
      "metadata": {
        "id": "XeT-FvMS4A51"
      },
      "execution_count": 6,
      "outputs": []
    },
    {
      "cell_type": "code",
      "source": [
        "# Compile the model\n",
        "model.compile(loss='categorical_crossentropy', optimizer=optimizers.adam_v2.Adam(learning_rate=1e-4), metrics=['acc'])\n",
        "# Train the model\n",
        "history = model.fit_generator(train_generator, steps_per_epoch=train_generator.samples/train_generator.batch_size, epochs=30, validation_data=validation_generator, verbose=1, callbacks = callbacks)\n",
        " \n",
        "# Save the model\n",
        "model.save('small_last4.h5')"
      ],
      "metadata": {
        "colab": {
          "base_uri": "https://localhost:8080/"
        },
        "id": "cOSQLEr_qTzr",
        "outputId": "ea494d89-a629-4286-eeb5-7e2bc001de24"
      },
      "execution_count": 7,
      "outputs": [
        {
          "output_type": "stream",
          "name": "stderr",
          "text": [
            "<ipython-input-7-24e1b0ab929e>:4: UserWarning: `Model.fit_generator` is deprecated and will be removed in a future version. Please use `Model.fit`, which supports generators.\n",
            "  history = model.fit_generator(train_generator, steps_per_epoch=train_generator.samples/train_generator.batch_size, epochs=30, validation_data=validation_generator, verbose=1, callbacks = callbacks)\n",
            "/usr/local/lib/python3.8/dist-packages/keras/preprocessing/image.py:1663: UserWarning: This ImageDataGenerator specifies `featurewise_center`, but it hasn't been fit on any training data. Fit it first by calling `.fit(numpy_data)`.\n",
            "  warnings.warn('This ImageDataGenerator specifies '\n",
            "/usr/local/lib/python3.8/dist-packages/keras/preprocessing/image.py:1671: UserWarning: This ImageDataGenerator specifies `featurewise_std_normalization`, but it hasn't been fit on any training data. Fit it first by calling `.fit(numpy_data)`.\n",
            "  warnings.warn('This ImageDataGenerator specifies '\n"
          ]
        },
        {
          "output_type": "stream",
          "name": "stdout",
          "text": [
            "Epoch 1/30\n",
            "20/19 [===============================] - ETA: -1s - loss: 5.4582 - acc: 0.3057\n",
            "Epoch 1: val_loss improved from inf to 1.13549, saving model to best_weights.hdf5\n",
            "19/19 [==============================] - 73s 3s/step - loss: 5.4582 - acc: 0.3057 - val_loss: 1.1355 - val_acc: 0.7262\n",
            "Epoch 2/30\n",
            "20/19 [===============================] - ETA: -1s - loss: 2.2851 - acc: 0.5702\n",
            "Epoch 2: val_loss improved from 1.13549 to 0.69019, saving model to best_weights.hdf5\n",
            "19/19 [==============================] - 60s 3s/step - loss: 2.2851 - acc: 0.5702 - val_loss: 0.6902 - val_acc: 0.8047\n",
            "Epoch 3/30\n",
            "20/19 [===============================] - ETA: -1s - loss: 1.5156 - acc: 0.6638\n",
            "Epoch 3: val_loss improved from 0.69019 to 0.54292, saving model to best_weights.hdf5\n",
            "19/19 [==============================] - 59s 3s/step - loss: 1.5156 - acc: 0.6638 - val_loss: 0.5429 - val_acc: 0.8631\n",
            "Epoch 4/30\n",
            "20/19 [===============================] - ETA: -1s - loss: 1.1997 - acc: 0.7131\n",
            "Epoch 4: val_loss improved from 0.54292 to 0.49775, saving model to best_weights.hdf5\n",
            "19/19 [==============================] - 59s 3s/step - loss: 1.1997 - acc: 0.7131 - val_loss: 0.4977 - val_acc: 0.8548\n",
            "Epoch 5/30\n",
            "20/19 [===============================] - ETA: -1s - loss: 1.0502 - acc: 0.7460\n",
            "Epoch 5: val_loss improved from 0.49775 to 0.46777, saving model to best_weights.hdf5\n",
            "19/19 [==============================] - 59s 3s/step - loss: 1.0502 - acc: 0.7460 - val_loss: 0.4678 - val_acc: 0.8648\n",
            "Epoch 6/30\n",
            "20/19 [===============================] - ETA: -1s - loss: 0.9120 - acc: 0.7672\n",
            "Epoch 6: val_loss improved from 0.46777 to 0.40676, saving model to best_weights.hdf5\n",
            "19/19 [==============================] - 59s 3s/step - loss: 0.9120 - acc: 0.7672 - val_loss: 0.4068 - val_acc: 0.8932\n",
            "Epoch 7/30\n",
            "20/19 [===============================] - ETA: -1s - loss: 0.8131 - acc: 0.7831\n",
            "Epoch 7: val_loss improved from 0.40676 to 0.38050, saving model to best_weights.hdf5\n",
            "19/19 [==============================] - 59s 3s/step - loss: 0.8131 - acc: 0.7831 - val_loss: 0.3805 - val_acc: 0.8948\n",
            "Epoch 8/30\n",
            "20/19 [===============================] - ETA: -1s - loss: 0.7574 - acc: 0.8006\n",
            "Epoch 8: val_loss did not improve from 0.38050\n",
            "19/19 [==============================] - 44s 2s/step - loss: 0.7574 - acc: 0.8006 - val_loss: 0.3966 - val_acc: 0.8932\n",
            "Epoch 9/30\n",
            "20/19 [===============================] - ETA: -1s - loss: 0.6048 - acc: 0.8266\n",
            "Epoch 9: val_loss improved from 0.38050 to 0.34305, saving model to best_weights.hdf5\n",
            "19/19 [==============================] - 57s 3s/step - loss: 0.6048 - acc: 0.8266 - val_loss: 0.3431 - val_acc: 0.8982\n",
            "Epoch 10/30\n",
            "20/19 [===============================] - ETA: -1s - loss: 0.5896 - acc: 0.8462\n",
            "Epoch 10: val_loss improved from 0.34305 to 0.31110, saving model to best_weights.hdf5\n",
            "19/19 [==============================] - 57s 3s/step - loss: 0.5896 - acc: 0.8462 - val_loss: 0.3111 - val_acc: 0.9132\n",
            "Epoch 11/30\n",
            "20/19 [===============================] - ETA: -1s - loss: 0.5477 - acc: 0.8531\n",
            "Epoch 11: val_loss did not improve from 0.31110\n",
            "19/19 [==============================] - 42s 2s/step - loss: 0.5477 - acc: 0.8531 - val_loss: 0.3318 - val_acc: 0.9082\n",
            "Epoch 12/30\n",
            "20/19 [===============================] - ETA: -1s - loss: 0.5369 - acc: 0.8580\n",
            "Epoch 12: val_loss did not improve from 0.31110\n",
            "19/19 [==============================] - 42s 2s/step - loss: 0.5369 - acc: 0.8580 - val_loss: 0.3158 - val_acc: 0.8982\n",
            "Epoch 13/30\n",
            "20/19 [===============================] - ETA: -1s - loss: 0.4883 - acc: 0.8653\n",
            "Epoch 13: val_loss improved from 0.31110 to 0.29707, saving model to best_weights.hdf5\n",
            "19/19 [==============================] - 57s 3s/step - loss: 0.4883 - acc: 0.8653 - val_loss: 0.2971 - val_acc: 0.9032\n",
            "Epoch 14/30\n",
            "20/19 [===============================] - ETA: -1s - loss: 0.4545 - acc: 0.8795\n",
            "Epoch 14: val_loss improved from 0.29707 to 0.28790, saving model to best_weights.hdf5\n",
            "19/19 [==============================] - 57s 3s/step - loss: 0.4545 - acc: 0.8795 - val_loss: 0.2879 - val_acc: 0.9299\n",
            "Epoch 15/30\n",
            "20/19 [===============================] - ETA: -1s - loss: 0.4578 - acc: 0.8673\n",
            "Epoch 15: val_loss did not improve from 0.28790\n",
            "19/19 [==============================] - 42s 2s/step - loss: 0.4578 - acc: 0.8673 - val_loss: 0.3173 - val_acc: 0.9065\n",
            "Epoch 16/30\n",
            "20/19 [===============================] - ETA: -1s - loss: 0.4056 - acc: 0.8848\n",
            "Epoch 16: val_loss improved from 0.28790 to 0.28515, saving model to best_weights.hdf5\n",
            "19/19 [==============================] - 57s 3s/step - loss: 0.4056 - acc: 0.8848 - val_loss: 0.2852 - val_acc: 0.9199\n",
            "Epoch 17/30\n",
            "20/19 [===============================] - ETA: -1s - loss: 0.4071 - acc: 0.8885\n",
            "Epoch 17: val_loss improved from 0.28515 to 0.23982, saving model to best_weights.hdf5\n",
            "19/19 [==============================] - 57s 3s/step - loss: 0.4071 - acc: 0.8885 - val_loss: 0.2398 - val_acc: 0.9249\n",
            "Epoch 18/30\n",
            "20/19 [===============================] - ETA: -1s - loss: 0.3957 - acc: 0.8913\n",
            "Epoch 18: val_loss did not improve from 0.23982\n",
            "19/19 [==============================] - 42s 2s/step - loss: 0.3957 - acc: 0.8913 - val_loss: 0.2574 - val_acc: 0.9165\n",
            "Epoch 19/30\n",
            "20/19 [===============================] - ETA: -1s - loss: 0.3807 - acc: 0.8934\n",
            "Epoch 19: val_loss did not improve from 0.23982\n",
            "19/19 [==============================] - 42s 2s/step - loss: 0.3807 - acc: 0.8934 - val_loss: 0.3084 - val_acc: 0.9065\n",
            "Epoch 20/30\n",
            "20/19 [===============================] - ETA: -1s - loss: 0.3644 - acc: 0.9031\n",
            "Epoch 20: val_loss did not improve from 0.23982\n",
            "19/19 [==============================] - 42s 2s/step - loss: 0.3644 - acc: 0.9031 - val_loss: 0.2565 - val_acc: 0.9332\n",
            "Epoch 21/30\n",
            "20/19 [===============================] - ETA: -1s - loss: 0.3776 - acc: 0.9007\n",
            "Epoch 21: val_loss did not improve from 0.23982\n",
            "19/19 [==============================] - 44s 2s/step - loss: 0.3776 - acc: 0.9007 - val_loss: 0.2483 - val_acc: 0.9232\n",
            "Epoch 22/30\n",
            "20/19 [===============================] - ETA: -1s - loss: 0.3133 - acc: 0.9105\n",
            "Epoch 22: val_loss did not improve from 0.23982\n",
            "Restoring model weights from the end of the best epoch: 17.\n",
            "19/19 [==============================] - 43s 2s/step - loss: 0.3133 - acc: 0.9105 - val_loss: 0.2483 - val_acc: 0.9349\n",
            "Epoch 22: early stopping\n"
          ]
        }
      ]
    },
    {
      "cell_type": "code",
      "source": [
        "# --------------------\n",
        "# Flow validation images in batches of 20 using test_datagen generator\n",
        "# --------------------\n",
        "test_datagen  = ImageDataGenerator(preprocessing_function=preprocess_input)\n",
        "test_generator =  test_datagen.flow_from_directory(test_dir,\n",
        "                                                        batch_size=128,\n",
        "                                                        class_mode='categorical',\n",
        "                                                        #  color_mode='grayscale',\n",
        "                                                         target_size=target_size) \n",
        "loss, acc = model.evaluate(test_generator)"
      ],
      "metadata": {
        "colab": {
          "base_uri": "https://localhost:8080/"
        },
        "id": "nSxvqbd7qVBq",
        "outputId": "d664d6ca-e1ce-458a-ec17-babeac81e5f8"
      },
      "execution_count": 8,
      "outputs": [
        {
          "output_type": "stream",
          "name": "stdout",
          "text": [
            "Found 2149 images belonging to 34 classes.\n",
            "17/17 [==============================] - 11s 655ms/step - loss: 0.2355 - acc: 0.9325\n"
          ]
        }
      ]
    }
  ]
}