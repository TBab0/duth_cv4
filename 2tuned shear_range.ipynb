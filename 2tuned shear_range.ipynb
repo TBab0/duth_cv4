{
  "nbformat": 4,
  "nbformat_minor": 0,
  "metadata": {
    "colab": {
      "provenance": [],
      "authorship_tag": "ABX9TyOx5M1DJjU9/AepuXF/7wf7",
      "include_colab_link": true
    },
    "kernelspec": {
      "name": "python3",
      "display_name": "Python 3"
    },
    "language_info": {
      "name": "python"
    },
    "accelerator": "GPU",
    "gpuClass": "standard"
  },
  "cells": [
    {
      "cell_type": "markdown",
      "metadata": {
        "id": "view-in-github",
        "colab_type": "text"
      },
      "source": [
        "<a href=\"https://colab.research.google.com/github/TBab0/duth_cv4/blob/main/2tuned%20shear_range.ipynb\" target=\"_parent\"><img src=\"https://colab.research.google.com/assets/colab-badge.svg\" alt=\"Open In Colab\"/></a>"
      ]
    },
    {
      "cell_type": "code",
      "execution_count": 1,
      "metadata": {
        "id": "46--Gy83oQwe"
      },
      "outputs": [],
      "source": [
        "# Declare Imports\n",
        "from keras import models, regularizers, layers, optimizers, losses, metrics\n",
        "from keras.models import Sequential\n",
        "from keras.layers import Dense\n",
        "from keras.utils import np_utils, to_categorical\n",
        "from keras.preprocessing.image import ImageDataGenerator\n",
        "from keras.preprocessing import image\n",
        "from keras.applications import ResNet50\n",
        "from tensorflow.keras.applications.resnet50 import preprocess_input\n",
        "import os\n",
        "from google.colab import drive\n",
        "import zipfile\n",
        "import tensorflow as tf\n",
        "import datetime"
      ]
    },
    {
      "cell_type": "code",
      "source": [
        "# Import from drive\n",
        "drive.mount('/content/drive')\n",
        "local_zip = '/content/drive/MyDrive/Colab Notebooks/imagedb_btsd.zip'\n",
        "zip_ref = zipfile.ZipFile(local_zip, 'r')\n",
        "zip_ref.extractall('/content')\n",
        "zip_ref.close()\n",
        "\n",
        "train_dir = '/content/imagedb'\n",
        "test_dir = '/content/imagedb_test'"
      ],
      "metadata": {
        "colab": {
          "base_uri": "https://localhost:8080/"
        },
        "id": "SColed9aocTn",
        "outputId": "7efd6d9c-4b0a-4723-8776-7e00341a6e48"
      },
      "execution_count": 2,
      "outputs": [
        {
          "output_type": "stream",
          "name": "stdout",
          "text": [
            "Mounted at /content/drive\n"
          ]
        }
      ]
    },
    {
      "cell_type": "code",
      "source": [
        "# Prep the Train Valid and Test directories for the generator\n",
        "batch_size = 128\n",
        "row, col, cha = 256, 256, 3\n",
        "target_size = (row, col)\n",
        "\n",
        "train_datagen = ImageDataGenerator(preprocessing_function=preprocess_input,\n",
        "                                   shear_range=0.2,\n",
        "                                   validation_split=0.2)\n",
        "\n",
        "train_generator = train_datagen.flow_from_directory(\n",
        "    train_dir,\n",
        "    target_size=target_size,\n",
        "    batch_size=batch_size,\n",
        "    class_mode='categorical',\n",
        "    subset='training', seed=1) # set as training data\n",
        "\n",
        "validation_generator = train_datagen.flow_from_directory(\n",
        "    train_dir, # same directory as training data\n",
        "    target_size=target_size,\n",
        "    batch_size=batch_size,\n",
        "    class_mode='categorical',\n",
        "    subset='validation',  seed=1) # set as validation data"
      ],
      "metadata": {
        "colab": {
          "base_uri": "https://localhost:8080/"
        },
        "id": "uEcv2NCMocRR",
        "outputId": "34776151-2dea-4370-b76e-05b6dd5a008d"
      },
      "execution_count": 3,
      "outputs": [
        {
          "output_type": "stream",
          "name": "stdout",
          "text": [
            "Found 2457 images belonging to 34 classes.\n",
            "Found 599 images belonging to 34 classes.\n"
          ]
        }
      ]
    },
    {
      "cell_type": "code",
      "source": [
        "# Convoluted Base MODEL\n",
        "conv_base = ResNet50(weights='imagenet', include_top=False, input_shape=(row, col, cha))\n",
        "# print(conv_base.summary())\n",
        "\n",
        "# Freeze the layers\n",
        "for layer in conv_base.layers[:]:\n",
        "    layer.trainable = False\n",
        " \n",
        "# Check the trainable status of the individual layers\n",
        "# for layer in conv_base.layers:\n",
        "    # print(layer, layer.trainable)"
      ],
      "metadata": {
        "colab": {
          "base_uri": "https://localhost:8080/"
        },
        "id": "egImsVVaocOw",
        "outputId": "58b954ed-e438-410d-c685-8b5e828fdaa0"
      },
      "execution_count": 4,
      "outputs": [
        {
          "output_type": "stream",
          "name": "stdout",
          "text": [
            "Downloading data from https://storage.googleapis.com/tensorflow/keras-applications/resnet/resnet50_weights_tf_dim_ordering_tf_kernels_notop.h5\n",
            "94765736/94765736 [==============================] - 3s 0us/step\n"
          ]
        }
      ]
    },
    {
      "cell_type": "code",
      "source": [
        "# Create the model\n",
        "model = models.Sequential()\n",
        " \n",
        "# Add the vgg convolutional base model\n",
        "model.add(conv_base)\n",
        " \n",
        "# Add new layers\n",
        "model.add(layers.Flatten())\n",
        "model.add(layers.Dense(2048, activation='relu'))\n",
        "model.add(layers.Dropout(0.5))\n",
        "model.add(layers.Dense(512, activation='relu'))\n",
        "model.add(layers.Dropout(0.5))\n",
        "model.add(layers.Dense(34, activation='softmax'))\n",
        " \n",
        "# Show a summary of the model. Check the number of trainable parameters\n",
        "model.summary()"
      ],
      "metadata": {
        "colab": {
          "base_uri": "https://localhost:8080/"
        },
        "id": "Vbn1a9wBocMe",
        "outputId": "ebf3ebd7-af34-4355-faa0-b818c73e633a"
      },
      "execution_count": 5,
      "outputs": [
        {
          "output_type": "stream",
          "name": "stdout",
          "text": [
            "Model: \"sequential\"\n",
            "_________________________________________________________________\n",
            " Layer (type)                Output Shape              Param #   \n",
            "=================================================================\n",
            " resnet50 (Functional)       (None, 8, 8, 2048)        23587712  \n",
            "                                                                 \n",
            " flatten (Flatten)           (None, 131072)            0         \n",
            "                                                                 \n",
            " dense (Dense)               (None, 2048)              268437504 \n",
            "                                                                 \n",
            " dropout (Dropout)           (None, 2048)              0         \n",
            "                                                                 \n",
            " dense_1 (Dense)             (None, 512)               1049088   \n",
            "                                                                 \n",
            " dropout_1 (Dropout)         (None, 512)               0         \n",
            "                                                                 \n",
            " dense_2 (Dense)             (None, 34)                17442     \n",
            "                                                                 \n",
            "=================================================================\n",
            "Total params: 293,091,746\n",
            "Trainable params: 269,504,034\n",
            "Non-trainable params: 23,587,712\n",
            "_________________________________________________________________\n"
          ]
        }
      ]
    },
    {
      "cell_type": "code",
      "source": [
        "callbacks = []\n",
        "\n",
        "save_best_callback = tf.keras.callbacks.ModelCheckpoint(f'best_weights.hdf5', save_best_only=True, verbose=1)\n",
        "callbacks.append(save_best_callback)\n",
        "\n",
        "early_stop_callback = tf.keras.callbacks.EarlyStopping(patience=5, restore_best_weights=True, verbose=1)\n",
        "callbacks.append(early_stop_callback)"
      ],
      "metadata": {
        "id": "f-5pn8aWocKD"
      },
      "execution_count": 6,
      "outputs": []
    },
    {
      "cell_type": "code",
      "source": [
        "# Compile the model\n",
        "model.compile(loss='categorical_crossentropy', optimizer=optimizers.adam_v2.Adam(learning_rate=1e-4), metrics=['acc'])\n",
        "# Train the model\n",
        "history = model.fit_generator(train_generator, steps_per_epoch=train_generator.samples/train_generator.batch_size, epochs=30, validation_data=validation_generator, verbose=1, callbacks = callbacks)\n",
        " \n",
        "# Save the model\n",
        "model.save('small_last4.h5')"
      ],
      "metadata": {
        "colab": {
          "base_uri": "https://localhost:8080/"
        },
        "id": "qOJuLMtQocHt",
        "outputId": "3aa4b814-71f9-4845-b3af-7f9ab74335e6"
      },
      "execution_count": 7,
      "outputs": [
        {
          "output_type": "stream",
          "name": "stderr",
          "text": [
            "<ipython-input-7-24e1b0ab929e>:4: UserWarning: `Model.fit_generator` is deprecated and will be removed in a future version. Please use `Model.fit`, which supports generators.\n",
            "  history = model.fit_generator(train_generator, steps_per_epoch=train_generator.samples/train_generator.batch_size, epochs=30, validation_data=validation_generator, verbose=1, callbacks = callbacks)\n"
          ]
        },
        {
          "output_type": "stream",
          "name": "stdout",
          "text": [
            "Epoch 1/30\n",
            "20/19 [===============================] - ETA: -1s - loss: 4.5933 - acc: 0.4713\n",
            "Epoch 1: val_loss improved from inf to 0.73867, saving model to best_weights.hdf5\n",
            "19/19 [==============================] - 74s 3s/step - loss: 4.5933 - acc: 0.4713 - val_loss: 0.7387 - val_acc: 0.8197\n",
            "Epoch 2/30\n",
            "20/19 [===============================] - ETA: -1s - loss: 1.3792 - acc: 0.7770\n",
            "Epoch 2: val_loss improved from 0.73867 to 0.30931, saving model to best_weights.hdf5\n",
            "19/19 [==============================] - 60s 3s/step - loss: 1.3792 - acc: 0.7770 - val_loss: 0.3093 - val_acc: 0.9149\n",
            "Epoch 3/30\n",
            "20/19 [===============================] - ETA: -1s - loss: 0.6839 - acc: 0.8681\n",
            "Epoch 3: val_loss improved from 0.30931 to 0.29957, saving model to best_weights.hdf5\n",
            "19/19 [==============================] - 60s 3s/step - loss: 0.6839 - acc: 0.8681 - val_loss: 0.2996 - val_acc: 0.9316\n",
            "Epoch 4/30\n",
            "20/19 [===============================] - ETA: -1s - loss: 0.4083 - acc: 0.9105\n",
            "Epoch 4: val_loss did not improve from 0.29957\n",
            "19/19 [==============================] - 44s 2s/step - loss: 0.4083 - acc: 0.9105 - val_loss: 0.3417 - val_acc: 0.9232\n",
            "Epoch 5/30\n",
            "20/19 [===============================] - ETA: -1s - loss: 0.2200 - acc: 0.9451\n",
            "Epoch 5: val_loss improved from 0.29957 to 0.20724, saving model to best_weights.hdf5\n",
            "19/19 [==============================] - 58s 3s/step - loss: 0.2200 - acc: 0.9451 - val_loss: 0.2072 - val_acc: 0.9583\n",
            "Epoch 6/30\n",
            "20/19 [===============================] - ETA: -1s - loss: 0.2593 - acc: 0.9406\n",
            "Epoch 6: val_loss did not improve from 0.20724\n",
            "19/19 [==============================] - 43s 2s/step - loss: 0.2593 - acc: 0.9406 - val_loss: 0.2759 - val_acc: 0.9466\n",
            "Epoch 7/30\n",
            "20/19 [===============================] - ETA: -1s - loss: 0.2359 - acc: 0.9532\n",
            "Epoch 7: val_loss did not improve from 0.20724\n",
            "19/19 [==============================] - 44s 2s/step - loss: 0.2359 - acc: 0.9532 - val_loss: 0.2483 - val_acc: 0.9432\n",
            "Epoch 8/30\n",
            "20/19 [===============================] - ETA: -1s - loss: 0.1793 - acc: 0.9585\n",
            "Epoch 8: val_loss did not improve from 0.20724\n",
            "19/19 [==============================] - 43s 2s/step - loss: 0.1793 - acc: 0.9585 - val_loss: 0.2897 - val_acc: 0.9382\n",
            "Epoch 9/30\n",
            "20/19 [===============================] - ETA: -1s - loss: 0.1535 - acc: 0.9617\n",
            "Epoch 9: val_loss did not improve from 0.20724\n",
            "19/19 [==============================] - 43s 2s/step - loss: 0.1535 - acc: 0.9617 - val_loss: 0.2697 - val_acc: 0.9449\n",
            "Epoch 10/30\n",
            "20/19 [===============================] - ETA: -1s - loss: 0.1497 - acc: 0.9646\n",
            "Epoch 10: val_loss did not improve from 0.20724\n",
            "Restoring model weights from the end of the best epoch: 5.\n",
            "19/19 [==============================] - 43s 2s/step - loss: 0.1497 - acc: 0.9646 - val_loss: 0.3424 - val_acc: 0.9449\n",
            "Epoch 10: early stopping\n"
          ]
        }
      ]
    },
    {
      "cell_type": "code",
      "source": [
        "# --------------------\n",
        "# Flow validation images in batches of 20 using test_datagen generator\n",
        "# --------------------\n",
        "test_datagen  = ImageDataGenerator(preprocessing_function=preprocess_input)\n",
        "test_generator =  test_datagen.flow_from_directory(test_dir,\n",
        "                                                        batch_size=128,\n",
        "                                                        class_mode='categorical',\n",
        "                                                        #  color_mode='grayscale',\n",
        "                                                         target_size=target_size) \n",
        "loss, acc = model.evaluate(test_generator)"
      ],
      "metadata": {
        "colab": {
          "base_uri": "https://localhost:8080/"
        },
        "id": "r2SxI0WzocFN",
        "outputId": "5477aed4-a139-4a49-960e-60b0bb7196e2"
      },
      "execution_count": 8,
      "outputs": [
        {
          "output_type": "stream",
          "name": "stdout",
          "text": [
            "Found 2149 images belonging to 34 classes.\n",
            "17/17 [==============================] - 11s 653ms/step - loss: 0.3364 - acc: 0.9288\n"
          ]
        }
      ]
    }
  ]
}