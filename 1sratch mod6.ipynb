{
  "nbformat": 4,
  "nbformat_minor": 0,
  "metadata": {
    "colab": {
      "provenance": [],
      "authorship_tag": "ABX9TyOc9SxFjNu6QuRrEdk2KS8j",
      "include_colab_link": true
    },
    "kernelspec": {
      "name": "python3",
      "display_name": "Python 3"
    },
    "language_info": {
      "name": "python"
    },
    "accelerator": "GPU",
    "gpuClass": "standard"
  },
  "cells": [
    {
      "cell_type": "markdown",
      "metadata": {
        "id": "view-in-github",
        "colab_type": "text"
      },
      "source": [
        "<a href=\"https://colab.research.google.com/github/TBab0/duth_cv4/blob/main/1sratch%20mod6.ipynb\" target=\"_parent\"><img src=\"https://colab.research.google.com/assets/colab-badge.svg\" alt=\"Open In Colab\"/></a>"
      ]
    },
    {
      "cell_type": "code",
      "execution_count": 1,
      "metadata": {
        "id": "CRe7zSiz_jAn"
      },
      "outputs": [],
      "source": [
        "from google.colab import drive\n",
        "import os\n",
        "import zipfile\n",
        "from tensorflow.keras.preprocessing.image import ImageDataGenerator\n",
        "import tensorflow as tf\n",
        "import datetime"
      ]
    },
    {
      "cell_type": "code",
      "source": [
        "drive.mount('/content/drive')\n",
        "local_zip = '/content/drive/MyDrive/Colab Notebooks/imagedb_btsd.zip'\n",
        "zip_ref = zipfile.ZipFile(local_zip, 'r')\n",
        "zip_ref.extractall('/content')\n",
        "zip_ref.close()\n",
        "\n",
        "train_dir = '/content/imagedb'\n",
        "test_dir = '/content/imagedb_test'"
      ],
      "metadata": {
        "colab": {
          "base_uri": "https://localhost:8080/"
        },
        "id": "4VtHVn0W_yzU",
        "outputId": "02fe9d21-4a19-44bc-8cb3-6d239addadfa"
      },
      "execution_count": 2,
      "outputs": [
        {
          "output_type": "stream",
          "name": "stdout",
          "text": [
            "Mounted at /content/drive\n"
          ]
        }
      ]
    },
    {
      "cell_type": "code",
      "source": [
        "ts = 32\n",
        "# train_datagen = ImageDataGenerator(preprocessing_function=vgg16.preprocess_input, validation_split=0.2)\n",
        "train_datagen  = ImageDataGenerator(rescale=1./255,\n",
        "                                    validation_split=0.2)\n",
        "\n",
        "# --------------------\n",
        "# Flow training images in batches of 20 using train_datagen generator\n",
        "# --------------------\n",
        "train_generator = train_datagen.flow_from_directory(train_dir,\n",
        "                                                    batch_size=128,\n",
        "                                                    class_mode='categorical',\n",
        "                                                    color_mode='grayscale',\n",
        "                                                    target_size=(ts,ts),\n",
        "                                                    subset='training', seed=1)      \n",
        "# --------------------\n",
        "# Flow validation images in batches of 20 using test_datagen generator\n",
        "# --------------------\n",
        "validation_generator =  train_datagen.flow_from_directory(train_dir,\n",
        "                                                        batch_size=128,\n",
        "                                                        class_mode='categorical',\n",
        "                                                         color_mode='grayscale',\n",
        "                                                         target_size=(ts,ts),\n",
        "                                                        subset='validation', seed=1)"
      ],
      "metadata": {
        "colab": {
          "base_uri": "https://localhost:8080/"
        },
        "id": "wizyipmL_yxB",
        "outputId": "81d9ecb1-3d5d-46e2-9592-1a83c6851e2b"
      },
      "execution_count": 3,
      "outputs": [
        {
          "output_type": "stream",
          "name": "stdout",
          "text": [
            "Found 2457 images belonging to 34 classes.\n",
            "Found 599 images belonging to 34 classes.\n"
          ]
        }
      ]
    },
    {
      "cell_type": "code",
      "source": [
        "model = tf.keras.models.Sequential([\n",
        "  tf.keras.layers.Conv2D(64, (5, 5), strides=(1, 1), activation='relu', input_shape=(ts, ts, 1)),\n",
        "  tf.keras.layers.MaxPooling2D(pool_size=(2, 2), strides=(2, 2)),\n",
        "  tf.keras.layers.Flatten(),\n",
        "  tf.keras.layers.Dense(100, activation='relu'),\n",
        "  tf.keras.layers.Dense(34, activation='softmax')\n",
        "])\n",
        "model.compile(optimizer = tf.keras.optimizers.Adam(), loss = 'categorical_crossentropy', metrics=['accuracy'])\n",
        "model.summary()"
      ],
      "metadata": {
        "colab": {
          "base_uri": "https://localhost:8080/"
        },
        "id": "Woyj9orx_yug",
        "outputId": "1e092fd9-ccc7-4148-cace-a0b962e4324e"
      },
      "execution_count": 4,
      "outputs": [
        {
          "output_type": "stream",
          "name": "stdout",
          "text": [
            "Model: \"sequential\"\n",
            "_________________________________________________________________\n",
            " Layer (type)                Output Shape              Param #   \n",
            "=================================================================\n",
            " conv2d (Conv2D)             (None, 28, 28, 64)        1664      \n",
            "                                                                 \n",
            " max_pooling2d (MaxPooling2D  (None, 14, 14, 64)       0         \n",
            " )                                                               \n",
            "                                                                 \n",
            " flatten (Flatten)           (None, 12544)             0         \n",
            "                                                                 \n",
            " dense (Dense)               (None, 100)               1254500   \n",
            "                                                                 \n",
            " dense_1 (Dense)             (None, 34)                3434      \n",
            "                                                                 \n",
            "=================================================================\n",
            "Total params: 1,259,598\n",
            "Trainable params: 1,259,598\n",
            "Non-trainable params: 0\n",
            "_________________________________________________________________\n"
          ]
        }
      ]
    },
    {
      "cell_type": "code",
      "source": [
        "callbacks = []\n",
        "\n",
        "save_best_callback = tf.keras.callbacks.ModelCheckpoint(f'best_weights.hdf5', save_best_only=True, verbose=1)\n",
        "callbacks.append(save_best_callback)\n",
        "\n",
        "early_stop_callback = tf.keras.callbacks.EarlyStopping(patience=10, restore_best_weights=True, verbose=1)\n",
        "callbacks.append(early_stop_callback)\n",
        "\n",
        "history = model.fit(train_generator, validation_data=validation_generator, epochs=30, verbose=1, callbacks=callbacks)"
      ],
      "metadata": {
        "colab": {
          "base_uri": "https://localhost:8080/"
        },
        "id": "uc8wqXI8_ysF",
        "outputId": "36d95ebf-861b-41a1-8e68-caef17b3ce6b"
      },
      "execution_count": 5,
      "outputs": [
        {
          "output_type": "stream",
          "name": "stdout",
          "text": [
            "Epoch 1/30\n",
            "20/20 [==============================] - ETA: 0s - loss: 2.7164 - accuracy: 0.3573\n",
            "Epoch 1: val_loss improved from inf to 1.93031, saving model to best_weights.hdf5\n",
            "20/20 [==============================] - 10s 61ms/step - loss: 2.7164 - accuracy: 0.3573 - val_loss: 1.9303 - val_accuracy: 0.5676\n",
            "Epoch 2/30\n",
            "19/20 [===========================>..] - ETA: 0s - loss: 1.5343 - accuracy: 0.6702\n",
            "Epoch 2: val_loss improved from 1.93031 to 1.18066, saving model to best_weights.hdf5\n",
            "20/20 [==============================] - 1s 51ms/step - loss: 1.5250 - accuracy: 0.6720 - val_loss: 1.1807 - val_accuracy: 0.7212\n",
            "Epoch 3/30\n",
            "19/20 [===========================>..] - ETA: 0s - loss: 0.9010 - accuracy: 0.8055\n",
            "Epoch 3: val_loss improved from 1.18066 to 0.74294, saving model to best_weights.hdf5\n",
            "20/20 [==============================] - 1s 52ms/step - loss: 0.8926 - accuracy: 0.8087 - val_loss: 0.7429 - val_accuracy: 0.8397\n",
            "Epoch 4/30\n",
            "19/20 [===========================>..] - ETA: 0s - loss: 0.5281 - accuracy: 0.8897\n",
            "Epoch 4: val_loss improved from 0.74294 to 0.59084, saving model to best_weights.hdf5\n",
            "20/20 [==============================] - 1s 52ms/step - loss: 0.5230 - accuracy: 0.8901 - val_loss: 0.5908 - val_accuracy: 0.8798\n",
            "Epoch 5/30\n",
            "19/20 [===========================>..] - ETA: 0s - loss: 0.3416 - accuracy: 0.9334\n",
            "Epoch 5: val_loss improved from 0.59084 to 0.47611, saving model to best_weights.hdf5\n",
            "20/20 [==============================] - 1s 51ms/step - loss: 0.3397 - accuracy: 0.9333 - val_loss: 0.4761 - val_accuracy: 0.8932\n",
            "Epoch 6/30\n",
            "20/20 [==============================] - ETA: 0s - loss: 0.2336 - accuracy: 0.9621\n",
            "Epoch 6: val_loss improved from 0.47611 to 0.47388, saving model to best_weights.hdf5\n",
            "20/20 [==============================] - 1s 49ms/step - loss: 0.2336 - accuracy: 0.9621 - val_loss: 0.4739 - val_accuracy: 0.8915\n",
            "Epoch 7/30\n",
            "19/20 [===========================>..] - ETA: 0s - loss: 0.1798 - accuracy: 0.9669\n",
            "Epoch 7: val_loss improved from 0.47388 to 0.37442, saving model to best_weights.hdf5\n",
            "20/20 [==============================] - 1s 51ms/step - loss: 0.1778 - accuracy: 0.9674 - val_loss: 0.3744 - val_accuracy: 0.9032\n",
            "Epoch 8/30\n",
            "19/20 [===========================>..] - ETA: 0s - loss: 0.1316 - accuracy: 0.9778\n",
            "Epoch 8: val_loss improved from 0.37442 to 0.34247, saving model to best_weights.hdf5\n",
            "20/20 [==============================] - 1s 55ms/step - loss: 0.1316 - accuracy: 0.9776 - val_loss: 0.3425 - val_accuracy: 0.9115\n",
            "Epoch 9/30\n",
            "19/20 [===========================>..] - ETA: 0s - loss: 0.0997 - accuracy: 0.9884\n",
            "Epoch 9: val_loss improved from 0.34247 to 0.32093, saving model to best_weights.hdf5\n",
            "20/20 [==============================] - 1s 51ms/step - loss: 0.0970 - accuracy: 0.9886 - val_loss: 0.3209 - val_accuracy: 0.9215\n",
            "Epoch 10/30\n",
            "19/20 [===========================>..] - ETA: 0s - loss: 0.0801 - accuracy: 0.9901\n",
            "Epoch 10: val_loss did not improve from 0.32093\n",
            "20/20 [==============================] - 1s 46ms/step - loss: 0.0824 - accuracy: 0.9882 - val_loss: 0.3363 - val_accuracy: 0.9149\n",
            "Epoch 11/30\n",
            "19/20 [===========================>..] - ETA: 0s - loss: 0.0606 - accuracy: 0.9914\n",
            "Epoch 11: val_loss did not improve from 0.32093\n",
            "20/20 [==============================] - 1s 47ms/step - loss: 0.0607 - accuracy: 0.9919 - val_loss: 0.3826 - val_accuracy: 0.9115\n",
            "Epoch 12/30\n",
            "20/20 [==============================] - ETA: 0s - loss: 0.0503 - accuracy: 0.9955\n",
            "Epoch 12: val_loss did not improve from 0.32093\n",
            "20/20 [==============================] - 1s 47ms/step - loss: 0.0503 - accuracy: 0.9955 - val_loss: 0.3522 - val_accuracy: 0.9149\n",
            "Epoch 13/30\n",
            "19/20 [===========================>..] - ETA: 0s - loss: 0.0446 - accuracy: 0.9931\n",
            "Epoch 13: val_loss did not improve from 0.32093\n",
            "20/20 [==============================] - 1s 47ms/step - loss: 0.0442 - accuracy: 0.9935 - val_loss: 0.4354 - val_accuracy: 0.8848\n",
            "Epoch 14/30\n",
            "20/20 [==============================] - ETA: 0s - loss: 0.0442 - accuracy: 0.9959\n",
            "Epoch 14: val_loss did not improve from 0.32093\n",
            "20/20 [==============================] - 1s 47ms/step - loss: 0.0442 - accuracy: 0.9959 - val_loss: 0.3308 - val_accuracy: 0.9199\n",
            "Epoch 15/30\n",
            "19/20 [===========================>..] - ETA: 0s - loss: 0.0297 - accuracy: 0.9983\n",
            "Epoch 15: val_loss did not improve from 0.32093\n",
            "20/20 [==============================] - 1s 47ms/step - loss: 0.0290 - accuracy: 0.9984 - val_loss: 0.3633 - val_accuracy: 0.9149\n",
            "Epoch 16/30\n",
            "20/20 [==============================] - ETA: 0s - loss: 0.0235 - accuracy: 0.9980\n",
            "Epoch 16: val_loss did not improve from 0.32093\n",
            "20/20 [==============================] - 1s 46ms/step - loss: 0.0235 - accuracy: 0.9980 - val_loss: 0.3388 - val_accuracy: 0.9182\n",
            "Epoch 17/30\n",
            "19/20 [===========================>..] - ETA: 0s - loss: 0.0187 - accuracy: 0.9991\n",
            "Epoch 17: val_loss did not improve from 0.32093\n",
            "20/20 [==============================] - 1s 46ms/step - loss: 0.0183 - accuracy: 0.9992 - val_loss: 0.3469 - val_accuracy: 0.9249\n",
            "Epoch 18/30\n",
            "19/20 [===========================>..] - ETA: 0s - loss: 0.0181 - accuracy: 0.9988\n",
            "Epoch 18: val_loss did not improve from 0.32093\n",
            "20/20 [==============================] - 1s 45ms/step - loss: 0.0180 - accuracy: 0.9988 - val_loss: 0.3625 - val_accuracy: 0.9149\n",
            "Epoch 19/30\n",
            "20/20 [==============================] - ETA: 0s - loss: 0.0151 - accuracy: 0.9992\n",
            "Epoch 19: val_loss did not improve from 0.32093\n",
            "Restoring model weights from the end of the best epoch: 9.\n",
            "20/20 [==============================] - 1s 46ms/step - loss: 0.0151 - accuracy: 0.9992 - val_loss: 0.3435 - val_accuracy: 0.9215\n",
            "Epoch 19: early stopping\n"
          ]
        }
      ]
    },
    {
      "cell_type": "code",
      "source": [
        "test_datagen  = ImageDataGenerator(rescale=1./255)\n",
        "test_generator =  test_datagen.flow_from_directory(test_dir,\n",
        "                                                         batch_size=32,\n",
        "                                                         class_mode  = 'categorical',\n",
        "                                                         color_mode='grayscale',\n",
        "                                                         target_size=(ts,ts)) \n",
        "loss, acc = model.evaluate(test_generator)\n",
        "print(acc)"
      ],
      "metadata": {
        "colab": {
          "base_uri": "https://localhost:8080/"
        },
        "id": "Mw4w4nrA_yp9",
        "outputId": "b9ecbb67-892f-4aee-986f-b6e955bfcfc3"
      },
      "execution_count": 6,
      "outputs": [
        {
          "output_type": "stream",
          "name": "stdout",
          "text": [
            "Found 2149 images belonging to 34 classes.\n",
            "68/68 [==============================] - 1s 12ms/step - loss: 0.3047 - accuracy: 0.9418\n",
            "0.9418334364891052\n"
          ]
        }
      ]
    }
  ]
}