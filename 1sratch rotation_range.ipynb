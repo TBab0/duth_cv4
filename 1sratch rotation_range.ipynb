{
  "nbformat": 4,
  "nbformat_minor": 0,
  "metadata": {
    "colab": {
      "provenance": [],
      "authorship_tag": "ABX9TyM3cJJQd8DSYI51TzxODojz",
      "include_colab_link": true
    },
    "kernelspec": {
      "name": "python3",
      "display_name": "Python 3"
    },
    "language_info": {
      "name": "python"
    },
    "accelerator": "GPU",
    "gpuClass": "standard"
  },
  "cells": [
    {
      "cell_type": "markdown",
      "metadata": {
        "id": "view-in-github",
        "colab_type": "text"
      },
      "source": [
        "<a href=\"https://colab.research.google.com/github/TBab0/duth_cv4/blob/main/1sratch%20rotation_range.ipynb\" target=\"_parent\"><img src=\"https://colab.research.google.com/assets/colab-badge.svg\" alt=\"Open In Colab\"/></a>"
      ]
    },
    {
      "cell_type": "code",
      "source": [
        "from google.colab import drive\n",
        "import os\n",
        "import zipfile\n",
        "from tensorflow.keras.preprocessing.image import ImageDataGenerator\n",
        "import tensorflow as tf\n",
        "import datetime"
      ],
      "metadata": {
        "id": "DTKt3q_P4BG3"
      },
      "execution_count": 1,
      "outputs": []
    },
    {
      "cell_type": "code",
      "source": [
        "drive.mount('/content/drive')\n",
        "local_zip = '/content/drive/MyDrive/imagedb_btsd.zip'\n",
        "zip_ref = zipfile.ZipFile(local_zip, 'r')\n",
        "zip_ref.extractall('/content')\n",
        "zip_ref.close()\n",
        "\n",
        "train_dir = '/content/imagedb'\n",
        "test_dir = '/content/imagedb_test'"
      ],
      "metadata": {
        "colab": {
          "base_uri": "https://localhost:8080/"
        },
        "id": "OBGivO3c4BD-",
        "outputId": "2bd25566-f1e4-46ef-ba45-b087edce3d85"
      },
      "execution_count": 2,
      "outputs": [
        {
          "output_type": "stream",
          "name": "stdout",
          "text": [
            "Mounted at /content/drive\n"
          ]
        }
      ]
    },
    {
      "cell_type": "code",
      "source": [
        "ts = 32\n",
        "# train_datagen = ImageDataGenerator(preprocessing_function=vgg16.preprocess_input, validation_split=0.2)\n",
        "train_datagen  = ImageDataGenerator(rescale=1./255,\n",
        "                                    rotation_range= 20,\n",
        "                                    validation_split=0.2)\n",
        "\n",
        "# --------------------\n",
        "# Flow training images in batches of 20 using train_datagen generator\n",
        "# --------------------\n",
        "train_generator = train_datagen.flow_from_directory(train_dir,\n",
        "                                                    batch_size=128,\n",
        "                                                    class_mode='categorical',\n",
        "                                                    color_mode='grayscale',\n",
        "                                                    target_size=(ts,ts),\n",
        "                                                    subset='training', seed=1)     \n",
        "# --------------------\n",
        "# Flow validation images in batches of 20 using test_datagen generator\n",
        "# --------------------\n",
        "validation_generator =  train_datagen.flow_from_directory(train_dir,\n",
        "                                                        batch_size=128,\n",
        "                                                        class_mode='categorical',\n",
        "                                                         color_mode='grayscale',\n",
        "                                                         target_size=(ts,ts),\n",
        "                                                        subset='validation', seed=1)"
      ],
      "metadata": {
        "colab": {
          "base_uri": "https://localhost:8080/"
        },
        "id": "5GA8in3D4BBz",
        "outputId": "8009d219-bda2-44e8-d6c9-5a7f26229092"
      },
      "execution_count": 3,
      "outputs": [
        {
          "output_type": "stream",
          "name": "stdout",
          "text": [
            "Found 2457 images belonging to 34 classes.\n",
            "Found 599 images belonging to 34 classes.\n"
          ]
        }
      ]
    },
    {
      "cell_type": "code",
      "source": [
        "model = tf.keras.models.Sequential([\n",
        "  tf.keras.layers.Conv2D(64, (5, 5), strides=(1, 1), activation='relu', input_shape=(ts, ts, 1)),\n",
        "  tf.keras.layers.Conv2D(64, (5, 5), strides=(1, 1), activation='relu', input_shape=(ts, ts, 1)),\n",
        "  tf.keras.layers.MaxPooling2D(pool_size=(2, 2), strides=(2, 2)),\n",
        "  # tf.keras.layers.Conv2D(64, (5, 5), strides=(1, 1), activation='relu', input_shape=(ts, ts, 1)),\n",
        "  tf.keras.layers.Flatten(),\n",
        "  tf.keras.layers.Dense(512, activation='relu'),\n",
        "  tf.keras.layers.Dropout(0.5),\n",
        "  tf.keras.layers.Dense(34, activation='softmax')\n",
        "])\n",
        "model.compile(optimizer = tf.keras.optimizers.Adam(), loss = 'categorical_crossentropy', metrics=['accuracy'])\n",
        "model.summary()"
      ],
      "metadata": {
        "colab": {
          "base_uri": "https://localhost:8080/"
        },
        "id": "5YAqCfYA4A_K",
        "outputId": "af2e7e0f-f09b-4149-d831-19cfe8695452"
      },
      "execution_count": 4,
      "outputs": [
        {
          "output_type": "stream",
          "name": "stdout",
          "text": [
            "Model: \"sequential\"\n",
            "_________________________________________________________________\n",
            " Layer (type)                Output Shape              Param #   \n",
            "=================================================================\n",
            " conv2d (Conv2D)             (None, 28, 28, 64)        1664      \n",
            "                                                                 \n",
            " conv2d_1 (Conv2D)           (None, 24, 24, 64)        102464    \n",
            "                                                                 \n",
            " max_pooling2d (MaxPooling2D  (None, 12, 12, 64)       0         \n",
            " )                                                               \n",
            "                                                                 \n",
            " flatten (Flatten)           (None, 9216)              0         \n",
            "                                                                 \n",
            " dense (Dense)               (None, 512)               4719104   \n",
            "                                                                 \n",
            " dropout (Dropout)           (None, 512)               0         \n",
            "                                                                 \n",
            " dense_1 (Dense)             (None, 34)                17442     \n",
            "                                                                 \n",
            "=================================================================\n",
            "Total params: 4,840,674\n",
            "Trainable params: 4,840,674\n",
            "Non-trainable params: 0\n",
            "_________________________________________________________________\n"
          ]
        }
      ]
    },
    {
      "cell_type": "code",
      "source": [
        "callbacks = []\n",
        "\n",
        "save_best_callback = tf.keras.callbacks.ModelCheckpoint(f'best_weights.hdf5', save_best_only=True, verbose=1)\n",
        "callbacks.append(save_best_callback)\n",
        "\n",
        "early_stop_callback = tf.keras.callbacks.EarlyStopping(patience=10, restore_best_weights=True, verbose=1)\n",
        "callbacks.append(early_stop_callback)\n",
        "\n",
        "history = model.fit(train_generator, validation_data=validation_generator, epochs=30, verbose=1, callbacks=callbacks)"
      ],
      "metadata": {
        "colab": {
          "base_uri": "https://localhost:8080/"
        },
        "id": "sLvOxsdg4A8r",
        "outputId": "a5d56247-b4c7-4fe1-e962-7809cc818c14"
      },
      "execution_count": 5,
      "outputs": [
        {
          "output_type": "stream",
          "name": "stdout",
          "text": [
            "Epoch 1/30\n",
            "20/20 [==============================] - ETA: 0s - loss: 2.5197 - accuracy: 0.3635\n",
            "Epoch 1: val_loss improved from inf to 1.38580, saving model to best_weights.hdf5\n",
            "20/20 [==============================] - 10s 121ms/step - loss: 2.5197 - accuracy: 0.3635 - val_loss: 1.3858 - val_accuracy: 0.6962\n",
            "Epoch 2/30\n",
            "20/20 [==============================] - ETA: 0s - loss: 1.1389 - accuracy: 0.7053\n",
            "Epoch 2: val_loss improved from 1.38580 to 0.58287, saving model to best_weights.hdf5\n",
            "20/20 [==============================] - 2s 110ms/step - loss: 1.1389 - accuracy: 0.7053 - val_loss: 0.5829 - val_accuracy: 0.8648\n",
            "Epoch 3/30\n",
            "20/20 [==============================] - ETA: 0s - loss: 0.6267 - accuracy: 0.8213\n",
            "Epoch 3: val_loss improved from 0.58287 to 0.45278, saving model to best_weights.hdf5\n",
            "20/20 [==============================] - 2s 110ms/step - loss: 0.6267 - accuracy: 0.8213 - val_loss: 0.4528 - val_accuracy: 0.8881\n",
            "Epoch 4/30\n",
            "20/20 [==============================] - ETA: 0s - loss: 0.3948 - accuracy: 0.8938\n",
            "Epoch 4: val_loss improved from 0.45278 to 0.30852, saving model to best_weights.hdf5\n",
            "20/20 [==============================] - 2s 108ms/step - loss: 0.3948 - accuracy: 0.8938 - val_loss: 0.3085 - val_accuracy: 0.9449\n",
            "Epoch 5/30\n",
            "20/20 [==============================] - ETA: 0s - loss: 0.2536 - accuracy: 0.9288\n",
            "Epoch 5: val_loss improved from 0.30852 to 0.27879, saving model to best_weights.hdf5\n",
            "20/20 [==============================] - 2s 106ms/step - loss: 0.2536 - accuracy: 0.9288 - val_loss: 0.2788 - val_accuracy: 0.9432\n",
            "Epoch 6/30\n",
            "20/20 [==============================] - ETA: 0s - loss: 0.1949 - accuracy: 0.9471\n",
            "Epoch 6: val_loss improved from 0.27879 to 0.25279, saving model to best_weights.hdf5\n",
            "20/20 [==============================] - 2s 105ms/step - loss: 0.1949 - accuracy: 0.9471 - val_loss: 0.2528 - val_accuracy: 0.9449\n",
            "Epoch 7/30\n",
            "20/20 [==============================] - ETA: 0s - loss: 0.1599 - accuracy: 0.9540\n",
            "Epoch 7: val_loss did not improve from 0.25279\n",
            "20/20 [==============================] - 2s 100ms/step - loss: 0.1599 - accuracy: 0.9540 - val_loss: 0.2700 - val_accuracy: 0.9299\n",
            "Epoch 8/30\n",
            "20/20 [==============================] - ETA: 0s - loss: 0.1296 - accuracy: 0.9650\n",
            "Epoch 8: val_loss improved from 0.25279 to 0.19705, saving model to best_weights.hdf5\n",
            "20/20 [==============================] - 2s 107ms/step - loss: 0.1296 - accuracy: 0.9650 - val_loss: 0.1971 - val_accuracy: 0.9599\n",
            "Epoch 9/30\n",
            "20/20 [==============================] - ETA: 0s - loss: 0.0945 - accuracy: 0.9707\n",
            "Epoch 9: val_loss did not improve from 0.19705\n",
            "20/20 [==============================] - 2s 100ms/step - loss: 0.0945 - accuracy: 0.9707 - val_loss: 0.2531 - val_accuracy: 0.9399\n",
            "Epoch 10/30\n",
            "20/20 [==============================] - ETA: 0s - loss: 0.1000 - accuracy: 0.9735\n",
            "Epoch 10: val_loss did not improve from 0.19705\n",
            "20/20 [==============================] - 2s 100ms/step - loss: 0.1000 - accuracy: 0.9735 - val_loss: 0.2380 - val_accuracy: 0.9516\n",
            "Epoch 11/30\n",
            "20/20 [==============================] - ETA: 0s - loss: 0.0754 - accuracy: 0.9764\n",
            "Epoch 11: val_loss did not improve from 0.19705\n",
            "20/20 [==============================] - 2s 104ms/step - loss: 0.0754 - accuracy: 0.9764 - val_loss: 0.2419 - val_accuracy: 0.9399\n",
            "Epoch 12/30\n",
            "20/20 [==============================] - ETA: 0s - loss: 0.0690 - accuracy: 0.9784\n",
            "Epoch 12: val_loss improved from 0.19705 to 0.19459, saving model to best_weights.hdf5\n",
            "20/20 [==============================] - 2s 108ms/step - loss: 0.0690 - accuracy: 0.9784 - val_loss: 0.1946 - val_accuracy: 0.9583\n",
            "Epoch 13/30\n",
            "20/20 [==============================] - ETA: 0s - loss: 0.0635 - accuracy: 0.9805\n",
            "Epoch 13: val_loss did not improve from 0.19459\n",
            "20/20 [==============================] - 2s 101ms/step - loss: 0.0635 - accuracy: 0.9805 - val_loss: 0.2289 - val_accuracy: 0.9566\n",
            "Epoch 14/30\n",
            "20/20 [==============================] - ETA: 0s - loss: 0.0857 - accuracy: 0.9735\n",
            "Epoch 14: val_loss did not improve from 0.19459\n",
            "20/20 [==============================] - 2s 100ms/step - loss: 0.0857 - accuracy: 0.9735 - val_loss: 0.2703 - val_accuracy: 0.9399\n",
            "Epoch 15/30\n",
            "20/20 [==============================] - ETA: 0s - loss: 0.0726 - accuracy: 0.9792\n",
            "Epoch 15: val_loss did not improve from 0.19459\n",
            "20/20 [==============================] - 2s 100ms/step - loss: 0.0726 - accuracy: 0.9792 - val_loss: 0.1991 - val_accuracy: 0.9449\n",
            "Epoch 16/30\n",
            "20/20 [==============================] - ETA: 0s - loss: 0.0518 - accuracy: 0.9853\n",
            "Epoch 16: val_loss did not improve from 0.19459\n",
            "20/20 [==============================] - 2s 100ms/step - loss: 0.0518 - accuracy: 0.9853 - val_loss: 0.2016 - val_accuracy: 0.9549\n",
            "Epoch 17/30\n",
            "20/20 [==============================] - ETA: 0s - loss: 0.0403 - accuracy: 0.9874\n",
            "Epoch 17: val_loss did not improve from 0.19459\n",
            "20/20 [==============================] - 2s 100ms/step - loss: 0.0403 - accuracy: 0.9874 - val_loss: 0.2810 - val_accuracy: 0.9399\n",
            "Epoch 18/30\n",
            "20/20 [==============================] - ETA: 0s - loss: 0.0521 - accuracy: 0.9866\n",
            "Epoch 18: val_loss did not improve from 0.19459\n",
            "20/20 [==============================] - 2s 122ms/step - loss: 0.0521 - accuracy: 0.9866 - val_loss: 0.2693 - val_accuracy: 0.9432\n",
            "Epoch 19/30\n",
            "20/20 [==============================] - ETA: 0s - loss: 0.0545 - accuracy: 0.9825\n",
            "Epoch 19: val_loss did not improve from 0.19459\n",
            "20/20 [==============================] - 3s 137ms/step - loss: 0.0545 - accuracy: 0.9825 - val_loss: 0.1969 - val_accuracy: 0.9549\n",
            "Epoch 20/30\n",
            "20/20 [==============================] - ETA: 0s - loss: 0.0516 - accuracy: 0.9858\n",
            "Epoch 20: val_loss did not improve from 0.19459\n",
            "20/20 [==============================] - 2s 101ms/step - loss: 0.0516 - accuracy: 0.9858 - val_loss: 0.2344 - val_accuracy: 0.9449\n",
            "Epoch 21/30\n",
            "20/20 [==============================] - ETA: 0s - loss: 0.0495 - accuracy: 0.9849\n",
            "Epoch 21: val_loss did not improve from 0.19459\n",
            "20/20 [==============================] - 2s 104ms/step - loss: 0.0495 - accuracy: 0.9849 - val_loss: 0.2143 - val_accuracy: 0.9549\n",
            "Epoch 22/30\n",
            "20/20 [==============================] - ETA: 0s - loss: 0.0324 - accuracy: 0.9906\n",
            "Epoch 22: val_loss did not improve from 0.19459\n",
            "Restoring model weights from the end of the best epoch: 12.\n",
            "20/20 [==============================] - 2s 100ms/step - loss: 0.0324 - accuracy: 0.9906 - val_loss: 0.2016 - val_accuracy: 0.9549\n",
            "Epoch 22: early stopping\n"
          ]
        }
      ]
    },
    {
      "cell_type": "code",
      "source": [
        "test_datagen  = ImageDataGenerator(rescale=1./255)\n",
        "test_generator =  test_datagen.flow_from_directory(test_dir,\n",
        "                                                         batch_size=32,\n",
        "                                                         class_mode  = 'categorical',\n",
        "                                                         color_mode='grayscale',\n",
        "                                                         target_size=(ts,ts)) \n",
        "loss, acc = model.evaluate(test_generator)\n",
        "print(acc)\n"
      ],
      "metadata": {
        "colab": {
          "base_uri": "https://localhost:8080/"
        },
        "id": "XeT-FvMS4A51",
        "outputId": "5a1ff7c5-1e9f-4911-aabd-029a74806a32"
      },
      "execution_count": 6,
      "outputs": [
        {
          "output_type": "stream",
          "name": "stdout",
          "text": [
            "Found 2149 images belonging to 34 classes.\n",
            "68/68 [==============================] - 1s 14ms/step - loss: 0.2066 - accuracy: 0.9642\n",
            "0.9641693830490112\n"
          ]
        }
      ]
    }
  ]
}