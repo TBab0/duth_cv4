{
  "nbformat": 4,
  "nbformat_minor": 0,
  "metadata": {
    "colab": {
      "provenance": [],
      "authorship_tag": "ABX9TyM0KK+5DCC9l+LNYt8X/eH8",
      "include_colab_link": true
    },
    "kernelspec": {
      "name": "python3",
      "display_name": "Python 3"
    },
    "language_info": {
      "name": "python"
    },
    "accelerator": "GPU",
    "gpuClass": "standard"
  },
  "cells": [
    {
      "cell_type": "markdown",
      "metadata": {
        "id": "view-in-github",
        "colab_type": "text"
      },
      "source": [
        "<a href=\"https://colab.research.google.com/github/TBab0/duth_cv4/blob/main/1sratch%20featurewise_std_normalization.ipynb\" target=\"_parent\"><img src=\"https://colab.research.google.com/assets/colab-badge.svg\" alt=\"Open In Colab\"/></a>"
      ]
    },
    {
      "cell_type": "code",
      "source": [
        "from google.colab import drive\n",
        "import os\n",
        "import zipfile\n",
        "from tensorflow.keras.preprocessing.image import ImageDataGenerator\n",
        "import tensorflow as tf\n",
        "import datetime"
      ],
      "metadata": {
        "id": "DTKt3q_P4BG3"
      },
      "execution_count": 1,
      "outputs": []
    },
    {
      "cell_type": "code",
      "source": [
        "drive.mount('/content/drive')\n",
        "local_zip = '/content/drive/MyDrive/imagedb_btsd.zip'\n",
        "zip_ref = zipfile.ZipFile(local_zip, 'r')\n",
        "zip_ref.extractall('/content')\n",
        "zip_ref.close()\n",
        "\n",
        "train_dir = '/content/imagedb'\n",
        "test_dir = '/content/imagedb_test'"
      ],
      "metadata": {
        "colab": {
          "base_uri": "https://localhost:8080/"
        },
        "id": "OBGivO3c4BD-",
        "outputId": "30fbd265-e9ae-4440-cc28-a2537580a213"
      },
      "execution_count": 2,
      "outputs": [
        {
          "output_type": "stream",
          "name": "stdout",
          "text": [
            "Mounted at /content/drive\n"
          ]
        }
      ]
    },
    {
      "cell_type": "code",
      "source": [
        "ts = 32\n",
        "# train_datagen = ImageDataGenerator(preprocessing_function=vgg16.preprocess_input, validation_split=0.2)\n",
        "train_datagen  = ImageDataGenerator(rescale=1./255,\n",
        "                                    featurewise_std_normalization=True,\n",
        "                                    validation_split=0.2)\n",
        "\n",
        "# --------------------\n",
        "# Flow training images in batches of 20 using train_datagen generator\n",
        "# --------------------\n",
        "train_generator = train_datagen.flow_from_directory(train_dir,\n",
        "                                                    batch_size=128,\n",
        "                                                    class_mode='categorical',\n",
        "                                                    color_mode='grayscale',\n",
        "                                                    target_size=(ts,ts),\n",
        "                                                    subset='training', seed=1)     \n",
        "# --------------------\n",
        "# Flow validation images in batches of 20 using test_datagen generator\n",
        "# --------------------\n",
        "validation_generator =  train_datagen.flow_from_directory(train_dir,\n",
        "                                                        batch_size=128,\n",
        "                                                        class_mode='categorical',\n",
        "                                                         color_mode='grayscale',\n",
        "                                                         target_size=(ts,ts),\n",
        "                                                        subset='validation', seed=1)"
      ],
      "metadata": {
        "colab": {
          "base_uri": "https://localhost:8080/"
        },
        "id": "5GA8in3D4BBz",
        "outputId": "106f07d1-86a1-46e1-fc90-49b2f33f917d"
      },
      "execution_count": 3,
      "outputs": [
        {
          "output_type": "stream",
          "name": "stdout",
          "text": [
            "Found 2457 images belonging to 34 classes.\n",
            "Found 599 images belonging to 34 classes.\n"
          ]
        },
        {
          "output_type": "stream",
          "name": "stderr",
          "text": [
            "/usr/local/lib/python3.8/dist-packages/keras/preprocessing/image.py:1297: UserWarning: This ImageDataGenerator specifies `featurewise_std_normalization`, which overrides setting of `featurewise_center`.\n",
            "  warnings.warn('This ImageDataGenerator specifies '\n"
          ]
        }
      ]
    },
    {
      "cell_type": "code",
      "source": [
        "model = tf.keras.models.Sequential([\n",
        "  tf.keras.layers.Conv2D(64, (5, 5), strides=(1, 1), activation='relu', input_shape=(ts, ts, 1)),\n",
        "  tf.keras.layers.Conv2D(64, (5, 5), strides=(1, 1), activation='relu', input_shape=(ts, ts, 1)),\n",
        "  tf.keras.layers.MaxPooling2D(pool_size=(2, 2), strides=(2, 2)),\n",
        "  # tf.keras.layers.Conv2D(64, (5, 5), strides=(1, 1), activation='relu', input_shape=(ts, ts, 1)),\n",
        "  tf.keras.layers.Flatten(),\n",
        "  tf.keras.layers.Dense(512, activation='relu'),\n",
        "  tf.keras.layers.Dropout(0.5),\n",
        "  tf.keras.layers.Dense(34, activation='softmax')\n",
        "])\n",
        "model.compile(optimizer = tf.keras.optimizers.Adam(), loss = 'categorical_crossentropy', metrics=['accuracy'])\n",
        "model.summary()"
      ],
      "metadata": {
        "colab": {
          "base_uri": "https://localhost:8080/"
        },
        "id": "5YAqCfYA4A_K",
        "outputId": "27f82f4a-526e-4745-939e-59a20ab147b6"
      },
      "execution_count": 4,
      "outputs": [
        {
          "output_type": "stream",
          "name": "stdout",
          "text": [
            "Model: \"sequential\"\n",
            "_________________________________________________________________\n",
            " Layer (type)                Output Shape              Param #   \n",
            "=================================================================\n",
            " conv2d (Conv2D)             (None, 28, 28, 64)        1664      \n",
            "                                                                 \n",
            " conv2d_1 (Conv2D)           (None, 24, 24, 64)        102464    \n",
            "                                                                 \n",
            " max_pooling2d (MaxPooling2D  (None, 12, 12, 64)       0         \n",
            " )                                                               \n",
            "                                                                 \n",
            " flatten (Flatten)           (None, 9216)              0         \n",
            "                                                                 \n",
            " dense (Dense)               (None, 512)               4719104   \n",
            "                                                                 \n",
            " dropout (Dropout)           (None, 512)               0         \n",
            "                                                                 \n",
            " dense_1 (Dense)             (None, 34)                17442     \n",
            "                                                                 \n",
            "=================================================================\n",
            "Total params: 4,840,674\n",
            "Trainable params: 4,840,674\n",
            "Non-trainable params: 0\n",
            "_________________________________________________________________\n"
          ]
        }
      ]
    },
    {
      "cell_type": "code",
      "source": [
        "callbacks = []\n",
        "\n",
        "save_best_callback = tf.keras.callbacks.ModelCheckpoint(f'best_weights.hdf5', save_best_only=True, verbose=1)\n",
        "callbacks.append(save_best_callback)\n",
        "\n",
        "early_stop_callback = tf.keras.callbacks.EarlyStopping(patience=10, restore_best_weights=True, verbose=1)\n",
        "callbacks.append(early_stop_callback)\n",
        "\n",
        "history = model.fit(train_generator, validation_data=validation_generator, epochs=30, verbose=1, callbacks=callbacks)"
      ],
      "metadata": {
        "colab": {
          "base_uri": "https://localhost:8080/"
        },
        "id": "sLvOxsdg4A8r",
        "outputId": "e037e187-0556-4658-a605-e470eb3fe73d"
      },
      "execution_count": 5,
      "outputs": [
        {
          "output_type": "stream",
          "name": "stdout",
          "text": [
            "Epoch 1/30\n"
          ]
        },
        {
          "output_type": "stream",
          "name": "stderr",
          "text": [
            "/usr/local/lib/python3.8/dist-packages/keras/preprocessing/image.py:1663: UserWarning: This ImageDataGenerator specifies `featurewise_center`, but it hasn't been fit on any training data. Fit it first by calling `.fit(numpy_data)`.\n",
            "  warnings.warn('This ImageDataGenerator specifies '\n",
            "/usr/local/lib/python3.8/dist-packages/keras/preprocessing/image.py:1671: UserWarning: This ImageDataGenerator specifies `featurewise_std_normalization`, but it hasn't been fit on any training data. Fit it first by calling `.fit(numpy_data)`.\n",
            "  warnings.warn('This ImageDataGenerator specifies '\n"
          ]
        },
        {
          "output_type": "stream",
          "name": "stdout",
          "text": [
            "20/20 [==============================] - ETA: 0s - loss: 2.4422 - accuracy: 0.3956\n",
            "Epoch 1: val_loss improved from inf to 1.12682, saving model to best_weights.hdf5\n",
            "20/20 [==============================] - 10s 70ms/step - loss: 2.4422 - accuracy: 0.3956 - val_loss: 1.1268 - val_accuracy: 0.7245\n",
            "Epoch 2/30\n",
            "20/20 [==============================] - ETA: 0s - loss: 0.8881 - accuracy: 0.7639\n",
            "Epoch 2: val_loss improved from 1.12682 to 0.48196, saving model to best_weights.hdf5\n",
            "20/20 [==============================] - 1s 56ms/step - loss: 0.8881 - accuracy: 0.7639 - val_loss: 0.4820 - val_accuracy: 0.8865\n",
            "Epoch 3/30\n",
            "20/20 [==============================] - ETA: 0s - loss: 0.3912 - accuracy: 0.8999\n",
            "Epoch 3: val_loss improved from 0.48196 to 0.31250, saving model to best_weights.hdf5\n",
            "20/20 [==============================] - 1s 56ms/step - loss: 0.3912 - accuracy: 0.8999 - val_loss: 0.3125 - val_accuracy: 0.9149\n",
            "Epoch 4/30\n",
            "20/20 [==============================] - ETA: 0s - loss: 0.2271 - accuracy: 0.9349\n",
            "Epoch 4: val_loss improved from 0.31250 to 0.22271, saving model to best_weights.hdf5\n",
            "20/20 [==============================] - 1s 58ms/step - loss: 0.2271 - accuracy: 0.9349 - val_loss: 0.2227 - val_accuracy: 0.9416\n",
            "Epoch 5/30\n",
            "19/20 [===========================>..] - ETA: 0s - loss: 0.1287 - accuracy: 0.9609\n",
            "Epoch 5: val_loss did not improve from 0.22271\n",
            "20/20 [==============================] - 1s 49ms/step - loss: 0.1274 - accuracy: 0.9617 - val_loss: 0.2296 - val_accuracy: 0.9416\n",
            "Epoch 6/30\n",
            "20/20 [==============================] - ETA: 0s - loss: 0.1032 - accuracy: 0.9756\n",
            "Epoch 6: val_loss did not improve from 0.22271\n",
            "20/20 [==============================] - 1s 49ms/step - loss: 0.1032 - accuracy: 0.9756 - val_loss: 0.2308 - val_accuracy: 0.9466\n",
            "Epoch 7/30\n",
            "19/20 [===========================>..] - ETA: 0s - loss: 0.0818 - accuracy: 0.9799\n",
            "Epoch 7: val_loss did not improve from 0.22271\n",
            "20/20 [==============================] - 1s 51ms/step - loss: 0.0813 - accuracy: 0.9801 - val_loss: 0.2279 - val_accuracy: 0.9499\n",
            "Epoch 8/30\n",
            "19/20 [===========================>..] - ETA: 0s - loss: 0.0487 - accuracy: 0.9906\n",
            "Epoch 8: val_loss improved from 0.22271 to 0.15553, saving model to best_weights.hdf5\n",
            "20/20 [==============================] - 1s 58ms/step - loss: 0.0473 - accuracy: 0.9910 - val_loss: 0.1555 - val_accuracy: 0.9633\n",
            "Epoch 9/30\n",
            "18/20 [==========================>...] - ETA: 0s - loss: 0.0394 - accuracy: 0.9909\n",
            "Epoch 9: val_loss did not improve from 0.15553\n",
            "20/20 [==============================] - 1s 50ms/step - loss: 0.0379 - accuracy: 0.9915 - val_loss: 0.1811 - val_accuracy: 0.9583\n",
            "Epoch 10/30\n",
            "20/20 [==============================] - ETA: 0s - loss: 0.0404 - accuracy: 0.9862\n",
            "Epoch 10: val_loss did not improve from 0.15553\n",
            "20/20 [==============================] - 1s 50ms/step - loss: 0.0404 - accuracy: 0.9862 - val_loss: 0.1631 - val_accuracy: 0.9583\n",
            "Epoch 11/30\n",
            "19/20 [===========================>..] - ETA: 0s - loss: 0.0251 - accuracy: 0.9936\n",
            "Epoch 11: val_loss did not improve from 0.15553\n",
            "20/20 [==============================] - 1s 51ms/step - loss: 0.0252 - accuracy: 0.9935 - val_loss: 0.2185 - val_accuracy: 0.9549\n",
            "Epoch 12/30\n",
            "20/20 [==============================] - ETA: 0s - loss: 0.0251 - accuracy: 0.9935\n",
            "Epoch 12: val_loss did not improve from 0.15553\n",
            "20/20 [==============================] - 1s 49ms/step - loss: 0.0251 - accuracy: 0.9935 - val_loss: 0.1953 - val_accuracy: 0.9599\n",
            "Epoch 13/30\n",
            "20/20 [==============================] - ETA: 0s - loss: 0.0249 - accuracy: 0.9927\n",
            "Epoch 13: val_loss did not improve from 0.15553\n",
            "20/20 [==============================] - 1s 49ms/step - loss: 0.0249 - accuracy: 0.9927 - val_loss: 0.1971 - val_accuracy: 0.9499\n",
            "Epoch 14/30\n",
            "19/20 [===========================>..] - ETA: 0s - loss: 0.0342 - accuracy: 0.9906\n",
            "Epoch 14: val_loss did not improve from 0.15553\n",
            "20/20 [==============================] - 1s 50ms/step - loss: 0.0327 - accuracy: 0.9910 - val_loss: 0.2172 - val_accuracy: 0.9516\n",
            "Epoch 15/30\n",
            "20/20 [==============================] - ETA: 0s - loss: 0.0232 - accuracy: 0.9943\n",
            "Epoch 15: val_loss did not improve from 0.15553\n",
            "20/20 [==============================] - 1s 51ms/step - loss: 0.0232 - accuracy: 0.9943 - val_loss: 0.1892 - val_accuracy: 0.9616\n",
            "Epoch 16/30\n",
            "19/20 [===========================>..] - ETA: 0s - loss: 0.0167 - accuracy: 0.9953\n",
            "Epoch 16: val_loss did not improve from 0.15553\n",
            "20/20 [==============================] - 1s 50ms/step - loss: 0.0192 - accuracy: 0.9939 - val_loss: 0.2404 - val_accuracy: 0.9499\n",
            "Epoch 17/30\n",
            "20/20 [==============================] - ETA: 0s - loss: 0.0269 - accuracy: 0.9923\n",
            "Epoch 17: val_loss did not improve from 0.15553\n",
            "20/20 [==============================] - 1s 48ms/step - loss: 0.0269 - accuracy: 0.9923 - val_loss: 0.2418 - val_accuracy: 0.9516\n",
            "Epoch 18/30\n",
            "20/20 [==============================] - ETA: 0s - loss: 0.0133 - accuracy: 0.9972\n",
            "Epoch 18: val_loss did not improve from 0.15553\n",
            "Restoring model weights from the end of the best epoch: 8.\n",
            "20/20 [==============================] - 1s 50ms/step - loss: 0.0133 - accuracy: 0.9972 - val_loss: 0.2365 - val_accuracy: 0.9566\n",
            "Epoch 18: early stopping\n"
          ]
        }
      ]
    },
    {
      "cell_type": "code",
      "source": [
        "test_datagen  = ImageDataGenerator(rescale=1./255)\n",
        "test_generator =  test_datagen.flow_from_directory(test_dir,\n",
        "                                                         batch_size=32,\n",
        "                                                         class_mode  = 'categorical',\n",
        "                                                         color_mode='grayscale',\n",
        "                                                         target_size=(ts,ts)) \n",
        "loss, acc = model.evaluate(test_generator)\n",
        "print(acc)\n"
      ],
      "metadata": {
        "colab": {
          "base_uri": "https://localhost:8080/"
        },
        "id": "XeT-FvMS4A51",
        "outputId": "8731fd7b-70ed-4a75-fd44-fa68f6fa0746"
      },
      "execution_count": 6,
      "outputs": [
        {
          "output_type": "stream",
          "name": "stdout",
          "text": [
            "Found 2149 images belonging to 34 classes.\n",
            "68/68 [==============================] - 1s 16ms/step - loss: 0.2130 - accuracy: 0.9581\n",
            "0.9581200480461121\n"
          ]
        }
      ]
    }
  ]
}