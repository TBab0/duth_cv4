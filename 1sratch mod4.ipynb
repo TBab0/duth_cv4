{
  "nbformat": 4,
  "nbformat_minor": 0,
  "metadata": {
    "colab": {
      "provenance": [],
      "authorship_tag": "ABX9TyP4tEJkTRyjQtXtGRR9x9w+",
      "include_colab_link": true
    },
    "kernelspec": {
      "name": "python3",
      "display_name": "Python 3"
    },
    "language_info": {
      "name": "python"
    },
    "accelerator": "GPU",
    "gpuClass": "standard"
  },
  "cells": [
    {
      "cell_type": "markdown",
      "metadata": {
        "id": "view-in-github",
        "colab_type": "text"
      },
      "source": [
        "<a href=\"https://colab.research.google.com/github/TBab0/duth_cv4/blob/main/1sratch%20mod4.ipynb\" target=\"_parent\"><img src=\"https://colab.research.google.com/assets/colab-badge.svg\" alt=\"Open In Colab\"/></a>"
      ]
    },
    {
      "cell_type": "code",
      "execution_count": 3,
      "metadata": {
        "id": "CRe7zSiz_jAn"
      },
      "outputs": [],
      "source": [
        "from google.colab import drive\n",
        "import os\n",
        "import zipfile\n",
        "from tensorflow.keras.preprocessing.image import ImageDataGenerator\n",
        "import tensorflow as tf\n",
        "import datetime"
      ]
    },
    {
      "cell_type": "code",
      "source": [
        "drive.mount('/content/drive')\n",
        "local_zip = '/content/drive/MyDrive/Colab Notebooks/imagedb_btsd.zip'\n",
        "zip_ref = zipfile.ZipFile(local_zip, 'r')\n",
        "zip_ref.extractall('/content')\n",
        "zip_ref.close()\n",
        "\n",
        "train_dir = '/content/imagedb'\n",
        "test_dir = '/content/imagedb_test'"
      ],
      "metadata": {
        "colab": {
          "base_uri": "https://localhost:8080/"
        },
        "id": "4VtHVn0W_yzU",
        "outputId": "964fe819-be6d-4021-a63c-2db349019532"
      },
      "execution_count": 4,
      "outputs": [
        {
          "output_type": "stream",
          "name": "stdout",
          "text": [
            "Drive already mounted at /content/drive; to attempt to forcibly remount, call drive.mount(\"/content/drive\", force_remount=True).\n"
          ]
        }
      ]
    },
    {
      "cell_type": "code",
      "source": [
        "ts = 32\n",
        "# train_datagen = ImageDataGenerator(preprocessing_function=vgg16.preprocess_input, validation_split=0.2)\n",
        "train_datagen  = ImageDataGenerator(rescale=1./255,\n",
        "                                    validation_split=0.2)\n",
        "\n",
        "# --------------------\n",
        "# Flow training images in batches of 20 using train_datagen generator\n",
        "# --------------------\n",
        "train_generator = train_datagen.flow_from_directory(train_dir,\n",
        "                                                    batch_size=128,\n",
        "                                                    class_mode='categorical',\n",
        "                                                    color_mode='grayscale',\n",
        "                                                    target_size=(ts,ts),\n",
        "                                                    subset='training', seed=1)      \n",
        "# --------------------\n",
        "# Flow validation images in batches of 20 using test_datagen generator\n",
        "# --------------------\n",
        "validation_generator =  train_datagen.flow_from_directory(train_dir,\n",
        "                                                        batch_size=128,\n",
        "                                                        class_mode='categorical',\n",
        "                                                         color_mode='grayscale',\n",
        "                                                         target_size=(ts,ts),\n",
        "                                                        subset='validation', seed=1)"
      ],
      "metadata": {
        "colab": {
          "base_uri": "https://localhost:8080/"
        },
        "id": "wizyipmL_yxB",
        "outputId": "6a65513a-2a40-4f04-9ea9-ab8cd7fef3d2"
      },
      "execution_count": 5,
      "outputs": [
        {
          "output_type": "stream",
          "name": "stdout",
          "text": [
            "Found 2457 images belonging to 34 classes.\n",
            "Found 599 images belonging to 34 classes.\n"
          ]
        }
      ]
    },
    {
      "cell_type": "code",
      "source": [
        "model = tf.keras.models.Sequential([\n",
        "  tf.keras.layers.Conv2D(64, (5, 5), strides=(1, 1), activation='relu', input_shape=(ts, ts, 1)),\n",
        "  # tf.keras.layers.Conv2D(64, (5, 5), strides=(1, 1), activation='relu', input_shape=(ts, ts, 1)),\n",
        "  tf.keras.layers.MaxPooling2D(pool_size=(2, 2), strides=(2, 2)),\n",
        "  tf.keras.layers.Conv2D(64, (5, 5), strides=(1, 1), activation='relu', input_shape=(ts, ts, 1)),\n",
        "  tf.keras.layers.Flatten(),\n",
        "  tf.keras.layers.Dense(512, activation='relu'),\n",
        "  tf.keras.layers.Dropout(0.5),\n",
        "  tf.keras.layers.Dense(34, activation='softmax')\n",
        "])\n",
        "model.compile(optimizer = tf.keras.optimizers.Adam(), loss = 'categorical_crossentropy', metrics=['accuracy'])\n",
        "model.summary()"
      ],
      "metadata": {
        "colab": {
          "base_uri": "https://localhost:8080/"
        },
        "id": "Woyj9orx_yug",
        "outputId": "a09146c8-2241-4577-8558-32c6b259bae1"
      },
      "execution_count": 6,
      "outputs": [
        {
          "output_type": "stream",
          "name": "stdout",
          "text": [
            "Model: \"sequential\"\n",
            "_________________________________________________________________\n",
            " Layer (type)                Output Shape              Param #   \n",
            "=================================================================\n",
            " conv2d (Conv2D)             (None, 28, 28, 64)        1664      \n",
            "                                                                 \n",
            " max_pooling2d (MaxPooling2D  (None, 14, 14, 64)       0         \n",
            " )                                                               \n",
            "                                                                 \n",
            " conv2d_1 (Conv2D)           (None, 10, 10, 64)        102464    \n",
            "                                                                 \n",
            " flatten (Flatten)           (None, 6400)              0         \n",
            "                                                                 \n",
            " dense (Dense)               (None, 512)               3277312   \n",
            "                                                                 \n",
            " dropout (Dropout)           (None, 512)               0         \n",
            "                                                                 \n",
            " dense_1 (Dense)             (None, 34)                17442     \n",
            "                                                                 \n",
            "=================================================================\n",
            "Total params: 3,398,882\n",
            "Trainable params: 3,398,882\n",
            "Non-trainable params: 0\n",
            "_________________________________________________________________\n"
          ]
        }
      ]
    },
    {
      "cell_type": "code",
      "source": [
        "callbacks = []\n",
        "\n",
        "save_best_callback = tf.keras.callbacks.ModelCheckpoint(f'best_weights.hdf5', save_best_only=True, verbose=1)\n",
        "callbacks.append(save_best_callback)\n",
        "\n",
        "early_stop_callback = tf.keras.callbacks.EarlyStopping(patience=10, restore_best_weights=True, verbose=1)\n",
        "callbacks.append(early_stop_callback)\n",
        "\n",
        "history = model.fit(train_generator, validation_data=validation_generator, epochs=30, verbose=1, callbacks=callbacks)"
      ],
      "metadata": {
        "colab": {
          "base_uri": "https://localhost:8080/"
        },
        "id": "uc8wqXI8_ysF",
        "outputId": "d4ea4a1e-07c9-46cd-9df2-b486b488c134"
      },
      "execution_count": 7,
      "outputs": [
        {
          "output_type": "stream",
          "name": "stdout",
          "text": [
            "Epoch 1/30\n",
            "19/20 [===========================>..] - ETA: 0s - loss: 2.7770 - accuracy: 0.2984\n",
            "Epoch 1: val_loss improved from inf to 1.68369, saving model to best_weights.hdf5\n",
            "20/20 [==============================] - 9s 73ms/step - loss: 2.7265 - accuracy: 0.3130 - val_loss: 1.6837 - val_accuracy: 0.6344\n",
            "Epoch 2/30\n",
            "20/20 [==============================] - ETA: 0s - loss: 1.3273 - accuracy: 0.6606\n",
            "Epoch 2: val_loss improved from 1.68369 to 0.73977, saving model to best_weights.hdf5\n",
            "20/20 [==============================] - 1s 60ms/step - loss: 1.3273 - accuracy: 0.6606 - val_loss: 0.7398 - val_accuracy: 0.8464\n",
            "Epoch 3/30\n",
            "19/20 [===========================>..] - ETA: 0s - loss: 0.7469 - accuracy: 0.8012\n",
            "Epoch 3: val_loss improved from 0.73977 to 0.45945, saving model to best_weights.hdf5\n",
            "20/20 [==============================] - 1s 63ms/step - loss: 0.7383 - accuracy: 0.8030 - val_loss: 0.4595 - val_accuracy: 0.8815\n",
            "Epoch 4/30\n",
            "20/20 [==============================] - ETA: 0s - loss: 0.4183 - accuracy: 0.8877\n",
            "Epoch 4: val_loss improved from 0.45945 to 0.37343, saving model to best_weights.hdf5\n",
            "20/20 [==============================] - 1s 60ms/step - loss: 0.4183 - accuracy: 0.8877 - val_loss: 0.3734 - val_accuracy: 0.9048\n",
            "Epoch 5/30\n",
            "20/20 [==============================] - ETA: 0s - loss: 0.2946 - accuracy: 0.9174\n",
            "Epoch 5: val_loss improved from 0.37343 to 0.30085, saving model to best_weights.hdf5\n",
            "20/20 [==============================] - 1s 59ms/step - loss: 0.2946 - accuracy: 0.9174 - val_loss: 0.3008 - val_accuracy: 0.9282\n",
            "Epoch 6/30\n",
            "20/20 [==============================] - ETA: 0s - loss: 0.2203 - accuracy: 0.9410\n",
            "Epoch 6: val_loss improved from 0.30085 to 0.24658, saving model to best_weights.hdf5\n",
            "20/20 [==============================] - 1s 64ms/step - loss: 0.2203 - accuracy: 0.9410 - val_loss: 0.2466 - val_accuracy: 0.9416\n",
            "Epoch 7/30\n",
            "19/20 [===========================>..] - ETA: 0s - loss: 0.1486 - accuracy: 0.9588\n",
            "Epoch 7: val_loss did not improve from 0.24658\n",
            "20/20 [==============================] - 1s 52ms/step - loss: 0.1563 - accuracy: 0.9569 - val_loss: 0.2588 - val_accuracy: 0.9416\n",
            "Epoch 8/30\n",
            "18/20 [==========================>...] - ETA: 0s - loss: 0.1165 - accuracy: 0.9714\n",
            "Epoch 8: val_loss improved from 0.24658 to 0.20507, saving model to best_weights.hdf5\n",
            "20/20 [==============================] - 1s 58ms/step - loss: 0.1231 - accuracy: 0.9695 - val_loss: 0.2051 - val_accuracy: 0.9466\n",
            "Epoch 9/30\n",
            "20/20 [==============================] - ETA: 0s - loss: 0.0962 - accuracy: 0.9756\n",
            "Epoch 9: val_loss did not improve from 0.20507\n",
            "20/20 [==============================] - 1s 54ms/step - loss: 0.0962 - accuracy: 0.9756 - val_loss: 0.2228 - val_accuracy: 0.9499\n",
            "Epoch 10/30\n",
            "19/20 [===========================>..] - ETA: 0s - loss: 0.0785 - accuracy: 0.9815\n",
            "Epoch 10: val_loss did not improve from 0.20507\n",
            "20/20 [==============================] - 1s 59ms/step - loss: 0.0807 - accuracy: 0.9805 - val_loss: 0.2597 - val_accuracy: 0.9399\n",
            "Epoch 11/30\n",
            "20/20 [==============================] - ETA: 0s - loss: 0.0647 - accuracy: 0.9837\n",
            "Epoch 11: val_loss did not improve from 0.20507\n",
            "20/20 [==============================] - 1s 55ms/step - loss: 0.0647 - accuracy: 0.9837 - val_loss: 0.2101 - val_accuracy: 0.9449\n",
            "Epoch 12/30\n",
            "19/20 [===========================>..] - ETA: 0s - loss: 0.0626 - accuracy: 0.9841\n",
            "Epoch 12: val_loss did not improve from 0.20507\n",
            "20/20 [==============================] - 1s 53ms/step - loss: 0.0624 - accuracy: 0.9845 - val_loss: 0.2318 - val_accuracy: 0.9549\n",
            "Epoch 13/30\n",
            "19/20 [===========================>..] - ETA: 0s - loss: 0.0503 - accuracy: 0.9897\n",
            "Epoch 13: val_loss improved from 0.20507 to 0.19150, saving model to best_weights.hdf5\n",
            "20/20 [==============================] - 1s 60ms/step - loss: 0.0499 - accuracy: 0.9898 - val_loss: 0.1915 - val_accuracy: 0.9533\n",
            "Epoch 14/30\n",
            "19/20 [===========================>..] - ETA: 0s - loss: 0.0498 - accuracy: 0.9884\n",
            "Epoch 14: val_loss did not improve from 0.19150\n",
            "20/20 [==============================] - 1s 54ms/step - loss: 0.0482 - accuracy: 0.9890 - val_loss: 0.1954 - val_accuracy: 0.9533\n",
            "Epoch 15/30\n",
            "20/20 [==============================] - ETA: 0s - loss: 0.0459 - accuracy: 0.9882\n",
            "Epoch 15: val_loss did not improve from 0.19150\n",
            "20/20 [==============================] - 1s 53ms/step - loss: 0.0459 - accuracy: 0.9882 - val_loss: 0.2607 - val_accuracy: 0.9399\n",
            "Epoch 16/30\n",
            "19/20 [===========================>..] - ETA: 0s - loss: 0.0342 - accuracy: 0.9918\n",
            "Epoch 16: val_loss did not improve from 0.19150\n",
            "20/20 [==============================] - 1s 60ms/step - loss: 0.0338 - accuracy: 0.9919 - val_loss: 0.2470 - val_accuracy: 0.9482\n",
            "Epoch 17/30\n",
            "20/20 [==============================] - ETA: 0s - loss: 0.0366 - accuracy: 0.9894\n",
            "Epoch 17: val_loss did not improve from 0.19150\n",
            "20/20 [==============================] - 1s 54ms/step - loss: 0.0366 - accuracy: 0.9894 - val_loss: 0.2547 - val_accuracy: 0.9416\n",
            "Epoch 18/30\n",
            "20/20 [==============================] - ETA: 0s - loss: 0.0270 - accuracy: 0.9943\n",
            "Epoch 18: val_loss did not improve from 0.19150\n",
            "20/20 [==============================] - 1s 55ms/step - loss: 0.0270 - accuracy: 0.9943 - val_loss: 0.2112 - val_accuracy: 0.9583\n",
            "Epoch 19/30\n",
            "20/20 [==============================] - ETA: 0s - loss: 0.0282 - accuracy: 0.9931\n",
            "Epoch 19: val_loss did not improve from 0.19150\n",
            "20/20 [==============================] - 1s 55ms/step - loss: 0.0282 - accuracy: 0.9931 - val_loss: 0.2327 - val_accuracy: 0.9499\n",
            "Epoch 20/30\n",
            "19/20 [===========================>..] - ETA: 0s - loss: 0.0206 - accuracy: 0.9953\n",
            "Epoch 20: val_loss did not improve from 0.19150\n",
            "20/20 [==============================] - 1s 55ms/step - loss: 0.0211 - accuracy: 0.9947 - val_loss: 0.2370 - val_accuracy: 0.9533\n",
            "Epoch 21/30\n",
            "19/20 [===========================>..] - ETA: 0s - loss: 0.0250 - accuracy: 0.9936\n",
            "Epoch 21: val_loss did not improve from 0.19150\n",
            "20/20 [==============================] - 1s 53ms/step - loss: 0.0240 - accuracy: 0.9939 - val_loss: 0.2359 - val_accuracy: 0.9499\n",
            "Epoch 22/30\n",
            "19/20 [===========================>..] - ETA: 0s - loss: 0.0206 - accuracy: 0.9955\n",
            "Epoch 22: val_loss did not improve from 0.19150\n",
            "20/20 [==============================] - 1s 53ms/step - loss: 0.0205 - accuracy: 0.9955 - val_loss: 0.2116 - val_accuracy: 0.9499\n",
            "Epoch 23/30\n",
            "19/20 [===========================>..] - ETA: 0s - loss: 0.0200 - accuracy: 0.9957\n",
            "Epoch 23: val_loss did not improve from 0.19150\n",
            "Restoring model weights from the end of the best epoch: 13.\n",
            "20/20 [==============================] - 1s 54ms/step - loss: 0.0201 - accuracy: 0.9955 - val_loss: 0.2420 - val_accuracy: 0.9583\n",
            "Epoch 23: early stopping\n"
          ]
        }
      ]
    },
    {
      "cell_type": "code",
      "source": [
        "test_datagen  = ImageDataGenerator(rescale=1./255)\n",
        "test_generator =  test_datagen.flow_from_directory(test_dir,\n",
        "                                                         batch_size=32,\n",
        "                                                         class_mode  = 'categorical',\n",
        "                                                         color_mode='grayscale',\n",
        "                                                         target_size=(ts,ts)) \n",
        "loss, acc = model.evaluate(test_generator)\n",
        "print(acc)"
      ],
      "metadata": {
        "colab": {
          "base_uri": "https://localhost:8080/"
        },
        "id": "Mw4w4nrA_yp9",
        "outputId": "78b1f460-8be9-4304-d272-4f275db03684"
      },
      "execution_count": 8,
      "outputs": [
        {
          "output_type": "stream",
          "name": "stdout",
          "text": [
            "Found 2149 images belonging to 34 classes.\n",
            "68/68 [==============================] - 1s 14ms/step - loss: 0.2371 - accuracy: 0.9488\n",
            "0.9488133788108826\n"
          ]
        }
      ]
    }
  ]
}