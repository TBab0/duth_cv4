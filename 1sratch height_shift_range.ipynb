{
  "nbformat": 4,
  "nbformat_minor": 0,
  "metadata": {
    "colab": {
      "provenance": [],
      "authorship_tag": "ABX9TyOwfgckBmiW8M69mMSq6qnF",
      "include_colab_link": true
    },
    "kernelspec": {
      "name": "python3",
      "display_name": "Python 3"
    },
    "language_info": {
      "name": "python"
    },
    "accelerator": "GPU",
    "gpuClass": "standard"
  },
  "cells": [
    {
      "cell_type": "markdown",
      "metadata": {
        "id": "view-in-github",
        "colab_type": "text"
      },
      "source": [
        "<a href=\"https://colab.research.google.com/github/TBab0/duth_cv4/blob/main/1sratch%20height_shift_range.ipynb\" target=\"_parent\"><img src=\"https://colab.research.google.com/assets/colab-badge.svg\" alt=\"Open In Colab\"/></a>"
      ]
    },
    {
      "cell_type": "code",
      "source": [
        "from google.colab import drive\n",
        "import os\n",
        "import zipfile\n",
        "from tensorflow.keras.preprocessing.image import ImageDataGenerator\n",
        "import tensorflow as tf\n",
        "import datetime"
      ],
      "metadata": {
        "id": "DTKt3q_P4BG3"
      },
      "execution_count": 1,
      "outputs": []
    },
    {
      "cell_type": "code",
      "source": [
        "drive.mount('/content/drive')\n",
        "local_zip = '/content/drive/MyDrive/imagedb_btsd.zip'\n",
        "zip_ref = zipfile.ZipFile(local_zip, 'r')\n",
        "zip_ref.extractall('/content')\n",
        "zip_ref.close()\n",
        "\n",
        "train_dir = '/content/imagedb'\n",
        "test_dir = '/content/imagedb_test'"
      ],
      "metadata": {
        "colab": {
          "base_uri": "https://localhost:8080/"
        },
        "id": "OBGivO3c4BD-",
        "outputId": "a0d8f660-f799-44c0-dcfb-3951944ff418"
      },
      "execution_count": 2,
      "outputs": [
        {
          "output_type": "stream",
          "name": "stdout",
          "text": [
            "Mounted at /content/drive\n"
          ]
        }
      ]
    },
    {
      "cell_type": "code",
      "source": [
        "ts = 32\n",
        "# train_datagen = ImageDataGenerator(preprocessing_function=vgg16.preprocess_input, validation_split=0.2)\n",
        "train_datagen  = ImageDataGenerator(rescale=1./255,\n",
        "                                    height_shift_range=0.2,\n",
        "                                    validation_split=0.2)\n",
        "\n",
        "# --------------------\n",
        "# Flow training images in batches of 20 using train_datagen generator\n",
        "# --------------------\n",
        "train_generator = train_datagen.flow_from_directory(train_dir,\n",
        "                                                    batch_size=128,\n",
        "                                                    class_mode='categorical',\n",
        "                                                    color_mode='grayscale',\n",
        "                                                    target_size=(ts,ts),\n",
        "                                                    subset='training', seed=1)     \n",
        "# --------------------\n",
        "# Flow validation images in batches of 20 using test_datagen generator\n",
        "# --------------------\n",
        "validation_generator =  train_datagen.flow_from_directory(train_dir,\n",
        "                                                        batch_size=128,\n",
        "                                                        class_mode='categorical',\n",
        "                                                         color_mode='grayscale',\n",
        "                                                         target_size=(ts,ts),\n",
        "                                                        subset='validation', seed=1)"
      ],
      "metadata": {
        "colab": {
          "base_uri": "https://localhost:8080/"
        },
        "id": "5GA8in3D4BBz",
        "outputId": "41991ae7-2c21-40ef-e28d-a52044a46e72"
      },
      "execution_count": 3,
      "outputs": [
        {
          "output_type": "stream",
          "name": "stdout",
          "text": [
            "Found 2457 images belonging to 34 classes.\n",
            "Found 599 images belonging to 34 classes.\n"
          ]
        }
      ]
    },
    {
      "cell_type": "code",
      "source": [
        "model = tf.keras.models.Sequential([\n",
        "  tf.keras.layers.Conv2D(64, (5, 5), strides=(1, 1), activation='relu', input_shape=(ts, ts, 1)),\n",
        "  tf.keras.layers.Conv2D(64, (5, 5), strides=(1, 1), activation='relu', input_shape=(ts, ts, 1)),\n",
        "  tf.keras.layers.MaxPooling2D(pool_size=(2, 2), strides=(2, 2)),\n",
        "  # tf.keras.layers.Conv2D(64, (5, 5), strides=(1, 1), activation='relu', input_shape=(ts, ts, 1)),\n",
        "  tf.keras.layers.Flatten(),\n",
        "  tf.keras.layers.Dense(512, activation='relu'),\n",
        "  tf.keras.layers.Dropout(0.5),\n",
        "  tf.keras.layers.Dense(34, activation='softmax')\n",
        "])\n",
        "model.compile(optimizer = tf.keras.optimizers.Adam(), loss = 'categorical_crossentropy', metrics=['accuracy'])\n",
        "model.summary()"
      ],
      "metadata": {
        "colab": {
          "base_uri": "https://localhost:8080/"
        },
        "id": "5YAqCfYA4A_K",
        "outputId": "bb40159a-81ce-47f3-c095-d41336705029"
      },
      "execution_count": 4,
      "outputs": [
        {
          "output_type": "stream",
          "name": "stdout",
          "text": [
            "Model: \"sequential\"\n",
            "_________________________________________________________________\n",
            " Layer (type)                Output Shape              Param #   \n",
            "=================================================================\n",
            " conv2d (Conv2D)             (None, 28, 28, 64)        1664      \n",
            "                                                                 \n",
            " conv2d_1 (Conv2D)           (None, 24, 24, 64)        102464    \n",
            "                                                                 \n",
            " max_pooling2d (MaxPooling2D  (None, 12, 12, 64)       0         \n",
            " )                                                               \n",
            "                                                                 \n",
            " flatten (Flatten)           (None, 9216)              0         \n",
            "                                                                 \n",
            " dense (Dense)               (None, 512)               4719104   \n",
            "                                                                 \n",
            " dropout (Dropout)           (None, 512)               0         \n",
            "                                                                 \n",
            " dense_1 (Dense)             (None, 34)                17442     \n",
            "                                                                 \n",
            "=================================================================\n",
            "Total params: 4,840,674\n",
            "Trainable params: 4,840,674\n",
            "Non-trainable params: 0\n",
            "_________________________________________________________________\n"
          ]
        }
      ]
    },
    {
      "cell_type": "code",
      "source": [
        "callbacks = []\n",
        "\n",
        "save_best_callback = tf.keras.callbacks.ModelCheckpoint(f'best_weights.hdf5', save_best_only=True, verbose=1)\n",
        "callbacks.append(save_best_callback)\n",
        "\n",
        "early_stop_callback = tf.keras.callbacks.EarlyStopping(patience=10, restore_best_weights=True, verbose=1)\n",
        "callbacks.append(early_stop_callback)\n",
        "\n",
        "history = model.fit(train_generator, validation_data=validation_generator, epochs=30, verbose=1, callbacks=callbacks)"
      ],
      "metadata": {
        "colab": {
          "base_uri": "https://localhost:8080/"
        },
        "id": "sLvOxsdg4A8r",
        "outputId": "cbad2336-4dce-4e13-9fd9-000a504978bc"
      },
      "execution_count": 5,
      "outputs": [
        {
          "output_type": "stream",
          "name": "stdout",
          "text": [
            "Epoch 1/30\n",
            "20/20 [==============================] - ETA: 0s - loss: 3.0402 - accuracy: 0.2076\n",
            "Epoch 1: val_loss improved from inf to 2.27585, saving model to best_weights.hdf5\n",
            "20/20 [==============================] - 11s 105ms/step - loss: 3.0402 - accuracy: 0.2076 - val_loss: 2.2759 - val_accuracy: 0.4374\n",
            "Epoch 2/30\n",
            "20/20 [==============================] - ETA: 0s - loss: 1.8970 - accuracy: 0.5059\n",
            "Epoch 2: val_loss improved from 2.27585 to 1.25956, saving model to best_weights.hdf5\n",
            "20/20 [==============================] - 2s 97ms/step - loss: 1.8970 - accuracy: 0.5059 - val_loss: 1.2596 - val_accuracy: 0.7028\n",
            "Epoch 3/30\n",
            "20/20 [==============================] - ETA: 0s - loss: 1.1996 - accuracy: 0.6679\n",
            "Epoch 3: val_loss improved from 1.25956 to 0.87211, saving model to best_weights.hdf5\n",
            "20/20 [==============================] - 2s 94ms/step - loss: 1.1996 - accuracy: 0.6679 - val_loss: 0.8721 - val_accuracy: 0.7746\n",
            "Epoch 4/30\n",
            "20/20 [==============================] - ETA: 0s - loss: 0.8884 - accuracy: 0.7517\n",
            "Epoch 4: val_loss improved from 0.87211 to 0.77077, saving model to best_weights.hdf5\n",
            "20/20 [==============================] - 2s 93ms/step - loss: 0.8884 - accuracy: 0.7517 - val_loss: 0.7708 - val_accuracy: 0.7880\n",
            "Epoch 5/30\n",
            "20/20 [==============================] - ETA: 0s - loss: 0.7053 - accuracy: 0.7998\n",
            "Epoch 5: val_loss improved from 0.77077 to 0.63551, saving model to best_weights.hdf5\n",
            "20/20 [==============================] - 2s 93ms/step - loss: 0.7053 - accuracy: 0.7998 - val_loss: 0.6355 - val_accuracy: 0.8464\n",
            "Epoch 6/30\n",
            "20/20 [==============================] - ETA: 0s - loss: 0.5440 - accuracy: 0.8392\n",
            "Epoch 6: val_loss improved from 0.63551 to 0.56596, saving model to best_weights.hdf5\n",
            "20/20 [==============================] - 2s 93ms/step - loss: 0.5440 - accuracy: 0.8392 - val_loss: 0.5660 - val_accuracy: 0.8414\n",
            "Epoch 7/30\n",
            "20/20 [==============================] - ETA: 0s - loss: 0.4825 - accuracy: 0.8641\n",
            "Epoch 7: val_loss improved from 0.56596 to 0.52443, saving model to best_weights.hdf5\n",
            "20/20 [==============================] - 2s 93ms/step - loss: 0.4825 - accuracy: 0.8641 - val_loss: 0.5244 - val_accuracy: 0.8748\n",
            "Epoch 8/30\n",
            "20/20 [==============================] - ETA: 0s - loss: 0.3783 - accuracy: 0.8787\n",
            "Epoch 8: val_loss improved from 0.52443 to 0.40608, saving model to best_weights.hdf5\n",
            "20/20 [==============================] - 2s 98ms/step - loss: 0.3783 - accuracy: 0.8787 - val_loss: 0.4061 - val_accuracy: 0.8848\n",
            "Epoch 9/30\n",
            "20/20 [==============================] - ETA: 0s - loss: 0.3409 - accuracy: 0.8987\n",
            "Epoch 9: val_loss did not improve from 0.40608\n",
            "20/20 [==============================] - 2s 86ms/step - loss: 0.3409 - accuracy: 0.8987 - val_loss: 0.4336 - val_accuracy: 0.8865\n",
            "Epoch 10/30\n",
            "20/20 [==============================] - ETA: 0s - loss: 0.2765 - accuracy: 0.9202\n",
            "Epoch 10: val_loss did not improve from 0.40608\n",
            "20/20 [==============================] - 2s 88ms/step - loss: 0.2765 - accuracy: 0.9202 - val_loss: 0.4092 - val_accuracy: 0.8848\n",
            "Epoch 11/30\n",
            "20/20 [==============================] - ETA: 0s - loss: 0.2527 - accuracy: 0.9296\n",
            "Epoch 11: val_loss did not improve from 0.40608\n",
            "20/20 [==============================] - 2s 89ms/step - loss: 0.2527 - accuracy: 0.9296 - val_loss: 0.4179 - val_accuracy: 0.8932\n",
            "Epoch 12/30\n",
            "20/20 [==============================] - ETA: 0s - loss: 0.2167 - accuracy: 0.9320\n",
            "Epoch 12: val_loss improved from 0.40608 to 0.36699, saving model to best_weights.hdf5\n",
            "20/20 [==============================] - 2s 94ms/step - loss: 0.2167 - accuracy: 0.9320 - val_loss: 0.3670 - val_accuracy: 0.9098\n",
            "Epoch 13/30\n",
            "20/20 [==============================] - ETA: 0s - loss: 0.1839 - accuracy: 0.9471\n",
            "Epoch 13: val_loss did not improve from 0.36699\n",
            "20/20 [==============================] - 2s 89ms/step - loss: 0.1839 - accuracy: 0.9471 - val_loss: 0.3827 - val_accuracy: 0.8998\n",
            "Epoch 14/30\n",
            "20/20 [==============================] - ETA: 0s - loss: 0.1917 - accuracy: 0.9422\n",
            "Epoch 14: val_loss did not improve from 0.36699\n",
            "20/20 [==============================] - 2s 85ms/step - loss: 0.1917 - accuracy: 0.9422 - val_loss: 0.4018 - val_accuracy: 0.9065\n",
            "Epoch 15/30\n",
            "20/20 [==============================] - ETA: 0s - loss: 0.1592 - accuracy: 0.9475\n",
            "Epoch 15: val_loss improved from 0.36699 to 0.30768, saving model to best_weights.hdf5\n",
            "20/20 [==============================] - 2s 93ms/step - loss: 0.1592 - accuracy: 0.9475 - val_loss: 0.3077 - val_accuracy: 0.9249\n",
            "Epoch 16/30\n",
            "20/20 [==============================] - ETA: 0s - loss: 0.1548 - accuracy: 0.9548\n",
            "Epoch 16: val_loss did not improve from 0.30768\n",
            "20/20 [==============================] - 2s 87ms/step - loss: 0.1548 - accuracy: 0.9548 - val_loss: 0.3791 - val_accuracy: 0.9098\n",
            "Epoch 17/30\n",
            "20/20 [==============================] - ETA: 0s - loss: 0.1612 - accuracy: 0.9503\n",
            "Epoch 17: val_loss did not improve from 0.30768\n",
            "20/20 [==============================] - 2s 87ms/step - loss: 0.1612 - accuracy: 0.9503 - val_loss: 0.3458 - val_accuracy: 0.9282\n",
            "Epoch 18/30\n",
            "20/20 [==============================] - ETA: 0s - loss: 0.1392 - accuracy: 0.9581\n",
            "Epoch 18: val_loss did not improve from 0.30768\n",
            "20/20 [==============================] - 2s 85ms/step - loss: 0.1392 - accuracy: 0.9581 - val_loss: 0.3373 - val_accuracy: 0.9232\n",
            "Epoch 19/30\n",
            "20/20 [==============================] - ETA: 0s - loss: 0.1405 - accuracy: 0.9597\n",
            "Epoch 19: val_loss did not improve from 0.30768\n",
            "20/20 [==============================] - 2s 89ms/step - loss: 0.1405 - accuracy: 0.9597 - val_loss: 0.3177 - val_accuracy: 0.9265\n",
            "Epoch 20/30\n",
            "20/20 [==============================] - ETA: 0s - loss: 0.1192 - accuracy: 0.9577\n",
            "Epoch 20: val_loss did not improve from 0.30768\n",
            "20/20 [==============================] - 2s 86ms/step - loss: 0.1192 - accuracy: 0.9577 - val_loss: 0.3376 - val_accuracy: 0.9232\n",
            "Epoch 21/30\n",
            "20/20 [==============================] - ETA: 0s - loss: 0.1325 - accuracy: 0.9638\n",
            "Epoch 21: val_loss did not improve from 0.30768\n",
            "20/20 [==============================] - 2s 92ms/step - loss: 0.1325 - accuracy: 0.9638 - val_loss: 0.3341 - val_accuracy: 0.9265\n",
            "Epoch 22/30\n",
            "20/20 [==============================] - ETA: 0s - loss: 0.1093 - accuracy: 0.9695\n",
            "Epoch 22: val_loss did not improve from 0.30768\n",
            "20/20 [==============================] - 2s 90ms/step - loss: 0.1093 - accuracy: 0.9695 - val_loss: 0.3251 - val_accuracy: 0.9282\n",
            "Epoch 23/30\n",
            "20/20 [==============================] - ETA: 0s - loss: 0.1034 - accuracy: 0.9691\n",
            "Epoch 23: val_loss did not improve from 0.30768\n",
            "20/20 [==============================] - 2s 85ms/step - loss: 0.1034 - accuracy: 0.9691 - val_loss: 0.3353 - val_accuracy: 0.9232\n",
            "Epoch 24/30\n",
            "20/20 [==============================] - ETA: 0s - loss: 0.0840 - accuracy: 0.9748\n",
            "Epoch 24: val_loss did not improve from 0.30768\n",
            "20/20 [==============================] - 2s 89ms/step - loss: 0.0840 - accuracy: 0.9748 - val_loss: 0.3761 - val_accuracy: 0.9232\n",
            "Epoch 25/30\n",
            "20/20 [==============================] - ETA: 0s - loss: 0.0821 - accuracy: 0.9752\n",
            "Epoch 25: val_loss did not improve from 0.30768\n",
            "Restoring model weights from the end of the best epoch: 15.\n",
            "20/20 [==============================] - 2s 94ms/step - loss: 0.0821 - accuracy: 0.9752 - val_loss: 0.3684 - val_accuracy: 0.9249\n",
            "Epoch 25: early stopping\n"
          ]
        }
      ]
    },
    {
      "cell_type": "code",
      "source": [
        "test_datagen  = ImageDataGenerator(rescale=1./255)\n",
        "test_generator =  test_datagen.flow_from_directory(test_dir,\n",
        "                                                         batch_size=32,\n",
        "                                                         class_mode  = 'categorical',\n",
        "                                                         color_mode='grayscale',\n",
        "                                                         target_size=(ts,ts)) \n",
        "loss, acc = model.evaluate(test_generator)\n",
        "print(acc)\n"
      ],
      "metadata": {
        "colab": {
          "base_uri": "https://localhost:8080/"
        },
        "id": "XeT-FvMS4A51",
        "outputId": "ede3e051-c36f-4a2f-b8cd-94ecd37f14bf"
      },
      "execution_count": 6,
      "outputs": [
        {
          "output_type": "stream",
          "name": "stdout",
          "text": [
            "Found 2149 images belonging to 34 classes.\n",
            "68/68 [==============================] - 1s 12ms/step - loss: 0.2293 - accuracy: 0.9423\n",
            "0.9422987699508667\n"
          ]
        }
      ]
    }
  ]
}